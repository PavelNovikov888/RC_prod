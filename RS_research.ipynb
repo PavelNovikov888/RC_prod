{
  "metadata": {
    "colab": {
      "provenance": [],
      "toc_visible": true
    },
    "kernelspec": {
      "name": "python3",
      "display_name": "Python 3",
      "language": "python"
    },
    "language_info": {
      "name": "python",
      "version": "3.10.13",
      "mimetype": "text/x-python",
      "codemirror_mode": {
        "name": "ipython",
        "version": 3
      },
      "pygments_lexer": "ipython3",
      "nbconvert_exporter": "python",
      "file_extension": ".py"
    },
    "kaggle": {
      "accelerator": "none",
      "dataSources": [
        {
          "sourceId": 8356157,
          "sourceType": "datasetVersion",
          "datasetId": 4965386
        }
      ],
      "dockerImageVersionId": 30698,
      "isInternetEnabled": true,
      "language": "python",
      "sourceType": "notebook",
      "isGpuEnabled": false
    }
  },
  "nbformat_minor": 0,
  "nbformat": 4,
  "cells": [
    {
      "cell_type": "markdown",
      "source": [
        "# Проект \"Создание рекомендательной системы для интернет-магазина\"\n",
        "## Группа: DSPRML - 109   \n",
        "## Выполнил: Новиков Павел\n",
        "## Задача: Повысить прибыль от допродаж в интернет-магазине на 20 %\n",
        "## Метрика: Precision@3  \n",
        "Данная метрика выбрана потому что у компании клиента только три места для показа товаров на главной странице.  \n",
        "**Precision@3** это точность рекомендательной системы рассчитанная с учётом подмножества рекомендаций от ранга 1 до 3.  \n",
        "\n",
        "\\begin{align}\n",
        "        Precision = \\frac{TP}{TP+FP} , где\n",
        "    \\end{align}\n",
        "\n",
        "TP - Количество релевантных рекомендаций  \n",
        "TP + FP - Общее количество рекомендованных элементов\n",
        "## Этапы выполнения:\n",
        "| Таск | Подзадача | Спринт |\n",
        "|--------|---------|---------|\n",
        "|Постановка задачи|Уточнение бизнес-постановки задачи|1|\n",
        "||Выбор технических метрик качества|1|\n",
        "||Получение данных|1|\n",
        "|Исследование данных|Описание структуры данных|1|\n",
        "||Статистический анализ данных|1|\n",
        "|Создание факторов для модели|Генерация факторов, связанных с айтемами|2|\n",
        "||Генерация факторов айтем-юзер|2|\n",
        "|Проведение экспериментов|Коллаборативная фильтрация|3|\n",
        "||Факторизационные машины|3|\n",
        "||XGBoost для задачи классификации|3|\n",
        "|Создание MVP|Проектирование API сервиса|4|\n",
        "||Создание веб-сервиса с моделью|4|\n",
        "|Контейнеризация|Создание Docker-контейнера с сервисом|4|\n"
      ],
      "metadata": {
        "id": "qc22xSpxyBq6"
      }
    },
    {
      "cell_type": "markdown",
      "source": [
        "# Environment"
      ],
      "metadata": {
        "id": "_g9LYflcmsXI"
      }
    },
    {
      "cell_type": "code",
      "source": [
        "! pip install scipy -q\n",
        "! pip install lightfm -q\n",
        "! pip install optuna -q\n",
        "! pip install scikit-surprise -q\n",
        "! pip install tqdm -q\n",
        "! pip install xgboost -q"
      ],
      "metadata": {
        "id": "1lf2_XP2nFLx",
        "execution": {
          "iopub.status.busy": "2024-06-04T14:50:47.232787Z",
          "iopub.execute_input": "2024-06-04T14:50:47.233472Z",
          "iopub.status.idle": "2024-06-04T14:52:08.867022Z",
          "shell.execute_reply.started": "2024-06-04T14:50:47.233426Z",
          "shell.execute_reply": "2024-06-04T14:52:08.864843Z"
        },
        "trusted": true
      },
      "execution_count": null,
      "outputs": []
    },
    {
      "cell_type": "code",
      "source": [
        "import gc\n",
        "import random\n",
        "\n",
        "import pandas as pd\n",
        "import numpy as np\n",
        "\n",
        "import scipy\n",
        "import optuna\n",
        "\n",
        "from tqdm import tqdm\n",
        "import collections\n",
        "from collections import Counter\n",
        "\n",
        "from datetime import datetime\n",
        "from scipy.sparse import csr_matrix\n",
        "from surprise.model_selection import train_test_split as sur_train_test_split\n",
        "\n",
        "# Импортируем необходимые нам компоненты и считаем данные с помощью специального метода Reader:\n",
        "from surprise import Dataset as surDataset\n",
        "from surprise import Reader\n",
        "from surprise import KNNBasic, KNNWithMeans\n",
        "from collections import defaultdict\n",
        "\n",
        "\n",
        "from lightfm import LightFM\n",
        "from lightfm.data import Dataset\n",
        "from lightfm.evaluation import precision_at_k, recall_at_k\n",
        "from sklearn.model_selection import train_test_split\n",
        "from lightfm.cross_validation import random_train_test_split\n",
        "from sklearn.metrics.pairwise import cosine_similarity\n",
        "from sklearn.feature_extraction.text import CountVectorizer\n",
        "from sklearn.metrics.pairwise import cosine_similarity\n",
        "from sklearn.preprocessing import OneHotEncoder\n",
        "\n",
        "import xgboost as xgb\n",
        "\n",
        "N_TRIAL = 10"
      ],
      "metadata": {
        "id": "Xa5EmH0V5xjl",
        "execution": {
          "iopub.status.busy": "2024-06-04T14:52:08.870143Z",
          "iopub.execute_input": "2024-06-04T14:52:08.870600Z",
          "iopub.status.idle": "2024-06-04T14:52:11.027602Z",
          "shell.execute_reply.started": "2024-06-04T14:52:08.870561Z",
          "shell.execute_reply": "2024-06-04T14:52:11.026169Z"
        },
        "trusted": true
      },
      "execution_count": null,
      "outputs": []
    },
    {
      "cell_type": "markdown",
      "source": [
        "# Загрузка данных"
      ],
      "metadata": {
        "id": "vyLxEpYWstJg"
      }
    },
    {
      "cell_type": "code",
      "source": [
        "# This Python 3 environment comes with many helpful analytics libraries installed\n",
        "# It is defined by the kaggle/python Docker image: https://github.com/kaggle/docker-python\n",
        "# For example, here's several helpful packages to load\n",
        "\n",
        "# Input data files are available in the read-only \"../input/\" directory\n",
        "# For example, running this (by clicking run or pressing Shift+Enter) will list all files under the input directory\n",
        "\n",
        "import os\n",
        "for dirname, _, filenames in os.walk('/kaggle/input'):\n",
        "    for filename in filenames:\n",
        "        print(os.path.join(dirname, filename))\n",
        "\n",
        "# You can write up to 20GB to the current directory (/kaggle/working/) that gets preserved as output when you create a version using \"Save & Run All\"\n",
        "# You can also write temporary files to /kaggle/temp/, but they won't be saved outside of the current session"
      ],
      "metadata": {
        "id": "WPlWxKbkatAO",
        "outputId": "ecdbd718-aa8c-4920-edc2-bda9642476e2",
        "execution": {
          "iopub.status.busy": "2024-06-04T14:52:11.029401Z",
          "iopub.execute_input": "2024-06-04T14:52:11.030207Z",
          "iopub.status.idle": "2024-06-04T14:52:11.108268Z",
          "shell.execute_reply.started": "2024-06-04T14:52:11.030163Z",
          "shell.execute_reply": "2024-06-04T14:52:11.106267Z"
        },
        "trusted": true
      },
      "execution_count": null,
      "outputs": [
        {
          "name": "stdout",
          "text": "/kaggle/input/f-task-data/FeatureGenerationNotebook (1).ipynb\n/kaggle/input/f-task-data/item_properties_part1.csv/item_properties_part1.csv\n/kaggle/input/f-task-data/item_properties_part2.csv/item_properties_part2.csv\n/kaggle/input/f-task-data/events.csv/events.csv\n",
          "output_type": "stream"
        }
      ]
    },
    {
      "cell_type": "markdown",
      "source": [
        "# Данные\n",
        "Для решения задачи нам понадобятся 2 таблицы:\n",
        "- таблица 'item-user', содержащая совершенные взаимодействия пользователей и товаров\n",
        "- таблица свойств товаров"
      ],
      "metadata": {
        "id": "qWSyZr5Fxzre"
      }
    },
    {
      "cell_type": "markdown",
      "source": [
        "### Таблица **item-user**"
      ],
      "metadata": {
        "id": "V2aheyF8cwZj"
      }
    },
    {
      "cell_type": "markdown",
      "source": [
        "## Файл events\n",
        "events — датасет с событиями:\n",
        "- timestamp — время события\n",
        "- visitorid — идентификатор пользователя\n",
        "- event — тип события\n",
        "- itemid — идентификатор объекта\n",
        "- transactionid — идентификатор транзакции, если она проходила"
      ],
      "metadata": {
        "id": "BDG_F4g4cwZm"
      }
    },
    {
      "cell_type": "code",
      "source": [
        "# загрузим данные о покупках и иных взаимодействиях items и users\n",
        "events = pd.read_csv('/kaggle/input/f-task-data/events.csv/events.csv')\n",
        "# переведем формат времени к обычному виду\n",
        "events['event_datetime'] = pd.to_datetime(events['timestamp'], unit='ms', origin='unix')\n",
        "# отсортируем данные от самых ранних записей до поздних\n",
        "events = events.sort_values(['event_datetime']).reset_index(drop=True)\n",
        "events.head(5)"
      ],
      "metadata": {
        "outputId": "a53f36cc-5f17-42a4-97de-633198a4d034",
        "id": "thD73wOpcwZn",
        "execution": {
          "iopub.status.busy": "2024-06-04T14:52:11.112401Z",
          "iopub.execute_input": "2024-06-04T14:52:11.112918Z",
          "iopub.status.idle": "2024-06-04T14:52:15.637419Z",
          "shell.execute_reply.started": "2024-06-04T14:52:11.112878Z",
          "shell.execute_reply": "2024-06-04T14:52:15.635825Z"
        },
        "trusted": true
      },
      "execution_count": null,
      "outputs": [
        {
          "execution_count": 5,
          "output_type": "execute_result",
          "data": {
            "text/plain": "       timestamp  visitorid      event  itemid  transactionid  \\\n0  1430622004384     693516  addtocart  297662            NaN   \n1  1430622011289     829044       view   60987            NaN   \n2  1430622013048     652699       view  252860            NaN   \n3  1430622024154    1125936       view   33661            NaN   \n4  1430622026228     693516       view  297662            NaN   \n\n           event_datetime  \n0 2015-05-03 03:00:04.384  \n1 2015-05-03 03:00:11.289  \n2 2015-05-03 03:00:13.048  \n3 2015-05-03 03:00:24.154  \n4 2015-05-03 03:00:26.228  ",
            "text/html": "<div>\n<style scoped>\n    .dataframe tbody tr th:only-of-type {\n        vertical-align: middle;\n    }\n\n    .dataframe tbody tr th {\n        vertical-align: top;\n    }\n\n    .dataframe thead th {\n        text-align: right;\n    }\n</style>\n<table border=\"1\" class=\"dataframe\">\n  <thead>\n    <tr style=\"text-align: right;\">\n      <th></th>\n      <th>timestamp</th>\n      <th>visitorid</th>\n      <th>event</th>\n      <th>itemid</th>\n      <th>transactionid</th>\n      <th>event_datetime</th>\n    </tr>\n  </thead>\n  <tbody>\n    <tr>\n      <th>0</th>\n      <td>1430622004384</td>\n      <td>693516</td>\n      <td>addtocart</td>\n      <td>297662</td>\n      <td>NaN</td>\n      <td>2015-05-03 03:00:04.384</td>\n    </tr>\n    <tr>\n      <th>1</th>\n      <td>1430622011289</td>\n      <td>829044</td>\n      <td>view</td>\n      <td>60987</td>\n      <td>NaN</td>\n      <td>2015-05-03 03:00:11.289</td>\n    </tr>\n    <tr>\n      <th>2</th>\n      <td>1430622013048</td>\n      <td>652699</td>\n      <td>view</td>\n      <td>252860</td>\n      <td>NaN</td>\n      <td>2015-05-03 03:00:13.048</td>\n    </tr>\n    <tr>\n      <th>3</th>\n      <td>1430622024154</td>\n      <td>1125936</td>\n      <td>view</td>\n      <td>33661</td>\n      <td>NaN</td>\n      <td>2015-05-03 03:00:24.154</td>\n    </tr>\n    <tr>\n      <th>4</th>\n      <td>1430622026228</td>\n      <td>693516</td>\n      <td>view</td>\n      <td>297662</td>\n      <td>NaN</td>\n      <td>2015-05-03 03:00:26.228</td>\n    </tr>\n  </tbody>\n</table>\n</div>"
          },
          "metadata": {}
        }
      ]
    },
    {
      "cell_type": "markdown",
      "source": [
        "Посмотрим сколько пропусков в признаках"
      ],
      "metadata": {
        "id": "Q-jbXC5pcwZo"
      }
    },
    {
      "cell_type": "code",
      "source": [
        "#Количество пропусков\n",
        "events.isna().sum()"
      ],
      "metadata": {
        "outputId": "156879d8-ac61-456a-9248-86945c7ade5c",
        "id": "5TRzSe2McwZo",
        "execution": {
          "iopub.status.busy": "2024-06-04T14:52:15.639195Z",
          "iopub.execute_input": "2024-06-04T14:52:15.639610Z",
          "iopub.status.idle": "2024-06-04T14:52:15.960648Z",
          "shell.execute_reply.started": "2024-06-04T14:52:15.639575Z",
          "shell.execute_reply": "2024-06-04T14:52:15.959370Z"
        },
        "trusted": true
      },
      "execution_count": null,
      "outputs": [
        {
          "execution_count": 6,
          "output_type": "execute_result",
          "data": {
            "text/plain": "timestamp               0\nvisitorid               0\nevent                   0\nitemid                  0\ntransactionid     2733644\nevent_datetime          0\ndtype: int64"
          },
          "metadata": {}
        }
      ]
    },
    {
      "cell_type": "code",
      "source": [
        "print(f'Количество дубликатов до удаления: {len(events)- len(events.drop_duplicates())}')\n",
        "events.drop_duplicates(inplace=True)\n",
        "print(f'Количество дубликатов после удаления: {len(events)- len(events.drop_duplicates())}')"
      ],
      "metadata": {
        "outputId": "029683ec-e47d-4889-d603-079e1e199427",
        "id": "qMlfmhRRcwZp",
        "execution": {
          "iopub.status.busy": "2024-06-04T14:52:15.962550Z",
          "iopub.execute_input": "2024-06-04T14:52:15.963028Z",
          "iopub.status.idle": "2024-06-04T14:52:25.628913Z",
          "shell.execute_reply.started": "2024-06-04T14:52:15.962984Z",
          "shell.execute_reply": "2024-06-04T14:52:25.627591Z"
        },
        "trusted": true
      },
      "execution_count": null,
      "outputs": [
        {
          "name": "stdout",
          "text": "Количество дубликатов до удаления: 460\nКоличество дубликатов после удаления: 0\n",
          "output_type": "stream"
        }
      ]
    },
    {
      "cell_type": "code",
      "source": [
        "events['event'].value_counts()"
      ],
      "metadata": {
        "outputId": "9ca2acf7-dac5-4313-8332-431a84aebaf9",
        "id": "A7h6txjCcwZs",
        "execution": {
          "iopub.status.busy": "2024-06-04T14:52:25.630457Z",
          "iopub.execute_input": "2024-06-04T14:52:25.630843Z",
          "iopub.status.idle": "2024-06-04T14:52:26.147183Z",
          "shell.execute_reply.started": "2024-06-04T14:52:25.630797Z",
          "shell.execute_reply": "2024-06-04T14:52:26.145717Z"
        },
        "trusted": true
      },
      "execution_count": null,
      "outputs": [
        {
          "execution_count": 8,
          "output_type": "execute_result",
          "data": {
            "text/plain": "event\nview           2664218\naddtocart        68966\ntransaction      22457\nName: count, dtype: int64"
          },
          "metadata": {}
        }
      ]
    },
    {
      "cell_type": "markdown",
      "source": [
        "В колонке *view* описаны действия, которые совершали *visitiorid* на сайте:\n",
        "- view (просмотр карточки товара)\n",
        "- addtocart (добавление в корзину)\n",
        "- transaction (покупка)\n",
        "\n",
        "Наблюдается характерная для индустрии продаж \"воронка\""
      ],
      "metadata": {
        "id": "vjUik081cwZr"
      }
    },
    {
      "cell_type": "code",
      "source": [
        "print(f'Количество users: {len(set(events.visitorid))}')\n",
        "mask1 = events[events['event'] == 'transaction']\n",
        "print(f'Количество users, сделавших покупку items: {len(set(mask1.visitorid))}')\n",
        "print(f'Количество items: {len(set(events.itemid))}')\n",
        "print(f'Количество купленных items: {len(set(mask1.itemid))}')\n",
        "mask2 = mask1[['visitorid','itemid']].groupby(['visitorid','itemid'], as_index = False).count()\n",
        "print(f'Количество пар users-items, среди совершивших покупку: {mask2.shape[0]}')"
      ],
      "metadata": {
        "execution": {
          "iopub.status.busy": "2024-06-04T14:52:26.149053Z",
          "iopub.execute_input": "2024-06-04T14:52:26.149478Z",
          "iopub.status.idle": "2024-06-04T14:52:28.485790Z",
          "shell.execute_reply.started": "2024-06-04T14:52:26.149442Z",
          "shell.execute_reply": "2024-06-04T14:52:28.484274Z"
        },
        "trusted": true,
        "id": "LaOQN_nvaaat",
        "outputId": "e683a99b-d0ac-4fe1-bbe2-b9d4ac1a7cad"
      },
      "execution_count": null,
      "outputs": [
        {
          "name": "stdout",
          "text": "Количество users: 1407580\nКоличество users, сделавших покупку items: 11719\nКоличество items: 235061\nКоличество купленных items: 12025\nКоличество пар users-items, среди совершивших покупку: 21270\n",
          "output_type": "stream"
        }
      ]
    },
    {
      "cell_type": "code",
      "source": [
        "mask3 = mask1[['visitorid','itemid']].groupby(['itemid'], as_index = False).count().sort_values(by='visitorid', ascending = False)[:10]\n",
        "print(f'Больше всего было куплено следующих items:')\n",
        "print(f'{mask3.reset_index(drop=True)}')"
      ],
      "metadata": {
        "execution": {
          "iopub.status.busy": "2024-06-04T14:52:28.488138Z",
          "iopub.execute_input": "2024-06-04T14:52:28.488548Z",
          "iopub.status.idle": "2024-06-04T14:52:28.506771Z",
          "shell.execute_reply.started": "2024-06-04T14:52:28.488514Z",
          "shell.execute_reply": "2024-06-04T14:52:28.504924Z"
        },
        "trusted": true,
        "id": "aNYw45oDaaav",
        "outputId": "bd7e47a8-45e8-4eb3-ed3a-ec9b54ae7bd4"
      },
      "execution_count": null,
      "outputs": [
        {
          "name": "stdout",
          "text": "Больше всего было куплено следующих items:\n   itemid  visitorid\n0  461686        133\n1  119736         97\n2  213834         92\n3  312728         46\n4    7943         46\n5  445351         45\n6   48030         41\n7  420960         38\n8  248455         38\n9   17478         37\n",
          "output_type": "stream"
        }
      ]
    },
    {
      "cell_type": "code",
      "source": [
        "transaction_nan = set(events[events['transactionid'] != events['transactionid']]['visitorid'])\n",
        "transaction_true = set(events[events['transactionid'] == events['transactionid']]['visitorid'])\n",
        "print(f'Количество users не совершивших покупку: {len(transaction_nan.difference(transaction_true))}')"
      ],
      "metadata": {
        "execution": {
          "iopub.status.busy": "2024-06-04T14:52:28.511724Z",
          "iopub.execute_input": "2024-06-04T14:52:28.512326Z",
          "iopub.status.idle": "2024-06-04T14:52:29.865097Z",
          "shell.execute_reply.started": "2024-06-04T14:52:28.512275Z",
          "shell.execute_reply": "2024-06-04T14:52:29.863440Z"
        },
        "trusted": true,
        "id": "MGmuQMh1aaaw",
        "outputId": "4788cd26-241c-430b-963d-4c6bf95d5ab5"
      },
      "execution_count": null,
      "outputs": [
        {
          "name": "stdout",
          "text": "Количество users не совершивших покупку: 1395861\n",
          "output_type": "stream"
        }
      ]
    },
    {
      "cell_type": "markdown",
      "source": [
        "Для дальнейшего анализа нам понадобится случайный user, не совершавший покупок ранее."
      ],
      "metadata": {
        "id": "MuVBImt4nFMH"
      }
    },
    {
      "cell_type": "code",
      "source": [
        "list(transaction_nan.difference(transaction_true))[42]"
      ],
      "metadata": {
        "execution": {
          "iopub.status.busy": "2024-06-04T14:52:29.866718Z",
          "iopub.execute_input": "2024-06-04T14:52:29.867197Z",
          "iopub.status.idle": "2024-06-04T14:52:30.113409Z",
          "shell.execute_reply.started": "2024-06-04T14:52:29.867161Z",
          "shell.execute_reply": "2024-06-04T14:52:30.111725Z"
        },
        "trusted": true,
        "id": "fvnj58j-aaay",
        "outputId": "c8b010eb-5c17-479a-f213-80e73b2a1c01"
      },
      "execution_count": null,
      "outputs": [
        {
          "execution_count": 12,
          "output_type": "execute_result",
          "data": {
            "text/plain": "42"
          },
          "metadata": {}
        }
      ]
    },
    {
      "cell_type": "code",
      "source": [
        "events[events['visitorid'] == int(42)]"
      ],
      "metadata": {
        "execution": {
          "iopub.status.busy": "2024-06-04T14:52:30.115516Z",
          "iopub.execute_input": "2024-06-04T14:52:30.115980Z",
          "iopub.status.idle": "2024-06-04T14:52:30.137695Z",
          "shell.execute_reply.started": "2024-06-04T14:52:30.115945Z",
          "shell.execute_reply": "2024-06-04T14:52:30.135900Z"
        },
        "trusted": true,
        "id": "nQ-VkXXfaaaz",
        "outputId": "f96ac47b-991c-438e-999e-ccfbb00790ce"
      },
      "execution_count": null,
      "outputs": [
        {
          "execution_count": 13,
          "output_type": "execute_result",
          "data": {
            "text/plain": "             timestamp  visitorid event  itemid  transactionid  \\\n1793162  1437968765299         42  view   60399            NaN   \n\n                 event_datetime  \n1793162 2015-07-27 03:46:05.299  ",
            "text/html": "<div>\n<style scoped>\n    .dataframe tbody tr th:only-of-type {\n        vertical-align: middle;\n    }\n\n    .dataframe tbody tr th {\n        vertical-align: top;\n    }\n\n    .dataframe thead th {\n        text-align: right;\n    }\n</style>\n<table border=\"1\" class=\"dataframe\">\n  <thead>\n    <tr style=\"text-align: right;\">\n      <th></th>\n      <th>timestamp</th>\n      <th>visitorid</th>\n      <th>event</th>\n      <th>itemid</th>\n      <th>transactionid</th>\n      <th>event_datetime</th>\n    </tr>\n  </thead>\n  <tbody>\n    <tr>\n      <th>1793162</th>\n      <td>1437968765299</td>\n      <td>42</td>\n      <td>view</td>\n      <td>60399</td>\n      <td>NaN</td>\n      <td>2015-07-27 03:46:05.299</td>\n    </tr>\n  </tbody>\n</table>\n</div>"
          },
          "metadata": {}
        }
      ]
    },
    {
      "cell_type": "markdown",
      "source": [
        "Не совершал."
      ],
      "metadata": {
        "id": "8hjXL5CIaaa1"
      }
    },
    {
      "cell_type": "code",
      "source": [
        "events[events['visitorid'] == int(1173192)]"
      ],
      "metadata": {
        "execution": {
          "iopub.status.busy": "2024-06-04T14:52:30.139292Z",
          "iopub.execute_input": "2024-06-04T14:52:30.139691Z",
          "iopub.status.idle": "2024-06-04T14:52:30.160075Z",
          "shell.execute_reply.started": "2024-06-04T14:52:30.139650Z",
          "shell.execute_reply": "2024-06-04T14:52:30.158507Z"
        },
        "trusted": true,
        "id": "aazrZ25Uaaa1",
        "outputId": "43c92722-8de8-4379-a181-aa1462e5932c"
      },
      "execution_count": null,
      "outputs": [
        {
          "execution_count": 14,
          "output_type": "execute_result",
          "data": {
            "text/plain": "             timestamp  visitorid        event  itemid  transactionid  \\\n1298811  1436151386829    1173192         view    7943            NaN   \n1298998  1436151969319    1173192    addtocart    7943            NaN   \n1299080  1436152241199    1173192  transaction    7943         6530.0   \n\n                 event_datetime  \n1298811 2015-07-06 02:56:26.829  \n1298998 2015-07-06 03:06:09.319  \n1299080 2015-07-06 03:10:41.199  ",
            "text/html": "<div>\n<style scoped>\n    .dataframe tbody tr th:only-of-type {\n        vertical-align: middle;\n    }\n\n    .dataframe tbody tr th {\n        vertical-align: top;\n    }\n\n    .dataframe thead th {\n        text-align: right;\n    }\n</style>\n<table border=\"1\" class=\"dataframe\">\n  <thead>\n    <tr style=\"text-align: right;\">\n      <th></th>\n      <th>timestamp</th>\n      <th>visitorid</th>\n      <th>event</th>\n      <th>itemid</th>\n      <th>transactionid</th>\n      <th>event_datetime</th>\n    </tr>\n  </thead>\n  <tbody>\n    <tr>\n      <th>1298811</th>\n      <td>1436151386829</td>\n      <td>1173192</td>\n      <td>view</td>\n      <td>7943</td>\n      <td>NaN</td>\n      <td>2015-07-06 02:56:26.829</td>\n    </tr>\n    <tr>\n      <th>1298998</th>\n      <td>1436151969319</td>\n      <td>1173192</td>\n      <td>addtocart</td>\n      <td>7943</td>\n      <td>NaN</td>\n      <td>2015-07-06 03:06:09.319</td>\n    </tr>\n    <tr>\n      <th>1299080</th>\n      <td>1436152241199</td>\n      <td>1173192</td>\n      <td>transaction</td>\n      <td>7943</td>\n      <td>6530.0</td>\n      <td>2015-07-06 03:10:41.199</td>\n    </tr>\n  </tbody>\n</table>\n</div>"
          },
          "metadata": {}
        }
      ]
    },
    {
      "cell_type": "markdown",
      "source": [
        "А этот покупал."
      ],
      "metadata": {
        "id": "B6098mOmaaa2"
      }
    },
    {
      "cell_type": "markdown",
      "source": [
        "# Моделирование"
      ],
      "metadata": {
        "id": "qLdBl4ctcwZw"
      }
    },
    {
      "cell_type": "markdown",
      "source": [
        "# Surprise\n",
        "Коллаборативная фильтрация  \n",
        "\n",
        "Поочередно применим следующие подходы:  \n",
        "- memory-based в модификации user-based, основанный на близости пользователей,\n",
        "- memory-based в модификации item-based, основанной на близости продуктов."
      ],
      "metadata": {
        "id": "IKOmF-mZcwZy"
      }
    },
    {
      "cell_type": "markdown",
      "source": [
        "## User-based, Item-based"
      ],
      "metadata": {
        "id": "kJzwRwtkcwZz"
      }
    },
    {
      "cell_type": "markdown",
      "source": [
        "**Коллаборативная фильтрация на основе близости пользователей(user-based)** — это метод рекомендаций, который предпологает, что пользователь будет заинтересован в тех продуктах, которые высоко оценили или купили другие пользователи с аналогичными предпочтениями или поведением.  \n",
        "**Коллаборативная фильтрация на основе близости продуктов(item-based)** — это метод рекомендаций, который предполагает, что пользователь, который купил или оценил один продукт, скорее всего будет заинтересован в продуктах, которые были куплены или оценены другими пользователями, совершившими аналогичные покупки или оценки."
      ],
      "metadata": {
        "id": "K8kizdvtcwZ0"
      }
    },
    {
      "cell_type": "markdown",
      "source": [
        "Подготовим данные для использования библиотеки Surprise.  \n"
      ],
      "metadata": {
        "id": "2_T1IPYynFML"
      }
    },
    {
      "cell_type": "code",
      "source": [
        "#Исходя из важности каждого действия составим индекс популярности товаров, придав разные веса действиям посетителей сайта.\n",
        "weigths = {\n",
        "    'view': 0,\n",
        "    'addtocart': 1,\n",
        "    'transaction': 2\n",
        "}\n",
        "# добавим данные о рейтинге items\n",
        "events['weigths'] = events['event'].apply(lambda x: weigths[x])\n",
        "# отфильтруем данные о просмотрах как малоинформативные, мы решаем задачу о продажах, а не о просмотрах\n",
        "events_sur = events[events['weigths'] !=0].reset_index(drop=True)\n",
        "# events_sur = events.copy()\n",
        "\n",
        "events_sur = events_sur[[\"visitorid\", \"itemid\", \"weigths\"]].astype({'visitorid':'int32','itemid':'int32','weigths':'int8'}).rename(columns =\n",
        "    {'visitorid': 'userid', 'itemid': 'itemid', 'weigths':'ratings'})\n"
      ],
      "metadata": {
        "id": "KwO8fFcDhBZq",
        "execution": {
          "iopub.status.busy": "2024-06-04T14:52:30.161733Z",
          "iopub.execute_input": "2024-06-04T14:52:30.162276Z",
          "iopub.status.idle": "2024-06-04T14:52:32.386149Z",
          "shell.execute_reply.started": "2024-06-04T14:52:30.162217Z",
          "shell.execute_reply": "2024-06-04T14:52:32.384783Z"
        },
        "trusted": true
      },
      "execution_count": null,
      "outputs": []
    },
    {
      "cell_type": "code",
      "source": [
        "events_sur.isna().sum()"
      ],
      "metadata": {
        "execution": {
          "iopub.status.busy": "2024-06-04T14:52:32.387737Z",
          "iopub.execute_input": "2024-06-04T14:52:32.388301Z",
          "iopub.status.idle": "2024-06-04T14:52:32.401470Z",
          "shell.execute_reply.started": "2024-06-04T14:52:32.388246Z",
          "shell.execute_reply": "2024-06-04T14:52:32.399906Z"
        },
        "trusted": true,
        "id": "ClksVCdKaaa6",
        "outputId": "6054eaae-dd47-43ef-9f4f-fed08bafabe0"
      },
      "execution_count": null,
      "outputs": [
        {
          "execution_count": 16,
          "output_type": "execute_result",
          "data": {
            "text/plain": "userid     0\nitemid     0\nratings    0\ndtype: int64"
          },
          "metadata": {}
        }
      ]
    },
    {
      "cell_type": "code",
      "source": [
        "events_sur.head(3)"
      ],
      "metadata": {
        "id": "HZFL87BRnFMN",
        "outputId": "0c3e2c8c-1dde-49d1-f1d6-ef2b210190b9",
        "execution": {
          "iopub.status.busy": "2024-06-04T14:52:32.403430Z",
          "iopub.execute_input": "2024-06-04T14:52:32.403880Z",
          "iopub.status.idle": "2024-06-04T14:52:32.419019Z",
          "shell.execute_reply.started": "2024-06-04T14:52:32.403836Z",
          "shell.execute_reply": "2024-06-04T14:52:32.417424Z"
        },
        "trusted": true
      },
      "execution_count": null,
      "outputs": [
        {
          "execution_count": 17,
          "output_type": "execute_result",
          "data": {
            "text/plain": "   userid  itemid  ratings\n0  693516  297662        1\n1  693516  297662        1\n2  979664  338222        1",
            "text/html": "<div>\n<style scoped>\n    .dataframe tbody tr th:only-of-type {\n        vertical-align: middle;\n    }\n\n    .dataframe tbody tr th {\n        vertical-align: top;\n    }\n\n    .dataframe thead th {\n        text-align: right;\n    }\n</style>\n<table border=\"1\" class=\"dataframe\">\n  <thead>\n    <tr style=\"text-align: right;\">\n      <th></th>\n      <th>userid</th>\n      <th>itemid</th>\n      <th>ratings</th>\n    </tr>\n  </thead>\n  <tbody>\n    <tr>\n      <th>0</th>\n      <td>693516</td>\n      <td>297662</td>\n      <td>1</td>\n    </tr>\n    <tr>\n      <th>1</th>\n      <td>693516</td>\n      <td>297662</td>\n      <td>1</td>\n    </tr>\n    <tr>\n      <th>2</th>\n      <td>979664</td>\n      <td>338222</td>\n      <td>1</td>\n    </tr>\n  </tbody>\n</table>\n</div>"
          },
          "metadata": {}
        }
      ]
    },
    {
      "cell_type": "markdown",
      "source": [
        "Для построения рекомендательной системы на основе memory-based подхода будем использовать библиотеку Surprise.  \n",
        "Cоздадим объект Reader из библиотеки Surprise.  \n",
        "Параметр rating_scale определяет шкалу оценок, используемую в данных.   \n",
        "В данном случае, оценки варьируются от 1 до 2 включительно.  \n",
        "Логика работы данной библиотеки не подразумевает обязательную предварительную группировку данных, поэтому, мы отправляем в построение датасета и дальнейшую разбивку данные о взаимодействии как есть."
      ],
      "metadata": {
        "id": "RgNWzc-tnFMP"
      }
    },
    {
      "cell_type": "code",
      "source": [
        "reader = Reader(rating_scale=(1, 2))\n",
        "\n",
        "# The columns must correspond to user id, item id and ratings (in that order).\n",
        "data = surDataset.load_from_df(events_sur, reader)"
      ],
      "metadata": {
        "id": "RussM_qboQhS",
        "execution": {
          "iopub.status.busy": "2024-06-04T14:52:32.420644Z",
          "iopub.execute_input": "2024-06-04T14:52:32.421029Z",
          "iopub.status.idle": "2024-06-04T14:52:32.687784Z",
          "shell.execute_reply.started": "2024-06-04T14:52:32.420993Z",
          "shell.execute_reply": "2024-06-04T14:52:32.686237Z"
        },
        "trusted": true
      },
      "execution_count": null,
      "outputs": []
    },
    {
      "cell_type": "markdown",
      "source": [
        "### Train/test split"
      ],
      "metadata": {
        "id": "oCZsC_hZzHdu"
      }
    },
    {
      "cell_type": "code",
      "source": [
        "trainset, testset = sur_train_test_split(data, test_size=0.3, random_state=13, shuffle=False)\n",
        "len(testset)"
      ],
      "metadata": {
        "id": "jLFXl2nl_Wqw",
        "outputId": "666740b2-2d6d-4c3a-f840-72ebf657bbdb",
        "execution": {
          "iopub.status.busy": "2024-06-04T14:52:32.689563Z",
          "iopub.execute_input": "2024-06-04T14:52:32.690022Z",
          "iopub.status.idle": "2024-06-04T14:52:33.223386Z",
          "shell.execute_reply.started": "2024-06-04T14:52:32.689983Z",
          "shell.execute_reply": "2024-06-04T14:52:33.221861Z"
        },
        "trusted": true
      },
      "execution_count": null,
      "outputs": [
        {
          "execution_count": 19,
          "output_type": "execute_result",
          "data": {
            "text/plain": "27427"
          },
          "metadata": {}
        }
      ]
    },
    {
      "cell_type": "code",
      "source": [
        "len_trainset = events_sur.shape[0] - len(testset)\n",
        "len_trainset"
      ],
      "metadata": {
        "execution": {
          "iopub.status.busy": "2024-06-04T14:52:33.225612Z",
          "iopub.execute_input": "2024-06-04T14:52:33.226975Z",
          "iopub.status.idle": "2024-06-04T14:52:33.236784Z",
          "shell.execute_reply.started": "2024-06-04T14:52:33.226923Z",
          "shell.execute_reply": "2024-06-04T14:52:33.235153Z"
        },
        "trusted": true,
        "id": "8HyJ8sT5aaa9",
        "outputId": "8422a000-6b2f-4405-f095-69317a24c13a"
      },
      "execution_count": null,
      "outputs": [
        {
          "execution_count": 20,
          "output_type": "execute_result",
          "data": {
            "text/plain": "63996"
          },
          "metadata": {}
        }
      ]
    },
    {
      "cell_type": "markdown",
      "source": [
        "Посмотрим на характер представления данных в trainset"
      ],
      "metadata": {
        "id": "lDk9zNxkaaa-"
      }
    },
    {
      "cell_type": "code",
      "source": [
        "for index in range(5):\n",
        "    user_id = trainset.to_raw_uid(trainset.all_users()[index])\n",
        "    item_id = trainset.to_raw_iid(trainset.all_items()[index])\n",
        "    rating = trainset.ur[index]  # Оценка пользователя для данного товара\n",
        "    print(\"Пользователь {}, Изделие {}, Рейтинг {}\".format(user_id, item_id, rating))"
      ],
      "metadata": {
        "execution": {
          "iopub.status.busy": "2024-06-04T14:52:33.238700Z",
          "iopub.execute_input": "2024-06-04T14:52:33.239183Z",
          "iopub.status.idle": "2024-06-04T14:52:33.261107Z",
          "shell.execute_reply.started": "2024-06-04T14:52:33.239120Z",
          "shell.execute_reply": "2024-06-04T14:52:33.259444Z"
        },
        "trusted": true,
        "id": "2EbV0r50aaa_",
        "outputId": "fa039d64-a09f-4cfe-dc7d-c2b58bbf5ad5"
      },
      "execution_count": null,
      "outputs": [
        {
          "name": "stdout",
          "text": "Пользователь 693516, Изделие 297662, Рейтинг [(0, 1.0), (0, 1.0)]\nПользователь 979664, Изделие 338222, Рейтинг [(1, 1.0)]\nПользователь 260113, Изделие 125751, Рейтинг [(2, 1.0)]\nПользователь 319455, Изделие 342530, Рейтинг [(3, 1.0)]\nПользователь 345781, Изделие 438400, Рейтинг [(4, 1.0), (4, 2.0)]\n",
          "output_type": "stream"
        }
      ]
    },
    {
      "cell_type": "code",
      "source": [
        "trainset.all_users()"
      ],
      "metadata": {
        "execution": {
          "iopub.status.busy": "2024-06-04T14:52:33.263369Z",
          "iopub.execute_input": "2024-06-04T14:52:33.263980Z",
          "iopub.status.idle": "2024-06-04T14:52:33.281769Z",
          "shell.execute_reply.started": "2024-06-04T14:52:33.263930Z",
          "shell.execute_reply": "2024-06-04T14:52:33.280193Z"
        },
        "trusted": true,
        "id": "F4kgl-bxaabV",
        "outputId": "0573cc0a-8941-40a2-9fb2-a5f1dcb5ecf3"
      },
      "execution_count": null,
      "outputs": [
        {
          "execution_count": 22,
          "output_type": "execute_result",
          "data": {
            "text/plain": "range(0, 27191)"
          },
          "metadata": {}
        }
      ]
    },
    {
      "cell_type": "code",
      "source": [
        "for index in range(27191):\n",
        "    user_id = trainset.to_raw_uid(trainset.all_users()[index])\n",
        "    if int(user_id) == int(1173192):\n",
        "        user_id = trainset.to_raw_uid(trainset.all_users()[index])\n",
        "        item_id = trainset.to_raw_iid(trainset.all_items()[index])\n",
        "        rating = trainset.ur[index]  # Оценка пользователя для данного товара\n",
        "        print(\"Пользователь {}, Изделие {}, Рейтинг {}\".format(user_id, item_id, rating))"
      ],
      "metadata": {
        "execution": {
          "iopub.status.busy": "2024-06-04T14:52:33.283492Z",
          "iopub.execute_input": "2024-06-04T14:52:33.284067Z",
          "iopub.status.idle": "2024-06-04T14:52:33.343324Z",
          "shell.execute_reply.started": "2024-06-04T14:52:33.284016Z",
          "shell.execute_reply": "2024-06-04T14:52:33.341851Z"
        },
        "trusted": true,
        "id": "dmCYB0hsaabW",
        "outputId": "f363f3f5-5cd7-4753-83b2-69c963e119c2"
      },
      "execution_count": null,
      "outputs": [
        {
          "name": "stdout",
          "text": "Пользователь 1173192, Изделие 284609, Рейтинг [(46, 1.0), (46, 2.0)]\n",
          "output_type": "stream"
        }
      ]
    },
    {
      "cell_type": "markdown",
      "source": [
        "Взятый для примера пользователь попал в trainset"
      ],
      "metadata": {
        "id": "WWKpynw3aabX"
      }
    },
    {
      "cell_type": "code",
      "source": [
        "algo_users = KNNWithMeans(k=15, sim_options={'name': 'pearson_baseline', 'user_based': True})\n",
        "algo_items = KNNWithMeans(k=15, sim_options={'name': 'pearson_baseline', 'user_based': False})\n",
        "algo_users.fit(trainset)\n",
        "algo_items.fit(trainset)"
      ],
      "metadata": {
        "id": "eqFanvZBrF_y",
        "outputId": "247c5ae5-d707-4328-a86a-23e1bc20556e",
        "execution": {
          "iopub.status.busy": "2024-06-04T14:52:33.345021Z",
          "iopub.execute_input": "2024-06-04T14:52:33.345416Z",
          "iopub.status.idle": "2024-06-04T14:53:18.408832Z",
          "shell.execute_reply.started": "2024-06-04T14:52:33.345385Z",
          "shell.execute_reply": "2024-06-04T14:53:18.407170Z"
        },
        "trusted": true
      },
      "execution_count": null,
      "outputs": [
        {
          "name": "stdout",
          "text": "Estimating biases using als...\nComputing the pearson_baseline similarity matrix...\nDone computing similarity matrix.\nEstimating biases using als...\nComputing the pearson_baseline similarity matrix...\nDone computing similarity matrix.\n",
          "output_type": "stream"
        },
        {
          "execution_count": 24,
          "output_type": "execute_result",
          "data": {
            "text/plain": "<surprise.prediction_algorithms.knns.KNNWithMeans at 0x7b49d3741870>"
          },
          "metadata": {}
        }
      ]
    },
    {
      "cell_type": "code",
      "source": [
        "def precision_k(predictions,k=3,threshold=1.5):\n",
        "    \"\"\"Возвращает метрику precision at k для каждого user\"\"\"\n",
        "\n",
        "    # Создадим предсказания для каждого user\n",
        "    user_est_true = defaultdict(list)\n",
        "    for uid, _, true_r, est, _ in predictions:\n",
        "        user_est_true[uid].append((est, true_r))\n",
        "\n",
        "    precisions = dict()\n",
        "    for uid, user_ratings in user_est_true.items():\n",
        "\n",
        "        # Sort user ratings by estimated value\n",
        "        user_ratings.sort(key=lambda x: x[0], reverse=True)\n",
        "\n",
        "        # Number of recommended items in top k\n",
        "        n_rec_k = sum((est >= threshold) for (est, _) in user_ratings[:k])\n",
        "\n",
        "        # Number of relevant and recommended items in top k\n",
        "        n_rel_and_rec_k = sum(\n",
        "            ((true_r >= threshold) and (est >= threshold))\n",
        "            for (est, true_r) in user_ratings[:k]\n",
        "        )\n",
        "\n",
        "        # Precision@K: Proportion of recommended items that are relevant\n",
        "        # When n_rec_k is 0, Precision is undefined. We here set it to 0.\n",
        "\n",
        "        precisions[uid] = n_rel_and_rec_k / n_rec_k if n_rec_k != 0 else 0\n",
        "\n",
        "    return precisions\n",
        "\n",
        "\n",
        "predictions_users = algo_users.test(testset)\n",
        "predictions_items = algo_items.test(testset)\n",
        "precisions_users = precision_k(predictions_users, k=3, threshold=1.5)\n",
        "precisions_items = precision_k(predictions_items, k=3, threshold=1.5)\n",
        "\n",
        "# Precision and recall can then be averaged over all users\n",
        "print(f'Precision@3 users-based: {round((sum(prec for prec in precisions_users.values())/len(precisions_users)),3)}')\n",
        "print(f'Precision@3 items-based: {round((sum(prec for prec in precisions_items.values())/len(precisions_items)),3)}')"
      ],
      "metadata": {
        "id": "U8eMhqc1atEb",
        "outputId": "06ac2848-62ca-444a-dd42-027ad89d2cb0",
        "execution": {
          "iopub.status.busy": "2024-06-04T14:53:18.410640Z",
          "iopub.execute_input": "2024-06-04T14:53:18.411075Z",
          "iopub.status.idle": "2024-06-04T14:53:20.039698Z",
          "shell.execute_reply.started": "2024-06-04T14:53:18.411039Z",
          "shell.execute_reply": "2024-06-04T14:53:20.037927Z"
        },
        "trusted": true
      },
      "execution_count": null,
      "outputs": [
        {
          "name": "stdout",
          "text": "Precision@3 users-based: 0.002\nPrecision@3 items-based: 0.002\n",
          "output_type": "stream"
        }
      ]
    },
    {
      "cell_type": "markdown",
      "source": [
        "Посмотрим на пример предсказания"
      ],
      "metadata": {
        "id": "AVSCIKM5nFMW"
      }
    },
    {
      "cell_type": "code",
      "source": [
        "# Каков прогнозируемый рейтинг для пользователя с userid = 1173192\n",
        "uid = int(1173192)\n",
        "iid = int(7943)\n",
        "print(f'Предсказание на основе близости items, для item раннее уже покупавшимися user: ')\n",
        "algo_items.predict(uid, iid, verbose=True)\n",
        "print(f'Предсказание на основе близости users,с учетом items раннее уже покупавшимися user: ')\n",
        "algo_users.predict(uid, iid, verbose=True)"
      ],
      "metadata": {
        "execution": {
          "iopub.status.busy": "2024-06-04T14:53:20.042781Z",
          "iopub.execute_input": "2024-06-04T14:53:20.043419Z",
          "iopub.status.idle": "2024-06-04T14:53:20.057305Z",
          "shell.execute_reply.started": "2024-06-04T14:53:20.043365Z",
          "shell.execute_reply": "2024-06-04T14:53:20.055784Z"
        },
        "trusted": true,
        "id": "H13g64XXaaba",
        "outputId": "dffd4201-ab81-4b2b-d103-8c41924b9970"
      },
      "execution_count": null,
      "outputs": [
        {
          "name": "stdout",
          "text": "Предсказание на основе близости items, для item раннее уже покупавшимися user: \nuser: 1173192    item: 7943       r_ui = None   est = 1.50   {'actual_k': 2, 'was_impossible': False}\nПредсказание на основе близости users,с учетом items раннее уже покупавшимися user: \nuser: 1173192    item: 7943       r_ui = None   est = 1.50   {'actual_k': 15, 'was_impossible': False}\n",
          "output_type": "stream"
        },
        {
          "execution_count": 26,
          "output_type": "execute_result",
          "data": {
            "text/plain": "Prediction(uid=1173192, iid=7943, r_ui=None, est=1.4991326699307206, details={'actual_k': 15, 'was_impossible': False})"
          },
          "metadata": {}
        }
      ]
    },
    {
      "cell_type": "code",
      "source": [
        "# Каков прогнозируемый рейтинг для пользователя с userid = 1173192\n",
        "uid = int(1173192)\n",
        "iid = int(284609)\n",
        "print(f'Предсказание на основе близости items, для item раннее не покупавшимися user: ')\n",
        "algo_items.predict(uid, iid, verbose=True)\n",
        "print(f'Предсказание на основе близости users, с учетом items раннее не покупавшимися user: ')\n",
        "algo_users.predict(uid, iid, verbose=True)"
      ],
      "metadata": {
        "execution": {
          "iopub.status.busy": "2024-06-04T14:53:20.059400Z",
          "iopub.execute_input": "2024-06-04T14:53:20.059939Z",
          "iopub.status.idle": "2024-06-04T14:53:20.078276Z",
          "shell.execute_reply.started": "2024-06-04T14:53:20.059886Z",
          "shell.execute_reply": "2024-06-04T14:53:20.076440Z"
        },
        "trusted": true,
        "id": "TjRWHnsHaabb",
        "outputId": "6e7831a1-80c3-4990-c4bd-e5a5d337c2c4"
      },
      "execution_count": null,
      "outputs": [
        {
          "name": "stdout",
          "text": "Предсказание на основе близости items, для item раннее не покупавшимися user: \nuser: 1173192    item: 284609     r_ui = None   est = 1.00   {'actual_k': 0, 'was_impossible': False}\nПредсказание на основе близости users, с учетом items раннее не покупавшимися user: \nuser: 1173192    item: 284609     r_ui = None   est = 1.50   {'actual_k': 0, 'was_impossible': False}\n",
          "output_type": "stream"
        },
        {
          "execution_count": 27,
          "output_type": "execute_result",
          "data": {
            "text/plain": "Prediction(uid=1173192, iid=284609, r_ui=None, est=1.5, details={'actual_k': 0, 'was_impossible': False})"
          },
          "metadata": {}
        }
      ]
    },
    {
      "cell_type": "code",
      "source": [
        "# Уникальный идентификатор пользователя для которого нам нужны рекомендации\n",
        "uid = int(1173192)  # пример user_id который ранее делал покупки\n",
        "\n",
        "# Получение всех возможных item_ids из набора данных\n",
        "items = trainset.all_items()\n",
        "iid_list = [trainset.to_raw_iid(iid) for iid in items]\n",
        "\n",
        "# Получение прогнозов для всех item_ids\n",
        "predictions = [algo_items.predict(uid, iid) for iid in iid_list]\n",
        "\n",
        "# Сортировка прогнозов по оценке\n",
        "top_predictions = sorted(predictions, key=lambda x: x.est, reverse=True)\n",
        "\n",
        "# Получение топ-5 рекомендаций\n",
        "top_5_recommendations = top_predictions[:5]\n",
        "\n",
        "# Вывод результатов\n",
        "for pred in top_5_recommendations:\n",
        "    print(f\"User {pred.uid} может купить item {pred.iid} с предсказанным rating {pred.est:.2f}\")"
      ],
      "metadata": {
        "execution": {
          "iopub.status.busy": "2024-06-04T14:53:20.080211Z",
          "iopub.execute_input": "2024-06-04T14:53:20.080675Z",
          "iopub.status.idle": "2024-06-04T14:53:20.371166Z",
          "shell.execute_reply.started": "2024-06-04T14:53:20.080640Z",
          "shell.execute_reply": "2024-06-04T14:53:20.369412Z"
        },
        "trusted": true,
        "id": "Y7i2-b_Jaabc",
        "outputId": "63b9c33e-f513-4297-b28e-8ab0afafe940"
      },
      "execution_count": null,
      "outputs": [
        {
          "name": "stdout",
          "text": "User 1173192 может купить item 29877 с предсказанным rating 2.00\nUser 1173192 может купить item 158834 с предсказанным rating 2.00\nUser 1173192 может купить item 309748 с предсказанным rating 2.00\nUser 1173192 может купить item 239596 с предсказанным rating 2.00\nUser 1173192 может купить item 79442 с предсказанным rating 2.00\n",
          "output_type": "stream"
        }
      ]
    },
    {
      "cell_type": "code",
      "source": [
        "# Уникальный идентификатор пользователя для которого нам нужны рекомендации\n",
        "uid = int(1173192)  # пример user_id который ранее делал покупки\n",
        "\n",
        "# Получение всех возможных item_ids из набора данных\n",
        "items = trainset.all_items()\n",
        "iid_list = [trainset.to_raw_iid(iid) for iid in items]\n",
        "\n",
        "# Список items, по которым еще нет оценок от данного user\n",
        "user_rated_items = {iid for (uid, iid) in trainset.ur[trainset.to_inner_uid(uid)]}\n",
        "recommend_items = [iid for iid in iid_list if iid not in user_rated_items]\n",
        "\n",
        "# Получение предсказаний для всех items, которые еще не оценены user\n",
        "predictions = [algo_items.predict(uid, iid) for iid in recommend_items]\n",
        "\n",
        "# Отбор топ-5 рекомендаций на основе предсказанных оценок\n",
        "top_5_recommendations = sorted(predictions, key=lambda x: x.est, reverse=True)[:5]\n",
        "\n",
        "# Вывод результатов\n",
        "for pred in top_5_recommendations:\n",
        "    print(f\"User {pred.uid} может купить ранее не приобретенный item {pred.iid} с предсказанным rating {pred.est:.2f}\")"
      ],
      "metadata": {
        "execution": {
          "iopub.status.busy": "2024-06-04T14:53:20.383744Z",
          "iopub.execute_input": "2024-06-04T14:53:20.384268Z",
          "iopub.status.idle": "2024-06-04T14:53:20.673825Z",
          "shell.execute_reply.started": "2024-06-04T14:53:20.384231Z",
          "shell.execute_reply": "2024-06-04T14:53:20.672151Z"
        },
        "trusted": true,
        "id": "1D5JgO0Aaabd",
        "outputId": "4203b0af-cf51-48f0-df4c-540ba7f5d82c"
      },
      "execution_count": null,
      "outputs": [
        {
          "name": "stdout",
          "text": "User 1173192 может купить ранее не приобретенный item 29877 с предсказанным rating 2.00\nUser 1173192 может купить ранее не приобретенный item 158834 с предсказанным rating 2.00\nUser 1173192 может купить ранее не приобретенный item 309748 с предсказанным rating 2.00\nUser 1173192 может купить ранее не приобретенный item 239596 с предсказанным rating 2.00\nUser 1173192 может купить ранее не приобретенный item 79442 с предсказанным rating 2.00\n",
          "output_type": "stream"
        }
      ]
    },
    {
      "cell_type": "code",
      "source": [
        "# Уникальный идентификатор пользователя для которого нам нужны рекомендации\n",
        "uid = int(42)  # пример user_id которого нет в trainset\n",
        "# Получение всех возможных item_ids из набора данных\n",
        "items = trainset.all_items()\n",
        "iid_list = [trainset.to_raw_iid(iid) for iid in items]\n",
        "\n",
        "# Список items, по которым еще нет оценок от данного user\n",
        "try:\n",
        "    user_rated_items = {iid for (uid, iid) in trainset.ur[trainset.to_inner_uid(uid)]}\n",
        "except ValueError:\n",
        "    print('Данный user ещё не взаимодействовал с items')\n",
        "recommend_items = [iid for iid in iid_list if iid not in user_rated_items]\n",
        "\n",
        "# Получение предсказаний для всех items, которые еще не оценены user\n",
        "predictions = [algo_items.predict(uid, iid) for iid in recommend_items]\n",
        "\n",
        "# Отбор топ-5 рекомендаций на основе предсказанных оценок\n",
        "top_5_recommendations = sorted(predictions, key=lambda x: x.est, reverse=True)[:5]\n",
        "\n",
        "# Вывод результатов\n",
        "for pred in top_5_recommendations:\n",
        "    print(f\"User {pred.uid} может приобрести item {pred.iid} с предсказанным rating {pred.est:.2f}\")"
      ],
      "metadata": {
        "execution": {
          "iopub.status.busy": "2024-06-04T14:53:20.675731Z",
          "iopub.execute_input": "2024-06-04T14:53:20.676252Z",
          "iopub.status.idle": "2024-06-04T14:53:20.868778Z",
          "shell.execute_reply.started": "2024-06-04T14:53:20.676211Z",
          "shell.execute_reply": "2024-06-04T14:53:20.867009Z"
        },
        "trusted": true,
        "id": "Tm1FqGYCaabe",
        "outputId": "d2ed5da2-0301-41a6-e0c7-0248028fdca3"
      },
      "execution_count": null,
      "outputs": [
        {
          "name": "stdout",
          "text": "Данный user ещё не взаимодействовал с items\nUser 42 может приобрести item 297662 с предсказанным rating 1.25\nUser 42 может приобрести item 338222 с предсказанным rating 1.25\nUser 42 может приобрести item 125751 с предсказанным rating 1.25\nUser 42 может приобрести item 342530 с предсказанным rating 1.25\nUser 42 может приобрести item 438400 с предсказанным rating 1.25\n",
          "output_type": "stream"
        }
      ]
    },
    {
      "cell_type": "code",
      "source": [
        "del trainset\n",
        "del testset\n",
        "del data\n",
        "del precisions_users\n",
        "del precisions_items\n",
        "del predictions_users\n",
        "del predictions_items\n",
        "del algo_items\n",
        "del algo_users\n",
        "gc.collect()"
      ],
      "metadata": {
        "id": "Wq_z13PznFMY",
        "outputId": "8f6d8908-53bb-4cb7-fe29-777ee26fadb3",
        "execution": {
          "iopub.status.busy": "2024-06-04T14:53:20.871054Z",
          "iopub.execute_input": "2024-06-04T14:53:20.871654Z",
          "iopub.status.idle": "2024-06-04T14:53:22.025496Z",
          "shell.execute_reply.started": "2024-06-04T14:53:20.871586Z",
          "shell.execute_reply": "2024-06-04T14:53:22.024239Z"
        },
        "trusted": true
      },
      "execution_count": null,
      "outputs": [
        {
          "execution_count": 31,
          "output_type": "execute_result",
          "data": {
            "text/plain": "0"
          },
          "metadata": {}
        }
      ]
    },
    {
      "cell_type": "markdown",
      "source": [
        "# LightFM\n",
        "Коллаборативная фильтрация + матричная факторизация"
      ],
      "metadata": {
        "id": "SUum9j_3hLfB"
      }
    },
    {
      "cell_type": "code",
      "source": [
        "events.info()"
      ],
      "metadata": {
        "id": "Rah2SGvLoq6i",
        "outputId": "d09975e8-ccdd-4414-d980-80f0b1330bd7",
        "execution": {
          "iopub.status.busy": "2024-06-04T14:53:22.027340Z",
          "iopub.execute_input": "2024-06-04T14:53:22.028461Z",
          "iopub.status.idle": "2024-06-04T14:53:22.048610Z",
          "shell.execute_reply.started": "2024-06-04T14:53:22.028410Z",
          "shell.execute_reply": "2024-06-04T14:53:22.046749Z"
        },
        "trusted": true
      },
      "execution_count": null,
      "outputs": [
        {
          "name": "stdout",
          "text": "<class 'pandas.core.frame.DataFrame'>\nIndex: 2755641 entries, 0 to 2756100\nData columns (total 7 columns):\n #   Column          Dtype         \n---  ------          -----         \n 0   timestamp       int64         \n 1   visitorid       int64         \n 2   event           object        \n 3   itemid          int64         \n 4   transactionid   float64       \n 5   event_datetime  datetime64[ns]\n 6   weigths         int64         \ndtypes: datetime64[ns](1), float64(1), int64(4), object(1)\nmemory usage: 168.2+ MB\n",
          "output_type": "stream"
        }
      ]
    },
    {
      "cell_type": "markdown",
      "source": [
        "## train/test split"
      ],
      "metadata": {
        "id": "T5yCK2xcmA5Y"
      }
    },
    {
      "cell_type": "code",
      "source": [
        "s1 = events[events['event'] == 'transaction']\n",
        "n = int(s1.shape[0]/2)\n",
        "s2 = events[events['event'] == 'addtocart'].sample(n=n, random_state = 42)\n",
        "s3 = events[events['event'] == 'view'].sample(n=n, random_state = 42)\n",
        "events_c = pd.concat([s1, s2, s3], ignore_index=False)\n",
        "events_c = events_c[[\"visitorid\", \"itemid\", \"weigths\"]].astype({'visitorid':'int32','itemid':'int32','weigths':'int8'}).rename(columns =\n",
        "    {'visitorid': 'userid', 'itemid': 'itemid', 'weigths':'weights'})\n",
        "\n",
        "train_orders, test_orders = train_test_split(events_c, test_size=0.3, shuffle=False, random_state=42)\n",
        "\n",
        "# Сформируем train\n",
        "def create_train_data(dataset):\n",
        "    data = dataset.groupby(['userid','itemid'], as_index=False)['weights'].agg('sum')\n",
        "#     data[\"weights\"] = np.where(data[\"weights\"]>0, 1, data[\"weights\"]) # cap it at 5 ограничить на 5\n",
        "    return data\n",
        "train = create_train_data(train_orders)\n",
        "\n",
        "# Сформируем test\n",
        "def create_test_data(test, train):\n",
        "    data = test.groupby(['userid','itemid'], as_index=False).agg('count')\n",
        "    data = data[['userid','itemid']]\n",
        "    data = data.merge(train[\"userid\"].drop_duplicates()) # remove users not in training data\n",
        "    data = data.merge(train[\"itemid\"].drop_duplicates()) # remove items not training data\n",
        "    return data\n",
        "test = create_test_data(test_orders, train)"
      ],
      "metadata": {
        "id": "OntzZ46rH3FE",
        "execution": {
          "iopub.status.busy": "2024-06-04T14:53:22.050700Z",
          "iopub.execute_input": "2024-06-04T14:53:22.051249Z",
          "iopub.status.idle": "2024-06-04T14:53:24.106617Z",
          "shell.execute_reply.started": "2024-06-04T14:53:22.051207Z",
          "shell.execute_reply": "2024-06-04T14:53:24.104991Z"
        },
        "trusted": true
      },
      "execution_count": null,
      "outputs": []
    },
    {
      "cell_type": "code",
      "source": [
        "del s1\n",
        "del s2\n",
        "del s3\n",
        "# del events_c\n",
        "gc.collect()"
      ],
      "metadata": {
        "execution": {
          "iopub.status.busy": "2024-06-04T14:53:24.108662Z",
          "iopub.execute_input": "2024-06-04T14:53:24.110112Z",
          "iopub.status.idle": "2024-06-04T14:53:24.496956Z",
          "shell.execute_reply.started": "2024-06-04T14:53:24.110067Z",
          "shell.execute_reply": "2024-06-04T14:53:24.495183Z"
        },
        "trusted": true,
        "id": "sGwPJAeraabk",
        "outputId": "844a9fe0-4105-4310-f581-386e241537ff"
      },
      "execution_count": null,
      "outputs": [
        {
          "execution_count": 34,
          "output_type": "execute_result",
          "data": {
            "text/plain": "0"
          },
          "metadata": {}
        }
      ]
    },
    {
      "cell_type": "markdown",
      "source": [
        "LightFM может создавать предсказания для новых/холодных товаров и пользователей. Мы посмотрим, как это сделать, а пока удалим из Test все предметы/пользователей, которых нет в Train.\n",
        "\n",
        "Проверим есть ли в тесте users, которых нет в train"
      ],
      "metadata": {
        "id": "Ecsi4msPo88V"
      }
    },
    {
      "cell_type": "code",
      "source": [
        "print(len(set(test_orders['itemid']).difference(set(train_orders['itemid']))))\n",
        "print(len(set(test['itemid']).difference(set(train['itemid']))))\n",
        "print(len(set(test_orders['userid']).difference(set(train_orders['userid']))))\n",
        "print(len(set(test['userid']).difference(set(train['userid']))))"
      ],
      "metadata": {
        "id": "nTwpm93qpp49",
        "outputId": "c47e4522-487d-4769-c074-19a055283d82",
        "execution": {
          "iopub.status.busy": "2024-06-04T14:53:24.498832Z",
          "iopub.execute_input": "2024-06-04T14:53:24.499270Z",
          "iopub.status.idle": "2024-06-04T14:53:24.552988Z",
          "shell.execute_reply.started": "2024-06-04T14:53:24.499236Z",
          "shell.execute_reply": "2024-06-04T14:53:24.551154Z"
        },
        "trusted": true
      },
      "execution_count": null,
      "outputs": [
        {
          "name": "stdout",
          "text": "6993\n0\n11231\n0\n",
          "output_type": "stream"
        }
      ]
    },
    {
      "cell_type": "markdown",
      "source": [
        "Таких users и items в train/test нет"
      ],
      "metadata": {
        "id": "i-TvX4k2ynI2"
      }
    },
    {
      "cell_type": "markdown",
      "source": [
        "Обычно мы хотим найти новые товары, с которыми пользователи еще не взаимодействовали, чтобы рекомендовать их.   \n",
        "Однако для такой сферы, как розничная торговля продуктами питания, рекомендация товаров, которые пользователи уже покупали, вероятно, является законным, хотя и не очень оригинальным вариантом.  \n",
        "Давайте создадим тестовый набор, включающий повторно купленные товары, и набор, содержащий только новые для пользователя товары, т. е. не купленные ранее.  \n",
        "Затем мы сможем сравнить, как работает наша модель на обоих наборах."
      ],
      "metadata": {
        "id": "jxzintg3yk3G"
      }
    },
    {
      "cell_type": "code",
      "source": [
        "# Создадим тестовый набор, исключающий повторные покупки\n",
        "def create_new_only_test_data(test, train):\n",
        "    # test = test.drop(columns=['weights'])\n",
        "    data = test.merge(train,  how='left', left_on=['userid','itemid'], right_on = ['userid','itemid'])\n",
        "    data = data[data['weights'].isna()]\n",
        "    data = data.drop(columns=['weights'])\n",
        "    return data\n",
        "test_new = create_new_only_test_data(test, train)"
      ],
      "metadata": {
        "id": "pNPUgYret7TK",
        "execution": {
          "iopub.status.busy": "2024-06-04T14:53:24.555054Z",
          "iopub.execute_input": "2024-06-04T14:53:24.555596Z",
          "iopub.status.idle": "2024-06-04T14:53:24.579158Z",
          "shell.execute_reply.started": "2024-06-04T14:53:24.555553Z",
          "shell.execute_reply": "2024-06-04T14:53:24.577462Z"
        },
        "trusted": true
      },
      "execution_count": null,
      "outputs": []
    },
    {
      "cell_type": "markdown",
      "source": [
        "После подготовки признаков users и items начнем эксперименты по моделированию с целью выявить конфигурацию данных и гиперпараметров дающих наибольшую метрику lightFM"
      ],
      "metadata": {
        "id": "eiYzhHn_eDD_"
      }
    },
    {
      "cell_type": "code",
      "source": [
        "# Уникальный список идентификаторов пользователей\n",
        "train_users = train[\"userid\"].unique()\n",
        "\n",
        "# Уникальный список идентификаторов товаров\n",
        "train_items = train[\"itemid\"].unique()"
      ],
      "metadata": {
        "id": "837--HoTzQm0",
        "execution": {
          "iopub.status.busy": "2024-06-04T14:53:24.581320Z",
          "iopub.execute_input": "2024-06-04T14:53:24.582262Z",
          "iopub.status.idle": "2024-06-04T14:53:24.591800Z",
          "shell.execute_reply.started": "2024-06-04T14:53:24.582216Z",
          "shell.execute_reply": "2024-06-04T14:53:24.590218Z"
        },
        "trusted": true
      },
      "execution_count": null,
      "outputs": []
    },
    {
      "cell_type": "markdown",
      "source": [
        "LightFM  сопоставляет каждый элемент, пользователя и все различные характеристики с уникальными индексами, которые затем используются для поиска этих пользователей, элементов и характеристик в различных матрицах, используемых для создания рекомендаций."
      ],
      "metadata": {
        "id": "AJGpDb7HfUf0"
      }
    },
    {
      "cell_type": "code",
      "source": [
        "# Create user, item and feature mappings: (user id map, user feature map, item id map, item feature map)\n",
        "dataset = Dataset() # helper function\n",
        "dataset.fit(train_users, # creates mappings between userIDs and row indices for LightFM\n",
        "                 train_items)\n",
        "len(dataset.mapping()) # we always get 4x mappings out"
      ],
      "metadata": {
        "id": "wOruHwyMfmrb",
        "outputId": "329c2080-da40-4b0a-80fa-488cf3b96082",
        "execution": {
          "iopub.status.busy": "2024-06-04T14:53:24.593699Z",
          "iopub.execute_input": "2024-06-04T14:53:24.594181Z",
          "iopub.status.idle": "2024-06-04T14:53:24.633672Z",
          "shell.execute_reply.started": "2024-06-04T14:53:24.594146Z",
          "shell.execute_reply": "2024-06-04T14:53:24.632086Z"
        },
        "trusted": true
      },
      "execution_count": null,
      "outputs": [
        {
          "execution_count": 38,
          "output_type": "execute_result",
          "data": {
            "text/plain": "4"
          },
          "metadata": {}
        }
      ]
    },
    {
      "cell_type": "markdown",
      "source": [
        "Несмотря на то, что в этот раз мы не передавали список характеристик пользователя или предмета, мы все равно получаем в ответ 4 отображения (идентификатор пользователя, характеристики пользователя, идентификатор предмета, характеристики предмета).  \n",
        "Это происходит потому, что LightFM создает отдельные матрицы для пользователей и предметов и связанных с ними характеристик.   \n",
        "В нашем случае матрицы характеристик - это просто идентификационные характеристики, т. е. каждый пользователь/предмет - это собственная характеристика, поэтому мы получаем отображения характеристик, хотя передали только пользователей/предметы.    \n",
        "Отображения идентификатора и характеристики будут одинаковой длины, но позже, когда мы начнем добавлять дополнительные характеристики, мы увидим, что отображения характеристик станут длиннее."
      ],
      "metadata": {
        "id": "XuUJ8PaTf2Mb"
      }
    },
    {
      "cell_type": "code",
      "source": [
        "# Соответствия пользователей и предметов\n",
        "user_mappings = dataset.mapping()[0]\n",
        "item_mappings = dataset.mapping()[2]\n",
        "\n",
        "len(user_mappings), len(item_mappings)"
      ],
      "metadata": {
        "id": "32Ti9rpgg3Mt",
        "outputId": "43e2926f-9f96-402b-d8d2-9cb70d65284f",
        "execution": {
          "iopub.status.busy": "2024-06-04T14:53:24.635609Z",
          "iopub.execute_input": "2024-06-04T14:53:24.636100Z",
          "iopub.status.idle": "2024-06-04T14:53:24.647051Z",
          "shell.execute_reply.started": "2024-06-04T14:53:24.636051Z",
          "shell.execute_reply": "2024-06-04T14:53:24.645475Z"
        },
        "trusted": true
      },
      "execution_count": null,
      "outputs": [
        {
          "execution_count": 39,
          "output_type": "execute_result",
          "data": {
            "text/plain": "(16541, 14422)"
          },
          "metadata": {}
        }
      ]
    },
    {
      "cell_type": "markdown",
      "source": [
        "Если мы посмотрим на mappings, то увидим, как наши идентификаторы пользователей были отображены на непрерывные индексы, начинающиеся с 0.   \n",
        "Например, идентификатор пользователя 4 отображается на индекс 0, идентификатор пользователя 17 - на индекс 1 и т. д.   \n",
        "LightFM использует эти внутренние отображения для построения матриц взаимодействия, а также матриц поиска пользователей и предметов в их представлениях."
      ],
      "metadata": {
        "id": "w2viQsij0Wr1"
      }
    },
    {
      "cell_type": "code",
      "source": [
        "# Have a look at the mappings\n",
        "all_users = list(user_mappings.keys())\n",
        "print(all_users[:5]) # the first 5 user IDs\n",
        "list(user_mappings.items())[:5] # first 5 mappings"
      ],
      "metadata": {
        "outputId": "999e1bd4-f3ca-44b7-9b64-0f53415345ec",
        "id": "6aoJjXhV0Wr2",
        "execution": {
          "iopub.status.busy": "2024-06-04T14:53:24.649230Z",
          "iopub.execute_input": "2024-06-04T14:53:24.649766Z",
          "iopub.status.idle": "2024-06-04T14:53:24.670299Z",
          "shell.execute_reply.started": "2024-06-04T14:53:24.649723Z",
          "shell.execute_reply": "2024-06-04T14:53:24.668692Z"
        },
        "trusted": true
      },
      "execution_count": null,
      "outputs": [
        {
          "name": "stdout",
          "text": "[172, 186, 264, 416, 419]\n",
          "output_type": "stream"
        },
        {
          "execution_count": 40,
          "output_type": "execute_result",
          "data": {
            "text/plain": "[(172, 0), (186, 1), (264, 2), (416, 3), (419, 4)]"
          },
          "metadata": {}
        }
      ]
    },
    {
      "cell_type": "markdown",
      "source": [
        "Помимо создания сопоставлений с внутренними индексами LightFM, создадим обратные сопоставления, чтобы иметь возможность вернуться к реальным пользователям и продуктам, когда мы будем составлять рекомендации."
      ],
      "metadata": {
        "id": "z4J_DFGI0Wr3"
      }
    },
    {
      "cell_type": "code",
      "source": [
        "# Create inverse mappings\n",
        "inv_user_mappings = {v:k for k, v in user_mappings.items()}\n",
        "inv_item_mappings = {v:k for k, v in item_mappings.items()}\n",
        "list(inv_item_mappings.items())[:5]"
      ],
      "metadata": {
        "outputId": "165994ca-55cc-46f0-e799-f4c6ad0a1e90",
        "id": "Cn2M8rVr0Wr4",
        "execution": {
          "iopub.status.busy": "2024-06-04T14:53:24.672377Z",
          "iopub.execute_input": "2024-06-04T14:53:24.672929Z",
          "iopub.status.idle": "2024-06-04T14:53:24.693731Z",
          "shell.execute_reply.started": "2024-06-04T14:53:24.672881Z",
          "shell.execute_reply": "2024-06-04T14:53:24.692418Z"
        },
        "trusted": true
      },
      "execution_count": null,
      "outputs": [
        {
          "execution_count": 41,
          "output_type": "execute_result",
          "data": {
            "text/plain": "[(0, 10034), (1, 465522), (2, 49029), (3, 161949), (4, 459835)]"
          },
          "metadata": {}
        }
      ]
    },
    {
      "cell_type": "markdown",
      "source": [
        "После того как мы получили наши отображения между пользователями и предметами и их индексами LightFM, мы можем использовать функцию build_interactions() для создания матрицы взаимодействий пользователя и предмета, на основе которой LightFM будет учиться.   \n",
        "Функция принимает итерируемый список, например список, кортеж, словарь и т. д. взаимодействий пользователей и предметов, а также необязательный столбец веса, который говорит LightFM, насколько более или менее важным является конкретное взаимодействие при обучении.   \n",
        "Если мы не передадим весовой столбец, LightFM по умолчанию присвоит каждому взаимодействию значение 1. Давайте создадим нашу матрицу взаимодействий:"
      ],
      "metadata": {
        "id": "GzhlM4i90Wr5"
      }
    },
    {
      "cell_type": "code",
      "source": [
        "# Создайте матрицу взаимодействий для каждого пользователя, предмета и веса\n",
        "train_interactions, train_weights = dataset.build_interactions(train[['userid', 'itemid', 'weights']].values)\n",
        "train_interactions, train_weights"
      ],
      "metadata": {
        "outputId": "7e8627f8-b610-432e-c11c-a4106b936627",
        "id": "Qy1P9E9x0Wr6",
        "execution": {
          "iopub.status.busy": "2024-06-04T14:53:24.695356Z",
          "iopub.execute_input": "2024-06-04T14:53:24.695755Z",
          "iopub.status.idle": "2024-06-04T14:53:24.876208Z",
          "shell.execute_reply.started": "2024-06-04T14:53:24.695722Z",
          "shell.execute_reply": "2024-06-04T14:53:24.874567Z"
        },
        "trusted": true
      },
      "execution_count": null,
      "outputs": [
        {
          "execution_count": 42,
          "output_type": "execute_result",
          "data": {
            "text/plain": "(<16541x14422 sparse matrix of type '<class 'numpy.int32'>'\n \twith 27324 stored elements in COOrdinate format>,\n <16541x14422 sparse matrix of type '<class 'numpy.float32'>'\n \twith 27324 stored elements in COOrdinate format>)"
          },
          "metadata": {}
        }
      ]
    },
    {
      "cell_type": "markdown",
      "source": [
        "Мы видим, что в результате получаем две разреженные матрицы.   \n",
        "Первая - это матрица взаимодействий, которая записывает взаимодействие пользователя и предмета и представляет собой 1 строку для пользователя и 1 столбец для предмета, где 1 отмечено, что взаимодействие имело место.  \n",
        "Другая разреженная матрица - это матрица весов.   \n",
        "Если бы мы не передавали веса в функцию, она была бы идентична нашей матрице взаимодействий, но поскольку мы использовали веса, эта матрица имеет ту же форму, но записывает индивидуальные веса для взаимодействий.   \n",
        "Давайте преобразуем их в плотные типы и посмотрим, чем они отличаются."
      ],
      "metadata": {
        "id": "3v3gM2500Wr7"
      }
    },
    {
      "cell_type": "code",
      "source": [
        "# Have a look at the matrices\n",
        "# train_interactions.todense(), train_weights.todense() # weights and interactions are the same if we just use 1s\n",
        "# веса и взаимодействия одинаковы, если мы используем только 1s"
      ],
      "metadata": {
        "id": "urgJFFok0Wr8",
        "execution": {
          "iopub.status.busy": "2024-06-04T14:53:24.878090Z",
          "iopub.execute_input": "2024-06-04T14:53:24.878514Z",
          "iopub.status.idle": "2024-06-04T14:53:24.885084Z",
          "shell.execute_reply.started": "2024-06-04T14:53:24.878479Z",
          "shell.execute_reply": "2024-06-04T14:53:24.883212Z"
        },
        "trusted": true
      },
      "execution_count": null,
      "outputs": []
    },
    {
      "cell_type": "markdown",
      "source": [
        "Таким образом, мы видим, что обе матрицы фиксируют взаимодействие пользователя с элементом.   \n",
        "Теперь давайте создадим матрицы взаимодействий для наших тестовых данных.   \n",
        "Нам не нужно беспокоиться о весах для них, поскольку они используются только в обучении, но LightFM все равно создает матрицу весов по умолчанию."
      ],
      "metadata": {
        "id": "Dk0LKj0M0Wr_"
      }
    },
    {
      "cell_type": "code",
      "source": [
        "191554 in all_users"
      ],
      "metadata": {
        "id": "JsbeSYTs5P4y",
        "outputId": "bcf28ac4-bc64-4b98-f5e3-0dfdd3904661",
        "execution": {
          "iopub.status.busy": "2024-06-04T14:53:24.887574Z",
          "iopub.execute_input": "2024-06-04T14:53:24.888396Z",
          "iopub.status.idle": "2024-06-04T14:53:24.953587Z",
          "shell.execute_reply.started": "2024-06-04T14:53:24.888336Z",
          "shell.execute_reply": "2024-06-04T14:53:24.951938Z"
        },
        "trusted": true
      },
      "execution_count": null,
      "outputs": [
        {
          "execution_count": 44,
          "output_type": "execute_result",
          "data": {
            "text/plain": "False"
          },
          "metadata": {}
        }
      ]
    },
    {
      "cell_type": "code",
      "source": [
        "# Create Test set - notice that LightFM automatically makes it the same size as Train to preserve integer mappings\n",
        "test_interactions, test_weights = dataset.build_interactions(test[['userid', 'itemid']].values)\n",
        "test_interactions, test_weights\n",
        "\n",
        "# Create a new-products-purchased-only Test set\n",
        "test_new_interactions, test_new_weights = dataset.build_interactions(test_new[['userid', 'itemid']].values)\n",
        "test_new_interactions, test_new_weights"
      ],
      "metadata": {
        "outputId": "5d8f5658-a0cc-490c-d732-3af5acbd94d5",
        "id": "v_XTWYpP0WsA",
        "execution": {
          "iopub.status.busy": "2024-06-04T14:53:24.955542Z",
          "iopub.execute_input": "2024-06-04T14:53:24.956051Z",
          "iopub.status.idle": "2024-06-04T14:53:24.991609Z",
          "shell.execute_reply.started": "2024-06-04T14:53:24.956001Z",
          "shell.execute_reply": "2024-06-04T14:53:24.989834Z"
        },
        "trusted": true
      },
      "execution_count": null,
      "outputs": [
        {
          "execution_count": 45,
          "output_type": "execute_result",
          "data": {
            "text/plain": "(<16541x14422 sparse matrix of type '<class 'numpy.int32'>'\n \twith 585 stored elements in COOrdinate format>,\n <16541x14422 sparse matrix of type '<class 'numpy.float32'>'\n \twith 585 stored elements in COOrdinate format>)"
          },
          "metadata": {}
        }
      ]
    },
    {
      "cell_type": "markdown",
      "source": [
        "Если мы посмотрим на отображения, то увидим, как наши идентификаторы пользователей были отображены на непрерывные индексы, начинающиеся с 0.   \n",
        "Например, идентификатор пользователя 4 отображается на индекс 0, идентификатор пользователя 17 - на индекс 1 и т. д.   \n",
        "LightFM использует эти внутренние отображения для построения матриц взаимодействия, а также матриц поиска пользователей и предметов в их представлениях."
      ],
      "metadata": {
        "id": "Cr8FFoiLileW"
      }
    },
    {
      "cell_type": "markdown",
      "source": [
        "## Baseline\n",
        "Теперь у нас есть матрицы взаимодействия, и мы можем создать нашу первую модель.\n",
        "  \n",
        "Для начала мы просто используем матричную факторизации без каких-либо дополнительных возможностей.   \n",
        "Сначала мы определим нашу модель, вызвав LightFM() и установив различные параметры.   \n",
        "Я практически оставил их по умолчанию, но все равно написал их, чтобы дать представление о том, какие у нас есть возможности.  \n",
        "После определения модели мы вызовем функцию fit() для обучения модели и передадим ей нашу матрицу взаимодействий.   \n",
        "По умолчанию модель обучается только в течение 1 эпохи,я установил значение 20."
      ],
      "metadata": {
        "id": "v90TKTKmoTq_"
      }
    },
    {
      "cell_type": "code",
      "source": [
        "model = LightFM(no_components=10,  # the dimensionality of the feature latent embeddings\n",
        "                \t\t\tlearning_schedule='adagrad', # тип используемого алгоритма оптимизации\n",
        "                \t\t\tloss='warp', # loss type\n",
        "                \t\t\tlearning_rate=0.05, # set the initial learning rate\n",
        "                \t\t\titem_alpha=0.0, # L2 penalty on item features\n",
        "                \t\t\tuser_alpha=0.0, # L2 penalty on users features\n",
        "                \t\t\tmax_sampled=10, # maximum number of negative samples used during WARP fitting\n",
        "                \t\t\trandom_state=123)\n",
        "\n",
        "model.fit(train_interactions, # our training data\n",
        "               epochs = 20,\n",
        "               verbose=True)"
      ],
      "metadata": {
        "id": "pt9Uh6MKoSu8",
        "outputId": "c51a223b-9a6b-4268-d13c-0ca03da8ffc4",
        "execution": {
          "iopub.status.busy": "2024-06-04T14:53:24.993539Z",
          "iopub.execute_input": "2024-06-04T14:53:24.993998Z",
          "iopub.status.idle": "2024-06-04T14:53:25.632787Z",
          "shell.execute_reply.started": "2024-06-04T14:53:24.993964Z",
          "shell.execute_reply": "2024-06-04T14:53:25.631209Z"
        },
        "trusted": true
      },
      "execution_count": null,
      "outputs": [
        {
          "name": "stderr",
          "text": "Epoch: 100%|██████████| 20/20 [00:00<00:00, 32.59it/s]\n",
          "output_type": "stream"
        },
        {
          "execution_count": 46,
          "output_type": "execute_result",
          "data": {
            "text/plain": "<lightfm.lightfm.LightFM at 0x7b49c6423730>"
          },
          "metadata": {}
        }
      ]
    },
    {
      "cell_type": "markdown",
      "source": [
        "Оценка рекомендателей несколько отличается от обычных задач регрессии/классификации.\n",
        "Мы используем бинарные данные «взаимодействовал/не взаимодействовал» в качестве нашей цели, так что это похоже на проблему классификации.   \n",
        "Однако большинство пользователей не взаимодействуют с большинством предметов, поэтому такая мера, как точность, не подходит, поскольку мы, вероятно, получим точность 99 %+, просто предсказав 0 для всех.   \n",
        "У нас также могут быть пользователи, которые с высокой вероятностью купят много items, но также будут и те, кто вряд ли купит что-либо вообще.   \n",
        "Для обычной классификации мы бы хотели предсказать 0 для пользователей, которые вряд ли что-то купят. Однако в рекомендательной системе это невозможно. Если у нас есть 10 мест для рекомендаций на веб-странице, которые нужно заполнить для каждого пользователя, мы не можем просто оставить их пустыми, потому что считаем, что они вряд ли что-то купят, нам все равно нужно им что-то показать.\n",
        "\n",
        "Лучший способ представить себе проблему рекомендаций - это проблема ранжирования, т. е. нам нужно показать 3 items каждому user, поэтому мы хотим выбрать 3 лучших товаров для этого пользователя, даже если мы считаем, что вероятность того, что он купит какой-либо товар, невелика.  \n",
        "Таким образом, вместо традиционных показателей классификации, таких как Precision или Recall, нам нужно адаптировать их с учетом того факта, что мы должны выдать определенное количество рекомендаций для каждого пользователя.   \n",
        "Обычно для этого используется «метрика @ k», где «k» - это количество слотов, которые нам нужно заполнить, или рекомендаций, которые мы должны вывести на поверхность для каждого пользователя.   \n",
        "В LightFM есть несколько различных встроенных метрик оценки, и мы будем использовать Precision@3, то есть среднее значение Precision по пользователям для 3 рекомендаций с наивысшим рейтингом для каждого пользователя.   \n",
        "Мы можем рассчитать их для наших наборов данных Train, Test и Test-with-only-new-items:"
      ],
      "metadata": {
        "id": "FHSjAlE7z0Le"
      }
    },
    {
      "cell_type": "code",
      "source": [
        "# Measure how well it did in the Test period\n",
        "for metric in [precision_at_k]:\n",
        "    # Get the precision and recall for Train and Test\n",
        "    for data, name in [(train_interactions, \"Train\"), (test_interactions, \"Test \")]:\n",
        "        print(f\"{name} {metric.__name__}: %.2f\" %\n",
        "              metric(model,\n",
        "                     data,\n",
        "                     k=3).mean())\n",
        "\n",
        "    # What about for just new-to-user purchases?\n",
        "    print(f\"Test new {metric.__name__}: %.3f\" %\n",
        "          metric(model,\n",
        "                 test_new_interactions,\n",
        "                 train_interactions=train_interactions, # supress previously bought prods from being recommended\n",
        "                 k=3).mean())"
      ],
      "metadata": {
        "id": "LfdRXMaTz86g",
        "outputId": "fb81aaf9-88ec-4cbc-e144-3f85350ae332",
        "execution": {
          "iopub.status.busy": "2024-06-04T14:53:25.634669Z",
          "iopub.execute_input": "2024-06-04T14:53:25.635174Z",
          "iopub.status.idle": "2024-06-04T14:53:35.346616Z",
          "shell.execute_reply.started": "2024-06-04T14:53:25.635131Z",
          "shell.execute_reply": "2024-06-04T14:53:35.344951Z"
        },
        "trusted": true
      },
      "execution_count": null,
      "outputs": [
        {
          "name": "stdout",
          "text": "Train precision_at_k: 0.05\nTest  precision_at_k: 0.02\nTest new precision_at_k: 0.002\n",
          "output_type": "stream"
        }
      ]
    },
    {
      "cell_type": "markdown",
      "source": [
        "Итак, наша первая модель получила precision@3 в 0.06 на обучающих данных, но она значительно снижается до 0.03 на тестовых данных и еще больше - до 0,006 для предсказания того, какие новые товары пользователи могут купить.   \n",
        "\n",
        "Чтобы использовать функцию predict() в LightFM, нам нужно передать ей список идентификаторов пользователей и идентификаторов товаров в несколько идиосинкразическом формате. Согласно документации, \"если вы хотите сгенерировать оценку для нескольких предметов (например, [7, 8, 9]) для двух пользователей (например, [0, 1]), правильным способом вызова этого метода будет использование lfm.predict([0, 0, 0, 1, 1, 1], [7, 8, 9, 7, 8, 9]), а _не_ lfm.predict([0, 1], [7, 8, 9]), как вы можете изначально ожидать\". Таким образом, по сути, нам нужно повторяющееся значение User ID для сопоставления с каждым ID элемента, для которого мы хотим получить предсказание. Чтобы получить все предсказания для всех пользователей сразу, мы можем построить некоторый список, прежде чем передавать их в predict.\n",
        "\n"
      ],
      "metadata": {
        "id": "oMbRAcE00R3l"
      }
    },
    {
      "cell_type": "code",
      "source": [
        "# Создадим матрицу всех пользователей и элементов, чтобы получить для них прогнозы\n",
        "n_users, n_items = train_interactions.shape\n",
        "\n",
        "# Используем lightFM to create predictions for all users and all items\n",
        "scoring_user_ids = np.concatenate([np.full((n_items, ), i) for i in range(n_users)]) # повторим user ID для всех проб\n",
        "scoring_item_ids = np.concatenate([np.arange(n_items) for i in range(n_users)]) # повторим весь диапазон идентификаторов item IDs x количество user\n",
        "scores = model.predict(user_ids = scoring_user_ids,\n",
        "                                     item_ids = scoring_item_ids)\n",
        "scores = scores.reshape(-1, n_items) # получим одну строку на каждого user\n",
        "recommendations = pd.DataFrame(scores)\n",
        "recommendations.shape\n",
        "\n",
        "# Посмотрим на predicted scores for the first 5 users and first 5 items\n",
        "recommendations.iloc[:5,:5]"
      ],
      "metadata": {
        "execution": {
          "iopub.status.busy": "2024-06-04T14:53:35.348421Z",
          "iopub.execute_input": "2024-06-04T14:53:35.348829Z",
          "iopub.status.idle": "2024-06-04T14:53:56.410179Z",
          "shell.execute_reply.started": "2024-06-04T14:53:35.348779Z",
          "shell.execute_reply": "2024-06-04T14:53:56.406046Z"
        },
        "trusted": true,
        "id": "PkvVjRGcaab_",
        "outputId": "1d551a69-4b1b-4acf-95e6-b85c523f6bcd"
      },
      "execution_count": null,
      "outputs": [
        {
          "execution_count": 48,
          "output_type": "execute_result",
          "data": {
            "text/plain": "          0         1         2         3         4\n0  1.038077  1.483925 -1.259877 -2.377848 -1.074042\n1 -0.876130 -0.251737  0.886304 -0.868349  0.169893\n2 -2.068120 -1.051147 -0.772391  0.035885  1.127448\n3 -0.864871  0.352245 -0.655463 -1.011093  0.020541\n4 -0.979257 -0.039548 -0.308408 -0.987077  0.189624",
            "text/html": "<div>\n<style scoped>\n    .dataframe tbody tr th:only-of-type {\n        vertical-align: middle;\n    }\n\n    .dataframe tbody tr th {\n        vertical-align: top;\n    }\n\n    .dataframe thead th {\n        text-align: right;\n    }\n</style>\n<table border=\"1\" class=\"dataframe\">\n  <thead>\n    <tr style=\"text-align: right;\">\n      <th></th>\n      <th>0</th>\n      <th>1</th>\n      <th>2</th>\n      <th>3</th>\n      <th>4</th>\n    </tr>\n  </thead>\n  <tbody>\n    <tr>\n      <th>0</th>\n      <td>1.038077</td>\n      <td>1.483925</td>\n      <td>-1.259877</td>\n      <td>-2.377848</td>\n      <td>-1.074042</td>\n    </tr>\n    <tr>\n      <th>1</th>\n      <td>-0.876130</td>\n      <td>-0.251737</td>\n      <td>0.886304</td>\n      <td>-0.868349</td>\n      <td>0.169893</td>\n    </tr>\n    <tr>\n      <th>2</th>\n      <td>-2.068120</td>\n      <td>-1.051147</td>\n      <td>-0.772391</td>\n      <td>0.035885</td>\n      <td>1.127448</td>\n    </tr>\n    <tr>\n      <th>3</th>\n      <td>-0.864871</td>\n      <td>0.352245</td>\n      <td>-0.655463</td>\n      <td>-1.011093</td>\n      <td>0.020541</td>\n    </tr>\n    <tr>\n      <th>4</th>\n      <td>-0.979257</td>\n      <td>-0.039548</td>\n      <td>-0.308408</td>\n      <td>-0.987077</td>\n      <td>0.189624</td>\n    </tr>\n  </tbody>\n</table>\n</div>"
          },
          "metadata": {}
        }
      ]
    },
    {
      "cell_type": "markdown",
      "source": [
        "В приведенном выше результате у нас есть 1 строка для ID пользователя и 1 столбец для ID элемента в порядке их индексов отображения LightFM, например, индекс LightFM пользователя 0 - это наша первая строка, а индекс LightFM ID элемента 0 - это наш первый столбец.   \n",
        "Фактические оценки предсказаний не имеют смысла, кроме как в качестве средства создания рейтингов, т. е. результаты предсказаний не являются вероятностями и не сравнимы между пользователями.\n",
        "\n",
        "Мы также можем извлечь эмбеддинги для пользователей и элементов непосредственно из модели и вычислить предсказания вручную. В LightFM есть функция get_representations(), которая берет на себя умножение различных эмбеддингов признаков, связанных с user/item, на их соответствующие веса, чтобы создать окончательное представление, которое мы затем можем извлечь. Окончательное предсказание - это просто точечное произведение между эмбеддингими пользователя и предмета с соответствующими bias.\n",
        "Bias, как правило, играет роль кодирования популярности предмета, что позволяет эмбеддингим, как предполагается, отразить основную природу пользователя или предмета."
      ],
      "metadata": {
        "id": "RazOzL4SaacA"
      }
    },
    {
      "cell_type": "code",
      "source": [
        "# Загрузим скрытые эмбеддинги, чтобы попробовать вычислить предсказания вручную\n",
        "item_biases, item_embeddings = model.get_item_representations()\n",
        "user_biases, user_embeddings = model.get_user_representations()\n"
      ],
      "metadata": {
        "execution": {
          "iopub.status.busy": "2024-06-04T14:53:56.414969Z",
          "iopub.execute_input": "2024-06-04T14:53:56.416228Z",
          "iopub.status.idle": "2024-06-04T14:53:56.436763Z",
          "shell.execute_reply.started": "2024-06-04T14:53:56.416126Z",
          "shell.execute_reply": "2024-06-04T14:53:56.433270Z"
        },
        "trusted": true,
        "id": "ivi3as31aacB"
      },
      "execution_count": null,
      "outputs": []
    },
    {
      "cell_type": "code",
      "source": [
        "print(f'item_biases: {item_biases.shape}')\n",
        "\n",
        "print(f'item_embeddings: {item_embeddings.shape}')\n",
        "\n",
        "print(f'user_biases: {user_biases.shape}')\n",
        "\n",
        "print(f'user_embeddings: {user_embeddings.shape}')\n",
        "\n",
        "user_embeddings[:3]"
      ],
      "metadata": {
        "execution": {
          "iopub.status.busy": "2024-06-04T14:53:56.441344Z",
          "iopub.execute_input": "2024-06-04T14:53:56.442456Z",
          "iopub.status.idle": "2024-06-04T14:53:56.474092Z",
          "shell.execute_reply.started": "2024-06-04T14:53:56.442371Z",
          "shell.execute_reply": "2024-06-04T14:53:56.468389Z"
        },
        "trusted": true,
        "id": "Sj7gwMfkaacC",
        "outputId": "efc372c1-7086-402f-b4ed-96ed98c9972d"
      },
      "execution_count": null,
      "outputs": [
        {
          "name": "stdout",
          "text": "item_biases: (14422,)\nitem_embeddings: (14422, 10)\nuser_biases: (16541,)\nuser_embeddings: (16541, 10)\n",
          "output_type": "stream"
        },
        {
          "execution_count": 50,
          "output_type": "execute_result",
          "data": {
            "text/plain": "array([[-0.5487363 ,  0.4600652 ,  0.47471553, -0.11965575, -0.41323468,\n        -0.465555  ,  0.58405864,  0.5039226 ,  0.4581329 , -0.18938358],\n       [ 0.24005225, -0.24752939,  0.58221847,  0.53106725,  0.28505597,\n        -0.00156947, -0.22094288,  0.4399231 , -0.18007647,  0.5352441 ],\n       [ 0.45207486, -0.49556842,  0.22783557, -0.07038024,  0.51493824,\n        -0.21341527, -0.542651  , -0.34276217, -0.35513148, -0.30472428]],\n      dtype=float32)"
          },
          "metadata": {}
        }
      ]
    },
    {
      "cell_type": "markdown",
      "source": [
        "Преобразуем рекомендации в нечто более понятное, извлекая 10 лучших рекомендованных товаров для каждого пользователя.\n",
        "Приведем 10 лучших рекомендаций с учетом и без учета предыдущих покупок, а также сами предыдущие покупки, чтобы мы могли увидеть, хорошо ли наши новые рекомендации соответствуют историческим предпочтениям."
      ],
      "metadata": {
        "id": "i_sruADlaacD"
      }
    },
    {
      "cell_type": "code",
      "source": [
        "# 10 лучших прогнозов для каждого пользователя\n",
        "k=10\n",
        "top_10 = np.argsort(-scores, axis=1) [::, :k]\n",
        "\n",
        "# Получим информацию о предыдущих покупках для каждого user\n",
        "previous = np.array(train_interactions.todense())\n",
        "\n",
        "# Получим предыдущие покупки и лучшие прогнозы для user 1173192\n",
        "user = user_mappings.get(1173192)\n",
        "\n",
        "print(\"Предыдущие покупки:\", *[inv_item_mappings.get(key) for key in np.array(range(previous.shape[1]))[previous[user]>0]], sep=\"\\n\")\n",
        "print(\"Top 10 recommendations:\", *sorted(zip([inv_item_mappings.get(key) for key in top_10[user]], range(k)), key = lambda x: x[1]), sep=\"\\n\")"
      ],
      "metadata": {
        "execution": {
          "iopub.status.busy": "2024-06-04T14:53:56.476957Z",
          "iopub.execute_input": "2024-06-04T14:53:56.477906Z",
          "iopub.status.idle": "2024-06-04T14:54:20.393387Z",
          "shell.execute_reply.started": "2024-06-04T14:53:56.477772Z",
          "shell.execute_reply": "2024-06-04T14:54:20.391779Z"
        },
        "trusted": true,
        "id": "FRrVZ4qiaacE",
        "outputId": "f872faaa-90c9-46c8-a2cd-57bfd0878e9c"
      },
      "execution_count": null,
      "outputs": [
        {
          "name": "stdout",
          "text": "Предыдущие покупки:\n7943\nTop 10 recommendations:\n(461686, 0)\n(7943, 1)\n(320130, 2)\n(119736, 3)\n(29196, 4)\n(9877, 5)\n(213834, 6)\n(268755, 7)\n(12217, 8)\n(318333, 9)\n",
          "output_type": "stream"
        }
      ]
    },
    {
      "cell_type": "markdown",
      "source": [
        "Мы видим, что наш пользователь ранее приобрел 7943, и LightFM повторно рекомендовал бы этот itemid первой десятке при составлении прогноза.  \n",
        "Уберем из рекомендаций все ранее купленные itemid и посмотрим, как они изменятся.\n",
        "Один из простых способов сделать это - использовать нашу матрицу тренировочных взаимодействий, в которой все ранее приобретенные items записаны как 1, умножить ее на большое число, а затем просто вычесть его из наших оценок, чтобы искусственно снизить оценки для всех ранее приобретенных линий."
      ],
      "metadata": {
        "id": "ZgcFHjBuaacF"
      }
    },
    {
      "cell_type": "code",
      "source": [
        "# Удалим ранее купленные items из прогнозов\n",
        "top_10_new  = np.argsort(-(scores-(previous*999999)), axis=1)[::, :k] # вычтем предыдущие покупки из прогнозов\n",
        "\n",
        "# Получим top predictions for user 1173192\n",
        "print(\"Предыдущие покупки:\", *[inv_item_mappings.get(key) for key in np.array(range(previous.shape[1]))[previous[user]>0]], sep=\"\\n\")\n",
        "print(\"Top 10 new recommendations:\", *sorted(zip([inv_item_mappings.get(key) for key in top_10_new[user]], range(k)), key = lambda x: x[1]), sep=\"\\n\")"
      ],
      "metadata": {
        "execution": {
          "iopub.status.busy": "2024-06-04T14:54:20.395467Z",
          "iopub.execute_input": "2024-06-04T14:54:20.396031Z",
          "iopub.status.idle": "2024-06-04T14:54:45.049405Z",
          "shell.execute_reply.started": "2024-06-04T14:54:20.395985Z",
          "shell.execute_reply": "2024-06-04T14:54:45.047551Z"
        },
        "trusted": true,
        "id": "zGDJHWzUaacG",
        "outputId": "9eb87187-d358-4035-9458-33a3759e1519"
      },
      "execution_count": null,
      "outputs": [
        {
          "name": "stdout",
          "text": "Предыдущие покупки:\n7943\nTop 10 new recommendations:\n(461686, 0)\n(320130, 1)\n(119736, 2)\n(29196, 3)\n(9877, 4)\n(213834, 5)\n(268755, 6)\n(12217, 7)\n(318333, 8)\n(48030, 9)\n",
          "output_type": "stream"
        }
      ]
    },
    {
      "cell_type": "code",
      "source": [
        "print(f'Больше всего было куплено следующих items:')\n",
        "print(f'{mask3.reset_index(drop=True)}')"
      ],
      "metadata": {
        "execution": {
          "iopub.status.busy": "2024-06-04T14:54:45.051652Z",
          "iopub.execute_input": "2024-06-04T14:54:45.052232Z",
          "iopub.status.idle": "2024-06-04T14:54:45.062799Z",
          "shell.execute_reply.started": "2024-06-04T14:54:45.052183Z",
          "shell.execute_reply": "2024-06-04T14:54:45.061139Z"
        },
        "trusted": true,
        "id": "n4BW8dE0aacH",
        "outputId": "91b98e70-89a4-41c2-c258-87e24fef8e52"
      },
      "execution_count": null,
      "outputs": [
        {
          "name": "stdout",
          "text": "Больше всего было куплено следующих items:\n   itemid  visitorid\n0  461686        133\n1  119736         97\n2  213834         92\n3  312728         46\n4    7943         46\n5  445351         45\n6   48030         41\n7  420960         38\n8  248455         38\n9   17478         37\n",
          "output_type": "stream"
        }
      ]
    },
    {
      "cell_type": "markdown",
      "source": [
        "На этот раз мы получаем список рекомендаций, совершенно новых для пользователя.  \n",
        "Мы видим, что item = 461686, которое раньше было первым в списке, теперь занимает второе место.  \n",
        "Мы видим, что некоторые из других самых продаваемых item, например 461686 и 119736, также попали в список.   \n",
        "Обнаружить, что модель в итоге рекомендует самые продаваемые вина, можно довольно часто.\n",
        "Хотя это не обязательно плохо, но если мы хотим попробовать рекомендовать более необычные или менее популярные товары, есть быстрое решение, которое мы можем попробовать с помощью LightFM.\n",
        "\n",
        "Наряду с репрезентацией пользователей и предметов модель также изучает предубеждения пользователей и предметов.   \n",
        "Обычно они заключаются в том, чтобы определить, насколько популярен тот или иной предмет, и затем повысить его оценку в окончательном прогнозе.\n",
        "Чтобы делать предсказания без понятия популярности, мы можем просто повторить наше точечное произведение без предубеждений:"
      ],
      "metadata": {
        "id": "C6tmi_M7aacI"
      }
    },
    {
      "cell_type": "code",
      "source": [
        "without_biases = (model.user_embeddings @ model.item_embeddings.T)\n",
        "without_biases\n",
        "\n",
        "top_10_without_biases = np.argsort(-without_biases, axis=1) [::, :k]\n",
        "print(\"Топ 10 популярных рекомендаций без bias:\", *sorted(zip([inv_item_mappings.get(key) for key in top_10_without_biases[user]], range(k)), key = lambda x: x[1]), sep=\"\\n\")"
      ],
      "metadata": {
        "execution": {
          "iopub.status.busy": "2024-06-04T14:54:45.065259Z",
          "iopub.execute_input": "2024-06-04T14:54:45.066534Z",
          "iopub.status.idle": "2024-06-04T14:55:06.478593Z",
          "shell.execute_reply.started": "2024-06-04T14:54:45.066469Z",
          "shell.execute_reply": "2024-06-04T14:55:06.476721Z"
        },
        "trusted": true,
        "id": "mEDfmZ4LaacI",
        "outputId": "1d3d4ec8-4338-4e45-d503-d5199119e005"
      },
      "execution_count": null,
      "outputs": [
        {
          "name": "stdout",
          "text": "Топ 10 популярных рекомендаций без bias:\n(358845, 0)\n(444968, 1)\n(170283, 2)\n(376151, 3)\n(405714, 4)\n(318785, 5)\n(439770, 6)\n(427541, 7)\n(72715, 8)\n(211975, 9)\n",
          "output_type": "stream"
        }
      ]
    },
    {
      "cell_type": "markdown",
      "source": [
        "Хотя 7943 по-прежнему находится в списке, остальные рекомендации выглядят гораздо более непонятными."
      ],
      "metadata": {
        "id": "VBLC6aswaacJ"
      }
    },
    {
      "cell_type": "markdown",
      "source": [
        "Это был user, который совершал покупки ранее. Посмотрим, что выдаст алгоритм для пользователя, не совершавшего ранее покупок"
      ],
      "metadata": {
        "id": "PNu6MolHaacK"
      }
    },
    {
      "cell_type": "code",
      "source": [
        "try:\n",
        "    user = user_mappings.get(42)\n",
        "    print(\"Предыдущие покупки:\", *[inv_item_mappings.get(key) for key in np.array(range(previous.shape[1]))[previous[user]>0]], sep=\"\\n\")\n",
        "    print(\"Top 10 recommendations:\", *sorted(zip([inv_item_mappings.get(key) for key in top_10[user]], range(k)), key = lambda x: x[1]), sep=\"\\n\")\n",
        "except:\n",
        "    print('Построить прогноз по данному user не представляется возможным')"
      ],
      "metadata": {
        "execution": {
          "iopub.status.busy": "2024-06-04T14:55:06.480944Z",
          "iopub.execute_input": "2024-06-04T14:55:06.481537Z",
          "iopub.status.idle": "2024-06-04T14:55:07.196970Z",
          "shell.execute_reply.started": "2024-06-04T14:55:06.481476Z",
          "shell.execute_reply": "2024-06-04T14:55:07.195234Z"
        },
        "trusted": true,
        "id": "Nm9tzL0baacK",
        "outputId": "9d02dab8-1676-4b8e-a834-f9b5bf243e1b"
      },
      "execution_count": null,
      "outputs": [
        {
          "name": "stdout",
          "text": "Построить прогноз по данному user не представляется возможным\n",
          "output_type": "stream"
        }
      ]
    },
    {
      "cell_type": "markdown",
      "source": [
        "## Вычисление сходства между элементами\n",
        "Поскольку мы уже извлекли наши представления элементов (из модели with-biases) для ручного создания прогнозов, мы можем использовать их для поиска сходства между элементами.   \n",
        "Для этого мы используем косинусное сходство:"
      ],
      "metadata": {
        "id": "cYIo5ctuaacL"
      }
    },
    {
      "cell_type": "code",
      "source": [],
      "metadata": {
        "id": "jsDAW7mWjykd"
      },
      "execution_count": null,
      "outputs": []
    },
    {
      "cell_type": "code",
      "source": [
        "# Find similar items\n",
        "item_to_item = pd.DataFrame(cosine_similarity(item_embeddings))\n",
        "item_to_item.index = item_mappings.keys()\n",
        "item_to_item.columns = item_mappings.keys()\n",
        "\n",
        "# Find other products that should be similar to these top sellers\n",
        "for i in ['461686', \"7943\", \"358895\", \"48030\"]:\n",
        "    print(item_to_item[int(i)].sort_values(ascending=False)[:5])"
      ],
      "metadata": {
        "execution": {
          "iopub.status.busy": "2024-06-04T14:55:07.198408Z",
          "iopub.execute_input": "2024-06-04T14:55:07.198792Z",
          "iopub.status.idle": "2024-06-04T14:55:08.958275Z",
          "shell.execute_reply.started": "2024-06-04T14:55:07.198760Z",
          "shell.execute_reply": "2024-06-04T14:55:08.956708Z"
        },
        "trusted": true,
        "id": "XBk_XF_daacM",
        "outputId": "06b5b859-7f79-47e1-9c2b-a87c1388c87c"
      },
      "execution_count": null,
      "outputs": [
        {
          "name": "stdout",
          "text": "461686    1.000000\n82608     0.949055\n327712    0.870809\n22493     0.865629\n112766    0.857698\nName: 461686, dtype: float32\n7943      1.000000\n62043     0.913152\n279457    0.896531\n213954    0.895326\n66691     0.880064\nName: 7943, dtype: float32\n358895    1.000000\n98101     0.916210\n420731    0.895590\n435864    0.880757\n294713    0.868241\nName: 358895, dtype: float32\n48030     1.000000\n432607    0.886573\n277247    0.869574\n168111    0.846971\n164863    0.842246\nName: 48030, dtype: float32\n",
          "output_type": "stream"
        }
      ]
    },
    {
      "cell_type": "markdown",
      "source": [
        "Т.к. мы не знаем фактически какие товары зашифрованы, мы не можем понять насколько данные связи между items интуитивны.\n",
        "Настроим гиперпараметры нашей модели и посмотрим, сможем ли мы получить дополнительную производительность.\n",
        "\n",
        "\n",
        "## Настройка гиперпараметров с помощью Optuna\n",
        "\n",
        "\n",
        "Мы воспользуемся пакетом Optuna, который попытается автоматически найти оптимальный набор гиперпараметров из нашего пространства поиска. Для этого он проводит многократные испытания и моделирует производительность LightFM как функцию различных гиперпараметров и значений, которые мы дали Optuna для использования.\n",
        "\n",
        "\n",
        "Чтобы использовать Optuna, мы сначала создаем \"исследование\", которое представляет собой пространство поиска гиперпараметров, наборы данных, которые мы хотим использовать, и нашу метрику оценки, которую мы затем возвращаем.  \n",
        "Чтобы избежать повторного использования тестовых данных, мы разделим Train на меньший набор Train и Validation с помощью функции LightFM train_test_split().  \n",
        "Следует отметить, что при случайном разбиении данных не сохраняется хронология покупок, как в случае с нашими реальными данными Train-Test.   \n",
        "Также существует вероятность того, что, поскольку наши данные настолько разрежены, у нас могут быть пользователи, все взаимодействия которых попадают либо в набор Train, либо в Validation.   \n",
        "Повторные покупки невозможны, поэтому для целей настройки наши прогоны будут максимально похожи на Train и Test-new."
      ],
      "metadata": {
        "id": "Hn4FXNkKCh2g"
      }
    },
    {
      "cell_type": "code",
      "source": [
        "# Define our hyperparameter seearch space\n",
        "def objective(trial):\n",
        "\n",
        "    # Use LightFMs inbuilt train-test split function to create train and validation subsets\n",
        "    train, val = random_train_test_split(train_interactions, test_percentage=0.25, random_state=42)\n",
        "\n",
        "    # Define the hyperparameter space\n",
        "    param = {\n",
        "        'no_components': trial.suggest_int(\"no_components\", 5, 64),\n",
        "        \"learning_schedule\": trial.suggest_categorical(\"learning_schedule\", [\"adagrad\", \"adadelta\"]),\n",
        "        \"loss\":  trial.suggest_categorical(\"loss\", [\"bpr\", \"warp\", \"warp-kos\"]),\n",
        "        \"learning_rate\": trial.suggest_float(\"learning_rate\", 0.001, 1),\n",
        "        \"item_alpha\": trial.suggest_float(\"item_alpha\", 1e-10, 1e-06, log=True),\n",
        "        \"user_alpha\": trial.suggest_float(\"user_alpha\", 1e-10, 1e-06, log=True),\n",
        "        \"max_sampled\": trial.suggest_int(\"max_sampled\", 5, 15),\n",
        "    }\n",
        "    epochs = trial.suggest_int(\"epochs\", 20, 50)\n",
        "\n",
        "    model_base = LightFM(**param, random_state=123)\n",
        "    model_base.fit(train,\n",
        "              epochs = epochs,\n",
        "              verbose=True)\n",
        "\n",
        "    val_precision = precision_at_k(model_base,\n",
        "                                   val,\n",
        "                                   train_interactions=train,\n",
        "                                   k=3).mean()\n",
        "\n",
        "    return val_precision\n",
        "\n",
        "# Define the study\n",
        "study = optuna.create_study(direction=\"maximize\")"
      ],
      "metadata": {
        "outputId": "d2564952-d5cc-4604-f82f-cd74d8ff0f19",
        "id": "xfpKqie1dqBI",
        "execution": {
          "iopub.status.busy": "2024-06-04T14:55:08.962692Z",
          "iopub.execute_input": "2024-06-04T14:55:08.963952Z",
          "iopub.status.idle": "2024-06-04T14:55:08.979616Z",
          "shell.execute_reply.started": "2024-06-04T14:55:08.963910Z",
          "shell.execute_reply": "2024-06-04T14:55:08.977843Z"
        },
        "trusted": true
      },
      "execution_count": null,
      "outputs": [
        {
          "name": "stderr",
          "text": "[I 2024-06-04 14:55:08,972] A new study created in memory with name: no-name-5a85c5fb-8a85-4dcb-94c3-38165a643de5\n",
          "output_type": "stream"
        }
      ]
    },
    {
      "cell_type": "markdown",
      "source": [
        "Еще одна замечательная особенность Optuna - мы можем передать ей исходные значения гиперпараметров, чтобы дать ей \"теплый старт\" в плане значений для исследования и базовой производительности, которую она должна побить при выполнении оптимизации.  \n",
        "Хотя мы не использовали никакой регуляризации в исходной модели, чтобы сохранить параметры в том же логарифмическом масштабе, что и пробные значения, мы дадим им самый минимум.\n",
        "\n",
        "Еще одна приятная особенность Optuna заключается в том, что сохраняются лучшие параметры из всех просмотренных на данный момент исследований, так что если мы прерываем его, то не теряем все наработки до этого момента.   \n",
        "По окончании исследования мы можем распечатать лучшие значения гиперпараметров."
      ],
      "metadata": {
        "id": "9Ava3eENdqBd"
      }
    },
    {
      "cell_type": "code",
      "source": [
        "# Add in our original hyperparmeter values as a starting point for Optuna\n",
        "study.enqueue_trial(params={\"no_components\":10,\n",
        "                            \t\t\t\t\t\"learning_schedule\":'adagrad',\n",
        "                            \t\t\t\t\t\"loss\":'warp',\n",
        "                            \t\t\t\t\t\"learning_rate\":0.05,\n",
        "                            \t\t\t\t\t\"item_alpha\":1e-10,\n",
        "                            \t\t\t\t\t\"user_alpha\":1e-10,\n",
        "                            \t\t\t\t\t\"max_sampled\":10,\n",
        "                            \t\t\t\t\t\"epochs\":20})\n",
        "\n",
        "# Run the optimisation\n",
        "study.optimize(objective, n_trials=N_TRIAL)\n",
        "\n",
        "# Save the best parameters\n",
        "best_params = study.best_params\n",
        "for k, v in best_params.items():\n",
        "    print(k,\":\",v)"
      ],
      "metadata": {
        "outputId": "fc4603f5-7a91-40cd-c0ab-a657693a40f5",
        "id": "KhXlnqNrdqBe",
        "execution": {
          "iopub.status.busy": "2024-06-04T14:55:08.981997Z",
          "iopub.execute_input": "2024-06-04T14:55:08.982553Z",
          "iopub.status.idle": "2024-06-04T14:55:20.272615Z",
          "shell.execute_reply.started": "2024-06-04T14:55:08.982514Z",
          "shell.execute_reply": "2024-06-04T14:55:20.270949Z"
        },
        "trusted": true
      },
      "execution_count": null,
      "outputs": [
        {
          "name": "stderr",
          "text": "Epoch: 100%|██████████| 20/20 [00:00<00:00, 38.09it/s]\n[I 2024-06-04 14:55:12,445] Trial 0 finished with value: 0.004002171102911234 and parameters: {'no_components': 10, 'learning_schedule': 'adagrad', 'loss': 'warp', 'learning_rate': 0.05, 'item_alpha': 1e-10, 'user_alpha': 1e-10, 'max_sampled': 10, 'epochs': 20}. Best is trial 0 with value: 0.004002171102911234.\nEpoch: 100%|██████████| 46/46 [00:02<00:00, 20.48it/s]\n[I 2024-06-04 14:55:20,265] Trial 1 finished with value: 0.004951838403940201 and parameters: {'no_components': 24, 'learning_schedule': 'adadelta', 'loss': 'warp', 'learning_rate': 0.08313342889884609, 'item_alpha': 2.254720883900032e-09, 'user_alpha': 5.449392279713436e-09, 'max_sampled': 7, 'epochs': 46}. Best is trial 1 with value: 0.004951838403940201.\n",
          "output_type": "stream"
        },
        {
          "name": "stdout",
          "text": "no_components : 24\nlearning_schedule : adadelta\nloss : warp\nlearning_rate : 0.08313342889884609\nitem_alpha : 2.254720883900032e-09\nuser_alpha : 5.449392279713436e-09\nmax_sampled : 7\nepochs : 46\n",
          "output_type": "stream"
        }
      ]
    },
    {
      "cell_type": "markdown",
      "source": [
        "Мы видим, что лучшая модель имела довольно высокое количество компонентов (число измерений в эмбеддингах) и довольно низкий уровень регуляризации.   \n",
        "В Optuna есть функция, которая пытается измерить, насколько важен каждый гиперпараметр с точки зрения вклада в итоговую производительность модели.  \n",
        "Она использует случайный лес и значения гиперпараметров на каждой итерации, чтобы попытаться предсказать производительность пробной модели для этой итерации.   \n",
        "Посмотрим, какие гиперпараметры, по мнению Optuna, оказали большее влияние на итоговую производительность нашей модели."
      ],
      "metadata": {
        "id": "G9sMcrwddqBf"
      }
    },
    {
      "cell_type": "markdown",
      "source": [
        "### Важность гиперпараметров"
      ],
      "metadata": {
        "outputId": "4e05fc26-9cba-4e58-ef26-3e5a0b7599b4",
        "id": "PKjkj7MNdqBg"
      }
    },
    {
      "cell_type": "code",
      "source": [
        "fig = optuna.visualization.plot_param_importances(study)\n",
        "fig.show()"
      ],
      "metadata": {
        "id": "fWSvMW9pr6hF",
        "execution": {
          "iopub.status.busy": "2024-06-04T14:55:20.274568Z",
          "iopub.execute_input": "2024-06-04T14:55:20.275028Z",
          "iopub.status.idle": "2024-06-04T14:55:21.457259Z",
          "shell.execute_reply.started": "2024-06-04T14:55:20.274990Z",
          "shell.execute_reply": "2024-06-04T14:55:21.455609Z"
        },
        "trusted": true,
        "outputId": "fce179ca-cd48-4b6e-f323-ba9b436623fc"
      },
      "execution_count": null,
      "outputs": [
        {
          "output_type": "display_data",
          "data": {
            "text/html": "        <script type=\"text/javascript\">\n        window.PlotlyConfig = {MathJaxConfig: 'local'};\n        if (window.MathJax && window.MathJax.Hub && window.MathJax.Hub.Config) {window.MathJax.Hub.Config({SVG: {font: \"STIX-Web\"}});}\n        if (typeof require !== 'undefined') {\n        require.undef(\"plotly\");\n        requirejs.config({\n            paths: {\n                'plotly': ['https://cdn.plot.ly/plotly-2.27.0.min']\n            }\n        });\n        require(['plotly'], function(Plotly) {\n            window._Plotly = Plotly;\n        });\n        }\n        </script>\n        "
          },
          "metadata": {}
        },
        {
          "output_type": "display_data",
          "data": {
            "text/html": "<div>                            <div id=\"470301e9-420e-473b-b17c-023f892aa1d4\" class=\"plotly-graph-div\" style=\"height:525px; width:100%;\"></div>            <script type=\"text/javascript\">                require([\"plotly\"], function(Plotly) {                    window.PLOTLYENV=window.PLOTLYENV || {};                                    if (document.getElementById(\"470301e9-420e-473b-b17c-023f892aa1d4\")) {                    Plotly.newPlot(                        \"470301e9-420e-473b-b17c-023f892aa1d4\",                        [{\"cliponaxis\":false,\"hovertemplate\":[\"item_alpha (FloatDistribution): 0.0\\u003cextra\\u003e\\u003c\\u002fextra\\u003e\",\"loss (CategoricalDistribution): 0.0\\u003cextra\\u003e\\u003c\\u002fextra\\u003e\",\"user_alpha (FloatDistribution): 0.0\\u003cextra\\u003e\\u003c\\u002fextra\\u003e\",\"no_components (IntDistribution): 0.10810810810810809\\u003cextra\\u003e\\u003c\\u002fextra\\u003e\",\"epochs (IntDistribution): 0.13513513513513514\\u003cextra\\u003e\\u003c\\u002fextra\\u003e\",\"learning_rate (FloatDistribution): 0.1891891891891892\\u003cextra\\u003e\\u003c\\u002fextra\\u003e\",\"max_sampled (IntDistribution): 0.21621621621621623\\u003cextra\\u003e\\u003c\\u002fextra\\u003e\",\"learning_schedule (CategoricalDistribution): 0.35135135135135137\\u003cextra\\u003e\\u003c\\u002fextra\\u003e\"],\"name\":\"Objective Value\",\"orientation\":\"h\",\"text\":[\"\\u003c0.01\",\"\\u003c0.01\",\"\\u003c0.01\",\"0.11\",\"0.14\",\"0.19\",\"0.22\",\"0.35\"],\"textposition\":\"outside\",\"x\":[0.0,0.0,0.0,0.10810810810810809,0.13513513513513514,0.1891891891891892,0.21621621621621623,0.35135135135135137],\"y\":[\"item_alpha\",\"loss\",\"user_alpha\",\"no_components\",\"epochs\",\"learning_rate\",\"max_sampled\",\"learning_schedule\"],\"type\":\"bar\"}],                        {\"title\":{\"text\":\"Hyperparameter Importances\"},\"xaxis\":{\"title\":{\"text\":\"Hyperparameter Importance\"}},\"yaxis\":{\"title\":{\"text\":\"Hyperparameter\"}},\"template\":{\"data\":{\"histogram2dcontour\":[{\"type\":\"histogram2dcontour\",\"colorbar\":{\"outlinewidth\":0,\"ticks\":\"\"},\"colorscale\":[[0.0,\"#0d0887\"],[0.1111111111111111,\"#46039f\"],[0.2222222222222222,\"#7201a8\"],[0.3333333333333333,\"#9c179e\"],[0.4444444444444444,\"#bd3786\"],[0.5555555555555556,\"#d8576b\"],[0.6666666666666666,\"#ed7953\"],[0.7777777777777778,\"#fb9f3a\"],[0.8888888888888888,\"#fdca26\"],[1.0,\"#f0f921\"]]}],\"choropleth\":[{\"type\":\"choropleth\",\"colorbar\":{\"outlinewidth\":0,\"ticks\":\"\"}}],\"histogram2d\":[{\"type\":\"histogram2d\",\"colorbar\":{\"outlinewidth\":0,\"ticks\":\"\"},\"colorscale\":[[0.0,\"#0d0887\"],[0.1111111111111111,\"#46039f\"],[0.2222222222222222,\"#7201a8\"],[0.3333333333333333,\"#9c179e\"],[0.4444444444444444,\"#bd3786\"],[0.5555555555555556,\"#d8576b\"],[0.6666666666666666,\"#ed7953\"],[0.7777777777777778,\"#fb9f3a\"],[0.8888888888888888,\"#fdca26\"],[1.0,\"#f0f921\"]]}],\"heatmap\":[{\"type\":\"heatmap\",\"colorbar\":{\"outlinewidth\":0,\"ticks\":\"\"},\"colorscale\":[[0.0,\"#0d0887\"],[0.1111111111111111,\"#46039f\"],[0.2222222222222222,\"#7201a8\"],[0.3333333333333333,\"#9c179e\"],[0.4444444444444444,\"#bd3786\"],[0.5555555555555556,\"#d8576b\"],[0.6666666666666666,\"#ed7953\"],[0.7777777777777778,\"#fb9f3a\"],[0.8888888888888888,\"#fdca26\"],[1.0,\"#f0f921\"]]}],\"heatmapgl\":[{\"type\":\"heatmapgl\",\"colorbar\":{\"outlinewidth\":0,\"ticks\":\"\"},\"colorscale\":[[0.0,\"#0d0887\"],[0.1111111111111111,\"#46039f\"],[0.2222222222222222,\"#7201a8\"],[0.3333333333333333,\"#9c179e\"],[0.4444444444444444,\"#bd3786\"],[0.5555555555555556,\"#d8576b\"],[0.6666666666666666,\"#ed7953\"],[0.7777777777777778,\"#fb9f3a\"],[0.8888888888888888,\"#fdca26\"],[1.0,\"#f0f921\"]]}],\"contourcarpet\":[{\"type\":\"contourcarpet\",\"colorbar\":{\"outlinewidth\":0,\"ticks\":\"\"}}],\"contour\":[{\"type\":\"contour\",\"colorbar\":{\"outlinewidth\":0,\"ticks\":\"\"},\"colorscale\":[[0.0,\"#0d0887\"],[0.1111111111111111,\"#46039f\"],[0.2222222222222222,\"#7201a8\"],[0.3333333333333333,\"#9c179e\"],[0.4444444444444444,\"#bd3786\"],[0.5555555555555556,\"#d8576b\"],[0.6666666666666666,\"#ed7953\"],[0.7777777777777778,\"#fb9f3a\"],[0.8888888888888888,\"#fdca26\"],[1.0,\"#f0f921\"]]}],\"surface\":[{\"type\":\"surface\",\"colorbar\":{\"outlinewidth\":0,\"ticks\":\"\"},\"colorscale\":[[0.0,\"#0d0887\"],[0.1111111111111111,\"#46039f\"],[0.2222222222222222,\"#7201a8\"],[0.3333333333333333,\"#9c179e\"],[0.4444444444444444,\"#bd3786\"],[0.5555555555555556,\"#d8576b\"],[0.6666666666666666,\"#ed7953\"],[0.7777777777777778,\"#fb9f3a\"],[0.8888888888888888,\"#fdca26\"],[1.0,\"#f0f921\"]]}],\"mesh3d\":[{\"type\":\"mesh3d\",\"colorbar\":{\"outlinewidth\":0,\"ticks\":\"\"}}],\"scatter\":[{\"fillpattern\":{\"fillmode\":\"overlay\",\"size\":10,\"solidity\":0.2},\"type\":\"scatter\"}],\"parcoords\":[{\"type\":\"parcoords\",\"line\":{\"colorbar\":{\"outlinewidth\":0,\"ticks\":\"\"}}}],\"scatterpolargl\":[{\"type\":\"scatterpolargl\",\"marker\":{\"colorbar\":{\"outlinewidth\":0,\"ticks\":\"\"}}}],\"bar\":[{\"error_x\":{\"color\":\"#2a3f5f\"},\"error_y\":{\"color\":\"#2a3f5f\"},\"marker\":{\"line\":{\"color\":\"#E5ECF6\",\"width\":0.5},\"pattern\":{\"fillmode\":\"overlay\",\"size\":10,\"solidity\":0.2}},\"type\":\"bar\"}],\"scattergeo\":[{\"type\":\"scattergeo\",\"marker\":{\"colorbar\":{\"outlinewidth\":0,\"ticks\":\"\"}}}],\"scatterpolar\":[{\"type\":\"scatterpolar\",\"marker\":{\"colorbar\":{\"outlinewidth\":0,\"ticks\":\"\"}}}],\"histogram\":[{\"marker\":{\"pattern\":{\"fillmode\":\"overlay\",\"size\":10,\"solidity\":0.2}},\"type\":\"histogram\"}],\"scattergl\":[{\"type\":\"scattergl\",\"marker\":{\"colorbar\":{\"outlinewidth\":0,\"ticks\":\"\"}}}],\"scatter3d\":[{\"type\":\"scatter3d\",\"line\":{\"colorbar\":{\"outlinewidth\":0,\"ticks\":\"\"}},\"marker\":{\"colorbar\":{\"outlinewidth\":0,\"ticks\":\"\"}}}],\"scattermapbox\":[{\"type\":\"scattermapbox\",\"marker\":{\"colorbar\":{\"outlinewidth\":0,\"ticks\":\"\"}}}],\"scatterternary\":[{\"type\":\"scatterternary\",\"marker\":{\"colorbar\":{\"outlinewidth\":0,\"ticks\":\"\"}}}],\"scattercarpet\":[{\"type\":\"scattercarpet\",\"marker\":{\"colorbar\":{\"outlinewidth\":0,\"ticks\":\"\"}}}],\"carpet\":[{\"aaxis\":{\"endlinecolor\":\"#2a3f5f\",\"gridcolor\":\"white\",\"linecolor\":\"white\",\"minorgridcolor\":\"white\",\"startlinecolor\":\"#2a3f5f\"},\"baxis\":{\"endlinecolor\":\"#2a3f5f\",\"gridcolor\":\"white\",\"linecolor\":\"white\",\"minorgridcolor\":\"white\",\"startlinecolor\":\"#2a3f5f\"},\"type\":\"carpet\"}],\"table\":[{\"cells\":{\"fill\":{\"color\":\"#EBF0F8\"},\"line\":{\"color\":\"white\"}},\"header\":{\"fill\":{\"color\":\"#C8D4E3\"},\"line\":{\"color\":\"white\"}},\"type\":\"table\"}],\"barpolar\":[{\"marker\":{\"line\":{\"color\":\"#E5ECF6\",\"width\":0.5},\"pattern\":{\"fillmode\":\"overlay\",\"size\":10,\"solidity\":0.2}},\"type\":\"barpolar\"}],\"pie\":[{\"automargin\":true,\"type\":\"pie\"}]},\"layout\":{\"autotypenumbers\":\"strict\",\"colorway\":[\"#636efa\",\"#EF553B\",\"#00cc96\",\"#ab63fa\",\"#FFA15A\",\"#19d3f3\",\"#FF6692\",\"#B6E880\",\"#FF97FF\",\"#FECB52\"],\"font\":{\"color\":\"#2a3f5f\"},\"hovermode\":\"closest\",\"hoverlabel\":{\"align\":\"left\"},\"paper_bgcolor\":\"white\",\"plot_bgcolor\":\"#E5ECF6\",\"polar\":{\"bgcolor\":\"#E5ECF6\",\"angularaxis\":{\"gridcolor\":\"white\",\"linecolor\":\"white\",\"ticks\":\"\"},\"radialaxis\":{\"gridcolor\":\"white\",\"linecolor\":\"white\",\"ticks\":\"\"}},\"ternary\":{\"bgcolor\":\"#E5ECF6\",\"aaxis\":{\"gridcolor\":\"white\",\"linecolor\":\"white\",\"ticks\":\"\"},\"baxis\":{\"gridcolor\":\"white\",\"linecolor\":\"white\",\"ticks\":\"\"},\"caxis\":{\"gridcolor\":\"white\",\"linecolor\":\"white\",\"ticks\":\"\"}},\"coloraxis\":{\"colorbar\":{\"outlinewidth\":0,\"ticks\":\"\"}},\"colorscale\":{\"sequential\":[[0.0,\"#0d0887\"],[0.1111111111111111,\"#46039f\"],[0.2222222222222222,\"#7201a8\"],[0.3333333333333333,\"#9c179e\"],[0.4444444444444444,\"#bd3786\"],[0.5555555555555556,\"#d8576b\"],[0.6666666666666666,\"#ed7953\"],[0.7777777777777778,\"#fb9f3a\"],[0.8888888888888888,\"#fdca26\"],[1.0,\"#f0f921\"]],\"sequentialminus\":[[0.0,\"#0d0887\"],[0.1111111111111111,\"#46039f\"],[0.2222222222222222,\"#7201a8\"],[0.3333333333333333,\"#9c179e\"],[0.4444444444444444,\"#bd3786\"],[0.5555555555555556,\"#d8576b\"],[0.6666666666666666,\"#ed7953\"],[0.7777777777777778,\"#fb9f3a\"],[0.8888888888888888,\"#fdca26\"],[1.0,\"#f0f921\"]],\"diverging\":[[0,\"#8e0152\"],[0.1,\"#c51b7d\"],[0.2,\"#de77ae\"],[0.3,\"#f1b6da\"],[0.4,\"#fde0ef\"],[0.5,\"#f7f7f7\"],[0.6,\"#e6f5d0\"],[0.7,\"#b8e186\"],[0.8,\"#7fbc41\"],[0.9,\"#4d9221\"],[1,\"#276419\"]]},\"xaxis\":{\"gridcolor\":\"white\",\"linecolor\":\"white\",\"ticks\":\"\",\"title\":{\"standoff\":15},\"zerolinecolor\":\"white\",\"automargin\":true,\"zerolinewidth\":2},\"yaxis\":{\"gridcolor\":\"white\",\"linecolor\":\"white\",\"ticks\":\"\",\"title\":{\"standoff\":15},\"zerolinecolor\":\"white\",\"automargin\":true,\"zerolinewidth\":2},\"scene\":{\"xaxis\":{\"backgroundcolor\":\"#E5ECF6\",\"gridcolor\":\"white\",\"linecolor\":\"white\",\"showbackground\":true,\"ticks\":\"\",\"zerolinecolor\":\"white\",\"gridwidth\":2},\"yaxis\":{\"backgroundcolor\":\"#E5ECF6\",\"gridcolor\":\"white\",\"linecolor\":\"white\",\"showbackground\":true,\"ticks\":\"\",\"zerolinecolor\":\"white\",\"gridwidth\":2},\"zaxis\":{\"backgroundcolor\":\"#E5ECF6\",\"gridcolor\":\"white\",\"linecolor\":\"white\",\"showbackground\":true,\"ticks\":\"\",\"zerolinecolor\":\"white\",\"gridwidth\":2}},\"shapedefaults\":{\"line\":{\"color\":\"#2a3f5f\"}},\"annotationdefaults\":{\"arrowcolor\":\"#2a3f5f\",\"arrowhead\":0,\"arrowwidth\":1},\"geo\":{\"bgcolor\":\"white\",\"landcolor\":\"#E5ECF6\",\"subunitcolor\":\"white\",\"showland\":true,\"showlakes\":true,\"lakecolor\":\"white\"},\"title\":{\"x\":0.05},\"mapbox\":{\"style\":\"light\"}}}},                        {\"responsive\": true}                    ).then(function(){\n                            \nvar gd = document.getElementById('470301e9-420e-473b-b17c-023f892aa1d4');\nvar x = new MutationObserver(function (mutations, observer) {{\n        var display = window.getComputedStyle(gd).display;\n        if (!display || display === 'none') {{\n            console.log([gd, 'removed!']);\n            Plotly.purge(gd);\n            observer.disconnect();\n        }}\n}});\n\n// Listen for the removal of the full notebook cells\nvar notebookContainer = gd.closest('#notebook-container');\nif (notebookContainer) {{\n    x.observe(notebookContainer, {childList: true});\n}}\n\n// Listen for the clearing of the current output cell\nvar outputEl = gd.closest('.output');\nif (outputEl) {{\n    x.observe(outputEl, {childList: true});\n}}\n\n                        })                };                });            </script>        </div>"
          },
          "metadata": {}
        }
      ]
    },
    {
      "cell_type": "markdown",
      "source": [
        "Таким образом, похоже, что наибольшее значение для оптимизации функции потери имеет **learning_schedule**, а на втором месте находится **no_components**.   \n",
        "Параметр **learning_schedule**  \n",
        "\n",
        "Этот параметр определяет расписание обучения, то есть алгоритм, который используется для обновления весов модели во время обучения.   \n",
        "LightFM поддерживает несколько вариантов:\n",
        "**adagrad:** Адаптивный градиентный спуск, который подстраивает скорость обучения для каждого параметра.\n",
        "**adadelta:** Принимает во внимание более длинную историю градиентов, которые используются для регулировки скоростей обучения.\n",
        "\n",
        "Параметр **no_components**\n",
        "\n",
        "Этот параметр определяет количество латентных факторов, используемых в модели.   \n",
        "Латентные(скрытые) факторы — это абстрактные характеристики, которые модель пытается выявить из данных, чтобы описать пользователей и элементы (например, продукты, фильмы и т.д.) в терминах меньшего числа признаков.\n",
        "\n",
        "Чем больше количество латентных факторов, тем более детально модель может представлять пользователей и элементы.  \n",
        "Однако увеличение этого числа может привести к переобучению (overfitting), особенно если данных недостаточно для того, чтобы обоснованно оценить все факторы. Малое количество факторов, наоборот, может не захватить достаточное количество информации из данных (underfitting).   \n",
        "\n",
        "Теперь обучим финальную модель на 100% Train и посмотрим, как она работает на наших тестовых данных."
      ],
      "metadata": {
        "id": "YH5CzmhldqBh"
      }
    },
    {
      "cell_type": "code",
      "source": [
        "# Tidy up epochs as not a parameter to be passed to LightFM() directly\n",
        "num_epochs = best_params['epochs'] # save best epochs as a separate object\n",
        "del best_params['epochs'] # then remove it from best_params object\n",
        "\n",
        "# Train with the best parameters\n",
        "model_base = LightFM(**best_params, random_state=123)\n",
        "\n",
        "model_base.fit(train_interactions,\n",
        "          epochs = num_epochs,\n",
        "          verbose=True)\n",
        "\n",
        "# Measure how well it did in the Test period\n",
        "for metric in [precision_at_k]:\n",
        "    # Get the precision and recall for Train and Test\n",
        "    for data, name in [(train_interactions, \"Train\"), (test_interactions, \"Test \")]:\n",
        "        print(f\"{name} {metric.__name__}: %.2f\" %\n",
        "              metric(model_base,\n",
        "                     data,\n",
        "                     k=3).mean())\n",
        "\n",
        "    # What about for just new-to-user purchases?\n",
        "    print(f\"Test new {metric.__name__}: %.3f\" %\n",
        "          metric(model_base,\n",
        "                 test_new_interactions,\n",
        "                 train_interactions=train_interactions, # supress previously bought prods from being recommended\n",
        "                 k=3).mean())"
      ],
      "metadata": {
        "outputId": "f801189c-4a5f-48df-8e28-22a22bd3488f",
        "id": "3Leob3iUdqBi",
        "execution": {
          "iopub.status.busy": "2024-06-04T14:55:21.459165Z",
          "iopub.execute_input": "2024-06-04T14:55:21.459609Z",
          "iopub.status.idle": "2024-06-04T14:55:42.970511Z",
          "shell.execute_reply.started": "2024-06-04T14:55:21.459572Z",
          "shell.execute_reply": "2024-06-04T14:55:42.968082Z"
        },
        "trusted": true
      },
      "execution_count": null,
      "outputs": [
        {
          "name": "stderr",
          "text": "Epoch: 100%|██████████| 46/46 [00:03<00:00, 13.08it/s]\n",
          "output_type": "stream"
        },
        {
          "name": "stdout",
          "text": "Train precision_at_k: 0.29\nTest  precision_at_k: 0.15\nTest new precision_at_k: 0.001\n",
          "output_type": "stream"
        }
      ]
    },
    {
      "cell_type": "markdown",
      "source": [
        "Наша настроенная модель показывает незначительное улучшение по сравнению с данными Test-new, так что, похоже, она оказалась успешной.  \n",
        "Если бы мы захотели, мы могли бы провести больше испытаний в надежде, что производительность продолжит улучшаться.   \n",
        "Давайте извлечем из новой модели эмбеддинги users и items и посмотрим, стали ли наши похожие предметы более осмысленными."
      ],
      "metadata": {
        "id": "1vz6NKmsdqBj"
      }
    },
    {
      "cell_type": "markdown",
      "source": [
        "## Добавление weigths\n",
        "В самом начале мы создали некоторые весовые коэффициенты между пользователем и предметом, чтобы отразить, что пользователи покупают некоторые предметы чаще, чем другие.   \n",
        "В нашей первоначальной модели все взаимодействия рассматривались одинаково, но теперь давайте попробуем запустить ее с весами.   \n",
        "Помимо увеличения веса более важных взаимодействий, мы могли бы уменьшить вес менее важных.   \n",
        "Это один из способов, который предлагается для работы с очень популярными товарами, чтобы не рекомендовать их всегда и сделать наши рекомендации более разнообразными.\n",
        "\n",
        "Чтобы использовать весовые коэффициенты в функции train_test_split(), нам нужно передать их отдельно вместе с тем же random_state, чтобы убедиться, что разбиения происходят в одном и том же месте.    \n",
        "Затем мы можем передать в Optuna дополнительный гиперпараметр \"использовать или не использовать веса\", чтобы посмотреть, обнаружит ли она какую-либо пользу от их включения."
      ],
      "metadata": {
        "id": "-3Uz5zgCituv"
      }
    },
    {
      "cell_type": "code",
      "source": [
        "def objective(trial):\n",
        "\n",
        "    train, val = random_train_test_split(train_interactions, test_percentage=0.25, random_state=42)\n",
        "    train_weights, val_weight = random_train_test_split(train_interactions, test_percentage=0.25, random_state=42)\n",
        "\n",
        "    param = {\n",
        "        'no_components': trial.suggest_int(\"no_components\", 5, 64),\n",
        "        \"learning_schedule\": trial.suggest_categorical(\"learning_schedule\", [\"adagrad\", \"adadelta\"]),\n",
        "        \"loss\":  trial.suggest_categorical(\"loss\", [\"warp\"]),\n",
        "        \"learning_rate\": trial.suggest_float(\"learning_rate\", 0.001, 1),\n",
        "        \"item_alpha\": trial.suggest_float(\"item_alpha\", 1e-10, 1e-06, log=True),\n",
        "        \"user_alpha\": trial.suggest_float(\"user_alpha\", 1e-10, 1e-06, log=True),\n",
        "        \"max_sampled\": trial.suggest_int(\"max_sampled\", 5, 15),\n",
        "    }\n",
        "    epochs = trial.suggest_int(\"epochs\", 20, 50)\n",
        "    sample_weights = trial.suggest_categorical(\"sample_weight\", [\"None\", \"train_weights\"]) # add weights as a parameter\n",
        "\n",
        "    model = LightFM(**param, random_state=123)\n",
        "    model.fit(train,\n",
        "              sample_weight=eval(sample_weights),\n",
        "              epochs = epochs,\n",
        "              verbose=True)\n",
        "\n",
        "    val_precision = precision_at_k(model,\n",
        "                                   val,\n",
        "                                   train_interactions=train,\n",
        "                                   k=3).mean()\n",
        "\n",
        "    return val_precision\n",
        "\n",
        "study = optuna.create_study(direction=\"maximize\")\n",
        "\n",
        "# Add in our original hyperparmeter values as a starting point for Optuna\n",
        "best_params[\"epochs\"]=num_epochs # manually add epochs\n",
        "best_params[\"sample_weight\"] =\"None\" # add in the fact the previous models didn't use weights\n",
        "best_params[\"loss\"] =\"warp\" #can't use kos with weights so switch it to warp\n",
        "study.enqueue_trial(best_params)\n",
        "\n",
        "study.optimize(objective, n_trials=N_TRIAL)\n",
        "\n",
        "best_params = study.best_params\n",
        "for k, v in best_params.items():\n",
        "    print(k,\":\",v)"
      ],
      "metadata": {
        "id": "a8c_R4iNi6K4",
        "outputId": "780b72e2-1134-4ed3-a397-7e9e200bc635",
        "execution": {
          "iopub.status.busy": "2024-06-04T14:55:42.977063Z",
          "iopub.execute_input": "2024-06-04T14:55:42.977596Z",
          "iopub.status.idle": "2024-06-04T14:55:58.315241Z",
          "shell.execute_reply.started": "2024-06-04T14:55:42.977552Z",
          "shell.execute_reply": "2024-06-04T14:55:58.313491Z"
        },
        "trusted": true
      },
      "execution_count": null,
      "outputs": [
        {
          "name": "stderr",
          "text": "[I 2024-06-04 14:55:42,991] A new study created in memory with name: no-name-94d4eefc-2c19-4e73-8199-69188515868e\nEpoch: 100%|██████████| 46/46 [00:02<00:00, 18.01it/s]\n[I 2024-06-04 14:55:50,791] Trial 0 finished with value: 0.004951838403940201 and parameters: {'no_components': 24, 'learning_schedule': 'adadelta', 'loss': 'warp', 'learning_rate': 0.08313342889884609, 'item_alpha': 2.254720883900032e-09, 'user_alpha': 5.449392279713436e-09, 'max_sampled': 7, 'epochs': 46, 'sample_weight': 'None'}. Best is trial 0 with value: 0.004951838403940201.\nEpoch: 100%|██████████| 27/27 [00:01<00:00, 16.95it/s]\n[I 2024-06-04 14:55:58,306] Trial 1 finished with value: 0.0 and parameters: {'no_components': 26, 'learning_schedule': 'adagrad', 'loss': 'warp', 'learning_rate': 0.7036499748001738, 'item_alpha': 2.378046833402338e-10, 'user_alpha': 7.130016331954955e-07, 'max_sampled': 12, 'epochs': 27, 'sample_weight': 'train_weights'}. Best is trial 0 with value: 0.004951838403940201.\n",
          "output_type": "stream"
        },
        {
          "name": "stdout",
          "text": "no_components : 24\nlearning_schedule : adadelta\nloss : warp\nlearning_rate : 0.08313342889884609\nitem_alpha : 2.254720883900032e-09\nuser_alpha : 5.449392279713436e-09\nmax_sampled : 7\nepochs : 46\nsample_weight : None\n",
          "output_type": "stream"
        }
      ]
    },
    {
      "cell_type": "markdown",
      "source": [
        "Похоже, Optuna обнаружила, что отказ от использования весов взаимодействия (или, по крайней мере, тех, которые мы создали в самом начале) не улучшил производительность. Это, наверное, неудивительно, учитывая, что мы повышали вес всех товаров, регулярно покупаемых пользователями, но, похоже, большинство пользователей покупают всего несколько вин, так что разница всегда была незначительной. Для полноты картины давайте обучим нашу новую модель на Train и посмотрим, как она работает."
      ],
      "metadata": {
        "id": "djiolCO0PZhg"
      }
    },
    {
      "cell_type": "code",
      "source": [
        "num_epochs = best_params['epochs']\n",
        "sample_weights=best_params['sample_weight']\n",
        "\n",
        "del best_params['epochs']\n",
        "del best_params['sample_weight']\n",
        "\n",
        "# Train with the best parameters\n",
        "model_w = LightFM(**best_params, random_state=123)\n",
        "\n",
        "model_w.fit(train_interactions,\n",
        "          sample_weight=eval(sample_weights),\n",
        "          epochs = num_epochs,\n",
        "          verbose=True)\n",
        "\n",
        "# Measure how well it did in the Test period\n",
        "for metric in [precision_at_k]:\n",
        "    # Get the precision and recall for Train and Test\n",
        "    for data, name in [(train_interactions, \"Train\"), (test_interactions, \"Test \")]:\n",
        "        print(f\"{name} {metric.__name__}: %.2f\" %\n",
        "              metric(model_w,\n",
        "                     data,\n",
        "                     k=3).mean())\n",
        "\n",
        "    # What about for just new-to-user purchases?\n",
        "    print(f\"Test new {metric.__name__}: %.3f\" %\n",
        "          metric(model_w,\n",
        "                 test_new_interactions,\n",
        "                 train_interactions=train_interactions, # supress previously bought prods from being recommended\n",
        "                 k=3).mean())"
      ],
      "metadata": {
        "id": "DyHv0sjOnICW",
        "outputId": "e4318dfb-a167-43fe-9f98-170dbabf99eb",
        "execution": {
          "iopub.status.busy": "2024-06-04T14:55:58.316866Z",
          "iopub.execute_input": "2024-06-04T14:55:58.317262Z",
          "iopub.status.idle": "2024-06-04T14:56:19.494134Z",
          "shell.execute_reply.started": "2024-06-04T14:55:58.317229Z",
          "shell.execute_reply": "2024-06-04T14:56:19.492361Z"
        },
        "trusted": true
      },
      "execution_count": null,
      "outputs": [
        {
          "name": "stderr",
          "text": "Epoch: 100%|██████████| 46/46 [00:03<00:00, 13.46it/s]\n",
          "output_type": "stream"
        },
        {
          "name": "stdout",
          "text": "Train precision_at_k: 0.29\nTest  precision_at_k: 0.15\nTest new precision_at_k: 0.001\n",
          "output_type": "stream"
        }
      ]
    },
    {
      "cell_type": "markdown",
      "source": [
        "## LightFM with items feature"
      ],
      "metadata": {
        "id": "K_ZbfkWLnFOX"
      }
    },
    {
      "cell_type": "markdown",
      "source": [
        "По-прежнему производительность находится примерно на уровне 4% для Test precision at 3.   \n",
        "Может быть, мы попробуем добавить несколько дополнительных функций элементов, чтобы попытаться увеличить производительность.  \n",
        "Применим последовательно 2 подхода к item's feature engineering\n",
        "\n",
        "### Items feature 1 version\n",
        "\n",
        "Построение модели рекомендаций с использованием признаков items без их подробного описания.  \n",
        "\n",
        "Эти более обобщенные признаки могут быть хорошими и могут лучше работать в сценариях с холодными стартовыми данными."
      ],
      "metadata": {
        "id": "tL7QZwEFQDLc"
      }
    },
    {
      "cell_type": "code",
      "source": [
        "# загрузим справочник товаров\n",
        "item_1 = pd.read_csv('/kaggle/input/f-task-data/item_properties_part1.csv/item_properties_part1.csv')\n",
        "item_2 = pd.read_csv('/kaggle/input/f-task-data/item_properties_part2.csv/item_properties_part2.csv')\n",
        "properties = pd.concat([item_1, item_2])\n",
        "properties.loc[:,'value'] = properties['value'].str.replace('.','',regex=False)\n",
        "properties.info()\n",
        "del item_1\n",
        "del item_2\n",
        "gc.collect()"
      ],
      "metadata": {
        "id": "GjA4u5dLgKSo",
        "outputId": "59630445-b9f7-47f2-9e36-ebc6b45cec5d",
        "execution": {
          "iopub.status.busy": "2024-06-04T14:56:19.496151Z",
          "iopub.execute_input": "2024-06-04T14:56:19.496636Z",
          "iopub.status.idle": "2024-06-04T14:57:08.659471Z",
          "shell.execute_reply.started": "2024-06-04T14:56:19.496599Z",
          "shell.execute_reply": "2024-06-04T14:57:08.657571Z"
        },
        "trusted": true
      },
      "execution_count": null,
      "outputs": [
        {
          "name": "stdout",
          "text": "<class 'pandas.core.frame.DataFrame'>\nIndex: 20275902 entries, 0 to 9275902\nData columns (total 4 columns):\n #   Column     Dtype \n---  ------     ----- \n 0   timestamp  int64 \n 1   itemid     int64 \n 2   property   object\n 3   value      object\ndtypes: int64(2), object(2)\nmemory usage: 773.5+ MB\n",
          "output_type": "stream"
        },
        {
          "execution_count": 63,
          "output_type": "execute_result",
          "data": {
            "text/plain": "10"
          },
          "metadata": {}
        }
      ]
    },
    {
      "cell_type": "markdown",
      "source": [
        "Нам нужно найти наиболее полезные свойства items.   \n",
        "А они есть у фактически купленных items.   \n",
        "По этому их и купили, очевидно.   \n",
        "Поэтому отфильтруем справочник всех товаров.  \n",
        "Оставим фактически купленные items.  "
      ],
      "metadata": {
        "id": "AvNd-5IZgKSq"
      }
    },
    {
      "cell_type": "code",
      "source": [
        "events_deal=train_orders[train_orders['weights'] == 2].groupby(['itemid'])['weights'].agg('count').sort_values(ascending = False)\n",
        "events_deal[:5]"
      ],
      "metadata": {
        "id": "QD_XKgXOgKS4",
        "outputId": "4969deaf-edbf-4568-df2a-f052e7ccf17c",
        "execution": {
          "iopub.status.busy": "2024-06-04T14:57:08.661914Z",
          "iopub.execute_input": "2024-06-04T14:57:08.662673Z",
          "iopub.status.idle": "2024-06-04T14:57:08.686997Z",
          "shell.execute_reply.started": "2024-06-04T14:57:08.662627Z",
          "shell.execute_reply": "2024-06-04T14:57:08.684919Z"
        },
        "trusted": true
      },
      "execution_count": null,
      "outputs": [
        {
          "execution_count": 64,
          "output_type": "execute_result",
          "data": {
            "text/plain": "itemid\n461686    133\n119736     97\n213834     92\n312728     46\n7943       46\nName: weights, dtype: int64"
          },
          "metadata": {}
        }
      ]
    },
    {
      "cell_type": "markdown",
      "source": [
        "Это список наиболее привлекательных items, следовательно свойства этих items наиболее желанны для потребителя."
      ],
      "metadata": {
        "id": "2xS8YNkQgKS5"
      }
    },
    {
      "cell_type": "code",
      "source": [
        "# Возьмем только самые продаваемые proprties(характеристики), допустим 20 строк\n",
        "top_properties = properties[properties['itemid'].isin(list(events_deal.index))].drop_duplicates(['itemid', 'property']).groupby(\"property\")['itemid'].count().sort_values(ascending=False)[:40]\n",
        "# Удалим характеристики \"категория товара\" и \"доступность\". Без подробного описания, они очевидно неинформативны.\n",
        "top_properties.drop(['categoryid','available'],inplace=True)\n",
        "properties['best_feat'] = np.where(properties['property'].isin(list(top_properties.index)),properties['property'],0)\n",
        "tags = list(set(list(top_properties.index)))\n",
        "print(f'20 самых частых характеристик среди проданных items: {tags}')"
      ],
      "metadata": {
        "id": "0ByHEH33jFcr",
        "outputId": "7901cb37-ba28-48a8-c3a3-b95a0ebc863b",
        "execution": {
          "iopub.status.busy": "2024-06-04T14:57:08.690139Z",
          "iopub.execute_input": "2024-06-04T14:57:08.690756Z",
          "iopub.status.idle": "2024-06-04T14:57:12.432895Z",
          "shell.execute_reply.started": "2024-06-04T14:57:08.690711Z",
          "shell.execute_reply": "2024-06-04T14:57:12.430631Z"
        },
        "trusted": true
      },
      "execution_count": null,
      "outputs": [
        {
          "name": "stdout",
          "text": "20 самых частых характеристик среди проданных items: ['698', '550', '159', '689', '1036', '230', '888', '720', '941', '19', '686', '546', '810', '764', '28', '566', '846', '6', '591', '521', '1066', '283', '678', '364', '400', '935', '776', '839', '761', '713', '202', '790', '112', '348', '928', '558', '227', '917']\n",
          "output_type": "stream"
        }
      ]
    },
    {
      "cell_type": "code",
      "source": [
        "# добавим признак best_feat с наилучшими характеристиками items\n",
        "properties.loc[:,'best_feat'] = properties['best_feat'].astype('str')\n",
        "properties.head(3)"
      ],
      "metadata": {
        "id": "NGz1YPmyjFct",
        "outputId": "e4f370ab-402a-413a-e9b5-c2d03441b6db",
        "execution": {
          "iopub.status.busy": "2024-06-04T14:57:12.435208Z",
          "iopub.execute_input": "2024-06-04T14:57:12.435799Z",
          "iopub.status.idle": "2024-06-04T14:57:16.867043Z",
          "shell.execute_reply.started": "2024-06-04T14:57:12.435737Z",
          "shell.execute_reply": "2024-06-04T14:57:16.865400Z"
        },
        "trusted": true
      },
      "execution_count": null,
      "outputs": [
        {
          "execution_count": 66,
          "output_type": "execute_result",
          "data": {
            "text/plain": "       timestamp  itemid    property                          value best_feat\n0  1435460400000  460429  categoryid                           1338         0\n1  1441508400000  206783         888         1116713 960601 n277200       888\n2  1439089200000  395014         400  n552000 639502 n720000 424566       400",
            "text/html": "<div>\n<style scoped>\n    .dataframe tbody tr th:only-of-type {\n        vertical-align: middle;\n    }\n\n    .dataframe tbody tr th {\n        vertical-align: top;\n    }\n\n    .dataframe thead th {\n        text-align: right;\n    }\n</style>\n<table border=\"1\" class=\"dataframe\">\n  <thead>\n    <tr style=\"text-align: right;\">\n      <th></th>\n      <th>timestamp</th>\n      <th>itemid</th>\n      <th>property</th>\n      <th>value</th>\n      <th>best_feat</th>\n    </tr>\n  </thead>\n  <tbody>\n    <tr>\n      <th>0</th>\n      <td>1435460400000</td>\n      <td>460429</td>\n      <td>categoryid</td>\n      <td>1338</td>\n      <td>0</td>\n    </tr>\n    <tr>\n      <th>1</th>\n      <td>1441508400000</td>\n      <td>206783</td>\n      <td>888</td>\n      <td>1116713 960601 n277200</td>\n      <td>888</td>\n    </tr>\n    <tr>\n      <th>2</th>\n      <td>1439089200000</td>\n      <td>395014</td>\n      <td>400</td>\n      <td>n552000 639502 n720000 424566</td>\n      <td>400</td>\n    </tr>\n  </tbody>\n</table>\n</div>"
          },
          "metadata": {}
        }
      ]
    },
    {
      "cell_type": "markdown",
      "source": [
        "Преобразуем справочник items. Опишем каждый itemid через список наиболее привлекательных характеристик."
      ],
      "metadata": {
        "id": "GQHM3l94jFcu"
      }
    },
    {
      "cell_type": "code",
      "source": [
        "prop_sell = properties.groupby(['itemid'])['best_feat'].agg(' '.join).reset_index()\n",
        "prop_sell.loc[:,'best_feat_list'] = prop_sell['best_feat'].apply(lambda x:list(set(x.split())))\n",
        "prop_sell.drop(['best_feat'], axis=1, inplace=True)\n",
        "prop_sell.head(3)"
      ],
      "metadata": {
        "id": "h36R3V3IjFcv",
        "outputId": "2fe68c2c-6ecb-4c2b-e883-c41898a3b5f1",
        "execution": {
          "iopub.status.busy": "2024-06-04T14:57:16.869485Z",
          "iopub.execute_input": "2024-06-04T14:57:16.870027Z",
          "iopub.status.idle": "2024-06-04T14:57:58.366604Z",
          "shell.execute_reply.started": "2024-06-04T14:57:16.869979Z",
          "shell.execute_reply": "2024-06-04T14:57:58.364912Z"
        },
        "trusted": true
      },
      "execution_count": null,
      "outputs": [
        {
          "execution_count": 67,
          "output_type": "execute_result",
          "data": {
            "text/plain": "   itemid                                     best_feat_list\n0       0  [839, 6, 698, 888, 159, 764, 1036, 202, 283, 0...\n1       1  [698, 6, 888, 764, 689, 159, 1036, 202, 0, 790...\n2       2  [698, 888, 159, 202, 0, 283, 790, 112, 776, 36...",
            "text/html": "<div>\n<style scoped>\n    .dataframe tbody tr th:only-of-type {\n        vertical-align: middle;\n    }\n\n    .dataframe tbody tr th {\n        vertical-align: top;\n    }\n\n    .dataframe thead th {\n        text-align: right;\n    }\n</style>\n<table border=\"1\" class=\"dataframe\">\n  <thead>\n    <tr style=\"text-align: right;\">\n      <th></th>\n      <th>itemid</th>\n      <th>best_feat_list</th>\n    </tr>\n  </thead>\n  <tbody>\n    <tr>\n      <th>0</th>\n      <td>0</td>\n      <td>[839, 6, 698, 888, 159, 764, 1036, 202, 283, 0...</td>\n    </tr>\n    <tr>\n      <th>1</th>\n      <td>1</td>\n      <td>[698, 6, 888, 764, 689, 159, 1036, 202, 0, 790...</td>\n    </tr>\n    <tr>\n      <th>2</th>\n      <td>2</td>\n      <td>[698, 888, 159, 202, 0, 283, 790, 112, 776, 36...</td>\n    </tr>\n  </tbody>\n</table>\n</div>"
          },
          "metadata": {}
        }
      ]
    },
    {
      "cell_type": "code",
      "source": [
        "prop_max = prop_sell[prop_sell['best_feat_list'].apply(lambda x: len(x))==19].shape[0]\n",
        "print(f'Количество item с полным набором наилучших характеристик: {prop_max}')\n",
        "prop_ele = prop_sell[prop_sell['best_feat_list'].apply(lambda x: len(x))==11].shape[0]\n",
        "print(f'Количество item содержащих 11 наилучших характеристик: {prop_ele}')\n",
        "prop_min = prop_sell[prop_sell['best_feat_list'].apply(lambda x: len(x))==0].shape[0]\n",
        "print(f'Количество item не содержащих ни одной наилучшей характеристики: {prop_min}')"
      ],
      "metadata": {
        "id": "Q0ID_PmvjFcv",
        "outputId": "7401cf84-a9a0-41b6-b7f6-355cb2b018e6",
        "execution": {
          "iopub.status.busy": "2024-06-04T14:57:58.368974Z",
          "iopub.execute_input": "2024-06-04T14:57:58.369530Z",
          "iopub.status.idle": "2024-06-04T14:57:59.684979Z",
          "shell.execute_reply.started": "2024-06-04T14:57:58.369482Z",
          "shell.execute_reply": "2024-06-04T14:57:59.682991Z"
        },
        "trusted": true
      },
      "execution_count": null,
      "outputs": [
        {
          "name": "stdout",
          "text": "Количество item с полным набором наилучших характеристик: 38567\nКоличество item содержащих 11 наилучших характеристик: 9\nКоличество item не содержащих ни одной наилучшей характеристики: 0\n",
          "output_type": "stream"
        }
      ]
    },
    {
      "cell_type": "markdown",
      "source": [
        "Каждый из items в справочнике содержит не менее 11 лучших характеристик."
      ],
      "metadata": {
        "id": "kQGMhde_jFcw"
      }
    },
    {
      "cell_type": "code",
      "source": [
        "# Создадим карту признаков,\n",
        "for x in tags:\n",
        "    prop_sell[x] =prop_sell['best_feat_list'].apply(lambda y: str(x) in y)\n",
        "items_map = prop_sell.drop(['best_feat_list'], axis=1)\n",
        "items_map.head(3)"
      ],
      "metadata": {
        "id": "uXXTOi56jFcx",
        "outputId": "dede20e2-13d3-4551-d205-971a95f2eec6",
        "execution": {
          "iopub.status.busy": "2024-06-04T14:57:59.688198Z",
          "iopub.execute_input": "2024-06-04T14:57:59.688822Z",
          "iopub.status.idle": "2024-06-04T14:58:20.103102Z",
          "shell.execute_reply.started": "2024-06-04T14:57:59.688754Z",
          "shell.execute_reply": "2024-06-04T14:58:20.101511Z"
        },
        "trusted": true
      },
      "execution_count": null,
      "outputs": [
        {
          "execution_count": 69,
          "output_type": "execute_result",
          "data": {
            "text/plain": "   itemid   698    550   159    689   1036    230   888    720    941  ...  \\\n0       0  True  False  True  False   True  False  True  False  False  ...   \n1       1  True  False  True   True   True  False  True  False  False  ...   \n2       2  True  False  True  False  False  False  True  False  False  ...   \n\n     761    713   202   790   112    348    928    558    227   917  \n0  False  False  True  True  True  False  False  False   True  True  \n1  False  False  True  True  True  False  False  False   True  True  \n2  False  False  True  True  True  False  False  False  False  True  \n\n[3 rows x 39 columns]",
            "text/html": "<div>\n<style scoped>\n    .dataframe tbody tr th:only-of-type {\n        vertical-align: middle;\n    }\n\n    .dataframe tbody tr th {\n        vertical-align: top;\n    }\n\n    .dataframe thead th {\n        text-align: right;\n    }\n</style>\n<table border=\"1\" class=\"dataframe\">\n  <thead>\n    <tr style=\"text-align: right;\">\n      <th></th>\n      <th>itemid</th>\n      <th>698</th>\n      <th>550</th>\n      <th>159</th>\n      <th>689</th>\n      <th>1036</th>\n      <th>230</th>\n      <th>888</th>\n      <th>720</th>\n      <th>941</th>\n      <th>...</th>\n      <th>761</th>\n      <th>713</th>\n      <th>202</th>\n      <th>790</th>\n      <th>112</th>\n      <th>348</th>\n      <th>928</th>\n      <th>558</th>\n      <th>227</th>\n      <th>917</th>\n    </tr>\n  </thead>\n  <tbody>\n    <tr>\n      <th>0</th>\n      <td>0</td>\n      <td>True</td>\n      <td>False</td>\n      <td>True</td>\n      <td>False</td>\n      <td>True</td>\n      <td>False</td>\n      <td>True</td>\n      <td>False</td>\n      <td>False</td>\n      <td>...</td>\n      <td>False</td>\n      <td>False</td>\n      <td>True</td>\n      <td>True</td>\n      <td>True</td>\n      <td>False</td>\n      <td>False</td>\n      <td>False</td>\n      <td>True</td>\n      <td>True</td>\n    </tr>\n    <tr>\n      <th>1</th>\n      <td>1</td>\n      <td>True</td>\n      <td>False</td>\n      <td>True</td>\n      <td>True</td>\n      <td>True</td>\n      <td>False</td>\n      <td>True</td>\n      <td>False</td>\n      <td>False</td>\n      <td>...</td>\n      <td>False</td>\n      <td>False</td>\n      <td>True</td>\n      <td>True</td>\n      <td>True</td>\n      <td>False</td>\n      <td>False</td>\n      <td>False</td>\n      <td>True</td>\n      <td>True</td>\n    </tr>\n    <tr>\n      <th>2</th>\n      <td>2</td>\n      <td>True</td>\n      <td>False</td>\n      <td>True</td>\n      <td>False</td>\n      <td>False</td>\n      <td>False</td>\n      <td>True</td>\n      <td>False</td>\n      <td>False</td>\n      <td>...</td>\n      <td>False</td>\n      <td>False</td>\n      <td>True</td>\n      <td>True</td>\n      <td>True</td>\n      <td>False</td>\n      <td>False</td>\n      <td>False</td>\n      <td>False</td>\n      <td>True</td>\n    </tr>\n  </tbody>\n</table>\n<p>3 rows × 39 columns</p>\n</div>"
          },
          "metadata": {}
        }
      ]
    },
    {
      "cell_type": "code",
      "source": [
        "# Заменим значения True/False на названия столбцов\n",
        "for x in items_map.drop(['itemid'], axis=1).columns:\n",
        "     items_map[x] = np.where( items_map[x]==True, x,\"\")\n",
        "\n",
        "# Получим уникальный список метаданных items\n",
        "item_metadata = items_map.drop(['itemid'], axis=1).columns\n",
        "item_metadata"
      ],
      "metadata": {
        "id": "BSAOjIdYjFcy",
        "outputId": "6a777798-ad88-49ca-86ac-e1ae6a38f472",
        "execution": {
          "iopub.status.busy": "2024-06-04T14:58:20.104886Z",
          "iopub.execute_input": "2024-06-04T14:58:20.105265Z",
          "iopub.status.idle": "2024-06-04T14:58:22.409351Z",
          "shell.execute_reply.started": "2024-06-04T14:58:20.105233Z",
          "shell.execute_reply": "2024-06-04T14:58:22.407952Z"
        },
        "trusted": true
      },
      "execution_count": null,
      "outputs": [
        {
          "execution_count": 70,
          "output_type": "execute_result",
          "data": {
            "text/plain": "Index(['698', '550', '159', '689', '1036', '230', '888', '720', '941', '19',\n       '686', '546', '810', '764', '28', '566', '846', '6', '591', '521',\n       '1066', '283', '678', '364', '400', '935', '776', '839', '761', '713',\n       '202', '790', '112', '348', '928', '558', '227', '917'],\n      dtype='object')"
          },
          "metadata": {}
        }
      ]
    },
    {
      "cell_type": "markdown",
      "source": [
        "Теперь, когда мы создали наши items features, мы можем переделать все наши mappings."
      ],
      "metadata": {
        "id": "Gjq_GzRFjFcz"
      }
    },
    {
      "cell_type": "code",
      "source": [
        "# events.head(3)"
      ],
      "metadata": {
        "id": "KC1mqA29jFcz",
        "execution": {
          "iopub.status.busy": "2024-06-04T14:58:22.411556Z",
          "iopub.execute_input": "2024-06-04T14:58:22.412082Z",
          "iopub.status.idle": "2024-06-04T14:58:22.419450Z",
          "shell.execute_reply.started": "2024-06-04T14:58:22.412042Z",
          "shell.execute_reply": "2024-06-04T14:58:22.417782Z"
        },
        "trusted": true
      },
      "execution_count": null,
      "outputs": []
    },
    {
      "cell_type": "code",
      "source": [
        "# Создадим mappings для user, item and metadata\n",
        "dataset = Dataset()\n",
        "dataset.fit(train_users,\n",
        "            train_items,\n",
        "            #на этот раз мы передаем список items\n",
        "            item_features = item_metadata)\n",
        "\n",
        "# Сохраним mappings между пользователями и их идентификаторами\n",
        "# карта идентификаторов пользователей,\n",
        "user_mappings = dataset.mapping()[0]\n",
        "# карта характеристик пользователей,\n",
        "user_metadata_mappings = dataset.mapping()[1]\n",
        "# карта идентификаторов предметов,\n",
        "user_metadata_mappings = dataset.mapping()[1]\n",
        "# карта характеристик предметов\n",
        "item_mappings = dataset.mapping()[2]\n",
        "# теперь это отличается от items mapping\n",
        "item_metadata_mappings = dataset.mapping()[3]\n",
        "# 1 на каждый item + 1 на metadata\n",
        "len(item_mappings),len(item_metadata_mappings)"
      ],
      "metadata": {
        "id": "nELAcyRvjFc1",
        "outputId": "0448abee-25c7-4f18-aae2-77b6e02dec32",
        "execution": {
          "iopub.status.busy": "2024-06-04T14:58:22.421422Z",
          "iopub.execute_input": "2024-06-04T14:58:22.421912Z",
          "iopub.status.idle": "2024-06-04T14:58:22.476738Z",
          "shell.execute_reply.started": "2024-06-04T14:58:22.421873Z",
          "shell.execute_reply": "2024-06-04T14:58:22.475216Z"
        },
        "trusted": true
      },
      "execution_count": null,
      "outputs": [
        {
          "execution_count": 72,
          "output_type": "execute_result",
          "data": {
            "text/plain": "(14422, 14460)"
          },
          "metadata": {}
        }
      ]
    },
    {
      "cell_type": "code",
      "source": [
        "dict(list(item_mappings.items())[:10]) == dict(list(item_metadata_mappings.items())[:10])"
      ],
      "metadata": {
        "id": "8bWLc5zPjFc2",
        "outputId": "8395ae77-9338-4695-a9a7-26c16929950d",
        "execution": {
          "iopub.status.busy": "2024-06-04T14:58:22.478777Z",
          "iopub.execute_input": "2024-06-04T14:58:22.479276Z",
          "iopub.status.idle": "2024-06-04T14:58:22.498061Z",
          "shell.execute_reply.started": "2024-06-04T14:58:22.479239Z",
          "shell.execute_reply": "2024-06-04T14:58:22.496250Z"
        },
        "trusted": true
      },
      "execution_count": null,
      "outputs": [
        {
          "execution_count": 73,
          "output_type": "execute_result",
          "data": {
            "text/plain": "True"
          },
          "metadata": {}
        }
      ]
    },
    {
      "cell_type": "markdown",
      "source": [
        "Последние элементы 2 словарей mappings"
      ],
      "metadata": {
        "id": "LrgUVdUHjFc3"
      }
    },
    {
      "cell_type": "code",
      "source": [
        "dict(list(item_mappings.items())[-10:])"
      ],
      "metadata": {
        "id": "J4MOBBttjFc3",
        "outputId": "1646a9c6-6438-40f8-a5c0-fe7c02bcdbe8",
        "execution": {
          "iopub.status.busy": "2024-06-04T14:58:22.499985Z",
          "iopub.execute_input": "2024-06-04T14:58:22.500643Z",
          "iopub.status.idle": "2024-06-04T14:58:22.517592Z",
          "shell.execute_reply.started": "2024-06-04T14:58:22.500597Z",
          "shell.execute_reply": "2024-06-04T14:58:22.516171Z"
        },
        "trusted": true
      },
      "execution_count": null,
      "outputs": [
        {
          "execution_count": 74,
          "output_type": "execute_result",
          "data": {
            "text/plain": "{250640: 14412,\n 261886: 14413,\n 20222: 14414,\n 75035: 14415,\n 384734: 14416,\n 17127: 14417,\n 218917: 14418,\n 54141: 14419,\n 290723: 14420,\n 193218: 14421}"
          },
          "metadata": {}
        }
      ]
    },
    {
      "cell_type": "markdown",
      "source": [
        "Номера items"
      ],
      "metadata": {
        "id": "wZGD5ZGanFPq"
      }
    },
    {
      "cell_type": "code",
      "source": [
        "dict(list(item_metadata_mappings.items())[-10:])"
      ],
      "metadata": {
        "id": "9Yhby19bjFc4",
        "outputId": "6002a905-c527-4631-fe1b-a941b187b818",
        "execution": {
          "iopub.status.busy": "2024-06-04T14:58:22.519548Z",
          "iopub.execute_input": "2024-06-04T14:58:22.519992Z",
          "iopub.status.idle": "2024-06-04T14:58:22.538461Z",
          "shell.execute_reply.started": "2024-06-04T14:58:22.519958Z",
          "shell.execute_reply": "2024-06-04T14:58:22.536704Z"
        },
        "trusted": true
      },
      "execution_count": null,
      "outputs": [
        {
          "execution_count": 75,
          "output_type": "execute_result",
          "data": {
            "text/plain": "{'761': 14450,\n '713': 14451,\n '202': 14452,\n '790': 14453,\n '112': 14454,\n '348': 14455,\n '928': 14456,\n '558': 14457,\n '227': 14458,\n '917': 14459}"
          },
          "metadata": {}
        }
      ]
    },
    {
      "cell_type": "markdown",
      "source": [
        "Добавились номера feature items"
      ],
      "metadata": {
        "id": "KteNHw_1nFPt"
      }
    },
    {
      "cell_type": "code",
      "source": [
        "# Создадим обратные mappings\n",
        "inv_user_mappings = {v:k for k, v in user_mappings.items()}\n",
        "inv_item_mappings = {v:k for k, v in item_mappings.items()}\n",
        "inv_item_metadata_mappings = {v:k for k, v in item_metadata_mappings.items()}\n",
        "\n",
        "# Создадим interactions matrix for each user, item and the weight\n",
        "train_interactions, train_weights = dataset.build_interactions(train[['userid', 'itemid', 'weights']].values)\n",
        "train_interactions, train_weights\n",
        "\n",
        "# Удалим всех new users in the test set\n",
        "test_interactions, test_weights = dataset.build_interactions(test[['userid', 'itemid']].values)\n",
        "test_interactions, test_weights\n",
        "\n",
        "# Создадим test set состоящий только из новых купленых продуктов\n",
        "test_new_interactions, test_new_weights = dataset.build_interactions(test_new[['userid', 'itemid']].values)\n",
        "test_new_interactions, test_new_weights"
      ],
      "metadata": {
        "id": "h5g3GhS3jFc5",
        "outputId": "64de6865-ca50-4d83-8596-531f6be36809",
        "execution": {
          "iopub.status.busy": "2024-06-04T14:58:22.540275Z",
          "iopub.execute_input": "2024-06-04T14:58:22.540703Z",
          "iopub.status.idle": "2024-06-04T14:58:22.755696Z",
          "shell.execute_reply.started": "2024-06-04T14:58:22.540667Z",
          "shell.execute_reply": "2024-06-04T14:58:22.754236Z"
        },
        "trusted": true
      },
      "execution_count": null,
      "outputs": [
        {
          "execution_count": 76,
          "output_type": "execute_result",
          "data": {
            "text/plain": "(<16541x14422 sparse matrix of type '<class 'numpy.int32'>'\n \twith 585 stored elements in COOrdinate format>,\n <16541x14422 sparse matrix of type '<class 'numpy.float32'>'\n \twith 585 stored elements in COOrdinate format>)"
          },
          "metadata": {}
        }
      ]
    },
    {
      "cell_type": "markdown",
      "source": [
        "Перед передачей данных в модель необходимо оставить только те данные, о которых есть упоминание в train"
      ],
      "metadata": {
        "id": "R08lR_y1jFc7"
      }
    },
    {
      "cell_type": "code",
      "source": [
        "_ = len(set(items_map['itemid']).difference(set(train_items)))\n",
        "print(f'Полный справочник items отличается от items входящих в train на {_} элементов')\n",
        "items_map = items_map[items_map['itemid'].isin(train_items)]\n",
        "_ = len(set(items_map['itemid']).difference(set(train_items)))\n",
        "print(f'Полный справочник items отличается от items входящих в train на {_} элементов')"
      ],
      "metadata": {
        "id": "axlb3JynjFc6",
        "outputId": "23a23d23-15db-42f4-bc5c-32fc9bc81c08",
        "execution": {
          "iopub.status.busy": "2024-06-04T14:58:22.757904Z",
          "iopub.execute_input": "2024-06-04T14:58:22.758392Z",
          "iopub.status.idle": "2024-06-04T14:58:23.322199Z",
          "shell.execute_reply.started": "2024-06-04T14:58:22.758353Z",
          "shell.execute_reply": "2024-06-04T14:58:23.320586Z"
        },
        "trusted": true
      },
      "execution_count": null,
      "outputs": [
        {
          "name": "stdout",
          "text": "Полный справочник items отличается от items входящих в train на 403040 элементов\nПолный справочник items отличается от items входящих в train на 0 элементов\n",
          "output_type": "stream"
        }
      ]
    },
    {
      "cell_type": "code",
      "source": [
        "# Создадим поиск items по их характеристикам\n",
        "item_to_metadata_lookup = [(x[0], list(filter(None, x[1:]))) for x in items_map.values]\n",
        "\n",
        "# Посмотрим на сопоставление items с tags\n",
        "item_to_metadata_lookup[:2]"
      ],
      "metadata": {
        "id": "lQjP1aR5jFc9",
        "outputId": "ec43205f-9dc1-4265-eed2-8ab794104a60",
        "execution": {
          "iopub.status.busy": "2024-06-04T14:58:23.324019Z",
          "iopub.execute_input": "2024-06-04T14:58:23.324469Z",
          "iopub.status.idle": "2024-06-04T14:58:23.510999Z",
          "shell.execute_reply.started": "2024-06-04T14:58:23.324433Z",
          "shell.execute_reply": "2024-06-04T14:58:23.509381Z"
        },
        "trusted": true
      },
      "execution_count": null,
      "outputs": [
        {
          "execution_count": 78,
          "output_type": "execute_result",
          "data": {
            "text/plain": "[(15,\n  ['698',\n   '159',\n   '888',\n   '764',\n   '591',\n   '283',\n   '678',\n   '364',\n   '776',\n   '839',\n   '202',\n   '790',\n   '112',\n   '227',\n   '917']),\n (19,\n  ['698',\n   '159',\n   '689',\n   '888',\n   '764',\n   '6',\n   '283',\n   '678',\n   '364',\n   '776',\n   '839',\n   '202',\n   '790',\n   '112',\n   '227',\n   '917'])]"
          },
          "metadata": {}
        }
      ]
    },
    {
      "cell_type": "code",
      "source": [
        "# Создание item feature + списка тегов с помощью LightFM\n",
        "item_metadata_list = dataset.build_item_features(item_to_metadata_lookup, normalize=True)"
      ],
      "metadata": {
        "id": "uBAMKDPcjFc-",
        "execution": {
          "iopub.status.busy": "2024-06-04T14:58:23.512904Z",
          "iopub.execute_input": "2024-06-04T14:58:23.513439Z",
          "iopub.status.idle": "2024-06-04T14:58:24.279860Z",
          "shell.execute_reply.started": "2024-06-04T14:58:23.513390Z",
          "shell.execute_reply": "2024-06-04T14:58:24.278475Z"
        },
        "trusted": true
      },
      "execution_count": null,
      "outputs": []
    },
    {
      "cell_type": "code",
      "source": [
        "def objective(trial):\n",
        "\n",
        "    train, val = random_train_test_split(train_interactions, test_percentage=0.25, random_state=42)\n",
        "    train_weights, val_weight = random_train_test_split(train_interactions, test_percentage=0.25, random_state=42)\n",
        "\n",
        "    param = {\n",
        "        'no_components': trial.suggest_int(\"no_components\", 16, 64),\n",
        "        \"learning_schedule\": trial.suggest_categorical(\"learning_schedule\", [\"adagrad\", \"adadelta\"]),\n",
        "        \"loss\":  trial.suggest_categorical(\"loss\", [\"warp\"]),\n",
        "        \"learning_rate\": trial.suggest_float(\"learning_rate\", 0.001, 0.5),\n",
        "        \"item_alpha\": trial.suggest_float(\"item_alpha\", 1e-10, 1e-06, log=True),\n",
        "        \"user_alpha\": trial.suggest_float(\"user_alpha\", 1e-10, 1e-06, log=True),\n",
        "        \"max_sampled\": trial.suggest_int(\"max_sampled\", 5, 15),\n",
        "    }\n",
        "    epochs = trial.suggest_int(\"epochs\", 20, 50)\n",
        "    sample_weights = trial.suggest_categorical(\"sample_weight\", [\"None\", \"train_weights\"]) # добавим веса как параметр\n",
        "\n",
        "    model = LightFM(**param, random_state=123)\n",
        "    model.fit(train,\n",
        "              sample_weight= eval(sample_weights),\n",
        "              item_features = item_metadata_list, # используем характеристики items\n",
        "              epochs = epochs,\n",
        "              verbose=True)\n",
        "\n",
        "    val_precision = precision_at_k(model,\n",
        "                                   val,\n",
        "                                   train_interactions=train,\n",
        "                                   item_features = item_metadata_list,\n",
        "                                   k=3).mean()\n",
        "\n",
        "    return val_precision\n",
        "\n",
        "study = optuna.create_study(direction=\"maximize\")\n",
        "\n",
        "# Add our last run\n",
        "study.enqueue_trial(best_params)\n",
        "\n",
        "study.optimize(objective, n_trials=N_TRIAL)\n",
        "best_params = study.best_params\n",
        "for k, v in best_params.items():\n",
        "    print(k,\":\",v)"
      ],
      "metadata": {
        "id": "7K72ez0BjFc_",
        "outputId": "8e05bafc-8f51-4808-95eb-6a04e5a8ca80",
        "execution": {
          "iopub.status.busy": "2024-06-04T14:58:24.281795Z",
          "iopub.execute_input": "2024-06-04T14:58:24.282331Z",
          "iopub.status.idle": "2024-06-04T15:00:48.675384Z",
          "shell.execute_reply.started": "2024-06-04T14:58:24.282280Z",
          "shell.execute_reply": "2024-06-04T15:00:48.673830Z"
        },
        "trusted": true
      },
      "execution_count": null,
      "outputs": [
        {
          "name": "stderr",
          "text": "[I 2024-06-04 14:58:24,293] A new study created in memory with name: no-name-79219dbd-997d-4cc0-b904-f268610329a7\nEpoch: 100%|██████████| 40/40 [00:13<00:00,  3.06it/s]\n[I 2024-06-04 14:59:09,366] Trial 0 finished with value: 0.0026455027982592583 and parameters: {'no_components': 24, 'learning_schedule': 'adadelta', 'loss': 'warp', 'learning_rate': 0.08313342889884609, 'item_alpha': 2.254720883900032e-09, 'user_alpha': 5.449392279713436e-09, 'max_sampled': 7, 'epochs': 40, 'sample_weight': 'None'}. Best is trial 0 with value: 0.0026455027982592583.\nEpoch: 100%|██████████| 27/27 [00:20<00:00,  1.32it/s]\n[I 2024-06-04 15:00:48,667] Trial 1 finished with value: 0.0018993354169651866 and parameters: {'no_components': 63, 'learning_schedule': 'adadelta', 'loss': 'warp', 'learning_rate': 0.32425932053527423, 'item_alpha': 2.0478537252387237e-10, 'user_alpha': 8.28493036105346e-09, 'max_sampled': 7, 'epochs': 27, 'sample_weight': 'None'}. Best is trial 0 with value: 0.0026455027982592583.\n",
          "output_type": "stream"
        },
        {
          "name": "stdout",
          "text": "no_components : 24\nlearning_schedule : adadelta\nloss : warp\nlearning_rate : 0.08313342889884609\nitem_alpha : 2.254720883900032e-09\nuser_alpha : 5.449392279713436e-09\nmax_sampled : 7\nepochs : 40\nsample_weight : None\n",
          "output_type": "stream"
        }
      ]
    },
    {
      "cell_type": "code",
      "source": [
        "num_epochs = best_params['epochs']\n",
        "sample_weights = best_params['sample_weight']\n",
        "del best_params['epochs']\n",
        "del best_params['sample_weight']\n",
        "model = LightFM(**best_params, random_state=123)\n",
        "\n",
        "model.fit(train_interactions,\n",
        "          sample_weight= eval(sample_weights),\n",
        "          item_features = item_metadata_list,\n",
        "          epochs = num_epochs,\n",
        "          verbose=True)\n",
        "\n",
        "# Рассчитаем метрики\n",
        "for metric in [precision_at_k]:\n",
        "    # Precision@3 для Train and Test\n",
        "    for data, name in [(train_interactions, \"Train\"), (test_interactions, \"Test \")]:\n",
        "        print(f\"{name} {metric.__name__}: %.2f\" %\n",
        "              metric(model,\n",
        "                     data,\n",
        "                     item_features = item_metadata_list,\n",
        "                     k=3).mean())\n",
        "\n",
        "    # Покупки только новых items\n",
        "    print(f\"Test new {metric.__name__}: %.3f\" %\n",
        "          metric(model,\n",
        "                 test_new_interactions,\n",
        "                 item_features = item_metadata_list,\n",
        "                 train_interactions=train_interactions, #запретим рекомендовать ранее купленные items\n",
        "                 k=3).mean())"
      ],
      "metadata": {
        "id": "gLiLsGWEjFdA",
        "outputId": "e0a5e267-833e-498e-c2e0-df13d71163e1",
        "execution": {
          "iopub.status.busy": "2024-06-04T15:00:48.677373Z",
          "iopub.execute_input": "2024-06-04T15:00:48.677843Z",
          "iopub.status.idle": "2024-06-04T15:03:01.959396Z",
          "shell.execute_reply.started": "2024-06-04T15:00:48.677790Z",
          "shell.execute_reply": "2024-06-04T15:03:01.957698Z"
        },
        "trusted": true
      },
      "execution_count": null,
      "outputs": [
        {
          "name": "stderr",
          "text": "Epoch: 100%|██████████| 40/40 [00:17<00:00,  2.33it/s]\n",
          "output_type": "stream"
        },
        {
          "name": "stdout",
          "text": "Train precision_at_k: 0.05\nTest  precision_at_k: 0.02\nTest new precision_at_k: 0.006\n",
          "output_type": "stream"
        }
      ]
    },
    {
      "cell_type": "markdown",
      "source": [
        "Хуже чем без признаков items"
      ],
      "metadata": {
        "id": "-xh6O-V2nFP2"
      }
    },
    {
      "cell_type": "markdown",
      "source": [
        "### tems feature 2 version\n",
        "\n",
        "Следующий вариант - соединить свойства и его описание.  \n",
        "Опиратся просто на свойство я считаю неправильным.   \n",
        "Обязательно должно быть значение свойства.   \n",
        "К примеру, молоко. Его свойство - жирность.   \n",
        "Но значение имеет какая жирность.   \n",
        "Соединяя зашифрованнные свойства и их описания мы можем прийти к значению - \"Жирность 3.2%\" или \"Цвет-черный\".  \n",
        "А это и есть искомые потребительские свойства."
      ],
      "metadata": {
        "id": "0jwpMv0_gKS9"
      }
    },
    {
      "cell_type": "code",
      "source": [
        "#приведем данные о свойствах к текстовому виду\n",
        "properties['value'] = properties['value'].astype(\"str\")\n",
        "properties['property'] = properties['property'].astype(\"str\")\n",
        "#Сгруппируем items по itemsid и property. Агрегируем описания свойств\n",
        "df1 = properties.groupby(['itemid', 'property'], as_index = False)['value'].agg(' '.join)\n",
        "# Отсортируем, оставим только купленные items\n",
        "df1 = df1[df1['itemid'].isin(list(events_deal.index))]\n",
        "df1.info()"
      ],
      "metadata": {
        "id": "PaPfk_TCgKS5",
        "outputId": "ccc0c6e8-a397-411a-f22c-9feea40a599f",
        "execution": {
          "iopub.status.busy": "2024-06-04T15:03:01.961711Z",
          "iopub.execute_input": "2024-06-04T15:03:01.962247Z",
          "iopub.status.idle": "2024-06-04T15:09:53.869427Z",
          "shell.execute_reply.started": "2024-06-04T15:03:01.962203Z",
          "shell.execute_reply": "2024-06-04T15:09:53.867577Z"
        },
        "trusted": true
      },
      "execution_count": null,
      "outputs": [
        {
          "name": "stdout",
          "text": "<class 'pandas.core.frame.DataFrame'>\nIndex: 339680 entries, 398 to 12003662\nData columns (total 3 columns):\n #   Column    Non-Null Count   Dtype \n---  ------    --------------   ----- \n 0   itemid    339680 non-null  int64 \n 1   property  339680 non-null  object\n 2   value     339680 non-null  object\ndtypes: int64(1), object(2)\nmemory usage: 10.4+ MB\n",
          "output_type": "stream"
        }
      ]
    },
    {
      "cell_type": "code",
      "source": [
        "df1.head()"
      ],
      "metadata": {
        "id": "SIZBxedDnFOj",
        "outputId": "b09d7b01-2213-49c7-c9c7-447a2af9004f",
        "execution": {
          "iopub.status.busy": "2024-06-04T15:09:53.884666Z",
          "iopub.execute_input": "2024-06-04T15:09:53.885223Z",
          "iopub.status.idle": "2024-06-04T15:09:53.901664Z",
          "shell.execute_reply.started": "2024-06-04T15:09:53.885182Z",
          "shell.execute_reply": "2024-06-04T15:09:53.900069Z"
        },
        "trusted": true
      },
      "execution_count": null,
      "outputs": [
        {
          "execution_count": 83,
          "output_type": "execute_result",
          "data": {
            "text/plain": "     itemid property                                              value\n398      15      112                                             679677\n399      15      159                                             519769\n400      15      202                                             789221\n401      15      227                                             433564\n402      15      283  433564 245772 789221 809278 245772 1213953 429...",
            "text/html": "<div>\n<style scoped>\n    .dataframe tbody tr th:only-of-type {\n        vertical-align: middle;\n    }\n\n    .dataframe tbody tr th {\n        vertical-align: top;\n    }\n\n    .dataframe thead th {\n        text-align: right;\n    }\n</style>\n<table border=\"1\" class=\"dataframe\">\n  <thead>\n    <tr style=\"text-align: right;\">\n      <th></th>\n      <th>itemid</th>\n      <th>property</th>\n      <th>value</th>\n    </tr>\n  </thead>\n  <tbody>\n    <tr>\n      <th>398</th>\n      <td>15</td>\n      <td>112</td>\n      <td>679677</td>\n    </tr>\n    <tr>\n      <th>399</th>\n      <td>15</td>\n      <td>159</td>\n      <td>519769</td>\n    </tr>\n    <tr>\n      <th>400</th>\n      <td>15</td>\n      <td>202</td>\n      <td>789221</td>\n    </tr>\n    <tr>\n      <th>401</th>\n      <td>15</td>\n      <td>227</td>\n      <td>433564</td>\n    </tr>\n    <tr>\n      <th>402</th>\n      <td>15</td>\n      <td>283</td>\n      <td>433564 245772 789221 809278 245772 1213953 429...</td>\n    </tr>\n  </tbody>\n</table>\n</div>"
          },
          "metadata": {}
        }
      ]
    },
    {
      "cell_type": "code",
      "source": [
        "# Преобразуем данные о свойствах items в удобный для обработки вид.\n",
        "# Для этого соеденим свойство и его описание для каждого items.\n",
        "def prop_feature_best(df):\n",
        "    df_temp =  df.loc[:, ['property','value']].copy()\n",
        "    len_pf =  df.shape[0]\n",
        "#     for i in tqdm(range(len_pf)):\n",
        "    for i in tqdm(list(df.index)):\n",
        "        list_prop_feat = []\n",
        "#         print(i)\n",
        "        split_feat = df_temp.loc[i,'value'].split()\n",
        "        for f in split_feat:\n",
        "            list_prop_feat.append(df.loc[i,'property']+'_'+f)\n",
        "        df_temp.loc[i,'value'] = list_prop_feat\n",
        "    return df_temp\n",
        "df_all = prop_feature_best(df1)\n",
        "df_all"
      ],
      "metadata": {
        "id": "ev8wU7AXgKTE",
        "outputId": "0fd6d352-c743-4f4a-8209-fdc4fa25a112",
        "execution": {
          "iopub.status.busy": "2024-06-04T15:09:53.903452Z",
          "iopub.execute_input": "2024-06-04T15:09:53.903891Z",
          "iopub.status.idle": "2024-06-04T15:11:33.941633Z",
          "shell.execute_reply.started": "2024-06-04T15:09:53.903855Z",
          "shell.execute_reply": "2024-06-04T15:11:33.939824Z"
        },
        "trusted": true
      },
      "execution_count": null,
      "outputs": [
        {
          "name": "stderr",
          "text": "100%|██████████| 339680/339680 [01:39<00:00, 3401.56it/s]\n",
          "output_type": "stream"
        },
        {
          "execution_count": 84,
          "output_type": "execute_result",
          "data": {
            "text/plain": "            property                                              value\n398              112                                       [112_679677]\n399              159                                       [159_519769]\n400              202                                       [202_789221]\n401              227                                       [227_433564]\n402              283  [283_433564, 283_245772, 283_789221, 283_80927...\n...              ...                                                ...\n12003658         839                                       [839_705787]\n12003659         888                                      [888_1076947]\n12003660         917                          [917_831856, 917_1029906]\n12003661   available  [available_0, available_1, available_1, availa...\n12003662  categoryid                                  [categoryid_1051]\n\n[339680 rows x 2 columns]",
            "text/html": "<div>\n<style scoped>\n    .dataframe tbody tr th:only-of-type {\n        vertical-align: middle;\n    }\n\n    .dataframe tbody tr th {\n        vertical-align: top;\n    }\n\n    .dataframe thead th {\n        text-align: right;\n    }\n</style>\n<table border=\"1\" class=\"dataframe\">\n  <thead>\n    <tr style=\"text-align: right;\">\n      <th></th>\n      <th>property</th>\n      <th>value</th>\n    </tr>\n  </thead>\n  <tbody>\n    <tr>\n      <th>398</th>\n      <td>112</td>\n      <td>[112_679677]</td>\n    </tr>\n    <tr>\n      <th>399</th>\n      <td>159</td>\n      <td>[159_519769]</td>\n    </tr>\n    <tr>\n      <th>400</th>\n      <td>202</td>\n      <td>[202_789221]</td>\n    </tr>\n    <tr>\n      <th>401</th>\n      <td>227</td>\n      <td>[227_433564]</td>\n    </tr>\n    <tr>\n      <th>402</th>\n      <td>283</td>\n      <td>[283_433564, 283_245772, 283_789221, 283_80927...</td>\n    </tr>\n    <tr>\n      <th>...</th>\n      <td>...</td>\n      <td>...</td>\n    </tr>\n    <tr>\n      <th>12003658</th>\n      <td>839</td>\n      <td>[839_705787]</td>\n    </tr>\n    <tr>\n      <th>12003659</th>\n      <td>888</td>\n      <td>[888_1076947]</td>\n    </tr>\n    <tr>\n      <th>12003660</th>\n      <td>917</td>\n      <td>[917_831856, 917_1029906]</td>\n    </tr>\n    <tr>\n      <th>12003661</th>\n      <td>available</td>\n      <td>[available_0, available_1, available_1, availa...</td>\n    </tr>\n    <tr>\n      <th>12003662</th>\n      <td>categoryid</td>\n      <td>[categoryid_1051]</td>\n    </tr>\n  </tbody>\n</table>\n<p>339680 rows × 2 columns</p>\n</div>"
          },
          "metadata": {}
        }
      ]
    },
    {
      "cell_type": "markdown",
      "source": [
        "Найдем 20 наиболее популярных признаков среди фактически купленных items."
      ],
      "metadata": {
        "id": "H-ji62PFgKTF"
      }
    },
    {
      "cell_type": "code",
      "source": [
        "df_all.loc[:,'itemid'] = df1.loc[:,'itemid']\n",
        "list_count= []\n",
        "list_count = list(df_all['value'].explode())\n",
        "print(f'Общее количество характеристик: {len(set(list_count))}')\n"
      ],
      "metadata": {
        "id": "s5unxmbVgKTH",
        "outputId": "9169b523-9a1e-4046-fd0b-64a4b1608e71",
        "execution": {
          "iopub.status.busy": "2024-06-04T15:11:33.943945Z",
          "iopub.execute_input": "2024-06-04T15:11:33.944515Z",
          "iopub.status.idle": "2024-06-04T15:11:34.862199Z",
          "shell.execute_reply.started": "2024-06-04T15:11:33.944464Z",
          "shell.execute_reply": "2024-06-04T15:11:34.860400Z"
        },
        "trusted": true
      },
      "execution_count": null,
      "outputs": [
        {
          "name": "stdout",
          "text": "Общее количество характеристик: 124604\n",
          "output_type": "stream"
        }
      ]
    },
    {
      "cell_type": "markdown",
      "source": [
        "Список 20 самых популярных характеристик у items"
      ],
      "metadata": {
        "id": "u7awaDTHgKTW"
      }
    },
    {
      "cell_type": "code",
      "source": [
        "cnt = Counter(list_count)\n",
        "dict_feat = dict(cnt)\n",
        "most_popular_tags = cnt.most_common(40)\n",
        "# dict_feat.most_common(20)\n",
        "most_popular_tags[:10]"
      ],
      "metadata": {
        "id": "CWdZ4BztgKTX",
        "outputId": "a4ec469e-7e84-4920-9f8f-ea7d9c9abd69",
        "execution": {
          "iopub.status.busy": "2024-06-04T15:11:34.863953Z",
          "iopub.execute_input": "2024-06-04T15:11:34.864451Z",
          "iopub.status.idle": "2024-06-04T15:11:35.408453Z",
          "shell.execute_reply.started": "2024-06-04T15:11:34.864411Z",
          "shell.execute_reply": "2024-06-04T15:11:35.406921Z"
        },
        "trusted": true
      },
      "execution_count": null,
      "outputs": [
        {
          "execution_count": 86,
          "output_type": "execute_result",
          "data": {
            "text/plain": "[('available_1', 90104),\n ('available_0', 54516),\n ('888_1284577', 32560),\n ('888_1297729', 16363),\n ('888_350726', 13579),\n ('400_424566', 13554),\n ('888_30603', 13527),\n ('283_30603', 13270),\n ('888_1154859', 13131),\n ('888_832471', 12244)]"
          },
          "metadata": {}
        }
      ]
    },
    {
      "cell_type": "code",
      "source": [
        "tags = [most_popular_tags[x][0] for x in range(len(most_popular_tags))]\n",
        "tags[:10]"
      ],
      "metadata": {
        "id": "QO98YDyhgKTY",
        "outputId": "fc1f95cd-258a-45eb-d919-e9a6b804b76b",
        "execution": {
          "iopub.status.busy": "2024-06-04T15:11:35.410339Z",
          "iopub.execute_input": "2024-06-04T15:11:35.410786Z",
          "iopub.status.idle": "2024-06-04T15:11:35.422908Z",
          "shell.execute_reply.started": "2024-06-04T15:11:35.410749Z",
          "shell.execute_reply": "2024-06-04T15:11:35.421235Z"
        },
        "trusted": true
      },
      "execution_count": null,
      "outputs": [
        {
          "execution_count": 87,
          "output_type": "execute_result",
          "data": {
            "text/plain": "['available_1',\n 'available_0',\n '888_1284577',\n '888_1297729',\n '888_350726',\n '400_424566',\n '888_30603',\n '283_30603',\n '888_1154859',\n '888_832471']"
          },
          "metadata": {}
        }
      ]
    },
    {
      "cell_type": "markdown",
      "source": [
        "Построим матрицу свойств всего справочника items"
      ],
      "metadata": {
        "id": "txZr9piNgKTZ"
      }
    },
    {
      "cell_type": "code",
      "source": [
        "df_all.head()"
      ],
      "metadata": {
        "id": "tgtOoJYWgKTg",
        "outputId": "69b2c066-ce75-470f-ed50-c332d244fcf4",
        "execution": {
          "iopub.status.busy": "2024-06-04T15:11:35.425221Z",
          "iopub.execute_input": "2024-06-04T15:11:35.425745Z",
          "iopub.status.idle": "2024-06-04T15:11:35.450530Z",
          "shell.execute_reply.started": "2024-06-04T15:11:35.425699Z",
          "shell.execute_reply": "2024-06-04T15:11:35.448620Z"
        },
        "trusted": true
      },
      "execution_count": null,
      "outputs": [
        {
          "execution_count": 88,
          "output_type": "execute_result",
          "data": {
            "text/plain": "    property                                              value  itemid\n398      112                                       [112_679677]      15\n399      159                                       [159_519769]      15\n400      202                                       [202_789221]      15\n401      227                                       [227_433564]      15\n402      283  [283_433564, 283_245772, 283_789221, 283_80927...      15",
            "text/html": "<div>\n<style scoped>\n    .dataframe tbody tr th:only-of-type {\n        vertical-align: middle;\n    }\n\n    .dataframe tbody tr th {\n        vertical-align: top;\n    }\n\n    .dataframe thead th {\n        text-align: right;\n    }\n</style>\n<table border=\"1\" class=\"dataframe\">\n  <thead>\n    <tr style=\"text-align: right;\">\n      <th></th>\n      <th>property</th>\n      <th>value</th>\n      <th>itemid</th>\n    </tr>\n  </thead>\n  <tbody>\n    <tr>\n      <th>398</th>\n      <td>112</td>\n      <td>[112_679677]</td>\n      <td>15</td>\n    </tr>\n    <tr>\n      <th>399</th>\n      <td>159</td>\n      <td>[159_519769]</td>\n      <td>15</td>\n    </tr>\n    <tr>\n      <th>400</th>\n      <td>202</td>\n      <td>[202_789221]</td>\n      <td>15</td>\n    </tr>\n    <tr>\n      <th>401</th>\n      <td>227</td>\n      <td>[227_433564]</td>\n      <td>15</td>\n    </tr>\n    <tr>\n      <th>402</th>\n      <td>283</td>\n      <td>[283_433564, 283_245772, 283_789221, 283_80927...</td>\n      <td>15</td>\n    </tr>\n  </tbody>\n</table>\n</div>"
          },
          "metadata": {}
        }
      ]
    },
    {
      "cell_type": "code",
      "source": [
        "df_all = df_all.groupby(['itemid']).agg('sum')\n",
        "for x in tags:\n",
        "    df_all[x] =df_all['value'].apply(lambda y: str(x) in y)\n",
        "items_map = df_all.drop(['value','property'], axis=1)\n",
        "items_map.head(3)"
      ],
      "metadata": {
        "id": "ZZCLp6bHgKTj",
        "outputId": "41fb3bd7-5f0e-4084-f3de-7a822efff674",
        "execution": {
          "iopub.status.busy": "2024-06-04T15:11:35.452798Z",
          "iopub.execute_input": "2024-06-04T15:11:35.454218Z",
          "iopub.status.idle": "2024-06-04T15:11:39.210203Z",
          "shell.execute_reply.started": "2024-06-04T15:11:35.454155Z",
          "shell.execute_reply": "2024-06-04T15:11:39.208196Z"
        },
        "trusted": true
      },
      "execution_count": null,
      "outputs": [
        {
          "execution_count": 89,
          "output_type": "execute_result",
          "data": {
            "text/plain": "        available_1  available_0  888_1284577  888_1297729  888_350726  \\\nitemid                                                                   \n15             True         True        False        False       False   \n19             True         True        False        False       False   \n25             True         True        False        False       False   \n\n        400_424566  888_30603  283_30603  888_1154859  888_832471  ...  \\\nitemid                                                             ...   \n15           False      False      False        False       False  ...   \n19           False      False      False        False       False  ...   \n25           False      False       True         True       False  ...   \n\n        283_639502  888_150169  888_1135780  28_150169  888_628176  \\\nitemid                                                               \n15           False       False        False      False       False   \n19           False       False        False      False       False   \n25           False       False        False       True       False   \n\n        962_664227  689_150169  888_n96000  225_1066831  283_312815  \nitemid                                                               \n15           False       False       False        False       False  \n19           False        True       False        False       False  \n25           False       False       False        False        True  \n\n[3 rows x 40 columns]",
            "text/html": "<div>\n<style scoped>\n    .dataframe tbody tr th:only-of-type {\n        vertical-align: middle;\n    }\n\n    .dataframe tbody tr th {\n        vertical-align: top;\n    }\n\n    .dataframe thead th {\n        text-align: right;\n    }\n</style>\n<table border=\"1\" class=\"dataframe\">\n  <thead>\n    <tr style=\"text-align: right;\">\n      <th></th>\n      <th>available_1</th>\n      <th>available_0</th>\n      <th>888_1284577</th>\n      <th>888_1297729</th>\n      <th>888_350726</th>\n      <th>400_424566</th>\n      <th>888_30603</th>\n      <th>283_30603</th>\n      <th>888_1154859</th>\n      <th>888_832471</th>\n      <th>...</th>\n      <th>283_639502</th>\n      <th>888_150169</th>\n      <th>888_1135780</th>\n      <th>28_150169</th>\n      <th>888_628176</th>\n      <th>962_664227</th>\n      <th>689_150169</th>\n      <th>888_n96000</th>\n      <th>225_1066831</th>\n      <th>283_312815</th>\n    </tr>\n    <tr>\n      <th>itemid</th>\n      <th></th>\n      <th></th>\n      <th></th>\n      <th></th>\n      <th></th>\n      <th></th>\n      <th></th>\n      <th></th>\n      <th></th>\n      <th></th>\n      <th></th>\n      <th></th>\n      <th></th>\n      <th></th>\n      <th></th>\n      <th></th>\n      <th></th>\n      <th></th>\n      <th></th>\n      <th></th>\n      <th></th>\n    </tr>\n  </thead>\n  <tbody>\n    <tr>\n      <th>15</th>\n      <td>True</td>\n      <td>True</td>\n      <td>False</td>\n      <td>False</td>\n      <td>False</td>\n      <td>False</td>\n      <td>False</td>\n      <td>False</td>\n      <td>False</td>\n      <td>False</td>\n      <td>...</td>\n      <td>False</td>\n      <td>False</td>\n      <td>False</td>\n      <td>False</td>\n      <td>False</td>\n      <td>False</td>\n      <td>False</td>\n      <td>False</td>\n      <td>False</td>\n      <td>False</td>\n    </tr>\n    <tr>\n      <th>19</th>\n      <td>True</td>\n      <td>True</td>\n      <td>False</td>\n      <td>False</td>\n      <td>False</td>\n      <td>False</td>\n      <td>False</td>\n      <td>False</td>\n      <td>False</td>\n      <td>False</td>\n      <td>...</td>\n      <td>False</td>\n      <td>False</td>\n      <td>False</td>\n      <td>False</td>\n      <td>False</td>\n      <td>False</td>\n      <td>True</td>\n      <td>False</td>\n      <td>False</td>\n      <td>False</td>\n    </tr>\n    <tr>\n      <th>25</th>\n      <td>True</td>\n      <td>True</td>\n      <td>False</td>\n      <td>False</td>\n      <td>False</td>\n      <td>False</td>\n      <td>False</td>\n      <td>True</td>\n      <td>True</td>\n      <td>False</td>\n      <td>...</td>\n      <td>False</td>\n      <td>False</td>\n      <td>False</td>\n      <td>True</td>\n      <td>False</td>\n      <td>False</td>\n      <td>False</td>\n      <td>False</td>\n      <td>False</td>\n      <td>True</td>\n    </tr>\n  </tbody>\n</table>\n<p>3 rows × 40 columns</p>\n</div>"
          },
          "metadata": {}
        }
      ]
    },
    {
      "cell_type": "markdown",
      "source": [
        "Теперь у нас есть список характеристик элементов, давайте посмотрим, какие из них являются наиболее распространенными."
      ],
      "metadata": {
        "id": "ofDSI1ubgKTl"
      }
    },
    {
      "cell_type": "code",
      "source": [
        "# Подсчитаем, как часто встречается каждый тег\n",
        "item_freqs = df_all.drop(['value','property'], axis=1).sum().sort_values(ascending=False)[:10]\n",
        "item_freqs"
      ],
      "metadata": {
        "id": "DQ-iGIeLgKTm",
        "outputId": "dbf3f444-55c7-4c94-e125-148b58e1fdeb",
        "execution": {
          "iopub.status.busy": "2024-06-04T15:11:39.212339Z",
          "iopub.execute_input": "2024-06-04T15:11:39.212886Z",
          "iopub.status.idle": "2024-06-04T15:11:39.234975Z",
          "shell.execute_reply.started": "2024-06-04T15:11:39.212844Z",
          "shell.execute_reply": "2024-06-04T15:11:39.233230Z"
        },
        "trusted": true
      },
      "execution_count": null,
      "outputs": [
        {
          "execution_count": 90,
          "output_type": "execute_result",
          "data": {
            "text/plain": "764_1285872    11645\n112_679677     11645\n159_519769     11645\navailable_1    11484\navailable_0     8165\n283_30603       6261\n283_150169      5520\n283_1128577     4036\n28_150169       3855\n283_237874      3476\ndtype: int64"
          },
          "metadata": {}
        }
      ]
    },
    {
      "cell_type": "markdown",
      "source": [
        "Итак, похоже, что большинство наших items - 112_679677 или 159_519769, а также 764_1285872.  \n",
        "Большинство из них основное время доступно(available_1)  \n",
        "Также хорошо представлен признак 283 c описаниями."
      ],
      "metadata": {
        "id": "Ms1vOzdmgKTn"
      }
    },
    {
      "cell_type": "code",
      "source": [
        "# Заменим значения True/False на названия столбцов\n",
        "for x in df_all.drop(['value','property'], axis=1).columns:\n",
        "    df_all[x] = np.where(df_all[x]==True, x,\"\")\n",
        "\n",
        "# Получение уникального списка метаданных items\n",
        "item_metadata = df_all.drop(['value','property'], axis=1).columns\n",
        "item_metadata"
      ],
      "metadata": {
        "id": "s9H_KR9MgKTn",
        "outputId": "5442c292-98fa-46d0-b0c5-c6e6f55f47f9",
        "execution": {
          "iopub.status.busy": "2024-06-04T15:11:39.237189Z",
          "iopub.execute_input": "2024-06-04T15:11:39.237792Z",
          "iopub.status.idle": "2024-06-04T15:11:39.344035Z",
          "shell.execute_reply.started": "2024-06-04T15:11:39.237746Z",
          "shell.execute_reply": "2024-06-04T15:11:39.342075Z"
        },
        "trusted": true
      },
      "execution_count": null,
      "outputs": [
        {
          "execution_count": 91,
          "output_type": "execute_result",
          "data": {
            "text/plain": "Index(['available_1', 'available_0', '888_1284577', '888_1297729',\n       '888_350726', '400_424566', '888_30603', '283_30603', '888_1154859',\n       '888_832471', '112_679677', '159_519769', '764_1285872', '283_150169',\n       '400_n720000', '888_n36000', '888_726612', '888_784581', '283_1128577',\n       '888_1187104', '888_86628', '400_639502', '888_n48000', '888_424566',\n       '283_237874', '400_n552000', '888_992862', '888_1175087', '888_1318567',\n       '888_n12000', '283_639502', '888_150169', '888_1135780', '28_150169',\n       '888_628176', '962_664227', '689_150169', '888_n96000', '225_1066831',\n       '283_312815'],\n      dtype='object')"
          },
          "metadata": {}
        }
      ]
    },
    {
      "cell_type": "markdown",
      "source": [
        "Теперь, когда мы создали наши items features, мы можем переделать все наши mappings."
      ],
      "metadata": {
        "id": "gELyx8LegKTo"
      }
    },
    {
      "cell_type": "code",
      "source": [
        "# Создадим mappings для user, item and metadata\n",
        "dataset = Dataset()\n",
        "dataset.fit(train_users,\n",
        "            train_items,\n",
        "            item_features = item_metadata) # this time we pass a lisr of item features to create the index mappings for\n",
        "# len(dataset.mapping()) #на этот раз мы передаем список элементов, чтобы создать индексные отображения для\n",
        "\n",
        "# Save the mappings between users and their dummy IDs\n",
        "# (user id map, user feature map, item id map, item feature map)\n",
        "# Сохраните сопоставления между пользователями и их фиктивными идентификаторами\n",
        "# (карта идентификаторов пользователей, карта характеристик пользователей, карта идентификаторов предметов, карта характеристик предметов)\n",
        "user_mappings = dataset.mapping()[0]\n",
        "user_metadata_mappings = dataset.mapping()[1]\n",
        "item_mappings = dataset.mapping()[2]\n",
        "item_metadata_mappings = dataset.mapping()[3] # this is now different to the items mapping теперь это отличается от отображения элементов\n",
        "\n",
        "len(item_mappings),len(item_metadata_mappings) # 1 per each item + 1 per metadata"
      ],
      "metadata": {
        "id": "UJ9fV00SgKTr",
        "outputId": "9a02b4af-cdca-4426-8240-011fcbcd31d0",
        "execution": {
          "iopub.status.busy": "2024-06-04T15:11:39.345993Z",
          "iopub.execute_input": "2024-06-04T15:11:39.346443Z",
          "iopub.status.idle": "2024-06-04T15:11:39.395926Z",
          "shell.execute_reply.started": "2024-06-04T15:11:39.346409Z",
          "shell.execute_reply": "2024-06-04T15:11:39.394257Z"
        },
        "trusted": true
      },
      "execution_count": null,
      "outputs": [
        {
          "execution_count": 92,
          "output_type": "execute_result",
          "data": {
            "text/plain": "(14422, 14462)"
          },
          "metadata": {}
        }
      ]
    },
    {
      "cell_type": "markdown",
      "source": [
        "Из вышесказанного видно, что наше сопоставление элементов (индекс к ID элемента) теперь короче, чем наше сопоставление метаданных элемента, которое теперь имеет индекс для каждого ID элемента + каждый ID характеристики. Давайте создадим наши обратные отображения и построим наши взаимодействия. Для данных о признаках LightFM предпочитает иметь список (id пользователя/элемента, [feature1, feature2]) или (id пользователя/элемента, {feature1: feature1_weight, feature2: feature2_weight}). Поскольку мы пока не используем весовые коэффициенты, мы просто создадим список элементов и характеристик.\n",
        "\n",
        "По умолчанию LightFM нормализует (следит за тем, чтобы их сумма равнялась 1) все признаки в матрице весов. В целом это целесообразно, поскольку мы суммируем все вкрапления для каждого признака, чтобы создать окончательное представление, и хотим, чтобы все наши окончательные представления были примерно в одной шкале. Например, если предмет с 3 признаками имеет итоговое представление в 3 раза больше, чем предмет с 1 признаком, то это потенциально исказит ситуацию при вычислении точечного произведения, поскольку оно чувствительно к базовому размеру вкраплений, например, предмет с большим количеством признаков может получить повышенный балл просто из-за того, что у него много признаков. Именно этого позволяет избежать матрица весов и нормализация. Для нашего элемента с 3 признаками его окончательное представление будет (1/3* признак1) + (1/3 * признак2) + (1/3* признак3) вместо (признак1 + признак2 + признак3)."
      ],
      "metadata": {
        "id": "FjTypfCvgKTs"
      }
    },
    {
      "cell_type": "code",
      "source": [
        "# Создадим обратные mappings\n",
        "inv_user_mappings = {v:k for k, v in user_mappings.items()}\n",
        "inv_item_mappings = {v:k for k, v in item_mappings.items()}\n",
        "inv_item_metadata_mappings = {v:k for k, v in item_metadata_mappings.items()}\n",
        "\n",
        "# Создадим interactions matrix for each user, item and the weight\n",
        "train_interactions, train_weights = dataset.build_interactions(train[['userid', 'itemid', 'weights']].values)\n",
        "train_interactions, train_weights\n",
        "\n",
        "# Удалим всех new users in the test set\n",
        "test_interactions, test_weights = dataset.build_interactions(test[['userid', 'itemid']].values)\n",
        "test_interactions, test_weights\n",
        "\n",
        "# Создадим test set состоящий только из новых купленых продуктов\n",
        "test_new_interactions, test_new_weights = dataset.build_interactions(test_new[['userid', 'itemid']].values)\n",
        "test_new_interactions, test_new_weights"
      ],
      "metadata": {
        "id": "OJabmHq6gKTt",
        "outputId": "2a755a94-615b-4613-bf04-aca8858c24b2",
        "execution": {
          "iopub.status.busy": "2024-06-04T15:11:39.399148Z",
          "iopub.execute_input": "2024-06-04T15:11:39.399606Z",
          "iopub.status.idle": "2024-06-04T15:11:39.623918Z",
          "shell.execute_reply.started": "2024-06-04T15:11:39.399571Z",
          "shell.execute_reply": "2024-06-04T15:11:39.622261Z"
        },
        "trusted": true
      },
      "execution_count": null,
      "outputs": [
        {
          "execution_count": 93,
          "output_type": "execute_result",
          "data": {
            "text/plain": "(<16541x14422 sparse matrix of type '<class 'numpy.int32'>'\n \twith 585 stored elements in COOrdinate format>,\n <16541x14422 sparse matrix of type '<class 'numpy.float32'>'\n \twith 585 stored elements in COOrdinate format>)"
          },
          "metadata": {}
        }
      ]
    },
    {
      "cell_type": "code",
      "source": [
        "df_all.reset_index(inplace = True)\n",
        "_ = len(set(df_all['itemid']).difference(set(train_items)))\n",
        "print(f'Полный справочник items отличается от items входящих в train на {_} элементов')\n",
        "df_all = df_all[df_all['itemid'].isin(train_items)]\n",
        "_ = len(set(df_all['itemid']).difference(set(train_items)))\n",
        "print(f'Полный справочник items отличается от items входящих в train на {_} элементов')\n"
      ],
      "metadata": {
        "id": "myNDm38AgKTu",
        "outputId": "e51b4e9f-8fd2-4440-92c8-52a8d33ed6fc",
        "execution": {
          "iopub.status.busy": "2024-06-04T15:11:39.626072Z",
          "iopub.execute_input": "2024-06-04T15:11:39.626637Z",
          "iopub.status.idle": "2024-06-04T15:11:39.755110Z",
          "shell.execute_reply.started": "2024-06-04T15:11:39.626587Z",
          "shell.execute_reply": "2024-06-04T15:11:39.753198Z"
        },
        "trusted": true
      },
      "execution_count": null,
      "outputs": [
        {
          "name": "stdout",
          "text": "Полный справочник items отличается от items входящих в train на 0 элементов\nПолный справочник items отличается от items входящих в train на 0 элементов\n",
          "output_type": "stream"
        }
      ]
    },
    {
      "cell_type": "code",
      "source": [
        "# Создадим поиск items по их характеристикам\n",
        "item_to_metadata_lookup = [(x[0], list(filter(None, x[1:]))) for x in df_all.drop(columns=[\"value\", 'property']).values]\n",
        "\n",
        "# Посмотрим на сопоставление items с tags\n",
        "item_to_metadata_lookup[:2]"
      ],
      "metadata": {
        "id": "usBYMin2gKTx",
        "outputId": "805706a0-d42d-47f6-bf9c-00585be34583",
        "execution": {
          "iopub.status.busy": "2024-06-04T15:11:39.757373Z",
          "iopub.execute_input": "2024-06-04T15:11:39.757958Z",
          "iopub.status.idle": "2024-06-04T15:11:39.939745Z",
          "shell.execute_reply.started": "2024-06-04T15:11:39.757907Z",
          "shell.execute_reply": "2024-06-04T15:11:39.938079Z"
        },
        "trusted": true
      },
      "execution_count": null,
      "outputs": [
        {
          "execution_count": 95,
          "output_type": "execute_result",
          "data": {
            "text/plain": "[(15,\n  ['available_1',\n   'available_0',\n   '112_679677',\n   '159_519769',\n   '764_1285872',\n   '283_1128577',\n   '283_237874']),\n (19,\n  ['available_1',\n   'available_0',\n   '112_679677',\n   '159_519769',\n   '764_1285872',\n   '283_150169',\n   '689_150169'])]"
          },
          "metadata": {}
        }
      ]
    },
    {
      "cell_type": "code",
      "source": [
        "# Создание item feature + списка тегов с помощью LightFM\n",
        "item_metadata_list = dataset.build_item_features(item_to_metadata_lookup, normalize=True)"
      ],
      "metadata": {
        "id": "P2ITvdF6gKTy",
        "execution": {
          "iopub.status.busy": "2024-06-04T15:11:39.945067Z",
          "iopub.execute_input": "2024-06-04T15:11:39.945626Z",
          "iopub.status.idle": "2024-06-04T15:11:40.339668Z",
          "shell.execute_reply.started": "2024-06-04T15:11:39.945583Z",
          "shell.execute_reply": "2024-06-04T15:11:40.337869Z"
        },
        "trusted": true
      },
      "execution_count": null,
      "outputs": []
    },
    {
      "cell_type": "markdown",
      "source": [
        "Теперь, когда мы создали наши item features, мы можем переделать все наши mappings."
      ],
      "metadata": {
        "id": "9Q41Ha2tgKTz"
      }
    },
    {
      "cell_type": "code",
      "source": [
        "def objective(trial):\n",
        "\n",
        "    train, val = random_train_test_split(train_interactions, test_percentage=0.25, random_state=42)\n",
        "    train_weights, val_weight = random_train_test_split(train_interactions, test_percentage=0.25, random_state=42)\n",
        "\n",
        "    param = {\n",
        "        'no_components': trial.suggest_int(\"no_components\", 5, 64),\n",
        "        \"learning_schedule\": trial.suggest_categorical(\"learning_schedule\", [\"adagrad\", \"adadelta\"]),\n",
        "        \"loss\":  trial.suggest_categorical(\"loss\", [\"warp\"]),\n",
        "        \"learning_rate\": trial.suggest_float(\"learning_rate\", 0.001, 1),\n",
        "        \"item_alpha\": trial.suggest_float(\"item_alpha\", 1e-10, 1e-06, log=True),\n",
        "        \"user_alpha\": trial.suggest_float(\"user_alpha\", 1e-10, 1e-06, log=True),\n",
        "        \"max_sampled\": trial.suggest_int(\"max_sampled\", 5, 15),\n",
        "    }\n",
        "    epochs = trial.suggest_int(\"epochs\", 20, 50)\n",
        "    sample_weights = trial.suggest_categorical(\"sample_weight\", [\"None\", \"train_weights\"]) # добавим веса как параметр\n",
        "\n",
        "    model = LightFM(**param, random_state=123)\n",
        "    model.fit(train,\n",
        "              sample_weight= eval(sample_weights),\n",
        "              item_features = item_metadata_list, # use our item features\n",
        "              epochs = epochs,\n",
        "              verbose=True)\n",
        "\n",
        "    val_precision = precision_at_k(model,\n",
        "                                   val,\n",
        "                                   train_interactions=train,\n",
        "                                   item_features = item_metadata_list,\n",
        "                                   k=3).mean()\n",
        "\n",
        "    return val_precision\n",
        "\n",
        "study = optuna.create_study(direction=\"maximize\")\n",
        "\n",
        "# # Add in our original hyperparmeter values as a starting point for Optuna\n",
        "best_params[\"epochs\"]=20 # manually add epochs\n",
        "study.enqueue_trial(best_params)\n",
        "\n",
        "study.optimize(objective, n_trials=N_TRIAL)\n",
        "best_params = study.best_params\n",
        "for k, v in best_params.items():\n",
        "    print(k,\":\",v)"
      ],
      "metadata": {
        "id": "a-D4UNRWgKT0",
        "outputId": "0e504544-175e-4a23-b75a-5b7519ce346b",
        "execution": {
          "iopub.status.busy": "2024-06-04T15:11:40.342219Z",
          "iopub.execute_input": "2024-06-04T15:11:40.342859Z",
          "iopub.status.idle": "2024-06-04T15:12:34.945964Z",
          "shell.execute_reply.started": "2024-06-04T15:11:40.342778Z",
          "shell.execute_reply": "2024-06-04T15:12:34.944137Z"
        },
        "trusted": true
      },
      "execution_count": null,
      "outputs": [
        {
          "name": "stderr",
          "text": "[I 2024-06-04 15:11:40,359] A new study created in memory with name: no-name-e8ed68fe-f108-49ad-a084-4da519240937\nEpoch: 100%|██████████| 20/20 [00:03<00:00,  5.05it/s]\n[I 2024-06-04 15:12:00,430] Trial 0 finished with value: 0.002170668914914131 and parameters: {'no_components': 24, 'learning_schedule': 'adadelta', 'loss': 'warp', 'learning_rate': 0.08313342889884609, 'item_alpha': 2.254720883900032e-09, 'user_alpha': 5.449392279713436e-09, 'max_sampled': 7, 'epochs': 20, 'sample_weight': 'None'}. Best is trial 0 with value: 0.002170668914914131.\nEpoch: 100%|██████████| 32/32 [00:08<00:00,  3.89it/s]\n[I 2024-06-04 15:12:34,937] Trial 1 finished with value: 0.003730837255716324 and parameters: {'no_components': 35, 'learning_schedule': 'adadelta', 'loss': 'warp', 'learning_rate': 0.7914928730042717, 'item_alpha': 2.0251183985077732e-10, 'user_alpha': 7.550858015352099e-09, 'max_sampled': 8, 'epochs': 32, 'sample_weight': 'None'}. Best is trial 1 with value: 0.003730837255716324.\n",
          "output_type": "stream"
        },
        {
          "name": "stdout",
          "text": "no_components : 35\nlearning_schedule : adadelta\nloss : warp\nlearning_rate : 0.7914928730042717\nitem_alpha : 2.0251183985077732e-10\nuser_alpha : 7.550858015352099e-09\nmax_sampled : 8\nepochs : 32\nsample_weight : None\n",
          "output_type": "stream"
        }
      ]
    },
    {
      "cell_type": "markdown",
      "source": [],
      "metadata": {
        "id": "eB1Bib27nFPG"
      }
    },
    {
      "cell_type": "code",
      "source": [
        "num_epochs = best_params['epochs']\n",
        "sample_weights = best_params['sample_weight']\n",
        "del best_params['epochs']\n",
        "del best_params['sample_weight']\n",
        "\n",
        "# Train with the best parameters\n",
        "model = LightFM(**best_params, random_state=123)\n",
        "\n",
        "model.fit(train_interactions,\n",
        "          sample_weight= eval(sample_weights),\n",
        "          item_features = item_metadata_list,\n",
        "          epochs = num_epochs,\n",
        "          verbose=True)\n",
        "\n",
        "# Measure how well it did in the Test period\n",
        "for metric in [precision_at_k]:\n",
        "    # Get the precision and recall for Train and Test\n",
        "    for data, name in [(train_interactions, \"Train\"), (test_interactions, \"Test \")]:\n",
        "        print(f\"{name} {metric.__name__}: %.2f\" %\n",
        "              metric(model,\n",
        "                     data,\n",
        "                     item_features = item_metadata_list,\n",
        "                     k=3).mean())\n",
        "\n",
        "    # What about for just new-to-user purchases?\n",
        "    print(f\"Test new {metric.__name__}: %.3f\" %\n",
        "          metric(model,\n",
        "                 test_new_interactions,\n",
        "                 item_features = item_metadata_list,\n",
        "                 train_interactions=train_interactions, # supress previously bought prods from being recommended\n",
        "                 k=3).mean())"
      ],
      "metadata": {
        "id": "zHf9w5l_gKT1",
        "outputId": "2c5e7449-5c5f-4fc7-f40d-a649dd02436c",
        "execution": {
          "iopub.status.busy": "2024-06-04T15:12:34.948326Z",
          "iopub.execute_input": "2024-06-04T15:12:34.948865Z",
          "iopub.status.idle": "2024-06-04T15:14:18.890992Z",
          "shell.execute_reply.started": "2024-06-04T15:12:34.948797Z",
          "shell.execute_reply": "2024-06-04T15:14:18.889139Z"
        },
        "trusted": true
      },
      "execution_count": null,
      "outputs": [
        {
          "name": "stderr",
          "text": "Epoch: 100%|██████████| 32/32 [00:10<00:00,  2.99it/s]\n",
          "output_type": "stream"
        },
        {
          "name": "stdout",
          "text": "Train precision_at_k: 0.12\nTest  precision_at_k: 0.07\nTest new precision_at_k: 0.007\n",
          "output_type": "stream"
        }
      ]
    },
    {
      "cell_type": "markdown",
      "source": [
        "Добавление характеристик items не улучшило предсказательную способность модели, попробуем другой подход к feature engineering\n",
        "\n",
        "### item feature 3 ver\n",
        "\n",
        "Особенность данного подхода в том, что мы изменим вес признаков items.     \n",
        "На данный момент вес элемента и его признаков одинаков, поэтому если у элемента 20 признака, то итоговое представление этого элемента будет таким: 1/20 вложения идентичности элемента + 19/20 вложения признаков.   \n",
        "Один из способов изменить весовые коэффициенты в пользу более выразительной модели, сохранив при этом возможность делать предсказания с холодного старта и разумные предложения по элементам, - это уменьшить вес признаков в итоговом представлении,\n",
        "Возможно за счет этого качество предсказания при использовании характеристик элементов значительно снижается.\n",
        "Я хочу повысить вес основного признака и снизить вес его характеристик.  \n",
        "Для этого нам сначала нужно создать фрейм данных, в котором для каждого товара будут указаны все уникальные характеристики, связанные с ним в виде длинной текстовой строки."
      ],
      "metadata": {
        "id": "HI6pB70SnFPV"
      }
    },
    {
      "cell_type": "code",
      "source": [
        "# Try tf-idf\n",
        "from sklearn.feature_extraction.text import TfidfVectorizer\n",
        "\n",
        "text_data = pd.DataFrame(zip([(i[0]) for i in item_to_metadata_lookup],\n",
        "                            \t\t \t\t[' '.join(i[1]) for i in item_to_metadata_lookup]),\n",
        "                         \t\t\t\t\tcolumns=([\"product_name\", \"description\"]))\n",
        "list(text_data[text_data['product_name'] == 147]['description'])"
      ],
      "metadata": {
        "execution": {
          "iopub.status.busy": "2024-06-04T15:14:18.893463Z",
          "iopub.execute_input": "2024-06-04T15:14:18.894089Z",
          "iopub.status.idle": "2024-06-04T15:14:18.949876Z",
          "shell.execute_reply.started": "2024-06-04T15:14:18.894036Z",
          "shell.execute_reply": "2024-06-04T15:14:18.948276Z"
        },
        "trusted": true,
        "id": "XdPk6PCKaadc",
        "outputId": "45bd098c-cd01-4365-9a01-ecc79c098d3b"
      },
      "execution_count": null,
      "outputs": [
        {
          "execution_count": 99,
          "output_type": "execute_result",
          "data": {
            "text/plain": "['available_1 888_1284577 283_30603 112_679677 159_519769 764_1285872 283_150169 888_n36000 283_1128577 283_237874 888_n12000']"
          },
          "metadata": {}
        }
      ]
    },
    {
      "cell_type": "code",
      "source": [
        "text_data.loc[:,'description'] = text_data['description'].str.replace('.', '', regex = False)"
      ],
      "metadata": {
        "execution": {
          "iopub.status.busy": "2024-06-04T15:14:18.951891Z",
          "iopub.execute_input": "2024-06-04T15:14:18.952428Z",
          "iopub.status.idle": "2024-06-04T15:14:18.974160Z",
          "shell.execute_reply.started": "2024-06-04T15:14:18.952377Z",
          "shell.execute_reply": "2024-06-04T15:14:18.971908Z"
        },
        "trusted": true,
        "id": "tGbfszVwaadd"
      },
      "execution_count": null,
      "outputs": []
    },
    {
      "cell_type": "code",
      "source": [
        "list(text_data[text_data['product_name'] == 147]['description'])"
      ],
      "metadata": {
        "execution": {
          "iopub.status.busy": "2024-06-04T15:14:18.976635Z",
          "iopub.execute_input": "2024-06-04T15:14:18.977270Z",
          "iopub.status.idle": "2024-06-04T15:14:18.993400Z",
          "shell.execute_reply.started": "2024-06-04T15:14:18.977210Z",
          "shell.execute_reply": "2024-06-04T15:14:18.992008Z"
        },
        "trusted": true,
        "id": "MOQAQx2Uaade",
        "outputId": "3b8c6bd7-a3eb-4feb-b699-c3a60fe16d12"
      },
      "execution_count": null,
      "outputs": [
        {
          "execution_count": 101,
          "output_type": "execute_result",
          "data": {
            "text/plain": "['available_1 888_1284577 283_30603 112_679677 159_519769 764_1285872 283_150169 888_n36000 283_1128577 283_237874 888_n12000']"
          },
          "metadata": {}
        }
      ]
    },
    {
      "cell_type": "markdown",
      "source": [
        "Они выглядят довольно хорошо.  \n",
        "еперь мы обработали наши текстовые данные и можем вызвать TfidfVectorizer(), чтобы создать весовые коэффициенты для каждого из тегов для каждого из товаров.  \n",
        "Приведенный ниже код создает рамку данных pandas со строкой для каждого товара и столбцом для каждой характеристики товара, например \"сверкающий\".   \n",
        "Значение столбца - это соответствующий tf-idf вес для данного товара и характеристики товара.   \n",
        "Затем мы можем просмотреть каждую строку и вернуть словарь с характеристикой товара и его весом, отфильтровав те случаи, когда вес >0:"
      ],
      "metadata": {
        "id": "J20dhn0Saadf"
      }
    },
    {
      "cell_type": "code",
      "source": [
        "tfidfvectorizer = TfidfVectorizer()\n",
        "tfidf_weights = tfidfvectorizer.fit_transform(text_data[\"description\"])\n",
        "tfidf_tokens = tfidfvectorizer.get_feature_names_out()\n",
        "tfidf = pd.DataFrame(data = tfidf_weights.toarray(), index = text_data['product_name'], columns = tfidf_tokens).reset_index()"
      ],
      "metadata": {
        "execution": {
          "iopub.status.busy": "2024-06-04T15:14:18.995609Z",
          "iopub.execute_input": "2024-06-04T15:14:18.996101Z",
          "iopub.status.idle": "2024-06-04T15:14:19.222441Z",
          "shell.execute_reply.started": "2024-06-04T15:14:18.996051Z",
          "shell.execute_reply": "2024-06-04T15:14:19.219568Z"
        },
        "trusted": true,
        "id": "jgGFI_Meaadg"
      },
      "execution_count": null,
      "outputs": []
    },
    {
      "cell_type": "code",
      "source": [
        "tfidf_weights =[]\n",
        "for x in tfidf.values:\n",
        "    tfidf_weights.append(tuple([x[0], dict(list(filter(lambda item: item[1] > 0, zip(tfidf.columns[1:], x[1:]))))]))"
      ],
      "metadata": {
        "execution": {
          "iopub.status.busy": "2024-06-04T15:14:19.225076Z",
          "iopub.execute_input": "2024-06-04T15:14:19.229506Z",
          "iopub.status.idle": "2024-06-04T15:14:19.681576Z",
          "shell.execute_reply.started": "2024-06-04T15:14:19.229418Z",
          "shell.execute_reply": "2024-06-04T15:14:19.679912Z"
        },
        "trusted": true,
        "id": "70yz0JEbaadh"
      },
      "execution_count": null,
      "outputs": []
    },
    {
      "cell_type": "code",
      "source": [
        "tfidf_weights[:3]"
      ],
      "metadata": {
        "execution": {
          "iopub.status.busy": "2024-06-04T15:14:19.683563Z",
          "iopub.execute_input": "2024-06-04T15:14:19.684011Z",
          "iopub.status.idle": "2024-06-04T15:14:19.698902Z",
          "shell.execute_reply.started": "2024-06-04T15:14:19.683974Z",
          "shell.execute_reply": "2024-06-04T15:14:19.696897Z"
        },
        "trusted": true,
        "id": "DkNkWsxOaadi",
        "outputId": "521c3014-4433-4e93-9ac1-c9bffeced2b2"
      },
      "execution_count": null,
      "outputs": [
        {
          "execution_count": 104,
          "output_type": "execute_result",
          "data": {
            "text/plain": "[(15.0,\n  {'112_679677': 0.2583353124824802,\n   '159_519769': 0.2583353124824802,\n   '283_1128577': 0.5320314832959111,\n   '283_237874': 0.570609209297835,\n   '764_1285872': 0.2583353124824802,\n   'available_0': 0.3500401066816297,\n   'available_1': 0.2619315821631736}),\n (19.0,\n  {'112_679677': 0.26849908424265523,\n   '159_519769': 0.26849908424265523,\n   '283_150169': 0.4689078129932667,\n   '689_150169': 0.5978111966488328,\n   '764_1285872': 0.26849908424265523,\n   'available_0': 0.36381185053279474,\n   'available_1': 0.2722368431524879}),\n (25.0,\n  {'112_679677': 0.17071361776188412,\n   '159_519769': 0.17071361776188412,\n   '283_1128577': 0.35157802626315743,\n   '283_30603': 0.27663512687350456,\n   '283_312815': 0.4731090634070069,\n   '28_150169': 0.3594089100262583,\n   '764_1285872': 0.17071361776188412,\n   '888_1154859': 0.5253219084448664,\n   'available_0': 0.2313141490381012,\n   'available_1': 0.17309011132654217})]"
          },
          "metadata": {}
        }
      ]
    },
    {
      "cell_type": "code",
      "source": [
        "tfidf_item_list = dataset.build_item_features(tfidf_weights, normalize=True)\n",
        "tfidf_weights[:3]"
      ],
      "metadata": {
        "execution": {
          "iopub.status.busy": "2024-06-04T15:14:19.701082Z",
          "iopub.execute_input": "2024-06-04T15:14:19.701543Z",
          "iopub.status.idle": "2024-06-04T15:14:19.996574Z",
          "shell.execute_reply.started": "2024-06-04T15:14:19.701505Z",
          "shell.execute_reply": "2024-06-04T15:14:19.995022Z"
        },
        "trusted": true,
        "id": "p6DaJmJ7aadj",
        "outputId": "a90adeac-10e6-4f3b-c56c-9a0012118fd6"
      },
      "execution_count": null,
      "outputs": [
        {
          "execution_count": 105,
          "output_type": "execute_result",
          "data": {
            "text/plain": "[(15.0,\n  {'112_679677': 0.2583353124824802,\n   '159_519769': 0.2583353124824802,\n   '283_1128577': 0.5320314832959111,\n   '283_237874': 0.570609209297835,\n   '764_1285872': 0.2583353124824802,\n   'available_0': 0.3500401066816297,\n   'available_1': 0.2619315821631736}),\n (19.0,\n  {'112_679677': 0.26849908424265523,\n   '159_519769': 0.26849908424265523,\n   '283_150169': 0.4689078129932667,\n   '689_150169': 0.5978111966488328,\n   '764_1285872': 0.26849908424265523,\n   'available_0': 0.36381185053279474,\n   'available_1': 0.2722368431524879}),\n (25.0,\n  {'112_679677': 0.17071361776188412,\n   '159_519769': 0.17071361776188412,\n   '283_1128577': 0.35157802626315743,\n   '283_30603': 0.27663512687350456,\n   '283_312815': 0.4731090634070069,\n   '28_150169': 0.3594089100262583,\n   '764_1285872': 0.17071361776188412,\n   '888_1154859': 0.5253219084448664,\n   'available_0': 0.2313141490381012,\n   'available_1': 0.17309011132654217})]"
          },
          "metadata": {}
        }
      ]
    },
    {
      "cell_type": "markdown",
      "source": [
        "Теперь мы видим, что у нашего первого товара \"Mirabella Rose Brut\" есть 3 характеристики: \"Rose\", \"Brut\" и \"Sparkling\". Мы видим, что \"Розовое\" получило наивысшую оценку, что вполне логично. Тот факт, что это игристое вино, безусловно, важен, но то, что это еще и роза, вероятно, важнее. Теперь попробуем запустить optuna с нашей матрицей элементов tf-idf в качестве одного из возможных гиперпараметров:"
      ],
      "metadata": {
        "id": "YuyJo689aadk"
      }
    },
    {
      "cell_type": "code",
      "source": [
        "def objective(trial):\n",
        "\n",
        "    train, val = random_train_test_split(train_interactions, test_percentage=0.25, random_state=42)\n",
        "\n",
        "    param = {\n",
        "        'no_components': trial.suggest_int(\"no_components\", 5, 64),\n",
        "        \"learning_schedule\": trial.suggest_categorical(\"learning_schedule\", [\"adagrad\", \"adadelta\"]),\n",
        "        \"loss\":  trial.suggest_categorical(\"loss\", [\"warp\"]),\n",
        "        \"learning_rate\": trial.suggest_float(\"learning_rate\", 0.001, 1),\n",
        "        \"item_alpha\": trial.suggest_float(\"item_alpha\", 1e-10, 1e-06, log=True),\n",
        "        \"user_alpha\": trial.suggest_float(\"user_alpha\", 1e-10, 1e-06, log=True),\n",
        "        \"max_sampled\": trial.suggest_int(\"max_sampled\", 5, 15),\n",
        "    }\n",
        "    epochs = trial.suggest_int(\"epochs\", 20, 50)\n",
        "    item_features = trial.suggest_categorical(\"item_weights\", [\"item_metadata_list\", \"tfidf_item_list\"])\n",
        "\n",
        "    model = LightFM(**param, random_state=123)\n",
        "    model.fit(train,\n",
        "              item_features = eval(item_features),\n",
        "              epochs = epochs,\n",
        "              verbose=True)\n",
        "\n",
        "    val_precision = precision_at_k(model,\n",
        "                                   val,\n",
        "                                   train_interactions=train,\n",
        "                                   item_features = eval(item_features),\n",
        "                                   k=10).mean()\n",
        "\n",
        "    return val_precision\n",
        "\n",
        "study = optuna.create_study(direction=\"maximize\")\n",
        "\n",
        "# Add our last run\n",
        "best_params[\"epochs\"]=num_epochs # manually add epochs\n",
        "best_params[\"item_weights\"]=\"item_metadata_list\" # and feature weights\n",
        "study.enqueue_trial(best_params)\n",
        "\n",
        "# Run the study\n",
        "study.optimize(objective, n_trials=N_TRIAL)\n",
        "\n",
        "best_params = study.best_params\n",
        "for k, v in best_params.items():\n",
        "    print(k,\":\",v)"
      ],
      "metadata": {
        "execution": {
          "iopub.status.busy": "2024-06-04T15:14:19.998183Z",
          "iopub.execute_input": "2024-06-04T15:14:19.998580Z",
          "iopub.status.idle": "2024-06-04T15:15:21.452152Z",
          "shell.execute_reply.started": "2024-06-04T15:14:19.998546Z",
          "shell.execute_reply": "2024-06-04T15:15:21.450418Z"
        },
        "trusted": true,
        "id": "I4M_W4gDaadk",
        "outputId": "48ba7828-47bf-438d-bc45-6d4397655a34"
      },
      "execution_count": null,
      "outputs": [
        {
          "name": "stderr",
          "text": "[I 2024-06-04 15:14:20,014] A new study created in memory with name: no-name-dfb1a5d1-df90-401b-82c8-b8d2157f4e02\nEpoch: 100%|██████████| 32/32 [00:07<00:00,  4.10it/s]\n[I 2024-06-04 15:14:53,300] Trial 0 finished with value: 0.0020146521274000406 and parameters: {'no_components': 35, 'learning_schedule': 'adadelta', 'loss': 'warp', 'learning_rate': 0.7914928730042717, 'item_alpha': 2.0251183985077732e-10, 'user_alpha': 7.550858015352099e-09, 'max_sampled': 8, 'epochs': 32, 'item_weights': 'item_metadata_list'}. Best is trial 0 with value: 0.0020146521274000406.\nEpoch: 100%|██████████| 36/36 [00:08<00:00,  4.28it/s]\n[I 2024-06-04 15:15:21,443] Trial 1 finished with value: 0.001526251551695168 and parameters: {'no_components': 30, 'learning_schedule': 'adadelta', 'loss': 'warp', 'learning_rate': 0.818069214772152, 'item_alpha': 3.3168247151395095e-08, 'user_alpha': 2.1579827138578027e-10, 'max_sampled': 12, 'epochs': 36, 'item_weights': 'item_metadata_list'}. Best is trial 0 with value: 0.0020146521274000406.\n",
          "output_type": "stream"
        },
        {
          "name": "stdout",
          "text": "no_components : 35\nlearning_schedule : adadelta\nloss : warp\nlearning_rate : 0.7914928730042717\nitem_alpha : 2.0251183985077732e-10\nuser_alpha : 7.550858015352099e-09\nmax_sampled : 8\nepochs : 32\nitem_weights : item_metadata_list\n",
          "output_type": "stream"
        }
      ]
    },
    {
      "cell_type": "markdown",
      "source": [
        "В этом случае оригинальные равномерно разделенные веса работают лучше (по крайней мере, при том количестве испытаний, которое мы провели). Это позволяет сохранить простоту и легкость объяснения итоговой модели, что несомненный плюс! Давайте обучим лучшую модель из наших испытаний и посмотрим, как она работает в целом."
      ],
      "metadata": {
        "id": "XkwIMGP-aadl"
      }
    },
    {
      "cell_type": "code",
      "source": [
        "num_epochs = best_params['epochs']\n",
        "item_features = best_params['item_weights']\n",
        "del best_params['epochs']\n",
        "del best_params['item_weights']\n",
        "\n",
        "# Which parameters were the most important?\n",
        "optuna.importance.get_param_importances(study)\n",
        "fig = optuna.visualization.plot_param_importances(study)\n",
        "fig.show()\n",
        "\n",
        "# Train with the best parameters\n",
        "model = LightFM(**best_params, random_state=123)\n",
        "\n",
        "model.fit(train_interactions,\n",
        "          item_features = eval(item_features),\n",
        "          epochs = num_epochs,\n",
        "          verbose=True)\n",
        "\n",
        "# Measure how well it did in the Test period\n",
        "for metric in [precision_at_k]:\n",
        "    # Get the precision and recall for Train and Test\n",
        "    for data, name in [(train_interactions, \"Train\"), (test_interactions, \"Test \")]:\n",
        "        print(f\"{name} {metric.__name__}: %.2f\" %\n",
        "              metric(model,\n",
        "                     data,\n",
        "                     item_features =  eval(item_features),\n",
        "                     k=3).mean())\n",
        "           # Покупки только новых items\n",
        "        print(f\"Test new {metric.__name__}: %.3f\" %\n",
        "              metric(model,\n",
        "                     test_new_interactions,\n",
        "                     item_features = item_metadata_list,\n",
        "                     train_interactions=train_interactions, #запретим рекомендовать ранее купленные items\n",
        "                     k=3).mean())\n"
      ],
      "metadata": {
        "execution": {
          "iopub.status.busy": "2024-06-04T15:15:21.454212Z",
          "iopub.execute_input": "2024-06-04T15:15:21.454740Z",
          "iopub.status.idle": "2024-06-04T15:17:06.932454Z",
          "shell.execute_reply.started": "2024-06-04T15:15:21.454693Z",
          "shell.execute_reply": "2024-06-04T15:17:06.930472Z"
        },
        "trusted": true,
        "id": "1KR0DWq9aadm",
        "outputId": "d68ded84-66a2-436b-b7ba-f4e45bd0ef25"
      },
      "execution_count": null,
      "outputs": [
        {
          "output_type": "display_data",
          "data": {
            "text/html": "<div>                            <div id=\"a0e3b150-6c60-497b-955b-db4a8bc751bc\" class=\"plotly-graph-div\" style=\"height:525px; width:100%;\"></div>            <script type=\"text/javascript\">                require([\"plotly\"], function(Plotly) {                    window.PLOTLYENV=window.PLOTLYENV || {};                                    if (document.getElementById(\"a0e3b150-6c60-497b-955b-db4a8bc751bc\")) {                    Plotly.newPlot(                        \"a0e3b150-6c60-497b-955b-db4a8bc751bc\",                        [{\"cliponaxis\":false,\"hovertemplate\":[\"item_weights (CategoricalDistribution): 0.0\\u003cextra\\u003e\\u003c\\u002fextra\\u003e\",\"learning_schedule (CategoricalDistribution): 0.0\\u003cextra\\u003e\\u003c\\u002fextra\\u003e\",\"loss (CategoricalDistribution): 0.0\\u003cextra\\u003e\\u003c\\u002fextra\\u003e\",\"item_alpha (FloatDistribution): 2.347011414519493e-31\\u003cextra\\u003e\\u003c\\u002fextra\\u003e\",\"user_alpha (FloatDistribution): 2.347011414519493e-31\\u003cextra\\u003e\\u003c\\u002fextra\\u003e\",\"epochs (IntDistribution): 0.2222222222222222\\u003cextra\\u003e\\u003c\\u002fextra\\u003e\",\"max_sampled (IntDistribution): 0.2222222222222222\\u003cextra\\u003e\\u003c\\u002fextra\\u003e\",\"learning_rate (FloatDistribution): 0.25925925925925924\\u003cextra\\u003e\\u003c\\u002fextra\\u003e\",\"no_components (IntDistribution): 0.2962962962962963\\u003cextra\\u003e\\u003c\\u002fextra\\u003e\"],\"name\":\"Objective Value\",\"orientation\":\"h\",\"text\":[\"\\u003c0.01\",\"\\u003c0.01\",\"\\u003c0.01\",\"\\u003c0.01\",\"\\u003c0.01\",\"0.22\",\"0.22\",\"0.26\",\"0.30\"],\"textposition\":\"outside\",\"x\":[0.0,0.0,0.0,2.347011414519493e-31,2.347011414519493e-31,0.2222222222222222,0.2222222222222222,0.25925925925925924,0.2962962962962963],\"y\":[\"item_weights\",\"learning_schedule\",\"loss\",\"item_alpha\",\"user_alpha\",\"epochs\",\"max_sampled\",\"learning_rate\",\"no_components\"],\"type\":\"bar\"}],                        {\"title\":{\"text\":\"Hyperparameter Importances\"},\"xaxis\":{\"title\":{\"text\":\"Hyperparameter Importance\"}},\"yaxis\":{\"title\":{\"text\":\"Hyperparameter\"}},\"template\":{\"data\":{\"histogram2dcontour\":[{\"type\":\"histogram2dcontour\",\"colorbar\":{\"outlinewidth\":0,\"ticks\":\"\"},\"colorscale\":[[0.0,\"#0d0887\"],[0.1111111111111111,\"#46039f\"],[0.2222222222222222,\"#7201a8\"],[0.3333333333333333,\"#9c179e\"],[0.4444444444444444,\"#bd3786\"],[0.5555555555555556,\"#d8576b\"],[0.6666666666666666,\"#ed7953\"],[0.7777777777777778,\"#fb9f3a\"],[0.8888888888888888,\"#fdca26\"],[1.0,\"#f0f921\"]]}],\"choropleth\":[{\"type\":\"choropleth\",\"colorbar\":{\"outlinewidth\":0,\"ticks\":\"\"}}],\"histogram2d\":[{\"type\":\"histogram2d\",\"colorbar\":{\"outlinewidth\":0,\"ticks\":\"\"},\"colorscale\":[[0.0,\"#0d0887\"],[0.1111111111111111,\"#46039f\"],[0.2222222222222222,\"#7201a8\"],[0.3333333333333333,\"#9c179e\"],[0.4444444444444444,\"#bd3786\"],[0.5555555555555556,\"#d8576b\"],[0.6666666666666666,\"#ed7953\"],[0.7777777777777778,\"#fb9f3a\"],[0.8888888888888888,\"#fdca26\"],[1.0,\"#f0f921\"]]}],\"heatmap\":[{\"type\":\"heatmap\",\"colorbar\":{\"outlinewidth\":0,\"ticks\":\"\"},\"colorscale\":[[0.0,\"#0d0887\"],[0.1111111111111111,\"#46039f\"],[0.2222222222222222,\"#7201a8\"],[0.3333333333333333,\"#9c179e\"],[0.4444444444444444,\"#bd3786\"],[0.5555555555555556,\"#d8576b\"],[0.6666666666666666,\"#ed7953\"],[0.7777777777777778,\"#fb9f3a\"],[0.8888888888888888,\"#fdca26\"],[1.0,\"#f0f921\"]]}],\"heatmapgl\":[{\"type\":\"heatmapgl\",\"colorbar\":{\"outlinewidth\":0,\"ticks\":\"\"},\"colorscale\":[[0.0,\"#0d0887\"],[0.1111111111111111,\"#46039f\"],[0.2222222222222222,\"#7201a8\"],[0.3333333333333333,\"#9c179e\"],[0.4444444444444444,\"#bd3786\"],[0.5555555555555556,\"#d8576b\"],[0.6666666666666666,\"#ed7953\"],[0.7777777777777778,\"#fb9f3a\"],[0.8888888888888888,\"#fdca26\"],[1.0,\"#f0f921\"]]}],\"contourcarpet\":[{\"type\":\"contourcarpet\",\"colorbar\":{\"outlinewidth\":0,\"ticks\":\"\"}}],\"contour\":[{\"type\":\"contour\",\"colorbar\":{\"outlinewidth\":0,\"ticks\":\"\"},\"colorscale\":[[0.0,\"#0d0887\"],[0.1111111111111111,\"#46039f\"],[0.2222222222222222,\"#7201a8\"],[0.3333333333333333,\"#9c179e\"],[0.4444444444444444,\"#bd3786\"],[0.5555555555555556,\"#d8576b\"],[0.6666666666666666,\"#ed7953\"],[0.7777777777777778,\"#fb9f3a\"],[0.8888888888888888,\"#fdca26\"],[1.0,\"#f0f921\"]]}],\"surface\":[{\"type\":\"surface\",\"colorbar\":{\"outlinewidth\":0,\"ticks\":\"\"},\"colorscale\":[[0.0,\"#0d0887\"],[0.1111111111111111,\"#46039f\"],[0.2222222222222222,\"#7201a8\"],[0.3333333333333333,\"#9c179e\"],[0.4444444444444444,\"#bd3786\"],[0.5555555555555556,\"#d8576b\"],[0.6666666666666666,\"#ed7953\"],[0.7777777777777778,\"#fb9f3a\"],[0.8888888888888888,\"#fdca26\"],[1.0,\"#f0f921\"]]}],\"mesh3d\":[{\"type\":\"mesh3d\",\"colorbar\":{\"outlinewidth\":0,\"ticks\":\"\"}}],\"scatter\":[{\"fillpattern\":{\"fillmode\":\"overlay\",\"size\":10,\"solidity\":0.2},\"type\":\"scatter\"}],\"parcoords\":[{\"type\":\"parcoords\",\"line\":{\"colorbar\":{\"outlinewidth\":0,\"ticks\":\"\"}}}],\"scatterpolargl\":[{\"type\":\"scatterpolargl\",\"marker\":{\"colorbar\":{\"outlinewidth\":0,\"ticks\":\"\"}}}],\"bar\":[{\"error_x\":{\"color\":\"#2a3f5f\"},\"error_y\":{\"color\":\"#2a3f5f\"},\"marker\":{\"line\":{\"color\":\"#E5ECF6\",\"width\":0.5},\"pattern\":{\"fillmode\":\"overlay\",\"size\":10,\"solidity\":0.2}},\"type\":\"bar\"}],\"scattergeo\":[{\"type\":\"scattergeo\",\"marker\":{\"colorbar\":{\"outlinewidth\":0,\"ticks\":\"\"}}}],\"scatterpolar\":[{\"type\":\"scatterpolar\",\"marker\":{\"colorbar\":{\"outlinewidth\":0,\"ticks\":\"\"}}}],\"histogram\":[{\"marker\":{\"pattern\":{\"fillmode\":\"overlay\",\"size\":10,\"solidity\":0.2}},\"type\":\"histogram\"}],\"scattergl\":[{\"type\":\"scattergl\",\"marker\":{\"colorbar\":{\"outlinewidth\":0,\"ticks\":\"\"}}}],\"scatter3d\":[{\"type\":\"scatter3d\",\"line\":{\"colorbar\":{\"outlinewidth\":0,\"ticks\":\"\"}},\"marker\":{\"colorbar\":{\"outlinewidth\":0,\"ticks\":\"\"}}}],\"scattermapbox\":[{\"type\":\"scattermapbox\",\"marker\":{\"colorbar\":{\"outlinewidth\":0,\"ticks\":\"\"}}}],\"scatterternary\":[{\"type\":\"scatterternary\",\"marker\":{\"colorbar\":{\"outlinewidth\":0,\"ticks\":\"\"}}}],\"scattercarpet\":[{\"type\":\"scattercarpet\",\"marker\":{\"colorbar\":{\"outlinewidth\":0,\"ticks\":\"\"}}}],\"carpet\":[{\"aaxis\":{\"endlinecolor\":\"#2a3f5f\",\"gridcolor\":\"white\",\"linecolor\":\"white\",\"minorgridcolor\":\"white\",\"startlinecolor\":\"#2a3f5f\"},\"baxis\":{\"endlinecolor\":\"#2a3f5f\",\"gridcolor\":\"white\",\"linecolor\":\"white\",\"minorgridcolor\":\"white\",\"startlinecolor\":\"#2a3f5f\"},\"type\":\"carpet\"}],\"table\":[{\"cells\":{\"fill\":{\"color\":\"#EBF0F8\"},\"line\":{\"color\":\"white\"}},\"header\":{\"fill\":{\"color\":\"#C8D4E3\"},\"line\":{\"color\":\"white\"}},\"type\":\"table\"}],\"barpolar\":[{\"marker\":{\"line\":{\"color\":\"#E5ECF6\",\"width\":0.5},\"pattern\":{\"fillmode\":\"overlay\",\"size\":10,\"solidity\":0.2}},\"type\":\"barpolar\"}],\"pie\":[{\"automargin\":true,\"type\":\"pie\"}]},\"layout\":{\"autotypenumbers\":\"strict\",\"colorway\":[\"#636efa\",\"#EF553B\",\"#00cc96\",\"#ab63fa\",\"#FFA15A\",\"#19d3f3\",\"#FF6692\",\"#B6E880\",\"#FF97FF\",\"#FECB52\"],\"font\":{\"color\":\"#2a3f5f\"},\"hovermode\":\"closest\",\"hoverlabel\":{\"align\":\"left\"},\"paper_bgcolor\":\"white\",\"plot_bgcolor\":\"#E5ECF6\",\"polar\":{\"bgcolor\":\"#E5ECF6\",\"angularaxis\":{\"gridcolor\":\"white\",\"linecolor\":\"white\",\"ticks\":\"\"},\"radialaxis\":{\"gridcolor\":\"white\",\"linecolor\":\"white\",\"ticks\":\"\"}},\"ternary\":{\"bgcolor\":\"#E5ECF6\",\"aaxis\":{\"gridcolor\":\"white\",\"linecolor\":\"white\",\"ticks\":\"\"},\"baxis\":{\"gridcolor\":\"white\",\"linecolor\":\"white\",\"ticks\":\"\"},\"caxis\":{\"gridcolor\":\"white\",\"linecolor\":\"white\",\"ticks\":\"\"}},\"coloraxis\":{\"colorbar\":{\"outlinewidth\":0,\"ticks\":\"\"}},\"colorscale\":{\"sequential\":[[0.0,\"#0d0887\"],[0.1111111111111111,\"#46039f\"],[0.2222222222222222,\"#7201a8\"],[0.3333333333333333,\"#9c179e\"],[0.4444444444444444,\"#bd3786\"],[0.5555555555555556,\"#d8576b\"],[0.6666666666666666,\"#ed7953\"],[0.7777777777777778,\"#fb9f3a\"],[0.8888888888888888,\"#fdca26\"],[1.0,\"#f0f921\"]],\"sequentialminus\":[[0.0,\"#0d0887\"],[0.1111111111111111,\"#46039f\"],[0.2222222222222222,\"#7201a8\"],[0.3333333333333333,\"#9c179e\"],[0.4444444444444444,\"#bd3786\"],[0.5555555555555556,\"#d8576b\"],[0.6666666666666666,\"#ed7953\"],[0.7777777777777778,\"#fb9f3a\"],[0.8888888888888888,\"#fdca26\"],[1.0,\"#f0f921\"]],\"diverging\":[[0,\"#8e0152\"],[0.1,\"#c51b7d\"],[0.2,\"#de77ae\"],[0.3,\"#f1b6da\"],[0.4,\"#fde0ef\"],[0.5,\"#f7f7f7\"],[0.6,\"#e6f5d0\"],[0.7,\"#b8e186\"],[0.8,\"#7fbc41\"],[0.9,\"#4d9221\"],[1,\"#276419\"]]},\"xaxis\":{\"gridcolor\":\"white\",\"linecolor\":\"white\",\"ticks\":\"\",\"title\":{\"standoff\":15},\"zerolinecolor\":\"white\",\"automargin\":true,\"zerolinewidth\":2},\"yaxis\":{\"gridcolor\":\"white\",\"linecolor\":\"white\",\"ticks\":\"\",\"title\":{\"standoff\":15},\"zerolinecolor\":\"white\",\"automargin\":true,\"zerolinewidth\":2},\"scene\":{\"xaxis\":{\"backgroundcolor\":\"#E5ECF6\",\"gridcolor\":\"white\",\"linecolor\":\"white\",\"showbackground\":true,\"ticks\":\"\",\"zerolinecolor\":\"white\",\"gridwidth\":2},\"yaxis\":{\"backgroundcolor\":\"#E5ECF6\",\"gridcolor\":\"white\",\"linecolor\":\"white\",\"showbackground\":true,\"ticks\":\"\",\"zerolinecolor\":\"white\",\"gridwidth\":2},\"zaxis\":{\"backgroundcolor\":\"#E5ECF6\",\"gridcolor\":\"white\",\"linecolor\":\"white\",\"showbackground\":true,\"ticks\":\"\",\"zerolinecolor\":\"white\",\"gridwidth\":2}},\"shapedefaults\":{\"line\":{\"color\":\"#2a3f5f\"}},\"annotationdefaults\":{\"arrowcolor\":\"#2a3f5f\",\"arrowhead\":0,\"arrowwidth\":1},\"geo\":{\"bgcolor\":\"white\",\"landcolor\":\"#E5ECF6\",\"subunitcolor\":\"white\",\"showland\":true,\"showlakes\":true,\"lakecolor\":\"white\"},\"title\":{\"x\":0.05},\"mapbox\":{\"style\":\"light\"}}}},                        {\"responsive\": true}                    ).then(function(){\n                            \nvar gd = document.getElementById('a0e3b150-6c60-497b-955b-db4a8bc751bc');\nvar x = new MutationObserver(function (mutations, observer) {{\n        var display = window.getComputedStyle(gd).display;\n        if (!display || display === 'none') {{\n            console.log([gd, 'removed!']);\n            Plotly.purge(gd);\n            observer.disconnect();\n        }}\n}});\n\n// Listen for the removal of the full notebook cells\nvar notebookContainer = gd.closest('#notebook-container');\nif (notebookContainer) {{\n    x.observe(notebookContainer, {childList: true});\n}}\n\n// Listen for the clearing of the current output cell\nvar outputEl = gd.closest('.output');\nif (outputEl) {{\n    x.observe(outputEl, {childList: true});\n}}\n\n                        })                };                });            </script>        </div>"
          },
          "metadata": {}
        },
        {
          "name": "stderr",
          "text": "Epoch: 100%|██████████| 32/32 [00:10<00:00,  3.16it/s]\n",
          "output_type": "stream"
        },
        {
          "name": "stdout",
          "text": "Train precision_at_k: 0.12\nTest new precision_at_k: 0.007\nTest  precision_at_k: 0.07\nTest new precision_at_k: 0.007\n",
          "output_type": "stream"
        }
      ]
    },
    {
      "cell_type": "markdown",
      "source": [
        "# Рекомендации для items с холодным стартом\n",
        "\n",
        "Эмбеддинги для характеристик items позволяют давать рекомендации для новых или \"холодных\" items.    \n",
        "Эти предметы не имеют никаких взаимодействий с пользователем, поэтому мы не можем создавать эмбеддинги для них напрямую. Однако мы можем выразить item в терминах характеристик, для которых у нас есть эмбеддинги.    \n",
        "Сначала давайте получим индексы признаков элементов для каждого из наших атрибутов.\n",
        "В качестве примера снова возьмем"
      ],
      "metadata": {
        "id": "01AT9R02aadn"
      }
    },
    {
      "cell_type": "code",
      "source": [
        "random.seed(42)\n",
        "# Получим indexes for the feature combinations we want to return embeddings for\n",
        "new_item_attriutes = random.sample(list(item_metadata),k=5)\n",
        "print(new_item_attriutes)\n",
        "new_item_indexes = [item_metadata_mappings.get(key) for key in new_item_attriutes]\n",
        "new_item_indexes"
      ],
      "metadata": {
        "execution": {
          "iopub.status.busy": "2024-06-04T15:17:06.934972Z",
          "iopub.execute_input": "2024-06-04T15:17:06.935548Z",
          "iopub.status.idle": "2024-06-04T15:17:06.948904Z",
          "shell.execute_reply.started": "2024-06-04T15:17:06.935488Z",
          "shell.execute_reply": "2024-06-04T15:17:06.947265Z"
        },
        "trusted": true,
        "id": "BLhrrEcEaadn",
        "outputId": "c74c9f15-5f19-479a-daee-8a8e51f1b74e"
      },
      "execution_count": null,
      "outputs": [
        {
          "name": "stdout",
          "text": "['283_30603', 'available_0', '888_784581', '888_n36000', '400_n720000']\n",
          "output_type": "stream"
        },
        {
          "execution_count": 108,
          "output_type": "execute_result",
          "data": {
            "text/plain": "[14429, 14423, 14439, 14437, 14436]"
          },
          "metadata": {}
        }
      ]
    },
    {
      "cell_type": "markdown",
      "source": [
        "Мы можем создать веса для каждого из индекса.\n",
        "Для простоты мы просто присвоим им всем одинаковый вес, который будет равен 1/количеству характеристик.\n",
        "Следующей частью является создание строки поиска для нашего элемента, которая имитирует обычную матрицу характеристик элемента, которую привык получать LightFM.  \n",
        "Мы создаем массив из всех 0, который соответствует длине уже существующих характеристик элемента.  \n",
        "Затем мы перезаписываем в каждом индексе нашей характеристики 0 весом нашей характеристики. В качестве проверки мы можем просуммировать строки, чтобы убедиться, что наши веса равны 1."
      ],
      "metadata": {
        "id": "Z-4FI3jpaadp"
      }
    },
    {
      "cell_type": "code",
      "source": [
        "# Can just weight each attribute equally\n",
        "weights = 1/len(new_item_indexes) # weight each metadata equally\n",
        "std_weights = [[weights] * len(new_item_attriutes)]\n",
        "\n",
        "new_item = np.zeros(len(item_metadata_mappings)) # create an empty array that will serve as our dummy cold-user row\n",
        "np.put(new_item, new_item_indexes, std_weights) # update the relevant metadata attributes with the desired weights\n",
        "new_item.sum()"
      ],
      "metadata": {
        "execution": {
          "iopub.status.busy": "2024-06-04T15:17:06.951216Z",
          "iopub.execute_input": "2024-06-04T15:17:06.951827Z",
          "iopub.status.idle": "2024-06-04T15:17:06.964279Z",
          "shell.execute_reply.started": "2024-06-04T15:17:06.951744Z",
          "shell.execute_reply": "2024-06-04T15:17:06.962671Z"
        },
        "trusted": true,
        "id": "hVkd6zZ6aadq",
        "outputId": "ba70a7d6-74f0-4c06-f48a-08c931edd79f"
      },
      "execution_count": null,
      "outputs": [
        {
          "execution_count": 109,
          "output_type": "execute_result",
          "data": {
            "text/plain": "1.0"
          },
          "metadata": {}
        }
      ]
    },
    {
      "cell_type": "markdown",
      "source": [
        "Теперь, когда мы создали нашу строку признаков item с холодным стартом, мы можем преобразовать ее в разреженную матрицу и передать ее в LightFM.   \n",
        "Мы можем использовать функцию get_representations() из LightFM, чтобы вычислить сумму(веса*семена) для нашего элемента, а затем вычислить косинусное сходство между ним и другими элементами."
      ],
      "metadata": {
        "id": "wON4qJ_paadr"
      }
    },
    {
      "cell_type": "code",
      "source": [
        "# Convert it into a sparse matrix\n",
        "cold_item_matrix = scipy.sparse.csr_matrix(new_item)\n",
        "\n",
        "# Use LightFM to convert the matrix into embeddings\n",
        "cold_item_bias, cold_item_embedding = model.get_item_representations(cold_item_matrix)\n",
        "item_biases, item_embeddings  = model.get_item_representations(features = item_metadata_list)\n",
        "\n",
        "# Находим похожие items\n",
        "item_item_cold = pd.DataFrame(cosine_similarity(cold_item_embedding, item_embeddings).T, columns=([\"cosine\"]))\n",
        "item_item_cold[\"item_name\"]=item_item_cold.index.to_series().map(inv_item_mappings)\n",
        "item_item_cold.sort_values(by=\"cosine\", ascending=False)[:10]"
      ],
      "metadata": {
        "execution": {
          "iopub.status.busy": "2024-06-04T15:17:06.966168Z",
          "iopub.execute_input": "2024-06-04T15:17:06.966612Z",
          "iopub.status.idle": "2024-06-04T15:17:07.262598Z",
          "shell.execute_reply.started": "2024-06-04T15:17:06.966575Z",
          "shell.execute_reply": "2024-06-04T15:17:07.261268Z"
        },
        "trusted": true,
        "id": "yRK2EZCiaads",
        "outputId": "439e9f3d-e004-49ef-d517-ea44a7052725"
      },
      "execution_count": null,
      "outputs": [
        {
          "execution_count": 110,
          "output_type": "execute_result",
          "data": {
            "text/plain": "         cosine  item_name\n6296   0.680156     323853\n5327   0.664449     135174\n2241   0.663531     229094\n482    0.658428        963\n3572   0.630370     284414\n3571   0.618962     132633\n3573   0.613064     307117\n9217   0.612457     284048\n11498  0.611995     191222\n12931  0.611841     242961",
            "text/html": "<div>\n<style scoped>\n    .dataframe tbody tr th:only-of-type {\n        vertical-align: middle;\n    }\n\n    .dataframe tbody tr th {\n        vertical-align: top;\n    }\n\n    .dataframe thead th {\n        text-align: right;\n    }\n</style>\n<table border=\"1\" class=\"dataframe\">\n  <thead>\n    <tr style=\"text-align: right;\">\n      <th></th>\n      <th>cosine</th>\n      <th>item_name</th>\n    </tr>\n  </thead>\n  <tbody>\n    <tr>\n      <th>6296</th>\n      <td>0.680156</td>\n      <td>323853</td>\n    </tr>\n    <tr>\n      <th>5327</th>\n      <td>0.664449</td>\n      <td>135174</td>\n    </tr>\n    <tr>\n      <th>2241</th>\n      <td>0.663531</td>\n      <td>229094</td>\n    </tr>\n    <tr>\n      <th>482</th>\n      <td>0.658428</td>\n      <td>963</td>\n    </tr>\n    <tr>\n      <th>3572</th>\n      <td>0.630370</td>\n      <td>284414</td>\n    </tr>\n    <tr>\n      <th>3571</th>\n      <td>0.618962</td>\n      <td>132633</td>\n    </tr>\n    <tr>\n      <th>3573</th>\n      <td>0.613064</td>\n      <td>307117</td>\n    </tr>\n    <tr>\n      <th>9217</th>\n      <td>0.612457</td>\n      <td>284048</td>\n    </tr>\n    <tr>\n      <th>11498</th>\n      <td>0.611995</td>\n      <td>191222</td>\n    </tr>\n    <tr>\n      <th>12931</th>\n      <td>0.611841</td>\n      <td>242961</td>\n    </tr>\n  </tbody>\n</table>\n</div>"
          },
          "metadata": {}
        }
      ]
    },
    {
      "cell_type": "markdown",
      "source": [
        "Таким образом, мы можем найти users, которые купили эти items, и порекомендовать им наш новый item на том основании, что они похожи, поэтому он должен понравиться и этим users.\n",
        "\n",
        "Если мы хотим создавать рекомендации непосредственно для пользователей, мы можем сделать и это.\n",
        "Мы просто возьмем наши эмбеддинги холодного элемента и вычислим точечное произведение на эмбеддинги пользователей, чтобы создать рекомендательный балл для нашего нового элемента.\n",
        "Затем мы можем приложить его ко всем ранее сделанным прогнозам и пересмотреть их, чтобы найти пользователей, для которых этот элемент занимает высокое место.\n",
        "Обратите внимание, что мы вычисляем ранги для каждого пользователя, а не просто берем наивысший балл для холодного элемента, поскольку фактические баллы в LightFM имеют значение только относительно каждого пользователя как средство ранжирования элементов, но не между пользователями."
      ],
      "metadata": {
        "id": "pSsXgJaraadt"
      }
    },
    {
      "cell_type": "code",
      "source": [
        "# Create all user and item matrix to get predictions for it\n",
        "n_users, n_items = train_interactions.shape\n",
        "\n",
        "# Force lightFM to create predictions for all users and all items\n",
        "scoring_user_ids = np.concatenate([np.full((n_items, ), i) for i in range(n_users)]) # repeat user ID for number of prods\n",
        "scoring_item_ids = np.concatenate([np.arange(n_items) for i in range(n_users)]) # repeat entire range of item IDs x number of user\n",
        "scores = model.predict(user_ids = scoring_user_ids,\n",
        "                                     item_ids = scoring_item_ids)\n",
        "scores = scores.reshape(-1, n_items) # get 1 row per user\n",
        "recommendations = pd.DataFrame(scores)\n",
        "recommendations.shape"
      ],
      "metadata": {
        "execution": {
          "iopub.status.busy": "2024-06-04T15:17:07.264372Z",
          "iopub.execute_input": "2024-06-04T15:17:07.264942Z",
          "iopub.status.idle": "2024-06-04T15:17:50.538076Z",
          "shell.execute_reply.started": "2024-06-04T15:17:07.264897Z",
          "shell.execute_reply": "2024-06-04T15:17:50.536392Z"
        },
        "trusted": true,
        "id": "LyZ4azsYaadt",
        "outputId": "3d6ed06e-662d-4277-b29b-055552c9b635"
      },
      "execution_count": null,
      "outputs": [
        {
          "execution_count": 111,
          "output_type": "execute_result",
          "data": {
            "text/plain": "(16541, 14422)"
          },
          "metadata": {}
        }
      ]
    },
    {
      "cell_type": "code",
      "source": [
        "# Generate recommendations for all users and then append the prediction for our new product and re-rank\n",
        "recommendations # all recommendations calculated earlier\n",
        "# Extract the user and item representations\n",
        "user_biases, user_embeddings  = model.get_user_representations()\n",
        "# Create prediction score for our 'new' item\n",
        "recommendations[\"cold_ranking\"] = ((user_embeddings @ cold_item_embedding.T + cold_item_bias).T + user_biases).T\n",
        "recommendations.rank(axis=1, ascending=False)  # Highest value gets ranked as 1 i.e. best rec\n",
        "cold_rankings = recommendations.rank(axis=1, ascending=False)[[\"cold_ranking\"]]\n",
        "cold_rankings\n",
        "\n",
        "# Add on users\n",
        "cold_rankings[\"user_id\"]=cold_rankings.index.to_series().map(inv_user_mappings)\n",
        "cold_rankings.sort_values(by=\"cold_ranking\")[:10]"
      ],
      "metadata": {
        "execution": {
          "iopub.status.busy": "2024-06-04T15:17:50.540303Z",
          "iopub.execute_input": "2024-06-04T15:17:50.540914Z",
          "iopub.status.idle": "2024-06-04T15:19:54.883966Z",
          "shell.execute_reply.started": "2024-06-04T15:17:50.540861Z",
          "shell.execute_reply": "2024-06-04T15:19:54.882412Z"
        },
        "trusted": true,
        "id": "xcH04h4Kaadv",
        "outputId": "2ae99778-a398-4e2f-ff58-602d09940392"
      },
      "execution_count": null,
      "outputs": [
        {
          "execution_count": 112,
          "output_type": "execute_result",
          "data": {
            "text/plain": "       cold_ranking  user_id\n10478           1.0   895733\n3922            1.0   334690\n12605           1.0  1077968\n6922            1.0   591869\n8424            1.0   723092\n7864            1.0   673572\n15383           2.0  1310033\n13811           2.0  1175440\n1117            2.0    98071\n8883            2.0   760430",
            "text/html": "<div>\n<style scoped>\n    .dataframe tbody tr th:only-of-type {\n        vertical-align: middle;\n    }\n\n    .dataframe tbody tr th {\n        vertical-align: top;\n    }\n\n    .dataframe thead th {\n        text-align: right;\n    }\n</style>\n<table border=\"1\" class=\"dataframe\">\n  <thead>\n    <tr style=\"text-align: right;\">\n      <th></th>\n      <th>cold_ranking</th>\n      <th>user_id</th>\n    </tr>\n  </thead>\n  <tbody>\n    <tr>\n      <th>10478</th>\n      <td>1.0</td>\n      <td>895733</td>\n    </tr>\n    <tr>\n      <th>3922</th>\n      <td>1.0</td>\n      <td>334690</td>\n    </tr>\n    <tr>\n      <th>12605</th>\n      <td>1.0</td>\n      <td>1077968</td>\n    </tr>\n    <tr>\n      <th>6922</th>\n      <td>1.0</td>\n      <td>591869</td>\n    </tr>\n    <tr>\n      <th>8424</th>\n      <td>1.0</td>\n      <td>723092</td>\n    </tr>\n    <tr>\n      <th>7864</th>\n      <td>1.0</td>\n      <td>673572</td>\n    </tr>\n    <tr>\n      <th>15383</th>\n      <td>2.0</td>\n      <td>1310033</td>\n    </tr>\n    <tr>\n      <th>13811</th>\n      <td>2.0</td>\n      <td>1175440</td>\n    </tr>\n    <tr>\n      <th>1117</th>\n      <td>2.0</td>\n      <td>98071</td>\n    </tr>\n    <tr>\n      <th>8883</th>\n      <td>2.0</td>\n      <td>760430</td>\n    </tr>\n  </tbody>\n</table>\n</div>"
          },
          "metadata": {}
        }
      ]
    },
    {
      "cell_type": "markdown",
      "source": [
        "# LightFM with users feature\n",
        "\n",
        "Построение модели рекомендаций с использованием характеристик items и users\n",
        "Подключим к модели свойства userid.   \n",
        "Явных свойств users у нас нет. Типа возраста или профессии.   \n",
        "Поэтому, в качестве таковых, предлагаю использовать время, когда user совершал покупку.   \n",
        "Преобразуем данные о транзакциях с помощью OneHotEncoder"
      ],
      "metadata": {
        "id": "iizosUBYjFdB"
      }
    },
    {
      "cell_type": "code",
      "source": [
        "events = pd.read_csv('/kaggle/input/f-task-data/events.csv/events.csv')\n",
        "events.drop_duplicates(inplace=True)\n",
        "events = events[events.index.isin(events_c.index)]\n",
        "events.reset_index(drop=True, inplace=True)\n",
        "events['event_datetime'] = pd.to_datetime(events['timestamp'], unit='ms', origin='unix')\n",
        "# считаю целесообразным использовать признаки месяца, дня недели и времени суток покупки\n",
        "events['day_of_week'] = events['event_datetime'].map(lambda x: x.weekday())\n",
        "events['Month'] = events['event_datetime'].map(lambda x: x.month)\n",
        "events['Hour'] = events['event_datetime'].map(lambda x: x.hour)\n",
        "\n",
        "def get_time_periods(hour):\n",
        "    if hour >= 3 and hour < 7:\n",
        "        return 'Dawn'\n",
        "    elif hour >= 7 and hour < 12:\n",
        "        return 'Morning'\n",
        "    elif hour >= 12 and hour < 16:\n",
        "        return 'Afternoon'\n",
        "    elif hour >= 16 and hour < 22:\n",
        "        return 'Evening'\n",
        "    else:\n",
        "        return 'Night'\n",
        "\n",
        "events['Day Period'] = events['Hour'].map(get_time_periods)\n",
        "events['Day Period'].value_counts()"
      ],
      "metadata": {
        "id": "vAtzAoPTjFdC",
        "outputId": "69af029f-8744-464b-f09c-3de463dafd03",
        "execution": {
          "iopub.status.busy": "2024-06-04T15:51:42.737461Z",
          "iopub.execute_input": "2024-06-04T15:51:42.738987Z",
          "iopub.status.idle": "2024-06-04T15:51:48.448955Z",
          "shell.execute_reply.started": "2024-06-04T15:51:42.738931Z",
          "shell.execute_reply": "2024-06-04T15:51:48.447126Z"
        },
        "trusted": true
      },
      "execution_count": null,
      "outputs": [
        {
          "execution_count": 114,
          "output_type": "execute_result",
          "data": {
            "text/plain": "Day Period\nEvening      17423\nNight        12446\nDawn          8117\nAfternoon     4878\nMorning       2045\nName: count, dtype: int64"
          },
          "metadata": {}
        }
      ]
    },
    {
      "cell_type": "code",
      "source": [
        "events"
      ],
      "metadata": {
        "execution": {
          "iopub.status.busy": "2024-06-04T15:51:48.451471Z",
          "iopub.execute_input": "2024-06-04T15:51:48.451997Z",
          "iopub.status.idle": "2024-06-04T15:51:48.477497Z",
          "shell.execute_reply.started": "2024-06-04T15:51:48.451956Z",
          "shell.execute_reply": "2024-06-04T15:51:48.475895Z"
        },
        "trusted": true,
        "id": "lATkHMcZaadx",
        "outputId": "678c703b-1835-48cd-aef5-ce4cec952bdf"
      },
      "execution_count": null,
      "outputs": [
        {
          "execution_count": 115,
          "output_type": "execute_result",
          "data": {
            "text/plain": "           timestamp  visitorid event  itemid  transactionid  \\\n0      1433192144515     733007  view  188148            NaN   \n1      1433193800251    1054451  view  276105            NaN   \n2      1433220834470     994896  view   10572            NaN   \n3      1433217668704    1299250  view  422948            NaN   \n4      1433175360916     234513  view  216695            NaN   \n...              ...        ...   ...     ...            ...   \n44904  1438404600106      98537  view  262105            NaN   \n44905  1438401301369     699635  view  207749            NaN   \n44906  1438397263804     532307  view   89232            NaN   \n44907  1438397312078    1139675  view  432152            NaN   \n44908  1438400304353     333944  view  235771            NaN   \n\n               event_datetime  day_of_week  Month  Hour Day Period  \n0     2015-06-01 20:55:44.515            0      6    20    Evening  \n1     2015-06-01 21:23:20.251            0      6    21    Evening  \n2     2015-06-02 04:53:54.470            1      6     4       Dawn  \n3     2015-06-02 04:01:08.704            1      6     4       Dawn  \n4     2015-06-01 16:16:00.916            0      6    16    Evening  \n...                       ...          ...    ...   ...        ...  \n44904 2015-08-01 04:50:00.106            5      8     4       Dawn  \n44905 2015-08-01 03:55:01.369            5      8     3       Dawn  \n44906 2015-08-01 02:47:43.804            5      8     2      Night  \n44907 2015-08-01 02:48:32.078            5      8     2      Night  \n44908 2015-08-01 03:38:24.353            5      8     3       Dawn  \n\n[44909 rows x 10 columns]",
            "text/html": "<div>\n<style scoped>\n    .dataframe tbody tr th:only-of-type {\n        vertical-align: middle;\n    }\n\n    .dataframe tbody tr th {\n        vertical-align: top;\n    }\n\n    .dataframe thead th {\n        text-align: right;\n    }\n</style>\n<table border=\"1\" class=\"dataframe\">\n  <thead>\n    <tr style=\"text-align: right;\">\n      <th></th>\n      <th>timestamp</th>\n      <th>visitorid</th>\n      <th>event</th>\n      <th>itemid</th>\n      <th>transactionid</th>\n      <th>event_datetime</th>\n      <th>day_of_week</th>\n      <th>Month</th>\n      <th>Hour</th>\n      <th>Day Period</th>\n    </tr>\n  </thead>\n  <tbody>\n    <tr>\n      <th>0</th>\n      <td>1433192144515</td>\n      <td>733007</td>\n      <td>view</td>\n      <td>188148</td>\n      <td>NaN</td>\n      <td>2015-06-01 20:55:44.515</td>\n      <td>0</td>\n      <td>6</td>\n      <td>20</td>\n      <td>Evening</td>\n    </tr>\n    <tr>\n      <th>1</th>\n      <td>1433193800251</td>\n      <td>1054451</td>\n      <td>view</td>\n      <td>276105</td>\n      <td>NaN</td>\n      <td>2015-06-01 21:23:20.251</td>\n      <td>0</td>\n      <td>6</td>\n      <td>21</td>\n      <td>Evening</td>\n    </tr>\n    <tr>\n      <th>2</th>\n      <td>1433220834470</td>\n      <td>994896</td>\n      <td>view</td>\n      <td>10572</td>\n      <td>NaN</td>\n      <td>2015-06-02 04:53:54.470</td>\n      <td>1</td>\n      <td>6</td>\n      <td>4</td>\n      <td>Dawn</td>\n    </tr>\n    <tr>\n      <th>3</th>\n      <td>1433217668704</td>\n      <td>1299250</td>\n      <td>view</td>\n      <td>422948</td>\n      <td>NaN</td>\n      <td>2015-06-02 04:01:08.704</td>\n      <td>1</td>\n      <td>6</td>\n      <td>4</td>\n      <td>Dawn</td>\n    </tr>\n    <tr>\n      <th>4</th>\n      <td>1433175360916</td>\n      <td>234513</td>\n      <td>view</td>\n      <td>216695</td>\n      <td>NaN</td>\n      <td>2015-06-01 16:16:00.916</td>\n      <td>0</td>\n      <td>6</td>\n      <td>16</td>\n      <td>Evening</td>\n    </tr>\n    <tr>\n      <th>...</th>\n      <td>...</td>\n      <td>...</td>\n      <td>...</td>\n      <td>...</td>\n      <td>...</td>\n      <td>...</td>\n      <td>...</td>\n      <td>...</td>\n      <td>...</td>\n      <td>...</td>\n    </tr>\n    <tr>\n      <th>44904</th>\n      <td>1438404600106</td>\n      <td>98537</td>\n      <td>view</td>\n      <td>262105</td>\n      <td>NaN</td>\n      <td>2015-08-01 04:50:00.106</td>\n      <td>5</td>\n      <td>8</td>\n      <td>4</td>\n      <td>Dawn</td>\n    </tr>\n    <tr>\n      <th>44905</th>\n      <td>1438401301369</td>\n      <td>699635</td>\n      <td>view</td>\n      <td>207749</td>\n      <td>NaN</td>\n      <td>2015-08-01 03:55:01.369</td>\n      <td>5</td>\n      <td>8</td>\n      <td>3</td>\n      <td>Dawn</td>\n    </tr>\n    <tr>\n      <th>44906</th>\n      <td>1438397263804</td>\n      <td>532307</td>\n      <td>view</td>\n      <td>89232</td>\n      <td>NaN</td>\n      <td>2015-08-01 02:47:43.804</td>\n      <td>5</td>\n      <td>8</td>\n      <td>2</td>\n      <td>Night</td>\n    </tr>\n    <tr>\n      <th>44907</th>\n      <td>1438397312078</td>\n      <td>1139675</td>\n      <td>view</td>\n      <td>432152</td>\n      <td>NaN</td>\n      <td>2015-08-01 02:48:32.078</td>\n      <td>5</td>\n      <td>8</td>\n      <td>2</td>\n      <td>Night</td>\n    </tr>\n    <tr>\n      <th>44908</th>\n      <td>1438400304353</td>\n      <td>333944</td>\n      <td>view</td>\n      <td>235771</td>\n      <td>NaN</td>\n      <td>2015-08-01 03:38:24.353</td>\n      <td>5</td>\n      <td>8</td>\n      <td>3</td>\n      <td>Dawn</td>\n    </tr>\n  </tbody>\n</table>\n<p>44909 rows × 10 columns</p>\n</div>"
          },
          "metadata": {}
        }
      ]
    },
    {
      "cell_type": "code",
      "source": [
        "user_biases.shape"
      ],
      "metadata": {
        "execution": {
          "iopub.status.busy": "2024-06-04T15:51:48.479372Z",
          "iopub.execute_input": "2024-06-04T15:51:48.479868Z",
          "iopub.status.idle": "2024-06-04T15:51:48.500466Z",
          "shell.execute_reply.started": "2024-06-04T15:51:48.479794Z",
          "shell.execute_reply": "2024-06-04T15:51:48.498727Z"
        },
        "trusted": true,
        "id": "sc-w-JQQaady",
        "outputId": "a47f3042-d4d2-4528-f973-7a2e7fc271a5"
      },
      "execution_count": null,
      "outputs": [
        {
          "execution_count": 116,
          "output_type": "execute_result",
          "data": {
            "text/plain": "(16541,)"
          },
          "metadata": {}
        }
      ]
    },
    {
      "cell_type": "code",
      "source": [
        "one_hot_encoder = OneHotEncoder(dtype=bool)\n",
        "# one_hot_encoder = OneHotEncoder()\n",
        "columns_to_change = ['day_of_week','Month','Day Period','event']\n",
        "# 'учим' и сразу применяем преобразование к выборке, результат переводим в массив\n",
        "data_onehot = one_hot_encoder.fit_transform(events[columns_to_change]).toarray()\n",
        "# запишем полученные названия новых колонок в отдельную переменную\n",
        "column_names = one_hot_encoder.get_feature_names_out(columns_to_change)\n",
        "encoder_df = pd.DataFrame(data_onehot, columns = column_names)\n",
        "#merge one-hot encoded columns back with original DataFrame\n",
        "final_df = events.join(encoder_df)\n",
        "final_df"
      ],
      "metadata": {
        "execution": {
          "iopub.status.busy": "2024-06-04T15:51:48.504184Z",
          "iopub.execute_input": "2024-06-04T15:51:48.504660Z",
          "iopub.status.idle": "2024-06-04T15:51:48.622868Z",
          "shell.execute_reply.started": "2024-06-04T15:51:48.504622Z",
          "shell.execute_reply": "2024-06-04T15:51:48.620934Z"
        },
        "trusted": true,
        "id": "zDSb0Y5caad0",
        "outputId": "79f600f5-0d4a-43cd-ed86-b68a32f081b1"
      },
      "execution_count": null,
      "outputs": [
        {
          "execution_count": 117,
          "output_type": "execute_result",
          "data": {
            "text/plain": "           timestamp  visitorid event  itemid  transactionid  \\\n0      1433192144515     733007  view  188148            NaN   \n1      1433193800251    1054451  view  276105            NaN   \n2      1433220834470     994896  view   10572            NaN   \n3      1433217668704    1299250  view  422948            NaN   \n4      1433175360916     234513  view  216695            NaN   \n...              ...        ...   ...     ...            ...   \n44904  1438404600106      98537  view  262105            NaN   \n44905  1438401301369     699635  view  207749            NaN   \n44906  1438397263804     532307  view   89232            NaN   \n44907  1438397312078    1139675  view  432152            NaN   \n44908  1438400304353     333944  view  235771            NaN   \n\n               event_datetime  day_of_week  Month  Hour Day Period  ...  \\\n0     2015-06-01 20:55:44.515            0      6    20    Evening  ...   \n1     2015-06-01 21:23:20.251            0      6    21    Evening  ...   \n2     2015-06-02 04:53:54.470            1      6     4       Dawn  ...   \n3     2015-06-02 04:01:08.704            1      6     4       Dawn  ...   \n4     2015-06-01 16:16:00.916            0      6    16    Evening  ...   \n...                       ...          ...    ...   ...        ...  ...   \n44904 2015-08-01 04:50:00.106            5      8     4       Dawn  ...   \n44905 2015-08-01 03:55:01.369            5      8     3       Dawn  ...   \n44906 2015-08-01 02:47:43.804            5      8     2      Night  ...   \n44907 2015-08-01 02:48:32.078            5      8     2      Night  ...   \n44908 2015-08-01 03:38:24.353            5      8     3       Dawn  ...   \n\n       Month_8  Month_9  Day Period_Afternoon  Day Period_Dawn  \\\n0        False    False                 False            False   \n1        False    False                 False            False   \n2        False    False                 False             True   \n3        False    False                 False             True   \n4        False    False                 False            False   \n...        ...      ...                   ...              ...   \n44904     True    False                 False             True   \n44905     True    False                 False             True   \n44906     True    False                 False            False   \n44907     True    False                 False            False   \n44908     True    False                 False             True   \n\n       Day Period_Evening  Day Period_Morning  Day Period_Night  \\\n0                    True               False             False   \n1                    True               False             False   \n2                   False               False             False   \n3                   False               False             False   \n4                    True               False             False   \n...                   ...                 ...               ...   \n44904               False               False             False   \n44905               False               False             False   \n44906               False               False              True   \n44907               False               False              True   \n44908               False               False             False   \n\n       event_addtocart  event_transaction  event_view  \n0                False              False        True  \n1                False              False        True  \n2                False              False        True  \n3                False              False        True  \n4                False              False        True  \n...                ...                ...         ...  \n44904            False              False        True  \n44905            False              False        True  \n44906            False              False        True  \n44907            False              False        True  \n44908            False              False        True  \n\n[44909 rows x 30 columns]",
            "text/html": "<div>\n<style scoped>\n    .dataframe tbody tr th:only-of-type {\n        vertical-align: middle;\n    }\n\n    .dataframe tbody tr th {\n        vertical-align: top;\n    }\n\n    .dataframe thead th {\n        text-align: right;\n    }\n</style>\n<table border=\"1\" class=\"dataframe\">\n  <thead>\n    <tr style=\"text-align: right;\">\n      <th></th>\n      <th>timestamp</th>\n      <th>visitorid</th>\n      <th>event</th>\n      <th>itemid</th>\n      <th>transactionid</th>\n      <th>event_datetime</th>\n      <th>day_of_week</th>\n      <th>Month</th>\n      <th>Hour</th>\n      <th>Day Period</th>\n      <th>...</th>\n      <th>Month_8</th>\n      <th>Month_9</th>\n      <th>Day Period_Afternoon</th>\n      <th>Day Period_Dawn</th>\n      <th>Day Period_Evening</th>\n      <th>Day Period_Morning</th>\n      <th>Day Period_Night</th>\n      <th>event_addtocart</th>\n      <th>event_transaction</th>\n      <th>event_view</th>\n    </tr>\n  </thead>\n  <tbody>\n    <tr>\n      <th>0</th>\n      <td>1433192144515</td>\n      <td>733007</td>\n      <td>view</td>\n      <td>188148</td>\n      <td>NaN</td>\n      <td>2015-06-01 20:55:44.515</td>\n      <td>0</td>\n      <td>6</td>\n      <td>20</td>\n      <td>Evening</td>\n      <td>...</td>\n      <td>False</td>\n      <td>False</td>\n      <td>False</td>\n      <td>False</td>\n      <td>True</td>\n      <td>False</td>\n      <td>False</td>\n      <td>False</td>\n      <td>False</td>\n      <td>True</td>\n    </tr>\n    <tr>\n      <th>1</th>\n      <td>1433193800251</td>\n      <td>1054451</td>\n      <td>view</td>\n      <td>276105</td>\n      <td>NaN</td>\n      <td>2015-06-01 21:23:20.251</td>\n      <td>0</td>\n      <td>6</td>\n      <td>21</td>\n      <td>Evening</td>\n      <td>...</td>\n      <td>False</td>\n      <td>False</td>\n      <td>False</td>\n      <td>False</td>\n      <td>True</td>\n      <td>False</td>\n      <td>False</td>\n      <td>False</td>\n      <td>False</td>\n      <td>True</td>\n    </tr>\n    <tr>\n      <th>2</th>\n      <td>1433220834470</td>\n      <td>994896</td>\n      <td>view</td>\n      <td>10572</td>\n      <td>NaN</td>\n      <td>2015-06-02 04:53:54.470</td>\n      <td>1</td>\n      <td>6</td>\n      <td>4</td>\n      <td>Dawn</td>\n      <td>...</td>\n      <td>False</td>\n      <td>False</td>\n      <td>False</td>\n      <td>True</td>\n      <td>False</td>\n      <td>False</td>\n      <td>False</td>\n      <td>False</td>\n      <td>False</td>\n      <td>True</td>\n    </tr>\n    <tr>\n      <th>3</th>\n      <td>1433217668704</td>\n      <td>1299250</td>\n      <td>view</td>\n      <td>422948</td>\n      <td>NaN</td>\n      <td>2015-06-02 04:01:08.704</td>\n      <td>1</td>\n      <td>6</td>\n      <td>4</td>\n      <td>Dawn</td>\n      <td>...</td>\n      <td>False</td>\n      <td>False</td>\n      <td>False</td>\n      <td>True</td>\n      <td>False</td>\n      <td>False</td>\n      <td>False</td>\n      <td>False</td>\n      <td>False</td>\n      <td>True</td>\n    </tr>\n    <tr>\n      <th>4</th>\n      <td>1433175360916</td>\n      <td>234513</td>\n      <td>view</td>\n      <td>216695</td>\n      <td>NaN</td>\n      <td>2015-06-01 16:16:00.916</td>\n      <td>0</td>\n      <td>6</td>\n      <td>16</td>\n      <td>Evening</td>\n      <td>...</td>\n      <td>False</td>\n      <td>False</td>\n      <td>False</td>\n      <td>False</td>\n      <td>True</td>\n      <td>False</td>\n      <td>False</td>\n      <td>False</td>\n      <td>False</td>\n      <td>True</td>\n    </tr>\n    <tr>\n      <th>...</th>\n      <td>...</td>\n      <td>...</td>\n      <td>...</td>\n      <td>...</td>\n      <td>...</td>\n      <td>...</td>\n      <td>...</td>\n      <td>...</td>\n      <td>...</td>\n      <td>...</td>\n      <td>...</td>\n      <td>...</td>\n      <td>...</td>\n      <td>...</td>\n      <td>...</td>\n      <td>...</td>\n      <td>...</td>\n      <td>...</td>\n      <td>...</td>\n      <td>...</td>\n      <td>...</td>\n    </tr>\n    <tr>\n      <th>44904</th>\n      <td>1438404600106</td>\n      <td>98537</td>\n      <td>view</td>\n      <td>262105</td>\n      <td>NaN</td>\n      <td>2015-08-01 04:50:00.106</td>\n      <td>5</td>\n      <td>8</td>\n      <td>4</td>\n      <td>Dawn</td>\n      <td>...</td>\n      <td>True</td>\n      <td>False</td>\n      <td>False</td>\n      <td>True</td>\n      <td>False</td>\n      <td>False</td>\n      <td>False</td>\n      <td>False</td>\n      <td>False</td>\n      <td>True</td>\n    </tr>\n    <tr>\n      <th>44905</th>\n      <td>1438401301369</td>\n      <td>699635</td>\n      <td>view</td>\n      <td>207749</td>\n      <td>NaN</td>\n      <td>2015-08-01 03:55:01.369</td>\n      <td>5</td>\n      <td>8</td>\n      <td>3</td>\n      <td>Dawn</td>\n      <td>...</td>\n      <td>True</td>\n      <td>False</td>\n      <td>False</td>\n      <td>True</td>\n      <td>False</td>\n      <td>False</td>\n      <td>False</td>\n      <td>False</td>\n      <td>False</td>\n      <td>True</td>\n    </tr>\n    <tr>\n      <th>44906</th>\n      <td>1438397263804</td>\n      <td>532307</td>\n      <td>view</td>\n      <td>89232</td>\n      <td>NaN</td>\n      <td>2015-08-01 02:47:43.804</td>\n      <td>5</td>\n      <td>8</td>\n      <td>2</td>\n      <td>Night</td>\n      <td>...</td>\n      <td>True</td>\n      <td>False</td>\n      <td>False</td>\n      <td>False</td>\n      <td>False</td>\n      <td>False</td>\n      <td>True</td>\n      <td>False</td>\n      <td>False</td>\n      <td>True</td>\n    </tr>\n    <tr>\n      <th>44907</th>\n      <td>1438397312078</td>\n      <td>1139675</td>\n      <td>view</td>\n      <td>432152</td>\n      <td>NaN</td>\n      <td>2015-08-01 02:48:32.078</td>\n      <td>5</td>\n      <td>8</td>\n      <td>2</td>\n      <td>Night</td>\n      <td>...</td>\n      <td>True</td>\n      <td>False</td>\n      <td>False</td>\n      <td>False</td>\n      <td>False</td>\n      <td>False</td>\n      <td>True</td>\n      <td>False</td>\n      <td>False</td>\n      <td>True</td>\n    </tr>\n    <tr>\n      <th>44908</th>\n      <td>1438400304353</td>\n      <td>333944</td>\n      <td>view</td>\n      <td>235771</td>\n      <td>NaN</td>\n      <td>2015-08-01 03:38:24.353</td>\n      <td>5</td>\n      <td>8</td>\n      <td>3</td>\n      <td>Dawn</td>\n      <td>...</td>\n      <td>True</td>\n      <td>False</td>\n      <td>False</td>\n      <td>True</td>\n      <td>False</td>\n      <td>False</td>\n      <td>False</td>\n      <td>False</td>\n      <td>False</td>\n      <td>True</td>\n    </tr>\n  </tbody>\n</table>\n<p>44909 rows × 30 columns</p>\n</div>"
          },
          "metadata": {}
        }
      ]
    },
    {
      "cell_type": "code",
      "source": [
        "final_df = final_df.drop(columns = ['timestamp','event_datetime','itemid', 'transactionid','event','day_of_week','Month','Hour','Day Period']).rename(columns={'visitorid': 'userid'})\n",
        "# суммируем значения новых признаков users\n",
        "final_df = final_df.groupby(['userid']).agg('max')\n",
        "# оставим для модели только тех users, которые присутствуют в train\n",
        "user_attributes = final_df[final_df.index.isin(train_users)]\n",
        "# user_attributes.reset_index(inplace=True)\n",
        "user_metadata = user_attributes.columns\n",
        "user_metadata"
      ],
      "metadata": {
        "id": "c6ZyTJnljFdD",
        "execution": {
          "iopub.status.busy": "2024-06-04T15:51:48.625207Z",
          "iopub.execute_input": "2024-06-04T15:51:48.625853Z",
          "iopub.status.idle": "2024-06-04T15:51:48.692241Z",
          "shell.execute_reply.started": "2024-06-04T15:51:48.625775Z",
          "shell.execute_reply": "2024-06-04T15:51:48.690674Z"
        },
        "trusted": true,
        "outputId": "8c4aa225-5c8f-49a4-d4d1-a3718504ee8b"
      },
      "execution_count": null,
      "outputs": [
        {
          "execution_count": 118,
          "output_type": "execute_result",
          "data": {
            "text/plain": "Index(['day_of_week_0', 'day_of_week_1', 'day_of_week_2', 'day_of_week_3',\n       'day_of_week_4', 'day_of_week_5', 'day_of_week_6', 'Month_5', 'Month_6',\n       'Month_7', 'Month_8', 'Month_9', 'Day Period_Afternoon',\n       'Day Period_Dawn', 'Day Period_Evening', 'Day Period_Morning',\n       'Day Period_Night', 'event_addtocart', 'event_transaction',\n       'event_view'],\n      dtype='object')"
          },
          "metadata": {}
        }
      ]
    },
    {
      "cell_type": "code",
      "source": [
        "user_attributes.reset_index(inplace=True)\n",
        "user_attributes"
      ],
      "metadata": {
        "execution": {
          "iopub.status.busy": "2024-06-04T15:51:48.694434Z",
          "iopub.execute_input": "2024-06-04T15:51:48.694959Z",
          "iopub.status.idle": "2024-06-04T15:51:48.736070Z",
          "shell.execute_reply.started": "2024-06-04T15:51:48.694913Z",
          "shell.execute_reply": "2024-06-04T15:51:48.734218Z"
        },
        "trusted": true,
        "id": "eZqJZgiYaad2",
        "outputId": "3f2694ea-dc81-4b5a-ee81-aba1aa44b5b5"
      },
      "execution_count": null,
      "outputs": [
        {
          "execution_count": 119,
          "output_type": "execute_result",
          "data": {
            "text/plain": "       userid  day_of_week_0  day_of_week_1  day_of_week_2  day_of_week_3  \\\n0         172          False          False           True          False   \n1         627          False          False          False           True   \n2        2019          False          False           True          False   \n3        2242          False          False          False          False   \n4        2646          False           True          False          False   \n...       ...            ...            ...            ...            ...   \n2446  1405714          False          False          False          False   \n2447  1405831          False          False          False          False   \n2448  1405929          False          False          False           True   \n2449  1406564          False          False           True          False   \n2450  1407512          False          False          False          False   \n\n      day_of_week_4  day_of_week_5  day_of_week_6  Month_5  Month_6  ...  \\\n0             False          False          False    False    False  ...   \n1             False          False          False    False    False  ...   \n2             False          False          False    False     True  ...   \n3             False          False           True    False     True  ...   \n4             False          False          False    False    False  ...   \n...             ...            ...            ...      ...      ...  ...   \n2446          False           True          False     True    False  ...   \n2447           True          False          False    False    False  ...   \n2448          False          False          False    False    False  ...   \n2449          False          False          False    False    False  ...   \n2450          False           True          False     True    False  ...   \n\n      Month_8  Month_9  Day Period_Afternoon  Day Period_Dawn  \\\n0       False    False                 False             True   \n1        True    False                 False            False   \n2       False    False                 False            False   \n3       False    False                 False             True   \n4       False    False                 False            False   \n...       ...      ...                   ...              ...   \n2446    False    False                 False            False   \n2447    False    False                 False            False   \n2448    False     True                 False            False   \n2449     True    False                 False            False   \n2450    False    False                 False            False   \n\n      Day Period_Evening  Day Period_Morning  Day Period_Night  \\\n0                  False               False             False   \n1                  False               False              True   \n2                   True               False             False   \n3                  False               False             False   \n4                  False               False              True   \n...                  ...                 ...               ...   \n2446                True               False             False   \n2447               False               False              True   \n2448               False               False              True   \n2449                True               False             False   \n2450               False               False              True   \n\n      event_addtocart  event_transaction  event_view  \n0               False              False        True  \n1               False              False        True  \n2               False              False        True  \n3               False              False        True  \n4                True              False        True  \n...               ...                ...         ...  \n2446             True              False       False  \n2447            False               True       False  \n2448            False              False        True  \n2449            False              False        True  \n2450            False              False        True  \n\n[2451 rows x 21 columns]",
            "text/html": "<div>\n<style scoped>\n    .dataframe tbody tr th:only-of-type {\n        vertical-align: middle;\n    }\n\n    .dataframe tbody tr th {\n        vertical-align: top;\n    }\n\n    .dataframe thead th {\n        text-align: right;\n    }\n</style>\n<table border=\"1\" class=\"dataframe\">\n  <thead>\n    <tr style=\"text-align: right;\">\n      <th></th>\n      <th>userid</th>\n      <th>day_of_week_0</th>\n      <th>day_of_week_1</th>\n      <th>day_of_week_2</th>\n      <th>day_of_week_3</th>\n      <th>day_of_week_4</th>\n      <th>day_of_week_5</th>\n      <th>day_of_week_6</th>\n      <th>Month_5</th>\n      <th>Month_6</th>\n      <th>...</th>\n      <th>Month_8</th>\n      <th>Month_9</th>\n      <th>Day Period_Afternoon</th>\n      <th>Day Period_Dawn</th>\n      <th>Day Period_Evening</th>\n      <th>Day Period_Morning</th>\n      <th>Day Period_Night</th>\n      <th>event_addtocart</th>\n      <th>event_transaction</th>\n      <th>event_view</th>\n    </tr>\n  </thead>\n  <tbody>\n    <tr>\n      <th>0</th>\n      <td>172</td>\n      <td>False</td>\n      <td>False</td>\n      <td>True</td>\n      <td>False</td>\n      <td>False</td>\n      <td>False</td>\n      <td>False</td>\n      <td>False</td>\n      <td>False</td>\n      <td>...</td>\n      <td>False</td>\n      <td>False</td>\n      <td>False</td>\n      <td>True</td>\n      <td>False</td>\n      <td>False</td>\n      <td>False</td>\n      <td>False</td>\n      <td>False</td>\n      <td>True</td>\n    </tr>\n    <tr>\n      <th>1</th>\n      <td>627</td>\n      <td>False</td>\n      <td>False</td>\n      <td>False</td>\n      <td>True</td>\n      <td>False</td>\n      <td>False</td>\n      <td>False</td>\n      <td>False</td>\n      <td>False</td>\n      <td>...</td>\n      <td>True</td>\n      <td>False</td>\n      <td>False</td>\n      <td>False</td>\n      <td>False</td>\n      <td>False</td>\n      <td>True</td>\n      <td>False</td>\n      <td>False</td>\n      <td>True</td>\n    </tr>\n    <tr>\n      <th>2</th>\n      <td>2019</td>\n      <td>False</td>\n      <td>False</td>\n      <td>True</td>\n      <td>False</td>\n      <td>False</td>\n      <td>False</td>\n      <td>False</td>\n      <td>False</td>\n      <td>True</td>\n      <td>...</td>\n      <td>False</td>\n      <td>False</td>\n      <td>False</td>\n      <td>False</td>\n      <td>True</td>\n      <td>False</td>\n      <td>False</td>\n      <td>False</td>\n      <td>False</td>\n      <td>True</td>\n    </tr>\n    <tr>\n      <th>3</th>\n      <td>2242</td>\n      <td>False</td>\n      <td>False</td>\n      <td>False</td>\n      <td>False</td>\n      <td>False</td>\n      <td>False</td>\n      <td>True</td>\n      <td>False</td>\n      <td>True</td>\n      <td>...</td>\n      <td>False</td>\n      <td>False</td>\n      <td>False</td>\n      <td>True</td>\n      <td>False</td>\n      <td>False</td>\n      <td>False</td>\n      <td>False</td>\n      <td>False</td>\n      <td>True</td>\n    </tr>\n    <tr>\n      <th>4</th>\n      <td>2646</td>\n      <td>False</td>\n      <td>True</td>\n      <td>False</td>\n      <td>False</td>\n      <td>False</td>\n      <td>False</td>\n      <td>False</td>\n      <td>False</td>\n      <td>False</td>\n      <td>...</td>\n      <td>False</td>\n      <td>False</td>\n      <td>False</td>\n      <td>False</td>\n      <td>False</td>\n      <td>False</td>\n      <td>True</td>\n      <td>True</td>\n      <td>False</td>\n      <td>True</td>\n    </tr>\n    <tr>\n      <th>...</th>\n      <td>...</td>\n      <td>...</td>\n      <td>...</td>\n      <td>...</td>\n      <td>...</td>\n      <td>...</td>\n      <td>...</td>\n      <td>...</td>\n      <td>...</td>\n      <td>...</td>\n      <td>...</td>\n      <td>...</td>\n      <td>...</td>\n      <td>...</td>\n      <td>...</td>\n      <td>...</td>\n      <td>...</td>\n      <td>...</td>\n      <td>...</td>\n      <td>...</td>\n      <td>...</td>\n    </tr>\n    <tr>\n      <th>2446</th>\n      <td>1405714</td>\n      <td>False</td>\n      <td>False</td>\n      <td>False</td>\n      <td>False</td>\n      <td>False</td>\n      <td>True</td>\n      <td>False</td>\n      <td>True</td>\n      <td>False</td>\n      <td>...</td>\n      <td>False</td>\n      <td>False</td>\n      <td>False</td>\n      <td>False</td>\n      <td>True</td>\n      <td>False</td>\n      <td>False</td>\n      <td>True</td>\n      <td>False</td>\n      <td>False</td>\n    </tr>\n    <tr>\n      <th>2447</th>\n      <td>1405831</td>\n      <td>False</td>\n      <td>False</td>\n      <td>False</td>\n      <td>False</td>\n      <td>True</td>\n      <td>False</td>\n      <td>False</td>\n      <td>False</td>\n      <td>False</td>\n      <td>...</td>\n      <td>False</td>\n      <td>False</td>\n      <td>False</td>\n      <td>False</td>\n      <td>False</td>\n      <td>False</td>\n      <td>True</td>\n      <td>False</td>\n      <td>True</td>\n      <td>False</td>\n    </tr>\n    <tr>\n      <th>2448</th>\n      <td>1405929</td>\n      <td>False</td>\n      <td>False</td>\n      <td>False</td>\n      <td>True</td>\n      <td>False</td>\n      <td>False</td>\n      <td>False</td>\n      <td>False</td>\n      <td>False</td>\n      <td>...</td>\n      <td>False</td>\n      <td>True</td>\n      <td>False</td>\n      <td>False</td>\n      <td>False</td>\n      <td>False</td>\n      <td>True</td>\n      <td>False</td>\n      <td>False</td>\n      <td>True</td>\n    </tr>\n    <tr>\n      <th>2449</th>\n      <td>1406564</td>\n      <td>False</td>\n      <td>False</td>\n      <td>True</td>\n      <td>False</td>\n      <td>False</td>\n      <td>False</td>\n      <td>False</td>\n      <td>False</td>\n      <td>False</td>\n      <td>...</td>\n      <td>True</td>\n      <td>False</td>\n      <td>False</td>\n      <td>False</td>\n      <td>True</td>\n      <td>False</td>\n      <td>False</td>\n      <td>False</td>\n      <td>False</td>\n      <td>True</td>\n    </tr>\n    <tr>\n      <th>2450</th>\n      <td>1407512</td>\n      <td>False</td>\n      <td>False</td>\n      <td>False</td>\n      <td>False</td>\n      <td>False</td>\n      <td>True</td>\n      <td>False</td>\n      <td>True</td>\n      <td>False</td>\n      <td>...</td>\n      <td>False</td>\n      <td>False</td>\n      <td>False</td>\n      <td>False</td>\n      <td>False</td>\n      <td>False</td>\n      <td>True</td>\n      <td>False</td>\n      <td>False</td>\n      <td>True</td>\n    </tr>\n  </tbody>\n</table>\n<p>2451 rows × 21 columns</p>\n</div>"
          },
          "metadata": {}
        }
      ]
    },
    {
      "cell_type": "code",
      "source": [
        "# Create inverse mappings\n",
        "inv_user_mappings = {v:k for k, v in user_mappings.items()}\n",
        "inv_user_metadata_mappings = {v:k for k, v in user_metadata_mappings.items()}\n",
        "inv_item_mappings = {v:k for k, v in item_mappings.items()}\n",
        "inv_item_metadata_mappings = {v:k for k, v in item_metadata_mappings.items()}\n",
        "\n",
        "# Заменим значения True/False на названия столбцов\n",
        "for x in user_attributes.drop(['userid'], axis=1).columns:\n",
        "    user_attributes[x] = np.where(user_attributes[x]==True, x, \"\")\n",
        "# # Заменим значения True/False на названия столбцов\n",
        "# for x in items_map.drop(['itemid'], axis=1).columns:\n",
        "#      items_map[x] = np.where( items_map[x]==True, x,\"\")"
      ],
      "metadata": {
        "id": "C8U8nHEjjFdQ",
        "outputId": "67b7e085-29f4-406d-c625-570a57ff221a",
        "execution": {
          "iopub.status.busy": "2024-06-04T15:51:48.741326Z",
          "iopub.execute_input": "2024-06-04T15:51:48.741886Z",
          "iopub.status.idle": "2024-06-04T15:51:48.796554Z",
          "shell.execute_reply.started": "2024-06-04T15:51:48.741836Z",
          "shell.execute_reply": "2024-06-04T15:51:48.794719Z"
        },
        "trusted": true
      },
      "execution_count": null,
      "outputs": [
        {
          "name": "stderr",
          "text": "/tmp/ipykernel_122/1003904512.py:9: SettingWithCopyWarning:\n\n\nA value is trying to be set on a copy of a slice from a DataFrame.\nTry using .loc[row_indexer,col_indexer] = value instead\n\nSee the caveats in the documentation: https://pandas.pydata.org/pandas-docs/stable/user_guide/indexing.html#returning-a-view-versus-a-copy\n\n",
          "output_type": "stream"
        }
      ]
    },
    {
      "cell_type": "code",
      "source": [
        "# user_attributes.reset_index(inplace=True)"
      ],
      "metadata": {
        "execution": {
          "iopub.status.busy": "2024-06-04T15:51:48.798695Z",
          "iopub.execute_input": "2024-06-04T15:51:48.799266Z",
          "iopub.status.idle": "2024-06-04T15:51:48.811139Z",
          "shell.execute_reply.started": "2024-06-04T15:51:48.799223Z",
          "shell.execute_reply": "2024-06-04T15:51:48.809216Z"
        },
        "trusted": true,
        "id": "OoYlHs4zaad4"
      },
      "execution_count": null,
      "outputs": []
    },
    {
      "cell_type": "code",
      "source": [
        "user_attributes"
      ],
      "metadata": {
        "execution": {
          "iopub.status.busy": "2024-06-04T15:51:48.813346Z",
          "iopub.execute_input": "2024-06-04T15:51:48.813868Z",
          "iopub.status.idle": "2024-06-04T15:51:48.870848Z",
          "shell.execute_reply.started": "2024-06-04T15:51:48.813795Z",
          "shell.execute_reply": "2024-06-04T15:51:48.869058Z"
        },
        "trusted": true,
        "id": "RzsGkFUwaad4",
        "outputId": "11a6d864-b676-4c61-b896-a3b13236afcc"
      },
      "execution_count": null,
      "outputs": [
        {
          "execution_count": 122,
          "output_type": "execute_result",
          "data": {
            "text/plain": "       userid day_of_week_0  day_of_week_1  day_of_week_2  day_of_week_3  \\\n0         172                               day_of_week_2                  \n1         627                                              day_of_week_3   \n2        2019                               day_of_week_2                  \n3        2242                                                              \n4        2646                day_of_week_1                                 \n...       ...           ...            ...            ...            ...   \n2446  1405714                                                              \n2447  1405831                                                              \n2448  1405929                                              day_of_week_3   \n2449  1406564                               day_of_week_2                  \n2450  1407512                                                              \n\n      day_of_week_4  day_of_week_5  day_of_week_6  Month_5  Month_6  ...  \\\n0                                                                    ...   \n1                                                                    ...   \n2                                                           Month_6  ...   \n3                                   day_of_week_6           Month_6  ...   \n4                                                                    ...   \n...             ...            ...            ...      ...      ...  ...   \n2446                 day_of_week_5                 Month_5           ...   \n2447  day_of_week_4                                                  ...   \n2448                                                                 ...   \n2449                                                                 ...   \n2450                 day_of_week_5                 Month_5           ...   \n\n      Month_8  Month_9 Day Period_Afternoon  Day Period_Dawn  \\\n0                                            Day Period_Dawn   \n1     Month_8                                                  \n2                                                              \n3                                            Day Period_Dawn   \n4                                                              \n...       ...      ...                  ...              ...   \n2446                                                           \n2447                                                           \n2448           Month_9                                         \n2449  Month_8                                                  \n2450                                                           \n\n      Day Period_Evening Day Period_Morning  Day Period_Night  \\\n0                                                               \n1                                            Day Period_Night   \n2     Day Period_Evening                                        \n3                                                               \n4                                            Day Period_Night   \n...                  ...                ...               ...   \n2446  Day Period_Evening                                        \n2447                                         Day Period_Night   \n2448                                         Day Period_Night   \n2449  Day Period_Evening                                        \n2450                                         Day Period_Night   \n\n      event_addtocart  event_transaction  event_view  \n0                                         event_view  \n1                                         event_view  \n2                                         event_view  \n3                                         event_view  \n4     event_addtocart                     event_view  \n...               ...                ...         ...  \n2446  event_addtocart                                 \n2447                   event_transaction              \n2448                                      event_view  \n2449                                      event_view  \n2450                                      event_view  \n\n[2451 rows x 21 columns]",
            "text/html": "<div>\n<style scoped>\n    .dataframe tbody tr th:only-of-type {\n        vertical-align: middle;\n    }\n\n    .dataframe tbody tr th {\n        vertical-align: top;\n    }\n\n    .dataframe thead th {\n        text-align: right;\n    }\n</style>\n<table border=\"1\" class=\"dataframe\">\n  <thead>\n    <tr style=\"text-align: right;\">\n      <th></th>\n      <th>userid</th>\n      <th>day_of_week_0</th>\n      <th>day_of_week_1</th>\n      <th>day_of_week_2</th>\n      <th>day_of_week_3</th>\n      <th>day_of_week_4</th>\n      <th>day_of_week_5</th>\n      <th>day_of_week_6</th>\n      <th>Month_5</th>\n      <th>Month_6</th>\n      <th>...</th>\n      <th>Month_8</th>\n      <th>Month_9</th>\n      <th>Day Period_Afternoon</th>\n      <th>Day Period_Dawn</th>\n      <th>Day Period_Evening</th>\n      <th>Day Period_Morning</th>\n      <th>Day Period_Night</th>\n      <th>event_addtocart</th>\n      <th>event_transaction</th>\n      <th>event_view</th>\n    </tr>\n  </thead>\n  <tbody>\n    <tr>\n      <th>0</th>\n      <td>172</td>\n      <td></td>\n      <td></td>\n      <td>day_of_week_2</td>\n      <td></td>\n      <td></td>\n      <td></td>\n      <td></td>\n      <td></td>\n      <td></td>\n      <td>...</td>\n      <td></td>\n      <td></td>\n      <td></td>\n      <td>Day Period_Dawn</td>\n      <td></td>\n      <td></td>\n      <td></td>\n      <td></td>\n      <td></td>\n      <td>event_view</td>\n    </tr>\n    <tr>\n      <th>1</th>\n      <td>627</td>\n      <td></td>\n      <td></td>\n      <td></td>\n      <td>day_of_week_3</td>\n      <td></td>\n      <td></td>\n      <td></td>\n      <td></td>\n      <td></td>\n      <td>...</td>\n      <td>Month_8</td>\n      <td></td>\n      <td></td>\n      <td></td>\n      <td></td>\n      <td></td>\n      <td>Day Period_Night</td>\n      <td></td>\n      <td></td>\n      <td>event_view</td>\n    </tr>\n    <tr>\n      <th>2</th>\n      <td>2019</td>\n      <td></td>\n      <td></td>\n      <td>day_of_week_2</td>\n      <td></td>\n      <td></td>\n      <td></td>\n      <td></td>\n      <td></td>\n      <td>Month_6</td>\n      <td>...</td>\n      <td></td>\n      <td></td>\n      <td></td>\n      <td></td>\n      <td>Day Period_Evening</td>\n      <td></td>\n      <td></td>\n      <td></td>\n      <td></td>\n      <td>event_view</td>\n    </tr>\n    <tr>\n      <th>3</th>\n      <td>2242</td>\n      <td></td>\n      <td></td>\n      <td></td>\n      <td></td>\n      <td></td>\n      <td></td>\n      <td>day_of_week_6</td>\n      <td></td>\n      <td>Month_6</td>\n      <td>...</td>\n      <td></td>\n      <td></td>\n      <td></td>\n      <td>Day Period_Dawn</td>\n      <td></td>\n      <td></td>\n      <td></td>\n      <td></td>\n      <td></td>\n      <td>event_view</td>\n    </tr>\n    <tr>\n      <th>4</th>\n      <td>2646</td>\n      <td></td>\n      <td>day_of_week_1</td>\n      <td></td>\n      <td></td>\n      <td></td>\n      <td></td>\n      <td></td>\n      <td></td>\n      <td></td>\n      <td>...</td>\n      <td></td>\n      <td></td>\n      <td></td>\n      <td></td>\n      <td></td>\n      <td></td>\n      <td>Day Period_Night</td>\n      <td>event_addtocart</td>\n      <td></td>\n      <td>event_view</td>\n    </tr>\n    <tr>\n      <th>...</th>\n      <td>...</td>\n      <td>...</td>\n      <td>...</td>\n      <td>...</td>\n      <td>...</td>\n      <td>...</td>\n      <td>...</td>\n      <td>...</td>\n      <td>...</td>\n      <td>...</td>\n      <td>...</td>\n      <td>...</td>\n      <td>...</td>\n      <td>...</td>\n      <td>...</td>\n      <td>...</td>\n      <td>...</td>\n      <td>...</td>\n      <td>...</td>\n      <td>...</td>\n      <td>...</td>\n    </tr>\n    <tr>\n      <th>2446</th>\n      <td>1405714</td>\n      <td></td>\n      <td></td>\n      <td></td>\n      <td></td>\n      <td></td>\n      <td>day_of_week_5</td>\n      <td></td>\n      <td>Month_5</td>\n      <td></td>\n      <td>...</td>\n      <td></td>\n      <td></td>\n      <td></td>\n      <td></td>\n      <td>Day Period_Evening</td>\n      <td></td>\n      <td></td>\n      <td>event_addtocart</td>\n      <td></td>\n      <td></td>\n    </tr>\n    <tr>\n      <th>2447</th>\n      <td>1405831</td>\n      <td></td>\n      <td></td>\n      <td></td>\n      <td></td>\n      <td>day_of_week_4</td>\n      <td></td>\n      <td></td>\n      <td></td>\n      <td></td>\n      <td>...</td>\n      <td></td>\n      <td></td>\n      <td></td>\n      <td></td>\n      <td></td>\n      <td></td>\n      <td>Day Period_Night</td>\n      <td></td>\n      <td>event_transaction</td>\n      <td></td>\n    </tr>\n    <tr>\n      <th>2448</th>\n      <td>1405929</td>\n      <td></td>\n      <td></td>\n      <td></td>\n      <td>day_of_week_3</td>\n      <td></td>\n      <td></td>\n      <td></td>\n      <td></td>\n      <td></td>\n      <td>...</td>\n      <td></td>\n      <td>Month_9</td>\n      <td></td>\n      <td></td>\n      <td></td>\n      <td></td>\n      <td>Day Period_Night</td>\n      <td></td>\n      <td></td>\n      <td>event_view</td>\n    </tr>\n    <tr>\n      <th>2449</th>\n      <td>1406564</td>\n      <td></td>\n      <td></td>\n      <td>day_of_week_2</td>\n      <td></td>\n      <td></td>\n      <td></td>\n      <td></td>\n      <td></td>\n      <td></td>\n      <td>...</td>\n      <td>Month_8</td>\n      <td></td>\n      <td></td>\n      <td></td>\n      <td>Day Period_Evening</td>\n      <td></td>\n      <td></td>\n      <td></td>\n      <td></td>\n      <td>event_view</td>\n    </tr>\n    <tr>\n      <th>2450</th>\n      <td>1407512</td>\n      <td></td>\n      <td></td>\n      <td></td>\n      <td></td>\n      <td></td>\n      <td>day_of_week_5</td>\n      <td></td>\n      <td>Month_5</td>\n      <td></td>\n      <td>...</td>\n      <td></td>\n      <td></td>\n      <td></td>\n      <td></td>\n      <td></td>\n      <td></td>\n      <td>Day Period_Night</td>\n      <td></td>\n      <td></td>\n      <td>event_view</td>\n    </tr>\n  </tbody>\n</table>\n<p>2451 rows × 21 columns</p>\n</div>"
          },
          "metadata": {}
        }
      ]
    },
    {
      "cell_type": "code",
      "source": [
        "# Create user, item and metadata mappings\n",
        "dataset = Dataset()\n",
        "dataset.fit(train_users,\n",
        "            train_items,\n",
        "            user_features = user_metadata,\n",
        "            item_features = item_metadata)\n",
        "\n",
        "# Сохраним mappings между пользователями и их идентификаторами\n",
        "# карта идентификаторов пользователей,\n",
        "user_mappings = dataset.mapping()[0]\n",
        "# карта характеристик пользователей,\n",
        "user_metadata_mappings = dataset.mapping()[1]\n",
        "# карта идентификаторов предметов\n",
        "item_mappings = dataset.mapping()[2]\n",
        "# карта характеристик предметов\n",
        "# теперь это отличается от items mapping\n",
        "item_metadata_mappings = dataset.mapping()[3]\n",
        "# 1 на каждый item + 1 на metadata\n",
        "len(user_mappings),len(user_metadata_mappings)"
      ],
      "metadata": {
        "id": "CTn_ocQojFdP",
        "outputId": "e77451d8-b546-46fc-a804-dbc979ec2ddd",
        "execution": {
          "iopub.status.busy": "2024-06-04T15:51:48.876389Z",
          "iopub.execute_input": "2024-06-04T15:51:48.876988Z",
          "iopub.status.idle": "2024-06-04T15:51:48.922332Z",
          "shell.execute_reply.started": "2024-06-04T15:51:48.876941Z",
          "shell.execute_reply": "2024-06-04T15:51:48.920734Z"
        },
        "trusted": true
      },
      "execution_count": null,
      "outputs": [
        {
          "execution_count": 123,
          "output_type": "execute_result",
          "data": {
            "text/plain": "(16541, 16561)"
          },
          "metadata": {}
        }
      ]
    },
    {
      "cell_type": "code",
      "source": [
        "# Создадим поиск users по их характеристикам\n",
        "user_to_metadata_lookup = [(x[0], list(filter(None, x[1:]))) for x in user_attributes.values]\n",
        "\n",
        "# Посмотрим на сопоставление users с tags\n",
        "user_to_metadata_lookup[:5]"
      ],
      "metadata": {
        "id": "Xkf5PnMjjFdR",
        "outputId": "b8570bf1-680d-4a16-841d-f59a8269814c",
        "execution": {
          "iopub.status.busy": "2024-06-04T15:51:48.924290Z",
          "iopub.execute_input": "2024-06-04T15:51:48.924827Z",
          "iopub.status.idle": "2024-06-04T15:51:48.961895Z",
          "shell.execute_reply.started": "2024-06-04T15:51:48.924767Z",
          "shell.execute_reply": "2024-06-04T15:51:48.959516Z"
        },
        "trusted": true
      },
      "execution_count": null,
      "outputs": [
        {
          "execution_count": 124,
          "output_type": "execute_result",
          "data": {
            "text/plain": "[(172, ['day_of_week_2', 'Month_7', 'Day Period_Dawn', 'event_view']),\n (627, ['day_of_week_3', 'Month_8', 'Day Period_Night', 'event_view']),\n (2019, ['day_of_week_2', 'Month_6', 'Day Period_Evening', 'event_view']),\n (2242, ['day_of_week_6', 'Month_6', 'Day Period_Dawn', 'event_view']),\n (2646,\n  ['day_of_week_1',\n   'Month_7',\n   'Day Period_Night',\n   'event_addtocart',\n   'event_view'])]"
          },
          "metadata": {}
        }
      ]
    },
    {
      "cell_type": "code",
      "source": [
        "user_metadata_list = dataset.build_user_features(user_to_metadata_lookup, normalize=True)"
      ],
      "metadata": {
        "id": "ZVLM1WF7jFdS",
        "execution": {
          "iopub.status.busy": "2024-06-04T15:51:48.964219Z",
          "iopub.execute_input": "2024-06-04T15:51:48.964891Z",
          "iopub.status.idle": "2024-06-04T15:51:49.059672Z",
          "shell.execute_reply.started": "2024-06-04T15:51:48.964831Z",
          "shell.execute_reply": "2024-06-04T15:51:49.058111Z"
        },
        "trusted": true
      },
      "execution_count": null,
      "outputs": []
    },
    {
      "cell_type": "code",
      "source": [
        "_ = len(set(user_attributes['userid']).difference(set(train_users)))\n",
        "print(f'Полный справочник users отличается от users входящих в train на {_} элементов')"
      ],
      "metadata": {
        "id": "lBQBktj_jFdT",
        "outputId": "88460c5d-2fb4-4acf-efd0-4a8d4872a509",
        "execution": {
          "iopub.status.busy": "2024-06-04T15:51:49.062236Z",
          "iopub.execute_input": "2024-06-04T15:51:49.062756Z",
          "iopub.status.idle": "2024-06-04T15:51:49.083903Z",
          "shell.execute_reply.started": "2024-06-04T15:51:49.062711Z",
          "shell.execute_reply": "2024-06-04T15:51:49.082082Z"
        },
        "trusted": true
      },
      "execution_count": null,
      "outputs": [
        {
          "name": "stdout",
          "text": "Полный справочник users отличается от users входящих в train на 0 элементов\n",
          "output_type": "stream"
        }
      ]
    },
    {
      "cell_type": "code",
      "source": [
        "def objective(trial):\n",
        "\n",
        "    train, val = random_train_test_split(train_interactions, test_percentage=0.25, random_state=42)\n",
        "    train_weights, val_weight = random_train_test_split(train_interactions, test_percentage=0.25, random_state=42)\n",
        "\n",
        "    param = {\n",
        "        'no_components': trial.suggest_int(\"no_components\", 16, 64),\n",
        "        \"learning_schedule\": trial.suggest_categorical(\"learning_schedule\", [\"adagrad\", \"adadelta\"]),\n",
        "        \"loss\":  trial.suggest_categorical(\"loss\", [\"warp\"]),\n",
        "        \"learning_rate\": trial.suggest_float(\"learning_rate\", 0.001, 0.5),\n",
        "        \"item_alpha\": trial.suggest_float(\"item_alpha\", 1e-10, 1e-06, log=True),\n",
        "        \"user_alpha\": trial.suggest_float(\"user_alpha\", 1e-10, 1e-06, log=True),\n",
        "        \"max_sampled\": trial.suggest_int(\"max_sampled\", 5, 15),\n",
        "    }\n",
        "    epochs = trial.suggest_int(\"epochs\", 20, 50)\n",
        "    sample_weights = trial.suggest_categorical(\"sample_weight\", [\"None\", \"train_weights\"]) # добавим веса как параметр\n",
        "\n",
        "    model = LightFM(**param, random_state=123)\n",
        "    model.fit(train,\n",
        "              sample_weight= eval(sample_weights),\n",
        "              user_features = user_metadata_list,\n",
        "              item_features = item_metadata_list,\n",
        "              epochs = epochs,\n",
        "              verbose=True)\n",
        "\n",
        "    val_precision = precision_at_k(model,\n",
        "                                   val,\n",
        "                                   train_interactions=train,\n",
        "                                   user_features = user_metadata_list,\n",
        "                                   item_features = item_metadata_list,\n",
        "                                   k=3).mean()\n",
        "\n",
        "    return val_precision\n",
        "\n",
        "study = optuna.create_study(direction=\"maximize\")\n",
        "\n",
        "# Add our last run\n",
        "study.enqueue_trial(best_params)\n",
        "\n",
        "# Run the study\n",
        "study.optimize(objective, n_trials=N_TRIAL)\n",
        "\n",
        "best_params = study.best_params\n",
        "# num_epochs = best_params['epochs']\n",
        "for k, v in best_params.items():\n",
        "    print(k,\":\",v)"
      ],
      "metadata": {
        "id": "YAUCXTIMjFdU",
        "outputId": "141d29bc-f70a-4d63-afbe-8fe7dba1dc12",
        "execution": {
          "iopub.status.busy": "2024-06-04T15:51:49.086430Z",
          "iopub.execute_input": "2024-06-04T15:51:49.087113Z",
          "iopub.status.idle": "2024-06-04T15:53:14.924064Z",
          "shell.execute_reply.started": "2024-06-04T15:51:49.087057Z",
          "shell.execute_reply": "2024-06-04T15:53:14.921362Z"
        },
        "trusted": true
      },
      "execution_count": null,
      "outputs": [
        {
          "name": "stderr",
          "text": "[I 2024-06-04 15:51:49,103] A new study created in memory with name: no-name-0f36d177-7d50-43e7-a931-30569a8000ae\n/opt/conda/lib/python3.10/site-packages/optuna/trial/_trial.py:650: UserWarning:\n\nFixed parameter 'learning_rate' with value 0.7914928730042717 is out of range for distribution FloatDistribution(high=0.5, log=False, low=0.001, step=None).\n\nEpoch: 100%|██████████| 26/26 [00:08<00:00,  3.08it/s]\n[I 2024-06-04 15:52:25,122] Trial 0 finished with value: 0.002306335838511586 and parameters: {'no_components': 35, 'learning_schedule': 'adadelta', 'loss': 'warp', 'learning_rate': 0.7914928730042717, 'item_alpha': 2.0251183985077732e-10, 'user_alpha': 7.550858015352099e-09, 'max_sampled': 8, 'epochs': 26, 'sample_weight': 'train_weights'}. Best is trial 0 with value: 0.002306335838511586.\nEpoch: 100%|██████████| 35/35 [00:16<00:00,  2.19it/s]\n[I 2024-06-04 15:53:14,910] Trial 1 finished with value: 0.0025098358746618032 and parameters: {'no_components': 51, 'learning_schedule': 'adadelta', 'loss': 'warp', 'learning_rate': 0.017420217579621988, 'item_alpha': 4.132713608225968e-09, 'user_alpha': 1.3673400878783006e-08, 'max_sampled': 15, 'epochs': 35, 'sample_weight': 'train_weights'}. Best is trial 1 with value: 0.0025098358746618032.\n",
          "output_type": "stream"
        },
        {
          "name": "stdout",
          "text": "no_components : 51\nlearning_schedule : adadelta\nloss : warp\nlearning_rate : 0.017420217579621988\nitem_alpha : 4.132713608225968e-09\nuser_alpha : 1.3673400878783006e-08\nmax_sampled : 15\nepochs : 35\nsample_weight : train_weights\n",
          "output_type": "stream"
        }
      ]
    },
    {
      "cell_type": "code",
      "source": [
        "# сохраним num_epochs как отдельный объект\n",
        "num_epochs = best_params['epochs']\n",
        "sample_weights = best_params['sample_weight']\n",
        "del best_params['epochs']\n",
        "del best_params['sample_weight']\n",
        "\n",
        "# Построим модель с наилучшими параметрами\n",
        "model = LightFM(**best_params, random_state=123)\n",
        "\n",
        "model.fit(train_interactions,\n",
        "          sample_weight= eval(sample_weights),\n",
        "          user_features = user_metadata_list,\n",
        "          item_features = item_metadata_list,\n",
        "          epochs = num_epochs,\n",
        "          verbose=True)\n",
        "\n",
        "# Рассчитаем метрики\n",
        "for metric in [precision_at_k]:\n",
        "    # Precision@3 для Train and Test\n",
        "    for data, name in [(train_interactions, \"Train\"), (test_interactions, \"Test \")]:\n",
        "        print(f\"{name} {metric.__name__}: %.2f\" %\n",
        "              metric(model,\n",
        "                     data,\n",
        "                     user_features = user_metadata_list,\n",
        "                     item_features = item_metadata_list,\n",
        "                     k=3).mean())\n",
        "\n",
        "    # Покупки только новых items\n",
        "    print(f\"Test new {metric.__name__}: %.3f\" %\n",
        "          metric(model,\n",
        "                 test_new_interactions,\n",
        "                 user_features = user_metadata_list,\n",
        "                 item_features = item_metadata_list,\n",
        "                 train_interactions=train_interactions, #запретим рекомендовать ранее купленные items\n",
        "                 k=3).mean())"
      ],
      "metadata": {
        "id": "xWkr7-jFjFdV",
        "outputId": "f07642b0-872d-40d3-d8c7-92c951277b43",
        "execution": {
          "iopub.status.busy": "2024-06-04T15:53:14.931948Z",
          "iopub.execute_input": "2024-06-04T15:53:14.933286Z",
          "iopub.status.idle": "2024-06-04T15:55:34.169516Z",
          "shell.execute_reply.started": "2024-06-04T15:53:14.933219Z",
          "shell.execute_reply": "2024-06-04T15:55:34.167546Z"
        },
        "trusted": true
      },
      "execution_count": null,
      "outputs": [
        {
          "name": "stderr",
          "text": "Epoch: 100%|██████████| 35/35 [00:20<00:00,  1.67it/s]\n",
          "output_type": "stream"
        },
        {
          "name": "stdout",
          "text": "Train precision_at_k: 0.11\nTest  precision_at_k: 0.05\nTest new precision_at_k: 0.005\n",
          "output_type": "stream"
        }
      ]
    },
    {
      "cell_type": "markdown",
      "source": [
        "# Рекомендации для пользователей холодного старта\n",
        "\n",
        "Теперь, когда мы добавили пользовательские характеристики, мы можем делать прогнозы для пользователей холодного старта точно так же, как мы делали это для товаров холодного старта.   \n",
        "Мы просто создаем пользовательскую матрицу атрибутов пользователя, в которой все характеристики личности пользователя равны 0, но мы заполняем ее соответствующими весами для категорий, в которых наш новый пользователь совершал покупки ранее.   \n",
        "Затем мы можем использовать LightFM для создания представления пользователя, которое мы можем передать для прогнозирования."
      ],
      "metadata": {
        "id": "JBPlN2xIaaeA"
      }
    },
    {
      "cell_type": "code",
      "source": [],
      "metadata": {
        "id": "ihElSyPFaaeA"
      },
      "execution_count": null,
      "outputs": []
    },
    {
      "cell_type": "code",
      "source": [
        "random.seed(42)\n",
        "# Получим indexes for the feature combinations we want to return embeddings for\n",
        "new_user_attriutes = random.sample(list(user_metadata),k=5)\n",
        "print(new_user_attriutes)\n",
        "user_indexes = [item_metadata_mappings.get(key) for key in new_item_attriutes]\n",
        "user_indexes"
      ],
      "metadata": {
        "execution": {
          "iopub.status.busy": "2024-06-04T15:56:54.190654Z",
          "iopub.execute_input": "2024-06-04T15:56:54.193303Z",
          "iopub.status.idle": "2024-06-04T15:56:54.208254Z",
          "shell.execute_reply.started": "2024-06-04T15:56:54.193239Z",
          "shell.execute_reply": "2024-06-04T15:56:54.205887Z"
        },
        "trusted": true,
        "id": "L9wP6tE_aaeB",
        "outputId": "1aa1a1f6-b4a8-48da-a233-79bc5af6931e"
      },
      "execution_count": null,
      "outputs": [
        {
          "name": "stdout",
          "text": "['day_of_week_3', 'day_of_week_0', 'Month_6', 'Month_5', 'Day Period_Night']\n",
          "output_type": "stream"
        },
        {
          "execution_count": 131,
          "output_type": "execute_result",
          "data": {
            "text/plain": "[14429, 14423, 14439, 14437, 14436]"
          },
          "metadata": {}
        }
      ]
    },
    {
      "cell_type": "code",
      "source": [
        "# # First build a bespoke user_feature_matrix\n",
        "# for new_user_attriutes in [['beers coolers', 'spirits'], ['asian foods'], ['specialty cheeses','tofu meat alternatives', 'seafood counter','nuts seeds dried fruit']]:\n",
        "#     user_indexes = [user_metadata_mappings.get(key) for key in new_user_attriutes]\n",
        "\n",
        "    # Can either just weight each attribute equally\n",
        "weights = 1/len(user_indexes) # weight each metadata equally\n",
        "std_weights = [[weights] * len(new_user_attriutes)]\n",
        "\n",
        "    # Or can pull it from the inv weights\n",
        "    # weights = [inv_user_weights.get(key) for key in new_user_attriutes]\n",
        "    # std_weights = [x/(sum(weights)/1) for x in weights]\n",
        "\n",
        "    # Combine the indexes we want populating with their weights\n",
        "new_user = np.zeros(len(user_metadata_mappings)) # create an empty array that will server as our dummy cold-user row\n",
        "np.put(new_user, user_indexes, std_weights) # update the relevant metadata attributes with the desired weights\n",
        "new_user.sum() # QA - the row should sum to 1 if we normalised things\n",
        "\n",
        "    # Now we can predict on this cold-user just like any other\n",
        "cold_user_preds = model.predict(user_ids = 0,\n",
        "                                item_ids = [*item_mappings.values()],\n",
        "                                item_features = item_metadata_list,\n",
        "                                user_features = scipy.sparse.csr_matrix(new_user))\n",
        "\n",
        "cold_ranks = np.argsort(-cold_user_preds)[:10]\n",
        "cold_ranks = pd.DataFrame(zip([*inv_item_mappings.values()], cold_ranks), columns = [\"product_name\", \"rank\"])\n",
        "print(cold_ranks.sort_values([\"rank\"])[:10])\n",
        "\n",
        "# We can also use LightFM to generate the embeddings for us by passing our new matrix\n",
        "cold_user_bias, cold_user_embedding = model.get_user_representations(new_user)\n",
        "manual_cold_scores = ((cold_user_embedding @ model.get_item_representations(features=item_metadata_list)[1].T + model.get_item_representations(features=item_metadata_list)[0]).T + cold_user_bias).T\n",
        "np.allclose(manual_cold_scores, cold_user_preds)"
      ],
      "metadata": {
        "execution": {
          "iopub.status.busy": "2024-06-04T15:58:41.345274Z",
          "iopub.execute_input": "2024-06-04T15:58:41.345839Z",
          "iopub.status.idle": "2024-06-04T15:58:41.456974Z",
          "shell.execute_reply.started": "2024-06-04T15:58:41.345779Z",
          "shell.execute_reply": "2024-06-04T15:58:41.454270Z"
        },
        "trusted": true,
        "id": "8M0So_EHaaeC",
        "outputId": "ac024807-779c-4001-f0e3-2761da1fdd0d"
      },
      "execution_count": null,
      "outputs": [
        {
          "name": "stdout",
          "text": "   product_name   rank\n4        459835    254\n1        465522    798\n7        395273   1067\n6         19278   2066\n2         49029   3293\n8         94371   3538\n0         10034   3904\n9        414182   4919\n5        232172   6580\n3        161949  11777\n",
          "output_type": "stream"
        },
        {
          "execution_count": 136,
          "output_type": "execute_result",
          "data": {
            "text/plain": "False"
          },
          "metadata": {}
        }
      ]
    },
    {
      "cell_type": "markdown",
      "source": [
        "Трудно сказать, насколько разумными кажутся эти рекомендации, не протестировав их на нескольких пользователях холодного старта, но, по крайней мере, мы видим, что процесс создания матрицы пользователей холодного старта успешно возвращает различные рекомендации для каждого типа пользователей, которых мы создали. Как и в случае с признаками элементов, мы можем заставить LightFM вернуть нам окончательное представление наших пользователей холодного старта, а затем сделать свой собственный точечный продукт для создания прогнозов."
      ],
      "metadata": {
        "id": "LRhQUBjaaaeD"
      }
    },
    {
      "cell_type": "code",
      "source": [
        "# We can also use LightFM to generate the embeddings for us by passing our new matrix\n",
        "cold_user_bias, cold_user_embedding = model.get_user_representations(new_user)\n",
        "manual_cold_scores = ((cold_user_embedding @ model.get_item_representations(features=item_metadata_list)[1].T + model.get_item_representations(features=item_metadata_list)[0]).T + cold_user_bias).T"
      ],
      "metadata": {
        "execution": {
          "iopub.status.busy": "2024-06-04T15:56:54.262258Z",
          "iopub.status.idle": "2024-06-04T15:56:54.262974Z",
          "shell.execute_reply.started": "2024-06-04T15:56:54.262594Z",
          "shell.execute_reply": "2024-06-04T15:56:54.262623Z"
        },
        "trusted": true,
        "id": "-F_G03deaaeE"
      },
      "execution_count": null,
      "outputs": []
    },
    {
      "cell_type": "markdown",
      "source": [
        "# XGBoost"
      ],
      "metadata": {
        "id": "qUtnioDOaaeE"
      }
    },
    {
      "cell_type": "code",
      "source": [
        "# загрузим данные о покупках и иных взаимодействиях items и users\n",
        "events = pd.read_csv('/kaggle/input/f-task-data/events.csv/events.csv')\n",
        "# переведем формат времени к обычному виду\n",
        "events['event_datetime'] = pd.to_datetime(events['timestamp'], unit='ms', origin='unix')\n",
        "# отсортируем данные от самых ранних записей до поздних\n",
        "events = events.sort_values(['event_datetime']).reset_index(drop=True)\n",
        "events.head(5)"
      ],
      "metadata": {
        "outputId": "a53f36cc-5f17-42a4-97de-633198a4d034",
        "execution": {
          "iopub.status.busy": "2024-06-06T10:44:40.654418Z",
          "iopub.execute_input": "2024-06-06T10:44:40.654943Z",
          "iopub.status.idle": "2024-06-06T10:44:44.090588Z",
          "shell.execute_reply.started": "2024-06-06T10:44:40.654876Z",
          "shell.execute_reply": "2024-06-06T10:44:44.089312Z"
        },
        "trusted": true,
        "id": "UGov1x23cAjK"
      },
      "execution_count": null,
      "outputs": [
        {
          "execution_count": 241,
          "output_type": "execute_result",
          "data": {
            "text/plain": "       timestamp  visitorid      event  itemid  transactionid  \\\n0  1430622004384     693516  addtocart  297662            NaN   \n1  1430622011289     829044       view   60987            NaN   \n2  1430622013048     652699       view  252860            NaN   \n3  1430622024154    1125936       view   33661            NaN   \n4  1430622026228     693516       view  297662            NaN   \n\n           event_datetime  \n0 2015-05-03 03:00:04.384  \n1 2015-05-03 03:00:11.289  \n2 2015-05-03 03:00:13.048  \n3 2015-05-03 03:00:24.154  \n4 2015-05-03 03:00:26.228  ",
            "text/html": "<div>\n<style scoped>\n    .dataframe tbody tr th:only-of-type {\n        vertical-align: middle;\n    }\n\n    .dataframe tbody tr th {\n        vertical-align: top;\n    }\n\n    .dataframe thead th {\n        text-align: right;\n    }\n</style>\n<table border=\"1\" class=\"dataframe\">\n  <thead>\n    <tr style=\"text-align: right;\">\n      <th></th>\n      <th>timestamp</th>\n      <th>visitorid</th>\n      <th>event</th>\n      <th>itemid</th>\n      <th>transactionid</th>\n      <th>event_datetime</th>\n    </tr>\n  </thead>\n  <tbody>\n    <tr>\n      <th>0</th>\n      <td>1430622004384</td>\n      <td>693516</td>\n      <td>addtocart</td>\n      <td>297662</td>\n      <td>NaN</td>\n      <td>2015-05-03 03:00:04.384</td>\n    </tr>\n    <tr>\n      <th>1</th>\n      <td>1430622011289</td>\n      <td>829044</td>\n      <td>view</td>\n      <td>60987</td>\n      <td>NaN</td>\n      <td>2015-05-03 03:00:11.289</td>\n    </tr>\n    <tr>\n      <th>2</th>\n      <td>1430622013048</td>\n      <td>652699</td>\n      <td>view</td>\n      <td>252860</td>\n      <td>NaN</td>\n      <td>2015-05-03 03:00:13.048</td>\n    </tr>\n    <tr>\n      <th>3</th>\n      <td>1430622024154</td>\n      <td>1125936</td>\n      <td>view</td>\n      <td>33661</td>\n      <td>NaN</td>\n      <td>2015-05-03 03:00:24.154</td>\n    </tr>\n    <tr>\n      <th>4</th>\n      <td>1430622026228</td>\n      <td>693516</td>\n      <td>view</td>\n      <td>297662</td>\n      <td>NaN</td>\n      <td>2015-05-03 03:00:26.228</td>\n    </tr>\n  </tbody>\n</table>\n</div>"
          },
          "metadata": {}
        }
      ]
    },
    {
      "cell_type": "code",
      "source": [
        "print(f'Количество дубликатов до удаления: {len(events)- len(events.drop_duplicates())}')\n",
        "events.drop_duplicates(inplace=True)\n",
        "print(f'Количество дубликатов после удаления: {len(events)- len(events.drop_duplicates())}')"
      ],
      "metadata": {
        "outputId": "029683ec-e47d-4889-d603-079e1e199427",
        "execution": {
          "iopub.status.busy": "2024-06-06T10:44:44.461106Z",
          "iopub.execute_input": "2024-06-06T10:44:44.461635Z",
          "iopub.status.idle": "2024-06-06T10:44:52.798153Z",
          "shell.execute_reply.started": "2024-06-06T10:44:44.461586Z",
          "shell.execute_reply": "2024-06-06T10:44:52.796849Z"
        },
        "trusted": true,
        "id": "P_zgFsX9cAjk"
      },
      "execution_count": null,
      "outputs": [
        {
          "name": "stdout",
          "text": "Количество дубликатов до удаления: 460\nКоличество дубликатов после удаления: 0\n",
          "output_type": "stream"
        }
      ]
    },
    {
      "cell_type": "code",
      "source": [
        "events.info()"
      ],
      "metadata": {
        "outputId": "d09975e8-ccdd-4414-d980-80f0b1330bd7",
        "execution": {
          "iopub.status.busy": "2024-06-06T10:44:57.637962Z",
          "iopub.execute_input": "2024-06-06T10:44:57.638975Z",
          "iopub.status.idle": "2024-06-06T10:44:57.652454Z",
          "shell.execute_reply.started": "2024-06-06T10:44:57.638905Z",
          "shell.execute_reply": "2024-06-06T10:44:57.650826Z"
        },
        "trusted": true,
        "id": "AqVktyMlcAjx"
      },
      "execution_count": null,
      "outputs": [
        {
          "name": "stdout",
          "text": "<class 'pandas.core.frame.DataFrame'>\nIndex: 2755641 entries, 0 to 2756100\nData columns (total 6 columns):\n #   Column          Dtype         \n---  ------          -----         \n 0   timestamp       int64         \n 1   visitorid       int64         \n 2   event           object        \n 3   itemid          int64         \n 4   transactionid   float64       \n 5   event_datetime  datetime64[ns]\ndtypes: datetime64[ns](1), float64(1), int64(3), object(1)\nmemory usage: 147.2+ MB\n",
          "output_type": "stream"
        }
      ]
    },
    {
      "cell_type": "markdown",
      "source": [
        "## feature engineering"
      ],
      "metadata": {
        "id": "YetZli49cAjx"
      }
    },
    {
      "cell_type": "code",
      "source": [
        "s1 = events[events['event'] == 'transaction']\n",
        "n = int(s1.shape[0]/2)\n",
        "s2 = events[events['event'] == 'addtocart'].sample(n=n, random_state = 42)\n",
        "s3 = events[events['event'] == 'view'].sample(n=n, random_state = 42)\n",
        "events_c = pd.concat([s1, s2, s3], ignore_index=False)\n",
        "events_c = events_c[['visitorid', 'event', 'itemid','event_datetime']].astype({'visitorid':'int32','itemid':'int32'}).rename(columns ={'visitorid': 'userid'})"
      ],
      "metadata": {
        "execution": {
          "iopub.status.busy": "2024-06-06T10:44:57.654548Z",
          "iopub.execute_input": "2024-06-06T10:44:57.655338Z",
          "iopub.status.idle": "2024-06-06T10:44:59.636221Z",
          "shell.execute_reply.started": "2024-06-06T10:44:57.655292Z",
          "shell.execute_reply": "2024-06-06T10:44:59.634853Z"
        },
        "trusted": true,
        "id": "tECuRTHYcAjy"
      },
      "execution_count": null,
      "outputs": []
    },
    {
      "cell_type": "markdown",
      "source": [
        "## Adding items feature"
      ],
      "metadata": {
        "id": "MsWHzZwicAj1"
      }
    },
    {
      "cell_type": "code",
      "source": [
        "# загрузим справочник товаров\n",
        "item_1 = pd.read_csv('/kaggle/input/f-task-data/item_properties_part1.csv/item_properties_part1.csv')\n",
        "item_2 = pd.read_csv('/kaggle/input/f-task-data/item_properties_part2.csv/item_properties_part2.csv')\n",
        "properties_temp = pd.concat([item_1, item_2])\n",
        "properties_temp.loc[:,'value'] = properties_temp['value'].str.replace('.','',regex=False)\n",
        "\n",
        "#оставим только те items, которые есть в events, чтобы уменьшить размер данных\n",
        "list_items_events = list(set(events_c.itemid))\n",
        "properties = properties_temp[properties_temp['itemid'].isin(list_items_events)]\n",
        "print(properties_temp.shape)\n",
        "print(properties.shape)\n",
        "del s1\n",
        "del s2\n",
        "del s3\n",
        "del item_1\n",
        "del item_2\n",
        "gc.collect()"
      ],
      "metadata": {
        "outputId": "59630445-b9f7-47f2-9e36-ebc6b45cec5d",
        "execution": {
          "iopub.status.busy": "2024-06-06T10:45:02.968798Z",
          "iopub.execute_input": "2024-06-06T10:45:02.969213Z",
          "iopub.status.idle": "2024-06-06T10:45:45.387523Z",
          "shell.execute_reply.started": "2024-06-06T10:45:02.969179Z",
          "shell.execute_reply": "2024-06-06T10:45:45.386268Z"
        },
        "trusted": true,
        "id": "-cbknV9kcAj3"
      },
      "execution_count": null,
      "outputs": [
        {
          "name": "stdout",
          "text": "(20275902, 4)\n(1394917, 4)\n",
          "output_type": "stream"
        },
        {
          "execution_count": 255,
          "output_type": "execute_result",
          "data": {
            "text/plain": "17"
          },
          "metadata": {}
        }
      ]
    },
    {
      "cell_type": "code",
      "source": [
        "len(set(events_c.itemid).difference(set(properties.itemid)))"
      ],
      "metadata": {
        "execution": {
          "iopub.status.busy": "2024-06-06T10:45:45.389305Z",
          "iopub.execute_input": "2024-06-06T10:45:45.389708Z",
          "iopub.status.idle": "2024-06-06T10:45:45.712336Z",
          "shell.execute_reply.started": "2024-06-06T10:45:45.389672Z",
          "shell.execute_reply": "2024-06-06T10:45:45.710856Z"
        },
        "trusted": true,
        "id": "zTJJQc24aF3H",
        "outputId": "8604fac6-9e5f-45a2-c8c5-959ea2188253"
      },
      "execution_count": null,
      "outputs": [
        {
          "execution_count": 256,
          "output_type": "execute_result",
          "data": {
            "text/plain": "1341"
          },
          "metadata": {}
        }
      ]
    },
    {
      "cell_type": "markdown",
      "source": [
        "В данных о транзакциях есть упоминание о items, которых нет в справочнике properties"
      ],
      "metadata": {
        "id": "he4dDGmbkKWl"
      }
    },
    {
      "cell_type": "code",
      "source": [
        "list_items_events = list(events_c['itemid'].unique())\n",
        "len(list_items_events)"
      ],
      "metadata": {
        "execution": {
          "iopub.status.busy": "2024-06-06T10:45:45.761212Z",
          "iopub.execute_input": "2024-06-06T10:45:45.762532Z",
          "iopub.status.idle": "2024-06-06T10:45:45.777776Z",
          "shell.execute_reply.started": "2024-06-06T10:45:45.762480Z",
          "shell.execute_reply": "2024-06-06T10:45:45.776553Z"
        },
        "trusted": true,
        "id": "HTFk3rN1aF3J",
        "outputId": "b0588138-09ce-4cf1-e6e0-1ab0a81f91e1"
      },
      "execution_count": null,
      "outputs": [
        {
          "execution_count": 259,
          "output_type": "execute_result",
          "data": {
            "text/plain": "21415"
          },
          "metadata": {}
        }
      ]
    },
    {
      "cell_type": "markdown",
      "source": [
        "Нам нужно найти наиболее полезные свойства items.   \n",
        "А они есть у фактически купленных items.   \n",
        "По этому их и купили, очевидно.   \n",
        "Поэтому отфильтруем справочник всех товаров.  \n",
        "Оставим фактически купленные items.  "
      ],
      "metadata": {
        "id": "ZPmNofuxcAj_"
      }
    },
    {
      "cell_type": "markdown",
      "source": [
        "Это список наиболее привлекательных items, следовательно свойства этих items наиболее желанны для потребителя."
      ],
      "metadata": {
        "id": "xJabRSDHcAkC"
      }
    },
    {
      "cell_type": "markdown",
      "source": [
        "Преобразуем справочник items. Опишем каждый itemid через список наиболее привлекательных характеристик."
      ],
      "metadata": {
        "id": "Zo9voIL6cAkE"
      }
    },
    {
      "cell_type": "markdown",
      "source": [
        "Следующий вариант - соединить свойства и его описание.  \n",
        "Опиратся просто на свойство я считаю неправильным.   \n",
        "Обязательно должно быть значение свойства.   \n",
        "К примеру, молоко. Его свойство - жирность.   \n",
        "Но значение имеет какая жирность.   \n",
        "Соединяя зашифрованнные свойства и их описания мы можем прийти к значению - \"Жирность 3.2%\" или \"Цвет-черный\".  \n",
        "А это и есть искомые потребительские свойства."
      ],
      "metadata": {
        "id": "AIraiSsbcAkF"
      }
    },
    {
      "cell_type": "code",
      "source": [
        "#приведем данные о свойствах к текстовому виду\n",
        "properties.loc[:,'value'] = properties['value'].astype(\"str\")\n",
        "properties.loc[:,'property'] = properties['property'].astype(\"str\")\n",
        "#Сгруппируем items по itemsid и property. Агрегируем описания свойств\n",
        "df1 = properties.groupby(['itemid', 'property'], as_index = False)['value'].agg(' '.join)\n",
        "\n",
        "# Преобразуем данные о свойствах items в удобный для обработки вид.\n",
        "# Для этого соеденим свойство и его описание для каждого items.\n",
        "def prop_feature_best(df):\n",
        "    df_temp =  df.loc[:, ['property','value']].copy()\n",
        "    len_pf =  df.shape[0]\n",
        "#     for i in tqdm(range(len_pf)):\n",
        "    for i in tqdm(list(df.index)):\n",
        "        list_prop_feat = []\n",
        "#         print(i)\n",
        "        split_feat = df_temp.loc[i,'value'].split()\n",
        "        for f in split_feat:\n",
        "            list_prop_feat.append(df.loc[i,'property']+'_'+f)\n",
        "        df_temp.loc[i,'value'] = list_prop_feat\n",
        "    df_temp.loc[:,'itemid'] = df.loc[:,'itemid']\n",
        "    df_temp.drop(columns = 'property', inplace=True)\n",
        "    return df_temp\n",
        "df_all = prop_feature_best(df1)\n",
        "df_all"
      ],
      "metadata": {
        "outputId": "ccc0c6e8-a397-411a-f22c-9feea40a599f",
        "execution": {
          "iopub.status.busy": "2024-06-06T10:45:45.858448Z",
          "iopub.execute_input": "2024-06-06T10:45:45.858892Z",
          "iopub.status.idle": "2024-06-06T10:48:32.626428Z",
          "shell.execute_reply.started": "2024-06-06T10:45:45.858843Z",
          "shell.execute_reply": "2024-06-06T10:48:32.625150Z"
        },
        "trusted": true,
        "id": "WH_xXUzdcAkG"
      },
      "execution_count": null,
      "outputs": [
        {
          "name": "stderr",
          "text": "100%|██████████| 589387/589387 [02:28<00:00, 3976.15it/s]\n",
          "output_type": "stream"
        },
        {
          "execution_count": 264,
          "output_type": "execute_result",
          "data": {
            "text/plain": "                                                    value  itemid\n0                                            [112_679677]      15\n1                                            [159_519769]      15\n2                                            [202_789221]      15\n3                                            [227_433564]      15\n4       [283_433564, 283_245772, 283_789221, 283_80927...      15\n...                                                   ...     ...\n589382  [888_1262739, 888_205682, 888_1050016, 888_126...  466864\n589383                                       [917_205682]  466864\n589384                                      [928_1154859]  466864\n589385  [available_1, available_1, available_1, availa...  466864\n589386                                   [categoryid_373]  466864\n\n[589387 rows x 2 columns]",
            "text/html": "<div>\n<style scoped>\n    .dataframe tbody tr th:only-of-type {\n        vertical-align: middle;\n    }\n\n    .dataframe tbody tr th {\n        vertical-align: top;\n    }\n\n    .dataframe thead th {\n        text-align: right;\n    }\n</style>\n<table border=\"1\" class=\"dataframe\">\n  <thead>\n    <tr style=\"text-align: right;\">\n      <th></th>\n      <th>value</th>\n      <th>itemid</th>\n    </tr>\n  </thead>\n  <tbody>\n    <tr>\n      <th>0</th>\n      <td>[112_679677]</td>\n      <td>15</td>\n    </tr>\n    <tr>\n      <th>1</th>\n      <td>[159_519769]</td>\n      <td>15</td>\n    </tr>\n    <tr>\n      <th>2</th>\n      <td>[202_789221]</td>\n      <td>15</td>\n    </tr>\n    <tr>\n      <th>3</th>\n      <td>[227_433564]</td>\n      <td>15</td>\n    </tr>\n    <tr>\n      <th>4</th>\n      <td>[283_433564, 283_245772, 283_789221, 283_80927...</td>\n      <td>15</td>\n    </tr>\n    <tr>\n      <th>...</th>\n      <td>...</td>\n      <td>...</td>\n    </tr>\n    <tr>\n      <th>589382</th>\n      <td>[888_1262739, 888_205682, 888_1050016, 888_126...</td>\n      <td>466864</td>\n    </tr>\n    <tr>\n      <th>589383</th>\n      <td>[917_205682]</td>\n      <td>466864</td>\n    </tr>\n    <tr>\n      <th>589384</th>\n      <td>[928_1154859]</td>\n      <td>466864</td>\n    </tr>\n    <tr>\n      <th>589385</th>\n      <td>[available_1, available_1, available_1, availa...</td>\n      <td>466864</td>\n    </tr>\n    <tr>\n      <th>589386</th>\n      <td>[categoryid_373]</td>\n      <td>466864</td>\n    </tr>\n  </tbody>\n</table>\n<p>589387 rows × 2 columns</p>\n</div>"
          },
          "metadata": {}
        }
      ]
    },
    {
      "cell_type": "code",
      "source": [
        "train, test = train_test_split(events_c, test_size=0.3, shuffle=False, random_state=42)\n",
        "\n",
        "events_deal=train[train['event'] == 'transaction'].groupby(['itemid'])['userid'].agg('count').sort_values(ascending = False)\n",
        "events_deal[:5]"
      ],
      "metadata": {
        "outputId": "4969deaf-edbf-4568-df2a-f052e7ccf17c",
        "execution": {
          "iopub.status.busy": "2024-06-06T10:45:45.799119Z",
          "iopub.execute_input": "2024-06-06T10:45:45.799672Z",
          "iopub.status.idle": "2024-06-06T10:45:45.826770Z",
          "shell.execute_reply.started": "2024-06-06T10:45:45.799615Z",
          "shell.execute_reply": "2024-06-06T10:45:45.825633Z"
        },
        "trusted": true,
        "id": "NTOGeR03cAkB"
      },
      "execution_count": null,
      "outputs": [
        {
          "execution_count": 261,
          "output_type": "execute_result",
          "data": {
            "text/plain": "itemid\n461686    133\n119736     97\n213834     92\n312728     46\n7943       46\nName: userid, dtype: int64"
          },
          "metadata": {}
        }
      ]
    },
    {
      "cell_type": "markdown",
      "source": [
        "Найдем 20 наиболее популярных признаков среди фактически купленных items."
      ],
      "metadata": {
        "id": "C3vcInOCcAkR"
      }
    },
    {
      "cell_type": "code",
      "source": [
        "# Отсортируем, оставим только купленные items\n",
        "df_transaction = df_all[df_all['itemid'].isin(list(events_deal.index))]\n",
        "\n",
        "list_count= []\n",
        "list_count = list(df_transaction['value'].explode())\n",
        "print(f'Общее количество характеристик: {len(set(list_count))}')"
      ],
      "metadata": {
        "execution": {
          "iopub.status.busy": "2024-06-06T10:48:32.689635Z",
          "iopub.execute_input": "2024-06-06T10:48:32.690113Z",
          "iopub.status.idle": "2024-06-06T10:48:32.818365Z",
          "shell.execute_reply.started": "2024-06-06T10:48:32.690072Z",
          "shell.execute_reply": "2024-06-06T10:48:32.816983Z"
        },
        "trusted": true,
        "id": "awVZk4J7aF3e",
        "outputId": "4e4cdbfa-42ba-49a6-f9e3-204911b409c5"
      },
      "execution_count": null,
      "outputs": [
        {
          "name": "stdout",
          "text": "<class 'pandas.core.frame.DataFrame'>\nIndex: 339680 entries, 0 to 589358\nData columns (total 2 columns):\n #   Column  Non-Null Count   Dtype \n---  ------  --------------   ----- \n 0   value   339680 non-null  object\n 1   itemid  339680 non-null  int64 \ndtypes: int64(1), object(1)\nmemory usage: 7.8+ MB\n",
          "output_type": "stream"
        }
      ]
    },
    {
      "cell_type": "markdown",
      "source": [
        "Список 20 самых популярных характеристик у items"
      ],
      "metadata": {
        "id": "c5bQuPQ8cAkV"
      }
    },
    {
      "cell_type": "code",
      "source": [
        "cnt = Counter(list_count)\n",
        "dict_feat = dict(cnt)\n",
        "most_popular_tags = cnt.most_common(20)\n",
        "tags = [most_popular_tags[x][0] for x in range(len(most_popular_tags))]\n",
        "most_popular_tags[:10]"
      ],
      "metadata": {
        "outputId": "a4ec469e-7e84-4920-9f8f-ea7d9c9abd69",
        "execution": {
          "iopub.status.busy": "2024-06-06T10:48:33.914349Z",
          "iopub.execute_input": "2024-06-06T10:48:33.914743Z",
          "iopub.status.idle": "2024-06-06T10:48:34.463815Z",
          "shell.execute_reply.started": "2024-06-06T10:48:33.914709Z",
          "shell.execute_reply": "2024-06-06T10:48:34.462419Z"
        },
        "trusted": true,
        "id": "JU0B1eJlcAkW"
      },
      "execution_count": null,
      "outputs": [
        {
          "execution_count": 270,
          "output_type": "execute_result",
          "data": {
            "text/plain": "[('available_1', 90104),\n ('available_0', 54516),\n ('888_1284577', 32560),\n ('888_1297729', 16363),\n ('888_350726', 13579),\n ('400_424566', 13554),\n ('888_30603', 13527),\n ('283_30603', 13270),\n ('888_1154859', 13131),\n ('888_832471', 12244)]"
          },
          "metadata": {}
        }
      ]
    },
    {
      "cell_type": "markdown",
      "source": [
        "Построим матрицу свойств всего справочника items через наиболее популярные признаки"
      ],
      "metadata": {
        "id": "Hb4Fy7fKcAkY"
      }
    },
    {
      "cell_type": "code",
      "source": [
        "df_all = df_all.groupby(['itemid']).agg('sum')\n",
        "for x in tags:\n",
        "    df_all[x] =df_all['value'].apply(lambda y: 1 if str(x) in y else 0)\n",
        "items_map = df_all.drop(['value'], axis=1).reset_index()\n",
        "items_map.head(3)"
      ],
      "metadata": {
        "outputId": "41fb3bd7-5f0e-4084-f3de-7a822efff674",
        "execution": {
          "iopub.status.busy": "2024-06-06T10:48:34.492853Z",
          "iopub.execute_input": "2024-06-06T10:48:34.493271Z",
          "iopub.status.idle": "2024-06-06T10:48:57.782326Z",
          "shell.execute_reply.started": "2024-06-06T10:48:34.493239Z",
          "shell.execute_reply": "2024-06-06T10:48:57.781076Z"
        },
        "trusted": true,
        "id": "fQ9ENq2icAka"
      },
      "execution_count": null,
      "outputs": [
        {
          "name": "stderr",
          "text": "/tmp/ipykernel_33/234385560.py:3: PerformanceWarning: DataFrame is highly fragmented.  This is usually the result of calling `frame.insert` many times, which has poor performance.  Consider joining all columns at once using pd.concat(axis=1) instead. To get a de-fragmented frame, use `newframe = frame.copy()`\n  df_all[x] =df_all['value'].apply(lambda y: 1 if str(x) in y else 0)\n",
          "output_type": "stream"
        },
        {
          "execution_count": 273,
          "output_type": "execute_result",
          "data": {
            "text/plain": "   itemid  available_1  available_0  888_1284577  888_1297729  888_350726  \\\n0      15            1            1            0            0           0   \n1      19            1            1            0            0           0   \n2      25            1            1            0            0           0   \n\n   400_424566  888_30603  283_30603  888_1154859  ...  888_134030  \\\n0           0          0          0            0  ...           0   \n1           0          0          0            0  ...           0   \n2           0          0          1            1  ...           0   \n\n   1036_1154859  581_191208  888_639502  1032_1015535  451_140719  451_553394  \\\n0             0           0           0             0           0           0   \n1             0           0           0             0           0           0   \n2             1           0           0             0           0           0   \n\n   888_481453  888_661116  102_396934  \n0           0           0           0  \n1           0           0           0  \n2           0           0           0  \n\n[3 rows x 101 columns]",
            "text/html": "<div>\n<style scoped>\n    .dataframe tbody tr th:only-of-type {\n        vertical-align: middle;\n    }\n\n    .dataframe tbody tr th {\n        vertical-align: top;\n    }\n\n    .dataframe thead th {\n        text-align: right;\n    }\n</style>\n<table border=\"1\" class=\"dataframe\">\n  <thead>\n    <tr style=\"text-align: right;\">\n      <th></th>\n      <th>itemid</th>\n      <th>available_1</th>\n      <th>available_0</th>\n      <th>888_1284577</th>\n      <th>888_1297729</th>\n      <th>888_350726</th>\n      <th>400_424566</th>\n      <th>888_30603</th>\n      <th>283_30603</th>\n      <th>888_1154859</th>\n      <th>...</th>\n      <th>888_134030</th>\n      <th>1036_1154859</th>\n      <th>581_191208</th>\n      <th>888_639502</th>\n      <th>1032_1015535</th>\n      <th>451_140719</th>\n      <th>451_553394</th>\n      <th>888_481453</th>\n      <th>888_661116</th>\n      <th>102_396934</th>\n    </tr>\n  </thead>\n  <tbody>\n    <tr>\n      <th>0</th>\n      <td>15</td>\n      <td>1</td>\n      <td>1</td>\n      <td>0</td>\n      <td>0</td>\n      <td>0</td>\n      <td>0</td>\n      <td>0</td>\n      <td>0</td>\n      <td>0</td>\n      <td>...</td>\n      <td>0</td>\n      <td>0</td>\n      <td>0</td>\n      <td>0</td>\n      <td>0</td>\n      <td>0</td>\n      <td>0</td>\n      <td>0</td>\n      <td>0</td>\n      <td>0</td>\n    </tr>\n    <tr>\n      <th>1</th>\n      <td>19</td>\n      <td>1</td>\n      <td>1</td>\n      <td>0</td>\n      <td>0</td>\n      <td>0</td>\n      <td>0</td>\n      <td>0</td>\n      <td>0</td>\n      <td>0</td>\n      <td>...</td>\n      <td>0</td>\n      <td>0</td>\n      <td>0</td>\n      <td>0</td>\n      <td>0</td>\n      <td>0</td>\n      <td>0</td>\n      <td>0</td>\n      <td>0</td>\n      <td>0</td>\n    </tr>\n    <tr>\n      <th>2</th>\n      <td>25</td>\n      <td>1</td>\n      <td>1</td>\n      <td>0</td>\n      <td>0</td>\n      <td>0</td>\n      <td>0</td>\n      <td>0</td>\n      <td>1</td>\n      <td>1</td>\n      <td>...</td>\n      <td>0</td>\n      <td>1</td>\n      <td>0</td>\n      <td>0</td>\n      <td>0</td>\n      <td>0</td>\n      <td>0</td>\n      <td>0</td>\n      <td>0</td>\n      <td>0</td>\n    </tr>\n  </tbody>\n</table>\n<p>3 rows × 101 columns</p>\n</div>"
          },
          "metadata": {}
        }
      ]
    },
    {
      "cell_type": "code",
      "source": [
        "items_map[items_map.drop(columns = 'itemid').sum(axis=1) == 0]"
      ],
      "metadata": {
        "execution": {
          "iopub.status.busy": "2024-06-06T10:48:57.823253Z",
          "iopub.execute_input": "2024-06-06T10:48:57.823592Z",
          "iopub.status.idle": "2024-06-06T10:48:57.852689Z",
          "shell.execute_reply.started": "2024-06-06T10:48:57.823557Z",
          "shell.execute_reply": "2024-06-06T10:48:57.851585Z"
        },
        "trusted": true,
        "id": "E0mIAgi2aF3p",
        "outputId": "a0d7fa49-740f-42eb-c39a-35e94aa9f3ed"
      },
      "execution_count": null,
      "outputs": [
        {
          "execution_count": 276,
          "output_type": "execute_result",
          "data": {
            "text/plain": "Empty DataFrame\nColumns: [itemid, available_1, available_0, 888_1284577, 888_1297729, 888_350726, 400_424566, 888_30603, 283_30603, 888_1154859, 888_832471, 112_679677, 159_519769, 764_1285872, 283_150169, 400_n720000, 888_n36000, 888_726612, 888_784581, 283_1128577, 888_1187104, 888_86628, 400_639502, 888_n48000, 888_424566, 283_237874, 400_n552000, 888_992862, 888_1175087, 888_1318567, 888_n12000, 283_639502, 888_150169, 888_1135780, 28_150169, 888_628176, 962_664227, 689_150169, 888_n96000, 225_1066831, 283_312815, 566_424566, 400_1178208, 888_n24000, 400_1297729, 591_1116693, 283_703408, 888_n60000, 888_1203131, 451_1141052, 888_670753, 490_162165, 581_181384, 888_961511, 888_1128577, 888_625815, 283_610340, 888_951748, 581_472016, 888_769062, 888_288796, 283_1297729, 888_1141052, 451_n48000, 400_n900000, 566_n780000, 283_1244358, 283_653611, 888_n72000, 888_727528, 888_n6000000, 888_1119999, 888_237874, 225_n10800000, 888_253573, 888_n84000, 283_224903, 928_769062, 283_610517, 6_150169, 888_370498, 1036_769062, 888_1186729, 283_269926, 888_786769, 283_1215254, 566_1178208, 981_769062, 888_814297, 888_309206, 1032_98606, 888_134030, 1036_1154859, 581_191208, 888_639502, 1032_1015535, 451_140719, 451_553394, 888_481453, 888_661116, ...]\nIndex: []\n\n[0 rows x 101 columns]",
            "text/html": "<div>\n<style scoped>\n    .dataframe tbody tr th:only-of-type {\n        vertical-align: middle;\n    }\n\n    .dataframe tbody tr th {\n        vertical-align: top;\n    }\n\n    .dataframe thead th {\n        text-align: right;\n    }\n</style>\n<table border=\"1\" class=\"dataframe\">\n  <thead>\n    <tr style=\"text-align: right;\">\n      <th></th>\n      <th>itemid</th>\n      <th>available_1</th>\n      <th>available_0</th>\n      <th>888_1284577</th>\n      <th>888_1297729</th>\n      <th>888_350726</th>\n      <th>400_424566</th>\n      <th>888_30603</th>\n      <th>283_30603</th>\n      <th>888_1154859</th>\n      <th>...</th>\n      <th>888_134030</th>\n      <th>1036_1154859</th>\n      <th>581_191208</th>\n      <th>888_639502</th>\n      <th>1032_1015535</th>\n      <th>451_140719</th>\n      <th>451_553394</th>\n      <th>888_481453</th>\n      <th>888_661116</th>\n      <th>102_396934</th>\n    </tr>\n  </thead>\n  <tbody>\n  </tbody>\n</table>\n<p>0 rows × 101 columns</p>\n</div>"
          },
          "metadata": {}
        }
      ]
    },
    {
      "cell_type": "markdown",
      "source": [
        "## Adding users feature\n",
        "\n",
        "Построение модели рекомендаций с использованием характеристик items и users\n",
        "Подключим к модели свойства userid.   \n",
        "Явных свойств users у нас нет. Типа возраста или профессии.   \n",
        "Поэтому, в качестве таковых, предлагаю использовать время, когда user совершал покупку.   \n",
        "Преобразуем данные о транзакциях с помощью OneHotEncoder"
      ],
      "metadata": {
        "id": "wkWeDwMfcAkf"
      }
    },
    {
      "cell_type": "code",
      "source": [
        "# считаю целесообразным использовать признаки месяца, дня недели и времени суток покупки\n",
        "events_c['day_of_week'] = events_c['event_datetime'].map(lambda x: x.weekday())\n",
        "events_c['Month'] = events_c['event_datetime'].map(lambda x: x.month)\n",
        "events_c['Hour'] = events_c['event_datetime'].map(lambda x: x.hour)\n",
        "\n",
        "def get_time_periods(hour):\n",
        "    if hour >= 3 and hour < 7:\n",
        "        return 'Dawn'\n",
        "    elif hour >= 7 and hour < 12:\n",
        "        return 'Morning'\n",
        "    elif hour >= 12 and hour < 16:\n",
        "        return 'Afternoon'\n",
        "    elif hour >= 16 and hour < 22:\n",
        "        return 'Evening'\n",
        "    else:\n",
        "        return 'Night'\n",
        "\n",
        "events_c['Day Period'] = events_c['Hour'].map(get_time_periods)\n",
        "events_c['Day Period'].value_counts()"
      ],
      "metadata": {
        "outputId": "69af029f-8744-464b-f09c-3de463dafd03",
        "execution": {
          "iopub.status.busy": "2024-06-06T10:48:57.854361Z",
          "iopub.execute_input": "2024-06-06T10:48:57.855234Z",
          "iopub.status.idle": "2024-06-06T10:48:58.237611Z",
          "shell.execute_reply.started": "2024-06-06T10:48:57.855191Z",
          "shell.execute_reply": "2024-06-06T10:48:58.236390Z"
        },
        "trusted": true,
        "id": "KW1fLiQlcAkg"
      },
      "execution_count": null,
      "outputs": [
        {
          "execution_count": 277,
          "output_type": "execute_result",
          "data": {
            "text/plain": "Day Period\nEvening      20254\nNight        12145\nDawn          6677\nAfternoon     4277\nMorning       1560\nName: count, dtype: int64"
          },
          "metadata": {}
        }
      ]
    },
    {
      "cell_type": "code",
      "source": [],
      "metadata": {
        "execution": {
          "iopub.status.busy": "2024-06-06T10:48:58.241392Z",
          "iopub.execute_input": "2024-06-06T10:48:58.241802Z",
          "iopub.status.idle": "2024-06-06T10:48:58.247638Z",
          "shell.execute_reply.started": "2024-06-06T10:48:58.241766Z",
          "shell.execute_reply": "2024-06-06T10:48:58.246447Z"
        },
        "trusted": true,
        "id": "zVEsSLo4aF3s"
      },
      "execution_count": null,
      "outputs": []
    },
    {
      "cell_type": "code",
      "source": [
        "# one_hot_encoder = OneHotEncoder(dtype=bool)\n",
        "one_hot_encoder = OneHotEncoder()\n",
        "columns_to_change = ['day_of_week','Month','Day Period']\n",
        "# 'учим' и сразу применяем преобразование к выборке, результат переводим в массив\n",
        "data_onehot = one_hot_encoder.fit_transform(events_c[columns_to_change]).toarray()\n",
        "# запишем полученные названия новых колонок в отдельную переменную\n",
        "column_names = one_hot_encoder.get_feature_names_out(columns_to_change)\n",
        "encoder_df = pd.DataFrame(data_onehot, columns = column_names)\n",
        "\n",
        "#merge one-hot encoded columns back with original DataFrame\n",
        "events_c.reset_index(drop=True, inplace = True)\n",
        "final_df = events_c.join(encoder_df)\n",
        "final_df = final_df.drop(columns = ['event_datetime','day_of_week','Month','Hour','Day Period'])\n",
        "final_df = pd.merge(final_df, items_map, how=\"outer\", on=[\"itemid\", \"itemid\"])"
      ],
      "metadata": {
        "execution": {
          "iopub.status.busy": "2024-06-06T10:48:58.249072Z",
          "iopub.execute_input": "2024-06-06T10:48:58.249436Z",
          "iopub.status.idle": "2024-06-06T10:48:58.365826Z",
          "shell.execute_reply.started": "2024-06-06T10:48:58.249407Z",
          "shell.execute_reply": "2024-06-06T10:48:58.364560Z"
        },
        "trusted": true,
        "id": "hJz2tg3qaF3t"
      },
      "execution_count": null,
      "outputs": []
    },
    {
      "cell_type": "code",
      "source": [
        "final_df.loc[:,'event'] = final_df['event'].apply(lambda x: 1 if x == 'transaction' else 0)\n",
        "final_df.head(3)"
      ],
      "metadata": {
        "execution": {
          "iopub.status.busy": "2024-06-06T10:48:58.367387Z",
          "iopub.execute_input": "2024-06-06T10:48:58.367776Z",
          "iopub.status.idle": "2024-06-06T10:48:58.465268Z",
          "shell.execute_reply.started": "2024-06-06T10:48:58.367743Z",
          "shell.execute_reply": "2024-06-06T10:48:58.464006Z"
        },
        "trusted": true,
        "outputId": "2114fb01-3da1-4931-e9f3-0c8dafc52e17",
        "id": "z4ThQUL8cAkj"
      },
      "execution_count": null,
      "outputs": [
        {
          "execution_count": 280,
          "output_type": "execute_result",
          "data": {
            "text/plain": "        userid event  itemid  day_of_week_0  day_of_week_1  day_of_week_2  \\\n0      1124964     1      15            0.0            0.0            0.0   \n1      1124964     0      15            0.0            0.0            0.0   \n2       325833     1      19            0.0            0.0            0.0   \n3       325833     0      19            0.0            0.0            0.0   \n4       456617     1      25            1.0            0.0            0.0   \n...        ...   ...     ...            ...            ...            ...   \n44908   244741     0  466735            0.0            0.0            0.0   \n44909    14324     0  466843            0.0            0.0            1.0   \n44910  1237694     1  466861            0.0            0.0            1.0   \n44911   303092     0  466861            0.0            0.0            0.0   \n44912   341951     0  466864            1.0            0.0            0.0   \n\n       day_of_week_3  day_of_week_4  day_of_week_5  day_of_week_6  ...  \\\n0                1.0            0.0            0.0            0.0  ...   \n1                1.0            0.0            0.0            0.0  ...   \n2                0.0            0.0            1.0            0.0  ...   \n3                0.0            0.0            1.0            0.0  ...   \n4                0.0            0.0            0.0            0.0  ...   \n...              ...            ...            ...            ...  ...   \n44908            0.0            0.0            0.0            1.0  ...   \n44909            0.0            0.0            0.0            0.0  ...   \n44910            0.0            0.0            0.0            0.0  ...   \n44911            0.0            0.0            1.0            0.0  ...   \n44912            0.0            0.0            0.0            0.0  ...   \n\n       888_134030  1036_1154859  581_191208  888_639502  1032_1015535  \\\n0             0.0           0.0         0.0         0.0           0.0   \n1             0.0           0.0         0.0         0.0           0.0   \n2             0.0           0.0         0.0         0.0           0.0   \n3             0.0           0.0         0.0         0.0           0.0   \n4             0.0           1.0         0.0         0.0           0.0   \n...           ...           ...         ...         ...           ...   \n44908         0.0           0.0         0.0         0.0           0.0   \n44909         0.0           0.0         0.0         0.0           0.0   \n44910         0.0           0.0         0.0         0.0           0.0   \n44911         0.0           0.0         0.0         0.0           0.0   \n44912         0.0           1.0         0.0         0.0           0.0   \n\n       451_140719  451_553394  888_481453  888_661116  102_396934  \n0             0.0         0.0         0.0         0.0         0.0  \n1             0.0         0.0         0.0         0.0         0.0  \n2             0.0         0.0         0.0         0.0         0.0  \n3             0.0         0.0         0.0         0.0         0.0  \n4             0.0         0.0         0.0         0.0         0.0  \n...           ...         ...         ...         ...         ...  \n44908         0.0         0.0         0.0         0.0         0.0  \n44909         1.0         1.0         0.0         0.0         0.0  \n44910         0.0         0.0         0.0         0.0         0.0  \n44911         0.0         0.0         0.0         0.0         0.0  \n44912         0.0         0.0         0.0         0.0         0.0  \n\n[44913 rows x 120 columns]",
            "text/html": "<div>\n<style scoped>\n    .dataframe tbody tr th:only-of-type {\n        vertical-align: middle;\n    }\n\n    .dataframe tbody tr th {\n        vertical-align: top;\n    }\n\n    .dataframe thead th {\n        text-align: right;\n    }\n</style>\n<table border=\"1\" class=\"dataframe\">\n  <thead>\n    <tr style=\"text-align: right;\">\n      <th></th>\n      <th>userid</th>\n      <th>event</th>\n      <th>itemid</th>\n      <th>day_of_week_0</th>\n      <th>day_of_week_1</th>\n      <th>day_of_week_2</th>\n      <th>day_of_week_3</th>\n      <th>day_of_week_4</th>\n      <th>day_of_week_5</th>\n      <th>day_of_week_6</th>\n      <th>...</th>\n      <th>888_134030</th>\n      <th>1036_1154859</th>\n      <th>581_191208</th>\n      <th>888_639502</th>\n      <th>1032_1015535</th>\n      <th>451_140719</th>\n      <th>451_553394</th>\n      <th>888_481453</th>\n      <th>888_661116</th>\n      <th>102_396934</th>\n    </tr>\n  </thead>\n  <tbody>\n    <tr>\n      <th>0</th>\n      <td>1124964</td>\n      <td>1</td>\n      <td>15</td>\n      <td>0.0</td>\n      <td>0.0</td>\n      <td>0.0</td>\n      <td>1.0</td>\n      <td>0.0</td>\n      <td>0.0</td>\n      <td>0.0</td>\n      <td>...</td>\n      <td>0.0</td>\n      <td>0.0</td>\n      <td>0.0</td>\n      <td>0.0</td>\n      <td>0.0</td>\n      <td>0.0</td>\n      <td>0.0</td>\n      <td>0.0</td>\n      <td>0.0</td>\n      <td>0.0</td>\n    </tr>\n    <tr>\n      <th>1</th>\n      <td>1124964</td>\n      <td>0</td>\n      <td>15</td>\n      <td>0.0</td>\n      <td>0.0</td>\n      <td>0.0</td>\n      <td>1.0</td>\n      <td>0.0</td>\n      <td>0.0</td>\n      <td>0.0</td>\n      <td>...</td>\n      <td>0.0</td>\n      <td>0.0</td>\n      <td>0.0</td>\n      <td>0.0</td>\n      <td>0.0</td>\n      <td>0.0</td>\n      <td>0.0</td>\n      <td>0.0</td>\n      <td>0.0</td>\n      <td>0.0</td>\n    </tr>\n    <tr>\n      <th>2</th>\n      <td>325833</td>\n      <td>1</td>\n      <td>19</td>\n      <td>0.0</td>\n      <td>0.0</td>\n      <td>0.0</td>\n      <td>0.0</td>\n      <td>0.0</td>\n      <td>1.0</td>\n      <td>0.0</td>\n      <td>...</td>\n      <td>0.0</td>\n      <td>0.0</td>\n      <td>0.0</td>\n      <td>0.0</td>\n      <td>0.0</td>\n      <td>0.0</td>\n      <td>0.0</td>\n      <td>0.0</td>\n      <td>0.0</td>\n      <td>0.0</td>\n    </tr>\n    <tr>\n      <th>3</th>\n      <td>325833</td>\n      <td>0</td>\n      <td>19</td>\n      <td>0.0</td>\n      <td>0.0</td>\n      <td>0.0</td>\n      <td>0.0</td>\n      <td>0.0</td>\n      <td>1.0</td>\n      <td>0.0</td>\n      <td>...</td>\n      <td>0.0</td>\n      <td>0.0</td>\n      <td>0.0</td>\n      <td>0.0</td>\n      <td>0.0</td>\n      <td>0.0</td>\n      <td>0.0</td>\n      <td>0.0</td>\n      <td>0.0</td>\n      <td>0.0</td>\n    </tr>\n    <tr>\n      <th>4</th>\n      <td>456617</td>\n      <td>1</td>\n      <td>25</td>\n      <td>1.0</td>\n      <td>0.0</td>\n      <td>0.0</td>\n      <td>0.0</td>\n      <td>0.0</td>\n      <td>0.0</td>\n      <td>0.0</td>\n      <td>...</td>\n      <td>0.0</td>\n      <td>1.0</td>\n      <td>0.0</td>\n      <td>0.0</td>\n      <td>0.0</td>\n      <td>0.0</td>\n      <td>0.0</td>\n      <td>0.0</td>\n      <td>0.0</td>\n      <td>0.0</td>\n    </tr>\n    <tr>\n      <th>...</th>\n      <td>...</td>\n      <td>...</td>\n      <td>...</td>\n      <td>...</td>\n      <td>...</td>\n      <td>...</td>\n      <td>...</td>\n      <td>...</td>\n      <td>...</td>\n      <td>...</td>\n      <td>...</td>\n      <td>...</td>\n      <td>...</td>\n      <td>...</td>\n      <td>...</td>\n      <td>...</td>\n      <td>...</td>\n      <td>...</td>\n      <td>...</td>\n      <td>...</td>\n      <td>...</td>\n    </tr>\n    <tr>\n      <th>44908</th>\n      <td>244741</td>\n      <td>0</td>\n      <td>466735</td>\n      <td>0.0</td>\n      <td>0.0</td>\n      <td>0.0</td>\n      <td>0.0</td>\n      <td>0.0</td>\n      <td>0.0</td>\n      <td>1.0</td>\n      <td>...</td>\n      <td>0.0</td>\n      <td>0.0</td>\n      <td>0.0</td>\n      <td>0.0</td>\n      <td>0.0</td>\n      <td>0.0</td>\n      <td>0.0</td>\n      <td>0.0</td>\n      <td>0.0</td>\n      <td>0.0</td>\n    </tr>\n    <tr>\n      <th>44909</th>\n      <td>14324</td>\n      <td>0</td>\n      <td>466843</td>\n      <td>0.0</td>\n      <td>0.0</td>\n      <td>1.0</td>\n      <td>0.0</td>\n      <td>0.0</td>\n      <td>0.0</td>\n      <td>0.0</td>\n      <td>...</td>\n      <td>0.0</td>\n      <td>0.0</td>\n      <td>0.0</td>\n      <td>0.0</td>\n      <td>0.0</td>\n      <td>1.0</td>\n      <td>1.0</td>\n      <td>0.0</td>\n      <td>0.0</td>\n      <td>0.0</td>\n    </tr>\n    <tr>\n      <th>44910</th>\n      <td>1237694</td>\n      <td>1</td>\n      <td>466861</td>\n      <td>0.0</td>\n      <td>0.0</td>\n      <td>1.0</td>\n      <td>0.0</td>\n      <td>0.0</td>\n      <td>0.0</td>\n      <td>0.0</td>\n      <td>...</td>\n      <td>0.0</td>\n      <td>0.0</td>\n      <td>0.0</td>\n      <td>0.0</td>\n      <td>0.0</td>\n      <td>0.0</td>\n      <td>0.0</td>\n      <td>0.0</td>\n      <td>0.0</td>\n      <td>0.0</td>\n    </tr>\n    <tr>\n      <th>44911</th>\n      <td>303092</td>\n      <td>0</td>\n      <td>466861</td>\n      <td>0.0</td>\n      <td>0.0</td>\n      <td>0.0</td>\n      <td>0.0</td>\n      <td>0.0</td>\n      <td>1.0</td>\n      <td>0.0</td>\n      <td>...</td>\n      <td>0.0</td>\n      <td>0.0</td>\n      <td>0.0</td>\n      <td>0.0</td>\n      <td>0.0</td>\n      <td>0.0</td>\n      <td>0.0</td>\n      <td>0.0</td>\n      <td>0.0</td>\n      <td>0.0</td>\n    </tr>\n    <tr>\n      <th>44912</th>\n      <td>341951</td>\n      <td>0</td>\n      <td>466864</td>\n      <td>1.0</td>\n      <td>0.0</td>\n      <td>0.0</td>\n      <td>0.0</td>\n      <td>0.0</td>\n      <td>0.0</td>\n      <td>0.0</td>\n      <td>...</td>\n      <td>0.0</td>\n      <td>1.0</td>\n      <td>0.0</td>\n      <td>0.0</td>\n      <td>0.0</td>\n      <td>0.0</td>\n      <td>0.0</td>\n      <td>0.0</td>\n      <td>0.0</td>\n      <td>0.0</td>\n    </tr>\n  </tbody>\n</table>\n<p>44913 rows × 120 columns</p>\n</div>"
          },
          "metadata": {}
        }
      ]
    },
    {
      "cell_type": "markdown",
      "source": [
        "## train/test split"
      ],
      "metadata": {
        "id": "hf7KtPurogxt"
      }
    },
    {
      "cell_type": "code",
      "source": [
        "# Удаляем идентификаторы, оставляем только признаки\n",
        "X = final_df.drop(columns=['userid', 'itemid', 'event'])\n",
        "y = final_df['event']\n",
        "\n",
        "# Разделите данные на обучающую и тестовую выборки\n",
        "X_train, X_test, y_train, y_test = train_test_split(X, y, test_size=0.2, random_state=42)"
      ],
      "metadata": {
        "execution": {
          "iopub.status.busy": "2024-06-06T10:48:58.467267Z",
          "iopub.execute_input": "2024-06-06T10:48:58.468318Z",
          "iopub.status.idle": "2024-06-06T10:48:58.537659Z",
          "shell.execute_reply.started": "2024-06-06T10:48:58.468270Z",
          "shell.execute_reply": "2024-06-06T10:48:58.536452Z"
        },
        "trusted": true,
        "id": "YipkfDo5aF3u"
      },
      "execution_count": null,
      "outputs": []
    },
    {
      "cell_type": "markdown",
      "source": [
        "## XGBoost model"
      ],
      "metadata": {
        "id": "Ls0mCJInaF3v"
      }
    },
    {
      "cell_type": "code",
      "source": [
        "# Настройки для XGBoost с указанием устройства GPU\n",
        "# params = {\n",
        "#     'tree_method': 'hist', # Использование GPU для построения деревьев\n",
        "# #     'objective':'binary:logistic',  # Функция для классификации\n",
        "#     'objective': 'reg:squarederror',  # Объективная функция для регрессии\n",
        "#     'device': \"cuda\",\n",
        "# }\n",
        "\n",
        "# # Пример создания DMatrix с указанием устройства GPU\n",
        "# dtrain = xgb.DMatrix(X_train, label=y_train)\n",
        "# dtest = xgb.DMatrix(X_test)\n",
        "# # Обучение модели\n",
        "# bst = xgb.train(params, dtrain)\n",
        "# # Предсказание\n",
        "# y_pred = bst.predict(dtest)\n",
        "\n",
        "model = xgb.XGBRegressor(objective ='reg:squarederror')\n",
        "model.fit(X_train, y_train)\n",
        "# Предсказание рейтингов\n",
        "y_pred = model.predict(X_test)\n",
        "\n",
        "# Объединим предсказания с исходными данными\n",
        "results = pd.DataFrame()\n",
        "results['event'] = final_df.loc[X_test.index, 'event']\n",
        "results['userid'] = final_df.loc[X_test.index, 'userid']\n",
        "results['itemid'] = final_df.loc[X_test.index, 'itemid']\n",
        "results['predicted_rating'] = y_pred\n",
        "\n",
        "# Функция для расчета Precision@K\n",
        "def precision_at_k(y_true, y_pred, k):\n",
        "    idx = np.argsort(y_pred)[::-1][:k]\n",
        "    relevant_items = sum(y_true[idx] > 0.5)  # Предполагая, что релевантный рейтинг > 0.5\n",
        "    return relevant_items / k\n",
        "\n",
        "# Группировка по пользователям\n",
        "precision_scores = []\n",
        "for user_id, group in results.groupby('userid'):\n",
        "    true_ratings = group['event'].values\n",
        "    predicted_ratings = group['predicted_rating'].values\n",
        "    precision_scores.append(precision_at_k(true_ratings, predicted_ratings, k=3))  # K=3\n",
        "\n",
        "# Среднее значение Precision@K\n",
        "mean_precision_at_k = np.mean(precision_scores)\n",
        "print(f'Mean Precision@K: {mean_precision_at_k}')"
      ],
      "metadata": {
        "execution": {
          "iopub.status.busy": "2024-06-06T11:10:52.659489Z",
          "iopub.execute_input": "2024-06-06T11:10:52.660438Z",
          "iopub.status.idle": "2024-06-06T11:10:53.766311Z",
          "shell.execute_reply.started": "2024-06-06T11:10:52.660395Z",
          "shell.execute_reply": "2024-06-06T11:10:53.765278Z"
        },
        "trusted": true,
        "id": "PnOGMlncaF3x"
      },
      "execution_count": null,
      "outputs": []
    },
    {
      "cell_type": "code",
      "source": [
        "results.head(3)"
      ],
      "metadata": {
        "execution": {
          "iopub.status.busy": "2024-06-06T11:11:30.687521Z",
          "iopub.execute_input": "2024-06-06T11:11:30.688858Z",
          "iopub.status.idle": "2024-06-06T11:11:30.703360Z",
          "shell.execute_reply.started": "2024-06-06T11:11:30.688812Z",
          "shell.execute_reply": "2024-06-06T11:11:30.702168Z"
        },
        "trusted": true,
        "id": "nAgPEQeuaF3y",
        "outputId": "af81ceee-47c1-4e36-ef7d-fa6f5ebcfa94"
      },
      "execution_count": null,
      "outputs": [
        {
          "execution_count": 313,
          "output_type": "execute_result",
          "data": {
            "text/plain": "      event   userid  itemid  predicted_rating\n32420     0  1197758  339479          0.083780\n18181     0  1112398  194972          0.039661\n17054     0   842668  183501          0.261615\n18794     1  1150086  202171          0.585951\n40710     0  1035814  425533          0.572695\n...     ...      ...     ...               ...\n27736     1   720666  290999          0.543386\n34394     0    60159  359014          0.349775\n41091     1    57905  429769          0.179171\n39803     0   516361  415781          0.607319\n15639     0   544581  168650          0.050506\n\n[8983 rows x 4 columns]",
            "text/html": "<div>\n<style scoped>\n    .dataframe tbody tr th:only-of-type {\n        vertical-align: middle;\n    }\n\n    .dataframe tbody tr th {\n        vertical-align: top;\n    }\n\n    .dataframe thead th {\n        text-align: right;\n    }\n</style>\n<table border=\"1\" class=\"dataframe\">\n  <thead>\n    <tr style=\"text-align: right;\">\n      <th></th>\n      <th>event</th>\n      <th>userid</th>\n      <th>itemid</th>\n      <th>predicted_rating</th>\n    </tr>\n  </thead>\n  <tbody>\n    <tr>\n      <th>32420</th>\n      <td>0</td>\n      <td>1197758</td>\n      <td>339479</td>\n      <td>0.083780</td>\n    </tr>\n    <tr>\n      <th>18181</th>\n      <td>0</td>\n      <td>1112398</td>\n      <td>194972</td>\n      <td>0.039661</td>\n    </tr>\n    <tr>\n      <th>17054</th>\n      <td>0</td>\n      <td>842668</td>\n      <td>183501</td>\n      <td>0.261615</td>\n    </tr>\n    <tr>\n      <th>18794</th>\n      <td>1</td>\n      <td>1150086</td>\n      <td>202171</td>\n      <td>0.585951</td>\n    </tr>\n    <tr>\n      <th>40710</th>\n      <td>0</td>\n      <td>1035814</td>\n      <td>425533</td>\n      <td>0.572695</td>\n    </tr>\n    <tr>\n      <th>...</th>\n      <td>...</td>\n      <td>...</td>\n      <td>...</td>\n      <td>...</td>\n    </tr>\n    <tr>\n      <th>27736</th>\n      <td>1</td>\n      <td>720666</td>\n      <td>290999</td>\n      <td>0.543386</td>\n    </tr>\n    <tr>\n      <th>34394</th>\n      <td>0</td>\n      <td>60159</td>\n      <td>359014</td>\n      <td>0.349775</td>\n    </tr>\n    <tr>\n      <th>41091</th>\n      <td>1</td>\n      <td>57905</td>\n      <td>429769</td>\n      <td>0.179171</td>\n    </tr>\n    <tr>\n      <th>39803</th>\n      <td>0</td>\n      <td>516361</td>\n      <td>415781</td>\n      <td>0.607319</td>\n    </tr>\n    <tr>\n      <th>15639</th>\n      <td>0</td>\n      <td>544581</td>\n      <td>168650</td>\n      <td>0.050506</td>\n    </tr>\n  </tbody>\n</table>\n<p>8983 rows × 4 columns</p>\n</div>"
          },
          "metadata": {}
        }
      ]
    },
    {
      "cell_type": "markdown",
      "source": [
        "## Optuna\n"
      ],
      "metadata": {
        "id": "3PKHnmJSvBN0"
      }
    },
    {
      "cell_type": "code",
      "source": [
        "X_train_o, X_test_o, y_train_o, y_test_o = train_test_split(X_train, y_train, test_size=0.3, random_state=42)\n",
        "\n",
        "# Определение функции для оптимизации\n",
        "def objective(trial):\n",
        "    params = {\n",
        "#         'device': \"cuda\",\n",
        "#         'tree_method': 'hist',  # Для использования GPU\n",
        "        'objective':'reg:squarederror',  # Функция для регрессии\n",
        "        'max_depth': trial.suggest_int('max_depth', 3, 10),\n",
        "        'learning_rate': trial.suggest_float('learning_rate', 1e-3, 0.3, log=True),\n",
        "#         'n_estimators': trial.suggest_int('n_estimators', 100, 1000),\n",
        "        'min_child_weight': trial.suggest_int('min_child_weight', 1, 10),\n",
        "        'subsample': trial.suggest_float('subsample', 0.5, 1.0),\n",
        "        'colsample_bytree': trial.suggest_float('colsample_bytree', 0.5, 1.0),\n",
        "        'reg_alpha': trial.suggest_float('reg_alpha', 1e-8, 1.0, log=True),\n",
        "        'reg_lambda': trial.suggest_float('reg_lambda', 1e-8, 1.0, log=True)\n",
        "    }\n",
        "# # skikit-learn interface\n",
        "    model = xgb.XGBRegressor(**params)\n",
        "    model.fit(X_train_o, y_train_o, eval_set=[(X_test_o, y_test_o)], verbose=False)\n",
        "    y_pred = model.predict(X_test_o)\n",
        "\n",
        "#     dtrain = xgb.DMatrix(X_train_o, label=y_train_o)\n",
        "#     dtest = xgb.DMatrix(X_test_o)\n",
        "#     # Обучение модели\n",
        "#     bst = xgb.train(params, dtrain)\n",
        "#     # Предсказание\n",
        "#     y_pred = bst.predict(dtest)\n",
        "\n",
        "    # Объединим предсказания с исходными данными\n",
        "    results = pd.DataFrame()\n",
        "    results['event'] = final_df.loc[X_test_o.index, 'event']\n",
        "    results['userid'] = final_df.loc[X_test_o.index, 'userid']\n",
        "    results['itemid'] = final_df.loc[X_test_o.index, 'itemid']\n",
        "    results['predicted_rating'] = y_pred\n",
        "\n",
        "    # Группировка по пользователям\n",
        "    precision_scores = []\n",
        "    for user_id, group in results.groupby('userid'):\n",
        "        true_ratings = group['event'].values\n",
        "        predicted_ratings = group['predicted_rating'].values\n",
        "        precision_scores.append(precision_at_k(true_ratings, predicted_ratings, k=3))  # K = 3\n",
        "\n",
        "# Среднее значение Precision@K\n",
        "    mean_precision_at_k = np.mean(precision_scores)\n",
        "\n",
        "    return - mean_precision_at_k\n",
        "\n",
        "# Запуск процесса оптимизации\n",
        "study = optuna.create_study(direction='minimize')\n",
        "study.optimize(objective, n_trials=20, timeout=500)\n",
        "\n",
        "print('Number of finished trials:', len(study.trials))\n",
        "print('Best trial:', study.best_trial.params)\n",
        "\n",
        "# Save the best parameters\n",
        "best_params = study.best_params\n",
        "for k, v in best_params.items():\n",
        "    print(k,\":\",v)"
      ],
      "metadata": {
        "execution": {
          "iopub.status.busy": "2024-06-06T11:11:56.003567Z",
          "iopub.execute_input": "2024-06-06T11:11:56.004446Z",
          "iopub.status.idle": "2024-06-06T11:13:01.286285Z",
          "shell.execute_reply.started": "2024-06-06T11:11:56.004405Z",
          "shell.execute_reply": "2024-06-06T11:13:01.285101Z"
        },
        "trusted": true,
        "id": "gdQ1ujKGaF30",
        "outputId": "3a06deec-5479-463d-8bec-91b43e955ef5"
      },
      "execution_count": null,
      "outputs": [
        {
          "name": "stderr",
          "text": "[I 2024-06-06 11:11:56,058] A new study created in memory with name: no-name-62fcbe11-a28e-4acb-8791-ff1424c4359e\n[I 2024-06-06 11:11:58,916] Trial 0 finished with value: -0.16736436017401296 and parameters: {'max_depth': 3, 'learning_rate': 0.013330710480332108, 'min_child_weight': 9, 'subsample': 0.6619872386009658, 'colsample_bytree': 0.6043189961865965, 'reg_alpha': 1.1144478238851149e-08, 'reg_lambda': 1.75470695374874e-05}. Best is trial 0 with value: -0.16736436017401296.\n[I 2024-06-06 11:12:03,371] Trial 1 finished with value: -0.16720019699581384 and parameters: {'max_depth': 9, 'learning_rate': 0.003398962426715307, 'min_child_weight': 6, 'subsample': 0.5607598759843211, 'colsample_bytree': 0.6990201675409398, 'reg_alpha': 0.038930531757475774, 'reg_lambda': 0.00015558122181026128}. Best is trial 0 with value: -0.16736436017401296.\n[I 2024-06-06 11:12:06,532] Trial 2 finished with value: -0.16670770746121644 and parameters: {'max_depth': 6, 'learning_rate': 0.1194375191892142, 'min_child_weight': 4, 'subsample': 0.9766485298094512, 'colsample_bytree': 0.9515505637515118, 'reg_alpha': 1.8211080880407134e-05, 'reg_lambda': 0.5342586197147918}. Best is trial 0 with value: -0.16736436017401296.\n[I 2024-06-06 11:12:09,801] Trial 3 finished with value: -0.16724123779036362 and parameters: {'max_depth': 9, 'learning_rate': 0.0020635746254782585, 'min_child_weight': 8, 'subsample': 0.8994652434139908, 'colsample_bytree': 0.8961265698294747, 'reg_alpha': 0.13799900092903516, 'reg_lambda': 0.5021623494033207}. Best is trial 0 with value: -0.16736436017401296.\n[I 2024-06-06 11:12:12,679] Trial 4 finished with value: -0.16707707461216448 and parameters: {'max_depth': 4, 'learning_rate': 0.02146630504535327, 'min_child_weight': 2, 'subsample': 0.8259902916451991, 'colsample_bytree': 0.5471446940530235, 'reg_alpha': 0.5901366002045395, 'reg_lambda': 0.002809786323012831}. Best is trial 0 with value: -0.16736436017401296.\n[I 2024-06-06 11:12:15,554] Trial 5 finished with value: -0.16711811540671426 and parameters: {'max_depth': 6, 'learning_rate': 0.002731972029735473, 'min_child_weight': 1, 'subsample': 0.865326924369695, 'colsample_bytree': 0.6978060653944531, 'reg_alpha': 0.00014575797076343242, 'reg_lambda': 2.891941333188212e-06}. Best is trial 0 with value: -0.16736436017401296.\n[I 2024-06-06 11:12:18,482] Trial 6 finished with value: -0.16691291143396533 and parameters: {'max_depth': 5, 'learning_rate': 0.062236138724684614, 'min_child_weight': 5, 'subsample': 0.9941636964197209, 'colsample_bytree': 0.525872862474528, 'reg_alpha': 1.1795176244533514e-08, 'reg_lambda': 7.593337797546468e-07}. Best is trial 0 with value: -0.16736436017401296.\n[I 2024-06-06 11:12:21,603] Trial 7 finished with value: -0.16670770746121644 and parameters: {'max_depth': 9, 'learning_rate': 0.002168999981249563, 'min_child_weight': 8, 'subsample': 0.6972143911656652, 'colsample_bytree': 0.629981300056373, 'reg_alpha': 0.005170193490305151, 'reg_lambda': 0.2163205236135532}. Best is trial 0 with value: -0.16736436017401296.\n[I 2024-06-06 11:12:24,743] Trial 8 finished with value: -0.16711811540671428 and parameters: {'max_depth': 8, 'learning_rate': 0.0026073502713832883, 'min_child_weight': 1, 'subsample': 0.5187603182109017, 'colsample_bytree': 0.8914740707200554, 'reg_alpha': 7.879591545837808e-05, 'reg_lambda': 4.837988943923448e-06}. Best is trial 0 with value: -0.16736436017401296.\n[I 2024-06-06 11:12:27,592] Trial 9 finished with value: -0.16695395222851514 and parameters: {'max_depth': 4, 'learning_rate': 0.023836817510934194, 'min_child_weight': 10, 'subsample': 0.5497360046343237, 'colsample_bytree': 0.5563816356155248, 'reg_alpha': 0.04604181928490928, 'reg_lambda': 0.0013485437238426074}. Best is trial 0 with value: -0.16736436017401296.\n[I 2024-06-06 11:12:30,304] Trial 10 finished with value: -0.16765164573586142 and parameters: {'max_depth': 3, 'learning_rate': 0.009541464554230347, 'min_child_weight': 10, 'subsample': 0.6658286497082827, 'colsample_bytree': 0.8039495719328918, 'reg_alpha': 1.0108158661064745e-08, 'reg_lambda': 1.0508820308498774e-08}. Best is trial 10 with value: -0.16765164573586142.\n[I 2024-06-06 11:12:34,331] Trial 11 finished with value: -0.16777476811951078 and parameters: {'max_depth': 3, 'learning_rate': 0.008613871669015323, 'min_child_weight': 10, 'subsample': 0.6824883857018237, 'colsample_bytree': 0.8110778274973427, 'reg_alpha': 2.8371699711105002e-08, 'reg_lambda': 1.751472777948212e-08}. Best is trial 11 with value: -0.16777476811951078.\n[I 2024-06-06 11:12:37,170] Trial 12 finished with value: -0.16769268653041122 and parameters: {'max_depth': 3, 'learning_rate': 0.008249569203452274, 'min_child_weight': 10, 'subsample': 0.6410969373954263, 'colsample_bytree': 0.788478849365346, 'reg_alpha': 4.0186686963157446e-07, 'reg_lambda': 2.813293591026632e-08}. Best is trial 11 with value: -0.16777476811951078.\n[I 2024-06-06 11:12:40,154] Trial 13 finished with value: -0.16752852335221208 and parameters: {'max_depth': 4, 'learning_rate': 0.006428073105162247, 'min_child_weight': 7, 'subsample': 0.760205250592241, 'colsample_bytree': 0.7978640139822835, 'reg_alpha': 5.886500424206256e-07, 'reg_lambda': 1.0298955816540055e-08}. Best is trial 11 with value: -0.16777476811951078.\n[I 2024-06-06 11:12:43,188] Trial 14 finished with value: -0.1670360338176147 and parameters: {'max_depth': 7, 'learning_rate': 0.04328602667840582, 'min_child_weight': 10, 'subsample': 0.6229261577384344, 'colsample_bytree': 0.7959195395122047, 'reg_alpha': 5.079165855899202e-07, 'reg_lambda': 2.0810574775228443e-07}. Best is trial 11 with value: -0.16777476811951078.\n[I 2024-06-06 11:12:46,080] Trial 15 finished with value: -0.16765164573586142 and parameters: {'max_depth': 3, 'learning_rate': 0.005863915375706261, 'min_child_weight': 8, 'subsample': 0.7506909992409014, 'colsample_bytree': 0.8650997467009205, 'reg_alpha': 5.272166244174575e-07, 'reg_lambda': 1.1893185377564446e-07}. Best is trial 11 with value: -0.16777476811951078.\n[I 2024-06-06 11:12:52,322] Trial 16 finished with value: -0.16720019699581384 and parameters: {'max_depth': 5, 'learning_rate': 0.005720875136575253, 'min_child_weight': 4, 'subsample': 0.595120391757863, 'colsample_bytree': 0.7236195860381872, 'reg_alpha': 4.405710725287305e-06, 'reg_lambda': 7.006629293586915e-08}. Best is trial 11 with value: -0.16777476811951078.\n[I 2024-06-06 11:12:55,121] Trial 17 finished with value: -0.16740540096856274 and parameters: {'max_depth': 5, 'learning_rate': 0.0010148274402016076, 'min_child_weight': 9, 'subsample': 0.7117995708565822, 'colsample_bytree': 0.9545222926793958, 'reg_alpha': 9.044710221632433e-08, 'reg_lambda': 3.951379050317756e-08}. Best is trial 11 with value: -0.16777476811951078.\n[I 2024-06-06 11:12:58,081] Trial 18 finished with value: -0.1668718706394156 and parameters: {'max_depth': 7, 'learning_rate': 0.2325341080274605, 'min_child_weight': 7, 'subsample': 0.7950572969335155, 'colsample_bytree': 0.831869861162789, 'reg_alpha': 1.0289013512284248e-07, 'reg_lambda': 6.946408620663648e-07}. Best is trial 11 with value: -0.16777476811951078.\n[I 2024-06-06 11:13:01,275] Trial 19 finished with value: -0.16695395222851514 and parameters: {'max_depth': 10, 'learning_rate': 0.03310431632128483, 'min_child_weight': 9, 'subsample': 0.6175483116114011, 'colsample_bytree': 0.754623697733066, 'reg_alpha': 4.101824807423616e-06, 'reg_lambda': 8.489062660163207e-05}. Best is trial 11 with value: -0.16777476811951078.\n",
          "output_type": "stream"
        },
        {
          "name": "stdout",
          "text": "Number of finished trials: 20\nBest trial: {'max_depth': 3, 'learning_rate': 0.008613871669015323, 'min_child_weight': 10, 'subsample': 0.6824883857018237, 'colsample_bytree': 0.8110778274973427, 'reg_alpha': 2.8371699711105002e-08, 'reg_lambda': 1.751472777948212e-08}\nmax_depth : 3\nlearning_rate : 0.008613871669015323\nmin_child_weight : 10\nsubsample : 0.6824883857018237\ncolsample_bytree : 0.8110778274973427\nreg_alpha : 2.8371699711105002e-08\nreg_lambda : 1.751472777948212e-08\n",
          "output_type": "stream"
        }
      ]
    },
    {
      "cell_type": "code",
      "source": [
        "# skikit-learn interface\n",
        "model = xgb.XGBRegressor(**best_params, random_state=123)\n",
        "model.fit(X_train, y_train)\n",
        "y_pred = model.predict(X_test)\n",
        "\n",
        "# # Обучение модели\n",
        "# bst = xgb.train(params, dtrain)\n",
        "# y_pred = bst.predict(dtest)\n",
        "\n",
        "# Объединим предсказания с исходными данными\n",
        "results = pd.DataFrame()\n",
        "results['y_actual'] = final_df.loc[X_test.index, 'event']\n",
        "results['userid'] = final_df.loc[X_test.index, 'userid']\n",
        "results['itemid'] = final_df.loc[X_test.index, 'itemid']\n",
        "results['y_recommended'] = y_pred\n",
        "\n",
        "# Группировка по пользователям\n",
        "precision_scores = []\n",
        "for user_id, group in results.groupby('userid'):\n",
        "    true_ratings = group['y_actual'].values\n",
        "    predicted_ratings = group['y_recommended'].values\n",
        "    precision_scores.append(precision_at_k(true_ratings, predicted_ratings, k=3))  # K = 5 как пример\n",
        "\n",
        "# Среднее значение Precision@K\n",
        "mean_precision_at_k = np.mean(precision_scores)\n",
        "print(f'Mean Precision@K: {mean_precision_at_k}')"
      ],
      "metadata": {
        "execution": {
          "iopub.status.busy": "2024-06-06T11:27:24.600081Z",
          "iopub.execute_input": "2024-06-06T11:27:24.601347Z",
          "iopub.status.idle": "2024-06-06T11:27:26.445687Z",
          "shell.execute_reply.started": "2024-06-06T11:27:24.601282Z",
          "shell.execute_reply": "2024-06-06T11:27:26.444435Z"
        },
        "trusted": true,
        "id": "4DxhAkhGaF32",
        "outputId": "6a4d6f38-6f4d-47b4-c5d5-d4974318a2e0"
      },
      "execution_count": null,
      "outputs": [
        {
          "name": "stdout",
          "text": "Mean Precision@K: 0.16922773837667454\n",
          "output_type": "stream"
        }
      ]
    },
    {
      "cell_type": "code",
      "source": [
        "# from google.colab import userdata\n",
        "# import os\n",
        "\n",
        "# os.environ[\"KAGGLE_KEY\"] = userdata.get('KAGGLE_KEY')\n",
        "# os.environ[\"KAGGLE_USERNAME\"] = userdata.get('KAGGLE_USERNAME')"
      ],
      "metadata": {
        "id": "5HF3bvycTWU_",
        "execution": {
          "iopub.status.busy": "2024-06-04T15:56:54.266577Z",
          "iopub.status.idle": "2024-06-04T15:56:54.267197Z",
          "shell.execute_reply.started": "2024-06-04T15:56:54.266930Z",
          "shell.execute_reply": "2024-06-04T15:56:54.266952Z"
        },
        "trusted": true
      },
      "execution_count": null,
      "outputs": []
    },
    {
      "cell_type": "code",
      "source": [
        "# ! pip install kaggle -q"
      ],
      "metadata": {
        "id": "uRcezoXcihVX",
        "execution": {
          "iopub.status.busy": "2024-06-04T15:56:54.270299Z",
          "iopub.status.idle": "2024-06-04T15:56:54.270894Z",
          "shell.execute_reply.started": "2024-06-04T15:56:54.270624Z",
          "shell.execute_reply": "2024-06-04T15:56:54.270646Z"
        },
        "trusted": true
      },
      "execution_count": null,
      "outputs": []
    },
    {
      "cell_type": "code",
      "source": [
        "# ! kaggle kernels output pavelnovikov888/notebook525ca83e7f -p /content/drive/MyDrive/f_project"
      ],
      "metadata": {
        "id": "A6Pf-2uMpSL2",
        "execution": {
          "iopub.status.busy": "2024-06-04T15:56:54.291217Z",
          "iopub.execute_input": "2024-06-04T15:56:54.292700Z",
          "iopub.status.idle": "2024-06-04T15:56:54.302138Z",
          "shell.execute_reply.started": "2024-06-04T15:56:54.292652Z",
          "shell.execute_reply": "2024-06-04T15:56:54.300547Z"
        },
        "trusted": true
      },
      "execution_count": null,
      "outputs": []
    },
    {
      "cell_type": "code",
      "source": [
        "# ! tar -xzf \"/content/drive/MyDrive/f_project/algo_user_arch.tar.gz\""
      ],
      "metadata": {
        "id": "kBNeLh_bQP34",
        "execution": {
          "iopub.status.busy": "2024-06-04T15:56:54.327423Z",
          "iopub.execute_input": "2024-06-04T15:56:54.327962Z",
          "iopub.status.idle": "2024-06-04T15:56:54.334161Z",
          "shell.execute_reply.started": "2024-06-04T15:56:54.327924Z",
          "shell.execute_reply": "2024-06-04T15:56:54.332543Z"
        },
        "trusted": true
      },
      "execution_count": null,
      "outputs": []
    },
    {
      "cell_type": "code",
      "source": [
        "# ! cp /content/kaggle/working/algo_user /content/drive/MyDrive/f_project"
      ],
      "metadata": {
        "id": "Pn9lH21CTngq",
        "execution": {
          "iopub.status.busy": "2024-06-04T15:56:54.355989Z",
          "iopub.execute_input": "2024-06-04T15:56:54.356452Z",
          "iopub.status.idle": "2024-06-04T15:56:54.362705Z",
          "shell.execute_reply.started": "2024-06-04T15:56:54.356415Z",
          "shell.execute_reply": "2024-06-04T15:56:54.360941Z"
        },
        "trusted": true
      },
      "execution_count": null,
      "outputs": []
    },
    {
      "cell_type": "code",
      "source": [
        "# Десериализация\n",
        "# with open ('/content/kaggle/working/algo_user', 'rb') as fp:\n",
        "# algo_user = pickle.load(fp)"
      ],
      "metadata": {
        "id": "xVmGpKmhaaeJ"
      },
      "execution_count": null,
      "outputs": []
    }
  ]
}